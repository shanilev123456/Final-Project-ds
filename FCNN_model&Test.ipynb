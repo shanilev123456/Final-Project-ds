{
  "cells": [
    {
      "cell_type": "markdown",
      "metadata": {
        "id": "view-in-github",
        "colab_type": "text"
      },
      "source": [
        "<a href=\"https://colab.research.google.com/github/shanilev123456/Final-Project-ds/blob/master/FCNN_model%26Test.ipynb\" target=\"_parent\"><img src=\"https://colab.research.google.com/assets/colab-badge.svg\" alt=\"Open In Colab\"/></a>"
      ]
    },
    {
      "cell_type": "markdown",
      "metadata": {
        "id": "57409dc2daa8343c"
      },
      "source": [
        "<a href=\"https://colab.research.google.com/github/shanilev123456/Final-Project-ds/blob/master/FCNN_model%26Test.ipynb\" target=\"_parent\"><img src=\"https://colab.research.google.com/assets/colab-badge.svg\" alt=\"Open In Colab\"/></a>"
      ],
      "id": "57409dc2daa8343c"
    },
    {
      "cell_type": "code",
      "id": "initial_id",
      "metadata": {
        "collapsed": true,
        "id": "initial_id",
        "outputId": "ec24538c-c0e2-4eb6-9a8f-04832b2fd9a0",
        "colab": {
          "base_uri": "https://localhost:8080/"
        },
        "ExecuteTime": {
          "end_time": "2025-05-27T13:11:56.427754Z",
          "start_time": "2025-05-27T13:11:55.701488Z"
        }
      },
      "source": [
        "import torch\n",
        "import torch.nn as nn\n",
        "from torch.utils.data import TensorDataset, DataLoader\n",
        "from sklearn.model_selection import train_test_split\n",
        "import pandas as pd\n",
        "import numpy as np\n",
        "from sklearn.model_selection import train_test_split\n",
        "from sklearn.metrics import mean_absolute_error, mean_squared_error, r2_score\n",
        "import matplotlib.pyplot as plt\n",
        "import copy\n",
        "\n",
        "!pip install ipython-autotime\n",
        "%load_ext autotime"
      ],
      "outputs": [
        {
          "name": "stdout",
          "output_type": "stream",
          "text": [
            "Requirement already satisfied: ipython-autotime in /Library/Frameworks/Python.framework/Versions/3.13/lib/python3.13/site-packages (0.3.2)\r\n",
            "Requirement already satisfied: ipython in /Library/Frameworks/Python.framework/Versions/3.13/lib/python3.13/site-packages (from ipython-autotime) (9.0.2)\r\n",
            "Requirement already satisfied: decorator in /Library/Frameworks/Python.framework/Versions/3.13/lib/python3.13/site-packages (from ipython->ipython-autotime) (5.2.1)\r\n",
            "Requirement already satisfied: ipython-pygments-lexers in /Library/Frameworks/Python.framework/Versions/3.13/lib/python3.13/site-packages (from ipython->ipython-autotime) (1.1.1)\r\n",
            "Requirement already satisfied: jedi>=0.16 in /Library/Frameworks/Python.framework/Versions/3.13/lib/python3.13/site-packages (from ipython->ipython-autotime) (0.19.2)\r\n",
            "Requirement already satisfied: matplotlib-inline in /Library/Frameworks/Python.framework/Versions/3.13/lib/python3.13/site-packages (from ipython->ipython-autotime) (0.1.7)\r\n",
            "Requirement already satisfied: pexpect>4.3 in /Library/Frameworks/Python.framework/Versions/3.13/lib/python3.13/site-packages (from ipython->ipython-autotime) (4.9.0)\r\n",
            "Requirement already satisfied: prompt_toolkit<3.1.0,>=3.0.41 in /Library/Frameworks/Python.framework/Versions/3.13/lib/python3.13/site-packages (from ipython->ipython-autotime) (3.0.50)\r\n",
            "Requirement already satisfied: pygments>=2.4.0 in /Library/Frameworks/Python.framework/Versions/3.13/lib/python3.13/site-packages (from ipython->ipython-autotime) (2.19.1)\r\n",
            "Requirement already satisfied: stack_data in /Library/Frameworks/Python.framework/Versions/3.13/lib/python3.13/site-packages (from ipython->ipython-autotime) (0.6.3)\r\n",
            "Requirement already satisfied: traitlets>=5.13.0 in /Library/Frameworks/Python.framework/Versions/3.13/lib/python3.13/site-packages (from ipython->ipython-autotime) (5.14.3)\r\n",
            "Requirement already satisfied: parso<0.9.0,>=0.8.4 in /Library/Frameworks/Python.framework/Versions/3.13/lib/python3.13/site-packages (from jedi>=0.16->ipython->ipython-autotime) (0.8.4)\r\n",
            "Requirement already satisfied: ptyprocess>=0.5 in /Library/Frameworks/Python.framework/Versions/3.13/lib/python3.13/site-packages (from pexpect>4.3->ipython->ipython-autotime) (0.7.0)\r\n",
            "Requirement already satisfied: wcwidth in /Library/Frameworks/Python.framework/Versions/3.13/lib/python3.13/site-packages (from prompt_toolkit<3.1.0,>=3.0.41->ipython->ipython-autotime) (0.2.13)\r\n",
            "Requirement already satisfied: executing>=1.2.0 in /Library/Frameworks/Python.framework/Versions/3.13/lib/python3.13/site-packages (from stack_data->ipython->ipython-autotime) (2.2.0)\r\n",
            "Requirement already satisfied: asttokens>=2.1.0 in /Library/Frameworks/Python.framework/Versions/3.13/lib/python3.13/site-packages (from stack_data->ipython->ipython-autotime) (3.0.0)\r\n",
            "Requirement already satisfied: pure-eval in /Library/Frameworks/Python.framework/Versions/3.13/lib/python3.13/site-packages (from stack_data->ipython->ipython-autotime) (0.2.3)\r\n",
            "\r\n",
            "\u001b[1m[\u001b[0m\u001b[34;49mnotice\u001b[0m\u001b[1;39;49m]\u001b[0m\u001b[39;49m A new release of pip is available: \u001b[0m\u001b[31;49m25.0.1\u001b[0m\u001b[39;49m -> \u001b[0m\u001b[32;49m25.1.1\u001b[0m\r\n",
            "\u001b[1m[\u001b[0m\u001b[34;49mnotice\u001b[0m\u001b[1;39;49m]\u001b[0m\u001b[39;49m To update, run: \u001b[0m\u001b[32;49mpip install --upgrade pip\u001b[0m\r\n",
            "The autotime extension is already loaded. To reload it, use:\n",
            "  %reload_ext autotime\n",
            "time: 707 ms (started: 2025-05-27 16:11:55 +03:00)\n"
          ]
        }
      ],
      "execution_count": null
    },
    {
      "metadata": {
        "id": "f6ec1b35e6f1cb95"
      },
      "cell_type": "markdown",
      "source": [
        "## Import Data"
      ],
      "id": "f6ec1b35e6f1cb95"
    },
    {
      "metadata": {
        "ExecuteTime": {
          "end_time": "2025-05-27T13:11:56.437104Z",
          "start_time": "2025-05-27T13:11:56.434490Z"
        },
        "id": "4d95c92b078539c6",
        "outputId": "ca8aff42-ae86-40e2-f5c5-e8a3f54269aa"
      },
      "cell_type": "code",
      "source": [
        "# from google.colab import files\n",
        "# uploaded = files.upload()"
      ],
      "id": "4d95c92b078539c6",
      "outputs": [
        {
          "name": "stdout",
          "output_type": "stream",
          "text": [
            "time: 323 μs (started: 2025-05-27 16:11:56 +03:00)\n"
          ]
        }
      ],
      "execution_count": null
    },
    {
      "metadata": {
        "ExecuteTime": {
          "end_time": "2025-05-27T13:11:56.560675Z",
          "start_time": "2025-05-27T13:11:56.446116Z"
        },
        "id": "6785fed2979dbf57",
        "outputId": "de95c678-4551-498d-b963-fd8f77355930"
      },
      "cell_type": "code",
      "source": [
        "df = pd.read_csv(\"cleaned_data.csv\")\n",
        "df.head()"
      ],
      "id": "6785fed2979dbf57",
      "outputs": [
        {
          "data": {
            "text/plain": [
              "   Units   Area m2  dist_to_kindergarten  is_kindergarten_within_radius  \\\n",
              "0    0.2  0.639225              0.031609                            0.0   \n",
              "1    0.2  0.638015              0.031609                            0.0   \n",
              "2    0.2  0.638015              0.031609                            0.0   \n",
              "3    0.0  0.167070              0.282213                            0.0   \n",
              "4    0.0  0.167070              0.282213                            0.0   \n",
              "\n",
              "   dist_to_school  is_school_within_radius  dist_to_university  \\\n",
              "0        0.084843                      0.0            0.267139   \n",
              "1        0.084843                      0.0            0.267139   \n",
              "2        0.084843                      0.0            0.267139   \n",
              "3        0.313402                      0.0            0.057636   \n",
              "4        0.313402                      0.0            0.057636   \n",
              "\n",
              "   is_university_within_radius  dist_to_bus_stop  is_bus_stop_within_radius  \\\n",
              "0                          0.0          0.031318                        1.0   \n",
              "1                          0.0          0.031318                        1.0   \n",
              "2                          0.0          0.031318                        1.0   \n",
              "3                          0.0          0.034334                        1.0   \n",
              "4                          0.0          0.034334                        1.0   \n",
              "\n",
              "   ...  City_שהם , נכים  City_שלומי  City_שלומי , יערית  City_שער אפרים  \\\n",
              "0  ...                0           0                   0               0   \n",
              "1  ...                0           0                   0               0   \n",
              "2  ...                0           0                   0               0   \n",
              "3  ...                0           0                   0               0   \n",
              "4  ...                0           0                   0               0   \n",
              "\n",
              "   City_שער אפרים , שער אפרים  City_שריגים(לי און  \\\n",
              "0                           0                   0   \n",
              "1                           0                   0   \n",
              "2                           0                   0   \n",
              "3                           0                   0   \n",
              "4                           0                   0   \n",
              "\n",
              "   City_שריגים(לי און , מועצה אזורית מטה יהודה  City_תל אביב יפו , בצרה  \\\n",
              "0                                            0                        0   \n",
              "1                                            0                        0   \n",
              "2                                            0                        0   \n",
              "3                                            0                        0   \n",
              "4                                            0                        0   \n",
              "\n",
              "   City_תל מונד  City_תלמי יחיאל  \n",
              "0             0                0  \n",
              "1             0                0  \n",
              "2             0                0  \n",
              "3             0                0  \n",
              "4             0                0  \n",
              "\n",
              "[5 rows x 476 columns]"
            ],
            "text/html": [
              "<div>\n",
              "<style scoped>\n",
              "    .dataframe tbody tr th:only-of-type {\n",
              "        vertical-align: middle;\n",
              "    }\n",
              "\n",
              "    .dataframe tbody tr th {\n",
              "        vertical-align: top;\n",
              "    }\n",
              "\n",
              "    .dataframe thead th {\n",
              "        text-align: right;\n",
              "    }\n",
              "</style>\n",
              "<table border=\"1\" class=\"dataframe\">\n",
              "  <thead>\n",
              "    <tr style=\"text-align: right;\">\n",
              "      <th></th>\n",
              "      <th>Units</th>\n",
              "      <th>Area m2</th>\n",
              "      <th>dist_to_kindergarten</th>\n",
              "      <th>is_kindergarten_within_radius</th>\n",
              "      <th>dist_to_school</th>\n",
              "      <th>is_school_within_radius</th>\n",
              "      <th>dist_to_university</th>\n",
              "      <th>is_university_within_radius</th>\n",
              "      <th>dist_to_bus_stop</th>\n",
              "      <th>is_bus_stop_within_radius</th>\n",
              "      <th>...</th>\n",
              "      <th>City_שהם , נכים</th>\n",
              "      <th>City_שלומי</th>\n",
              "      <th>City_שלומי , יערית</th>\n",
              "      <th>City_שער אפרים</th>\n",
              "      <th>City_שער אפרים , שער אפרים</th>\n",
              "      <th>City_שריגים(לי און</th>\n",
              "      <th>City_שריגים(לי און , מועצה אזורית מטה יהודה</th>\n",
              "      <th>City_תל אביב יפו , בצרה</th>\n",
              "      <th>City_תל מונד</th>\n",
              "      <th>City_תלמי יחיאל</th>\n",
              "    </tr>\n",
              "  </thead>\n",
              "  <tbody>\n",
              "    <tr>\n",
              "      <th>0</th>\n",
              "      <td>0.2</td>\n",
              "      <td>0.639225</td>\n",
              "      <td>0.031609</td>\n",
              "      <td>0.0</td>\n",
              "      <td>0.084843</td>\n",
              "      <td>0.0</td>\n",
              "      <td>0.267139</td>\n",
              "      <td>0.0</td>\n",
              "      <td>0.031318</td>\n",
              "      <td>1.0</td>\n",
              "      <td>...</td>\n",
              "      <td>0</td>\n",
              "      <td>0</td>\n",
              "      <td>0</td>\n",
              "      <td>0</td>\n",
              "      <td>0</td>\n",
              "      <td>0</td>\n",
              "      <td>0</td>\n",
              "      <td>0</td>\n",
              "      <td>0</td>\n",
              "      <td>0</td>\n",
              "    </tr>\n",
              "    <tr>\n",
              "      <th>1</th>\n",
              "      <td>0.2</td>\n",
              "      <td>0.638015</td>\n",
              "      <td>0.031609</td>\n",
              "      <td>0.0</td>\n",
              "      <td>0.084843</td>\n",
              "      <td>0.0</td>\n",
              "      <td>0.267139</td>\n",
              "      <td>0.0</td>\n",
              "      <td>0.031318</td>\n",
              "      <td>1.0</td>\n",
              "      <td>...</td>\n",
              "      <td>0</td>\n",
              "      <td>0</td>\n",
              "      <td>0</td>\n",
              "      <td>0</td>\n",
              "      <td>0</td>\n",
              "      <td>0</td>\n",
              "      <td>0</td>\n",
              "      <td>0</td>\n",
              "      <td>0</td>\n",
              "      <td>0</td>\n",
              "    </tr>\n",
              "    <tr>\n",
              "      <th>2</th>\n",
              "      <td>0.2</td>\n",
              "      <td>0.638015</td>\n",
              "      <td>0.031609</td>\n",
              "      <td>0.0</td>\n",
              "      <td>0.084843</td>\n",
              "      <td>0.0</td>\n",
              "      <td>0.267139</td>\n",
              "      <td>0.0</td>\n",
              "      <td>0.031318</td>\n",
              "      <td>1.0</td>\n",
              "      <td>...</td>\n",
              "      <td>0</td>\n",
              "      <td>0</td>\n",
              "      <td>0</td>\n",
              "      <td>0</td>\n",
              "      <td>0</td>\n",
              "      <td>0</td>\n",
              "      <td>0</td>\n",
              "      <td>0</td>\n",
              "      <td>0</td>\n",
              "      <td>0</td>\n",
              "    </tr>\n",
              "    <tr>\n",
              "      <th>3</th>\n",
              "      <td>0.0</td>\n",
              "      <td>0.167070</td>\n",
              "      <td>0.282213</td>\n",
              "      <td>0.0</td>\n",
              "      <td>0.313402</td>\n",
              "      <td>0.0</td>\n",
              "      <td>0.057636</td>\n",
              "      <td>0.0</td>\n",
              "      <td>0.034334</td>\n",
              "      <td>1.0</td>\n",
              "      <td>...</td>\n",
              "      <td>0</td>\n",
              "      <td>0</td>\n",
              "      <td>0</td>\n",
              "      <td>0</td>\n",
              "      <td>0</td>\n",
              "      <td>0</td>\n",
              "      <td>0</td>\n",
              "      <td>0</td>\n",
              "      <td>0</td>\n",
              "      <td>0</td>\n",
              "    </tr>\n",
              "    <tr>\n",
              "      <th>4</th>\n",
              "      <td>0.0</td>\n",
              "      <td>0.167070</td>\n",
              "      <td>0.282213</td>\n",
              "      <td>0.0</td>\n",
              "      <td>0.313402</td>\n",
              "      <td>0.0</td>\n",
              "      <td>0.057636</td>\n",
              "      <td>0.0</td>\n",
              "      <td>0.034334</td>\n",
              "      <td>1.0</td>\n",
              "      <td>...</td>\n",
              "      <td>0</td>\n",
              "      <td>0</td>\n",
              "      <td>0</td>\n",
              "      <td>0</td>\n",
              "      <td>0</td>\n",
              "      <td>0</td>\n",
              "      <td>0</td>\n",
              "      <td>0</td>\n",
              "      <td>0</td>\n",
              "      <td>0</td>\n",
              "    </tr>\n",
              "  </tbody>\n",
              "</table>\n",
              "<p>5 rows × 476 columns</p>\n",
              "</div>"
            ]
          },
          "execution_count": 200,
          "metadata": {},
          "output_type": "execute_result"
        },
        {
          "name": "stdout",
          "output_type": "stream",
          "text": [
            "time: 113 ms (started: 2025-05-27 16:11:56 +03:00)\n"
          ]
        }
      ],
      "execution_count": null
    },
    {
      "metadata": {
        "ExecuteTime": {
          "end_time": "2025-05-27T13:11:56.686446Z",
          "start_time": "2025-05-27T13:11:56.606476Z"
        },
        "id": "d34ee5ed751af816",
        "outputId": "a407f0b5-5993-487c-de09-408ac9792083"
      },
      "cell_type": "code",
      "source": [
        "df = df.dropna()\n",
        "city_columns = [col for col in df.columns if col.startswith(\"City_\")]\n",
        "df['city'] = df[city_columns].idxmax(axis=1).str.replace('City_', '')\n",
        "\n",
        "city_counts = df['city'].value_counts()\n",
        "valid_cities = city_counts[city_counts > 1].index\n",
        "df = df[df['city'].isin(valid_cities)].copy()\n",
        "\n",
        "\n",
        "city_columns = [col for col in df.columns if col.startswith(\"City_\")]\n",
        "\n",
        "target_column = \"Price per m2\"\n",
        "y = df[target_column]\n",
        "X = df.drop(columns=[target_column])\n",
        "\n",
        "X_train_full, X_test, y_train_full, y_test = train_test_split(\n",
        "    X, y, test_size=0.2, random_state=42, stratify=df['city']\n",
        ")\n",
        "\n",
        "X_train_part, X_val, y_train_part, y_val = train_test_split(\n",
        "    X_train_full, y_train_full, test_size=0.15, random_state=42,\n",
        "    stratify=X_train_full['city']\n",
        ")\n",
        "\n",
        "X_train_part = X_train_part.drop(columns=['city'])\n",
        "X_val = X_val.drop(columns=['city'])\n",
        "X_test = X_test.drop(columns=['city'])"
      ],
      "id": "d34ee5ed751af816",
      "outputs": [
        {
          "name": "stdout",
          "output_type": "stream",
          "text": [
            "time: 76.1 ms (started: 2025-05-27 16:11:56 +03:00)\n"
          ]
        }
      ],
      "execution_count": null
    },
    {
      "metadata": {
        "ExecuteTime": {
          "end_time": "2025-05-27T13:11:56.701207Z",
          "start_time": "2025-05-27T13:11:56.693596Z"
        },
        "id": "e4156f7637386a43",
        "outputId": "d2b766d4-efa4-41d3-bcc2-46c30dfb023d"
      },
      "cell_type": "code",
      "source": [
        "X_columns = X_train_part.columns\n",
        "X_columns.to_series().to_csv(\"model_columns.csv\", index=False, header=False)"
      ],
      "id": "e4156f7637386a43",
      "outputs": [
        {
          "name": "stdout",
          "output_type": "stream",
          "text": [
            "time: 6.24 ms (started: 2025-05-27 16:11:56 +03:00)\n"
          ]
        }
      ],
      "execution_count": null
    },
    {
      "metadata": {
        "ExecuteTime": {
          "end_time": "2025-05-27T13:11:56.710050Z",
          "start_time": "2025-05-27T13:11:56.704612Z"
        },
        "id": "413fa994182ccfac",
        "outputId": "12d5ca86-978e-4cbd-c014-44daf5048f20"
      },
      "cell_type": "code",
      "source": [
        "if isinstance(X_train_part, pd.DataFrame):\n",
        "    X_train_part = X_train_part.values\n",
        "if isinstance(X_val, pd.DataFrame):\n",
        "    X_val = X_val.values\n",
        "if isinstance(X_test, pd.DataFrame):\n",
        "    X_test = X_test.values"
      ],
      "id": "413fa994182ccfac",
      "outputs": [
        {
          "name": "stdout",
          "output_type": "stream",
          "text": [
            "time: 3.65 ms (started: 2025-05-27 16:11:56 +03:00)\n"
          ]
        }
      ],
      "execution_count": null
    },
    {
      "metadata": {
        "ExecuteTime": {
          "end_time": "2025-05-27T13:11:56.725481Z",
          "start_time": "2025-05-27T13:11:56.719601Z"
        },
        "id": "63bd7caaa29571a5",
        "outputId": "e9049ce0-7d98-4867-a165-f003d4d183af"
      },
      "cell_type": "code",
      "source": [
        "X_train_part = X_train_part.astype(float)\n",
        "X_val = X_val.astype(float)\n",
        "X_test = X_test.astype(float)\n",
        "\n",
        "X_train_part = np.array(X_train_part, dtype=np.float32)\n",
        "X_val = np.array(X_val, dtype=np.float32)\n",
        "X_test = np.array(X_test, dtype=np.float32)"
      ],
      "id": "63bd7caaa29571a5",
      "outputs": [
        {
          "name": "stdout",
          "output_type": "stream",
          "text": [
            "time: 4.36 ms (started: 2025-05-27 16:11:56 +03:00)\n"
          ]
        }
      ],
      "execution_count": null
    },
    {
      "metadata": {
        "ExecuteTime": {
          "end_time": "2025-05-27T13:11:56.740107Z",
          "start_time": "2025-05-27T13:11:56.737608Z"
        },
        "id": "bda8efee2e2c1839",
        "outputId": "22f9e3d5-d40b-4601-c1c9-e2fbadb83ada"
      },
      "cell_type": "code",
      "source": [
        "device = torch.device(\"cuda\" if torch.cuda.is_available() else \"cpu\")\n",
        "print(f\"Using device: {device}\")"
      ],
      "id": "bda8efee2e2c1839",
      "outputs": [
        {
          "name": "stdout",
          "output_type": "stream",
          "text": [
            "Using device: cpu\n",
            "time: 1.16 ms (started: 2025-05-27 16:11:56 +03:00)\n"
          ]
        }
      ],
      "execution_count": null
    },
    {
      "metadata": {
        "ExecuteTime": {
          "end_time": "2025-05-27T13:11:56.765162Z",
          "start_time": "2025-05-27T13:11:56.752139Z"
        },
        "id": "c57afc9cefd1f27",
        "outputId": "6e3ae490-90bb-4521-f7e5-bdca8f0712ba"
      },
      "cell_type": "code",
      "source": [
        "# tensors\n",
        "X_train_tensor = torch.tensor(X_train_part, dtype=torch.float32).to(device)\n",
        "y_train_tensor = torch.tensor(y_train_part.values.reshape(-1,1), dtype=torch.float32).to(device)   # ← .values + reshape\n",
        "X_val_tensor   = torch.tensor(X_val,   dtype=torch.float32).to(device)\n",
        "y_val_tensor   = torch.tensor(y_val.values.reshape(-1,1),   dtype=torch.float32).to(device)   # ← same here\n",
        "X_test_tensor  = torch.tensor(X_test,  dtype=torch.float32).to(device)\n",
        "y_test_tensor  = torch.tensor(y_test.values.reshape(-1,1),  dtype=torch.float32).to(device)   # ← and here\n",
        "\n",
        "# DataLoaders\n",
        "train_loader = DataLoader(TensorDataset(X_train_tensor, y_train_tensor), batch_size=64, shuffle=True)\n",
        "val_loader   = DataLoader(TensorDataset(X_val_tensor,   y_val_tensor),   batch_size=64)"
      ],
      "id": "c57afc9cefd1f27",
      "outputs": [
        {
          "name": "stdout",
          "output_type": "stream",
          "text": [
            "time: 10.8 ms (started: 2025-05-27 16:11:56 +03:00)\n"
          ]
        }
      ],
      "execution_count": null
    },
    {
      "metadata": {
        "id": "a5e5718c1b47ba39"
      },
      "cell_type": "markdown",
      "source": [
        "## Model Architecture"
      ],
      "id": "a5e5718c1b47ba39"
    },
    {
      "metadata": {
        "ExecuteTime": {
          "end_time": "2025-05-27T13:11:56.779810Z",
          "start_time": "2025-05-27T13:11:56.767813Z"
        },
        "id": "7937b786fdc5dce1",
        "outputId": "360f3a5e-7771-4ecf-e2c0-4bd1d8fa3d4e"
      },
      "cell_type": "code",
      "source": [
        "class MLPmodel(nn.Module):\n",
        "    def __init__(self, input_dim):\n",
        "        super(MLPmodel, self).__init__()\n",
        "        self.model = nn.Sequential(\n",
        "            nn.Linear(input_dim, 256),\n",
        "            nn.LayerNorm(256),\n",
        "            nn.SiLU(),\n",
        "            nn.Dropout(0.2),\n",
        "\n",
        "            nn.Linear(256, 128),\n",
        "            nn.LayerNorm(128),\n",
        "            nn.SiLU(),\n",
        "            nn.Dropout(0.2),\n",
        "\n",
        "            nn.Linear(128, 64),\n",
        "            nn.SiLU(),\n",
        "\n",
        "            nn.Linear(64, 1)\n",
        "        )\n",
        "\n",
        "    def forward(self, x):\n",
        "        return self.model(x)\n",
        "\n",
        "model = MLPmodel(input_dim=X_train_part.shape[1]).to(device)\n"
      ],
      "id": "7937b786fdc5dce1",
      "outputs": [
        {
          "name": "stdout",
          "output_type": "stream",
          "text": [
            "time: 9.9 ms (started: 2025-05-27 16:11:56 +03:00)\n"
          ]
        }
      ],
      "execution_count": null
    },
    {
      "metadata": {
        "id": "549cd01cc0da863f"
      },
      "cell_type": "markdown",
      "source": [
        "## Define hyper-parameters & Training model"
      ],
      "id": "549cd01cc0da863f"
    },
    {
      "metadata": {
        "id": "190d984b527586a6",
        "outputId": "ffc0f91f-3edc-477b-8e50-87617c244317",
        "colab": {
          "base_uri": "https://localhost:8080/"
        },
        "ExecuteTime": {
          "end_time": "2025-05-27T13:11:57.652829Z",
          "start_time": "2025-05-27T13:11:56.793454Z"
        }
      },
      "cell_type": "code",
      "source": [
        "# criterion = nn.MSELoss()\n",
        "criterion = nn.HuberLoss(delta=0.1)\n",
        "optimizer = torch.optim.Adam(model.parameters(), lr=0.001)\n",
        "\n",
        "num_epochs = 100\n",
        "early_stop_patience = 5\n",
        "best_val_loss = float('inf')\n",
        "epochs_no_improve = 0\n",
        "train_losses = []\n",
        "val_losses = []\n",
        "\n",
        "best_model = None\n",
        "\n",
        "for epoch in range(num_epochs):\n",
        "    model.train()\n",
        "    train_loss = 0.0\n",
        "    for xb, yb in train_loader:\n",
        "        pred = model(xb)\n",
        "        loss = criterion(pred, yb)\n",
        "        optimizer.zero_grad()\n",
        "        loss.backward()\n",
        "        optimizer.step()\n",
        "        train_loss += loss.item()\n",
        "    train_loss /= len(train_loader)\n",
        "    train_losses.append(train_loss)\n",
        "\n",
        "    model.eval()\n",
        "    val_loss = 0.0\n",
        "    with torch.no_grad():\n",
        "        for xb, yb in val_loader:\n",
        "            pred = model(xb)\n",
        "            loss = criterion(pred, yb)\n",
        "            val_loss += loss.item()\n",
        "    val_loss /= len(val_loader)\n",
        "    val_losses.append(val_loss)\n",
        "\n",
        "    print(f\"Epoch {epoch+1}, Train Loss: {train_loss:.5f}, Val Loss: {val_loss:.5f}\")\n",
        "\n",
        "    # Early stopping\n",
        "    if val_loss < best_val_loss:\n",
        "        best_val_loss = val_loss\n",
        "        best_model = copy.deepcopy(model.state_dict())\n",
        "        epochs_no_improve = 0\n",
        "    else:\n",
        "        epochs_no_improve += 1\n",
        "        if epochs_no_improve >= early_stop_patience:\n",
        "            print(\"Early stopping triggered.\")\n",
        "            break\n"
      ],
      "id": "190d984b527586a6",
      "outputs": [
        {
          "name": "stdout",
          "output_type": "stream",
          "text": [
            "Epoch 1, Train Loss: 0.00284, Val Loss: 0.00068\n",
            "Epoch 2, Train Loss: 0.00070, Val Loss: 0.00054\n",
            "Epoch 3, Train Loss: 0.00053, Val Loss: 0.00068\n",
            "Epoch 4, Train Loss: 0.00042, Val Loss: 0.00045\n",
            "Epoch 5, Train Loss: 0.00040, Val Loss: 0.00050\n",
            "Epoch 6, Train Loss: 0.00036, Val Loss: 0.00044\n",
            "Epoch 7, Train Loss: 0.00037, Val Loss: 0.00047\n",
            "Epoch 8, Train Loss: 0.00034, Val Loss: 0.00046\n",
            "Epoch 9, Train Loss: 0.00031, Val Loss: 0.00044\n",
            "Epoch 10, Train Loss: 0.00029, Val Loss: 0.00042\n",
            "Epoch 11, Train Loss: 0.00032, Val Loss: 0.00045\n",
            "Epoch 12, Train Loss: 0.00029, Val Loss: 0.00043\n",
            "Epoch 13, Train Loss: 0.00028, Val Loss: 0.00042\n",
            "Epoch 14, Train Loss: 0.00029, Val Loss: 0.00043\n",
            "Epoch 15, Train Loss: 0.00027, Val Loss: 0.00043\n",
            "Early stopping triggered.\n",
            "time: 857 ms (started: 2025-05-27 16:11:56 +03:00)\n"
          ]
        }
      ],
      "execution_count": null
    },
    {
      "metadata": {
        "id": "60ecab9877145b2"
      },
      "cell_type": "markdown",
      "source": [
        "## Plotting Training and Validation Metrics"
      ],
      "id": "60ecab9877145b2"
    },
    {
      "metadata": {
        "id": "4e3a45c0f39a2dc8",
        "outputId": "78dd4b44-644c-40c7-fcb4-66e4406e9592",
        "colab": {
          "base_uri": "https://localhost:8080/",
          "height": 490
        },
        "ExecuteTime": {
          "end_time": "2025-05-27T13:11:57.717676Z",
          "start_time": "2025-05-27T13:11:57.656228Z"
        }
      },
      "cell_type": "code",
      "source": [
        "plt.plot(train_losses, label='Train Loss')\n",
        "plt.plot(val_losses, label='Validation Loss')\n",
        "plt.xlabel(\"Epoch\")\n",
        "plt.ylabel(\"MSE Loss\")\n",
        "plt.title(\"Training & Validation Loss\")\n",
        "plt.legend()\n",
        "plt.grid(True)\n",
        "plt.show()"
      ],
      "id": "4e3a45c0f39a2dc8",
      "outputs": [
        {
          "data": {
            "text/plain": [
              "<Figure size 640x480 with 1 Axes>"
            ],
            "image/png": "[encoded data removed]"
          },
          "metadata": {},
          "output_type": "display_data"
        },
        {
          "name": "stdout",
          "output_type": "stream",
          "text": [
            "time: 59.8 ms (started: 2025-05-27 16:11:57 +03:00)\n"
          ]
        }
      ],
      "execution_count": null
    },
    {
      "metadata": {
        "id": "ba9bda6e3ce69c93"
      },
      "cell_type": "markdown",
      "source": [
        "### Saving trained model"
      ],
      "id": "ba9bda6e3ce69c93"
    },
    {
      "metadata": {
        "ExecuteTime": {
          "end_time": "2025-05-27T13:11:57.728111Z",
          "start_time": "2025-05-27T13:11:57.721368Z"
        },
        "id": "cc2572d365313bdd",
        "outputId": "193bee03-2177-4135-f18c-e565b7f9f4ad"
      },
      "cell_type": "code",
      "source": [
        "model.load_state_dict(best_model)\n",
        "\n",
        "torch.save(model.state_dict(), \"mlp_model.pt\")\n",
        "print(\"Model saved to mlp_model.pt\")"
      ],
      "id": "cc2572d365313bdd",
      "outputs": [
        {
          "name": "stdout",
          "output_type": "stream",
          "text": [
            "Model saved to mlp_model.pt\n",
            "time: 5.45 ms (started: 2025-05-27 16:11:57 +03:00)\n"
          ]
        }
      ],
      "execution_count": null
    },
    {
      "metadata": {
        "id": "db1364eacfc89adf"
      },
      "cell_type": "markdown",
      "source": [
        "## Evaluation"
      ],
      "id": "db1364eacfc89adf"
    },
    {
      "metadata": {
        "ExecuteTime": {
          "end_time": "2025-05-27T13:11:57.749181Z",
          "start_time": "2025-05-27T13:11:57.735922Z"
        },
        "id": "67ab965e0cc760a9",
        "outputId": "427cd9db-6321-42cc-eb94-250bb51985a0"
      },
      "cell_type": "code",
      "source": [
        "model.load_state_dict(best_model)\n",
        "model.eval()\n",
        "\n",
        "with torch.no_grad():\n",
        "    y_train_pred = model(torch.tensor(X_train_part, dtype=torch.float32).to(device)).cpu().numpy()\n",
        "    y_val_pred = model(torch.tensor(X_val, dtype=torch.float32).to(device)).cpu().numpy()\n",
        "    y_test_pred = model(X_test_tensor).cpu().numpy()\n",
        "\n",
        "print(\"Train set:\")\n",
        "print(f\"MAE: {mean_absolute_error(y_train_part, y_train_pred):.4f}\")\n",
        "print(f\"MSE: {mean_squared_error(y_train_part, y_train_pred):.4f}\")\n",
        "print(f\"R² : {r2_score(y_train_part, y_train_pred):.4f}\")\n",
        "\n",
        "print(\"\\nValidation set:\")\n",
        "print(f\"MAE: {mean_absolute_error(y_val, y_val_pred):.4f}\")\n",
        "print(f\"MSE: {mean_squared_error(y_val, y_val_pred):.4f}\")\n",
        "print(f\"R² : {r2_score(y_val, y_val_pred):.4f}\")\n",
        "\n",
        "print(\"\\nTest set:\")\n",
        "print(f\"MAE: {mean_absolute_error(y_test_tensor.cpu().numpy(), y_test_pred):.4f}\")\n",
        "print(f\"MSE: {mean_squared_error(y_test_tensor.cpu().numpy(), y_test_pred):.4f}\")\n",
        "print(f\"R² : {r2_score(y_test_tensor.cpu().numpy(), y_test_pred):.4f}\")\n"
      ],
      "id": "67ab965e0cc760a9",
      "outputs": [
        {
          "name": "stdout",
          "output_type": "stream",
          "text": [
            "Train set:\n",
            "MAE: 0.0135\n",
            "MSE: 0.0004\n",
            "R² : 0.9501\n",
            "\n",
            "Validation set:\n",
            "MAE: 0.0161\n",
            "MSE: 0.0011\n",
            "R² : 0.8794\n",
            "\n",
            "Test set:\n",
            "MAE: 0.0142\n",
            "MSE: 0.0005\n",
            "R² : 0.9375\n",
            "time: 11 ms (started: 2025-05-27 16:11:57 +03:00)\n"
          ]
        }
      ],
      "execution_count": null
    },
    {
      "metadata": {
        "id": "ce3ffc573747fadf"
      },
      "cell_type": "markdown",
      "source": [
        "## Test environment"
      ],
      "id": "ce3ffc573747fadf"
    },
    {
      "metadata": {
        "ExecuteTime": {
          "end_time": "2025-05-27T13:11:57.752811Z",
          "start_time": "2025-05-27T13:11:57.751401Z"
        },
        "id": "f4afbeb2e4aab33",
        "outputId": "739615ae-df10-4673-e429-94331903b130"
      },
      "cell_type": "code",
      "source": [
        "import pandas as pd\n",
        "import json"
      ],
      "id": "f4afbeb2e4aab33",
      "outputs": [
        {
          "name": "stdout",
          "output_type": "stream",
          "text": [
            "time: 130 μs (started: 2025-05-27 16:11:57 +03:00)\n"
          ]
        }
      ],
      "execution_count": null
    },
    {
      "metadata": {
        "ExecuteTime": {
          "end_time": "2025-05-27T13:11:57.768083Z",
          "start_time": "2025-05-27T13:11:57.763007Z"
        },
        "id": "efca16b3705c973f",
        "outputId": "8836c933-0e63-49cd-b388-ad377b465dad"
      },
      "cell_type": "code",
      "source": [
        "X_columns = pd.read_csv(\"model_columns.csv\", header=None).squeeze().tolist()"
      ],
      "id": "efca16b3705c973f",
      "outputs": [
        {
          "name": "stdout",
          "output_type": "stream",
          "text": [
            "time: 3.57 ms (started: 2025-05-27 16:11:57 +03:00)\n"
          ]
        }
      ],
      "execution_count": null
    },
    {
      "metadata": {
        "ExecuteTime": {
          "end_time": "2025-05-27T13:11:57.779374Z",
          "start_time": "2025-05-27T13:11:57.777100Z"
        },
        "id": "f374ab0a11fc6ede",
        "outputId": "d17bbef4-244e-4f8c-871f-aae68ef156d2"
      },
      "cell_type": "code",
      "source": [
        "with open('scaler_minmax.json', 'r') as f:\n",
        "    scaler_minmax = json.load(f)\n",
        "\n",
        "with open('price_minmax.json', 'r') as f:\n",
        "    price_minmax = json.load(f)"
      ],
      "id": "f374ab0a11fc6ede",
      "outputs": [
        {
          "name": "stdout",
          "output_type": "stream",
          "text": [
            "time: 931 μs (started: 2025-05-27 16:11:57 +03:00)\n"
          ]
        }
      ],
      "execution_count": null
    },
    {
      "metadata": {
        "ExecuteTime": {
          "end_time": "2025-05-27T13:11:57.795554Z",
          "start_time": "2025-05-27T13:11:57.792875Z"
        },
        "id": "eae89cfdd6d8b9cd",
        "outputId": "3f4ae5c5-3fdc-449b-be64-2bb4db924c96"
      },
      "cell_type": "code",
      "source": [
        "def normalize_value(value, min_val, max_val):\n",
        "    if max_val > min_val:\n",
        "        return (value - min_val) / (max_val - min_val)\n",
        "    else:\n",
        "        return 0.0\n",
        "\n",
        "def find_all_columns_by_substring(columns, value):\n",
        "    value = str(value).strip().lower()\n",
        "    matches = [col for col in columns if value in col.lower()]\n",
        "    return matches\n",
        "\n",
        "def find_columns_exact_match(columns, value):\n",
        "    value = str(value).strip().lower()\n",
        "    matches = [col for col in columns if col.lower() == value]\n",
        "    return matches"
      ],
      "id": "eae89cfdd6d8b9cd",
      "outputs": [
        {
          "name": "stdout",
          "output_type": "stream",
          "text": [
            "time: 363 μs (started: 2025-05-27 16:11:57 +03:00)\n"
          ]
        }
      ],
      "execution_count": null
    },
    {
      "metadata": {
        "ExecuteTime": {
          "end_time": "2025-05-27T13:11:57.810047Z",
          "start_time": "2025-05-27T13:11:57.805597Z"
        },
        "id": "6209202a05bc0f22",
        "outputId": "5bd95d41-5434-47b5-ae0f-0ce3957438b6"
      },
      "cell_type": "code",
      "source": [
        "def predict_price_mlp(user_input: dict, model, X_columns, scaler_minmax, price_minmax, default_values=None):\n",
        "\n",
        "    if default_values is None:\n",
        "        default_values = {\n",
        "             'Units': 1,\n",
        "            'Area m2': 500,\n",
        "            'block': '0.0',\n",
        "            'Committee year': '2025.0',\n",
        "            'committee month': '6.0',\n",
        "            'region': 'Unknown',\n",
        "            'city': 'Unknown',\n",
        "            'dist_to_kindergarten': 500,\n",
        "            'dist_to_school': 500,\n",
        "            'dist_to_university': 1000,\n",
        "            'dist_to_bus_stop': 200,\n",
        "            'dist_to_train_station': 1500,\n",
        "            'dist_to_park': 300,\n",
        "            'dist_to_mall': 1000,\n",
        "            'dist_to_supermarket': 300,\n",
        "            'dist_to_beach': 5000,\n",
        "            'dist_to_place_of_worship': 400\n",
        "        }\n",
        "\n",
        "    input_df = pd.DataFrame([0] * len(X_columns), index=X_columns).T\n",
        "\n",
        "    # handling numeric features\n",
        "    for col in ['Units', 'Area m2']:\n",
        "        val = float(user_input.get(col, default_values[col]))\n",
        "        min_val = scaler_minmax[col]['min']\n",
        "        max_val = scaler_minmax[col]['max']\n",
        "        input_df.at[0, col] = normalize_value(val, min_val, max_val)\n",
        "\n",
        "    block_col = f\"Block_{user_input.get('block', default_values['block'])}\"\n",
        "    if block_col in X_columns:\n",
        "        input_df.at[0, block_col] = 1\n",
        "\n",
        "    year_col = f\"Committee_year_{user_input.get('Committee year', default_values['Committee year'])}\"\n",
        "    month_col = f\"Committee_month_{user_input.get('committee month', default_values['committee month'])}\"\n",
        "    if year_col in X_columns:\n",
        "        input_df.at[0, year_col] = 1\n",
        "    if month_col in X_columns:\n",
        "        input_df.at[0, month_col] = 1\n",
        "\n",
        "    distance_features = [\n",
        "        'dist_to_kindergarten', 'dist_to_school', 'dist_to_university',\n",
        "        'dist_to_bus_stop', 'dist_to_train_station', 'dist_to_park',\n",
        "        'dist_to_mall', 'dist_to_supermarket', 'dist_to_beach',\n",
        "        'dist_to_place_of_worship']\n",
        "\n",
        "    for col in distance_features:\n",
        "        val = float(user_input.get(col, default_values[col]))\n",
        "        min_val = scaler_minmax[col]['min']\n",
        "        max_val = scaler_minmax[col]['max']\n",
        "        input_df.at[0, col] = normalize_value(val, min_val, max_val)\n",
        "\n",
        "    for feature in ['region', 'city']:\n",
        "        val = user_input.get(feature, default_values[feature])\n",
        "        matches = find_all_columns_by_substring(X_columns, val)\n",
        "        for col in matches:\n",
        "            if col in input_df.columns:\n",
        "                input_df.at[0, col] = 1\n",
        "\n",
        "\n",
        "      #Exeption in case no values have got\n",
        "    if input_df.empty:\n",
        "        raise ValueError(\"No records were found match to the query.\")\n",
        "\n",
        "\n",
        "    input_tensor = torch.tensor(input_df.values, dtype=torch.float32).to(device)\n",
        "    model.eval()\n",
        "    with torch.no_grad():\n",
        "        prediction = model(input_tensor).item()\n",
        "\n",
        "    price_min = price_minmax[\"min\"]\n",
        "    price_max = price_minmax[\"max\"]\n",
        "    predicted_price_per_m2 = prediction * (price_max - price_min) + price_min\n",
        "\n",
        "    return predicted_price_per_m2"
      ],
      "id": "6209202a05bc0f22",
      "outputs": [
        {
          "name": "stdout",
          "output_type": "stream",
          "text": [
            "time: 932 μs (started: 2025-05-27 16:11:57 +03:00)\n"
          ]
        }
      ],
      "execution_count": null
    },
    {
      "metadata": {
        "id": "6393e33a780bd1f8"
      },
      "cell_type": "markdown",
      "source": [
        "### Testing on existing record in Dataset"
      ],
      "id": "6393e33a780bd1f8"
    },
    {
      "metadata": {
        "ExecuteTime": {
          "end_time": "2025-05-27T13:11:57.826056Z",
          "start_time": "2025-05-27T13:11:57.821605Z"
        },
        "id": "9398442aafd537cd",
        "outputId": "9d156400-ee0a-4cc1-fba4-412279ff3391"
      },
      "cell_type": "code",
      "source": [
        "import torch\n",
        "import pandas as pd\n",
        "\n",
        "def predict_from_record(row, model, price_minmax):\n",
        "\n",
        "    # input_df = pd.DataFrame([0] * len(row.drop(labels='Price per m2', errors='ignore').index),\n",
        "    #                         index=row.drop(labels='Price per m2', errors='ignore').index).T\n",
        "    input_df = pd.DataFrame([0] * len(X_columns), index=X_columns).T\n",
        "\n",
        "    # numeric features\n",
        "    numeric_features = ['Units', 'Area m2']\n",
        "    for col in numeric_features:\n",
        "        if col in row:\n",
        "            input_df.at[0, col] = row[col]\n",
        "\n",
        "    # copy the cols which turn on to '1'\n",
        "    for col in row.index:\n",
        "        if col.startswith(('Block_', 'City_', 'Region_', 'Committee_year_', 'Committee_month_')) and row[col] == 1:\n",
        "            input_df.at[0, col] = 1\n",
        "\n",
        "    input_tensor = torch.tensor(input_df.values, dtype=torch.float32)\n",
        "\n",
        "    model.eval()\n",
        "    with torch.no_grad():\n",
        "        prediction_norm = model(input_tensor).item()\n",
        "\n",
        "    price_min = price_minmax[\"min\"]\n",
        "    price_max = price_minmax[\"max\"]\n",
        "    prediction = prediction_norm * (price_max - price_min) + price_min\n",
        "\n",
        "    true_norm = row['Price per m2']\n",
        "    true_price = true_norm * (price_max - price_min) + price_min\n",
        "\n",
        "    print(f\"Prediction: {prediction:,.2f} ₪\")\n",
        "    print(f\"Actual price: {true_price:,.2f} ₪\")\n",
        "    print(f\"Deviation: {abs(prediction - true_price) / true_price * 100:.2f}%\")\n",
        "    return prediction, true_price"
      ],
      "id": "9398442aafd537cd",
      "outputs": [
        {
          "name": "stdout",
          "output_type": "stream",
          "text": [
            "time: 571 μs (started: 2025-05-27 16:11:57 +03:00)\n"
          ]
        }
      ],
      "execution_count": null
    },
    {
      "metadata": {
        "ExecuteTime": {
          "end_time": "2025-05-27T13:11:57.844975Z",
          "start_time": "2025-05-27T13:11:57.838211Z"
        },
        "id": "a15cfc3180851488",
        "outputId": "34bdebef-57ea-4eef-eb10-a5e210380113"
      },
      "cell_type": "code",
      "source": [
        "row = df.sample(1).iloc[0]\n",
        "predict_from_record(row, model, price_minmax)"
      ],
      "id": "a15cfc3180851488",
      "outputs": [
        {
          "name": "stdout",
          "output_type": "stream",
          "text": [
            "Prediction: 554.96 ₪\n",
            "Actual price: 634.00 ₪\n",
            "Deviation: 12.47%\n"
          ]
        },
        {
          "name": "stderr",
          "output_type": "stream",
          "text": [
            "/var/folders/lb/824pdw_j27x5fbnfxl4hkx880000gn/T/ipykernel_9994/3875665872.py:14: FutureWarning: Setting an item of incompatible dtype is deprecated and will raise an error in a future version of pandas. Value '0.3946731234866828' has dtype incompatible with int64, please explicitly cast to a compatible dtype first.\n",
            "  input_df.at[0, col] = row[col]\n"
          ]
        },
        {
          "data": {
            "text/plain": [
              "(554.9591160616734, np.float64(633.9999999999998))"
            ]
          },
          "execution_count": 218,
          "metadata": {},
          "output_type": "execute_result"
        },
        {
          "name": "stdout",
          "output_type": "stream",
          "text": [
            "time: 5.21 ms (started: 2025-05-27 16:11:57 +03:00)\n"
          ]
        }
      ],
      "execution_count": null
    },
    {
      "metadata": {
        "id": "a69c3f5a2561cb4e"
      },
      "cell_type": "markdown",
      "source": [
        "## Random records from data"
      ],
      "id": "a69c3f5a2561cb4e"
    },
    {
      "metadata": {
        "ExecuteTime": {
          "end_time": "2025-05-27T13:11:57.859577Z",
          "start_time": "2025-05-27T13:11:57.856387Z"
        },
        "id": "23f105bb751c8bf1",
        "outputId": "91849e8c-19d1-45e4-cdd3-492d83a83393"
      },
      "cell_type": "code",
      "source": [
        "def evaluate_on_random_samples(df, model, scaler_minmax, price_minmax, X_columns, n=20):\n",
        "\n",
        "    # X_columns = df.drop(columns=[\"Price per m2\"]).columns\n",
        "    errors = []\n",
        "\n",
        "    for _, row in df.sample(n=n, random_state=42).iterrows():\n",
        "        input_df = pd.DataFrame([0] * len(X_columns), index=X_columns).T\n",
        "\n",
        "        numeric_features = ['Units', 'Area m2',\n",
        "                            'dist_to_kindergarten', 'dist_to_school', 'dist_to_university',\n",
        "                            'dist_to_bus_stop', 'dist_to_train_station', 'dist_to_park',\n",
        "                            'dist_to_mall', 'dist_to_supermarket', 'dist_to_beach',\n",
        "                            'dist_to_place_of_worship']\n",
        "\n",
        "        for col in numeric_features:\n",
        "            val = row[col]\n",
        "            min_val = scaler_minmax[col]['min']\n",
        "            max_val = scaler_minmax[col]['max']\n",
        "            input_df.at[0, col] = normalize_value(val, min_val, max_val)\n",
        "\n",
        "        for col in row.index:\n",
        "            if row[col] == 1 and col in input_df.columns:\n",
        "                input_df.at[0, col] = 1\n",
        "\n",
        "        input_tensor = torch.tensor(input_df.values, dtype=torch.float32).to(device)\n",
        "        model.eval()\n",
        "        with torch.no_grad():\n",
        "            pred_norm = model(input_tensor).item()\n",
        "\n",
        "        pred = pred_norm * (price_minmax[\"max\"] - price_minmax[\"min\"]) + price_minmax[\"min\"]\n",
        "        true = row[\"Price per m2\"] * (price_minmax[\"max\"] - price_minmax[\"min\"]) + price_minmax[\"min\"]\n",
        "        error_pct = abs(pred - true) / true * 100\n",
        "        errors.append(error_pct)\n",
        "\n",
        "    print(f\"Mean error: {np.mean(errors):.2f}%\") # ממוצע שגיאה\n",
        "    print(f\"Median error: {np.median(errors):.2f}%\") # חציון שגיאה\n",
        "    print(f\"Maximum error: {np.max(errors):.2f}%\")\n",
        "    print(f\"Minimum error: {np.min(errors):.2f}%\")"
      ],
      "id": "23f105bb751c8bf1",
      "outputs": [
        {
          "name": "stdout",
          "output_type": "stream",
          "text": [
            "time: 648 μs (started: 2025-05-27 16:11:57 +03:00)\n"
          ]
        }
      ],
      "execution_count": null
    },
    {
      "metadata": {
        "ExecuteTime": {
          "end_time": "2025-05-27T13:11:57.913716Z",
          "start_time": "2025-05-27T13:11:57.872030Z"
        },
        "id": "b60648720353194c",
        "outputId": "4be6802c-3ee0-4f2e-868b-96f0c709a08b"
      },
      "cell_type": "code",
      "source": [
        "evaluate_on_random_samples(df, model, scaler_minmax, price_minmax,X_columns, n=20)"
      ],
      "id": "b60648720353194c",
      "outputs": [
        {
          "name": "stdout",
          "output_type": "stream",
          "text": [
            "Mean error: 96.24%\n",
            "Median error: 53.38%\n",
            "Maximum error: 528.47%\n",
            "Minimum error: 3.23%\n",
            "time: 39.6 ms (started: 2025-05-27 16:11:57 +03:00)\n"
          ]
        },
        {
          "name": "stderr",
          "output_type": "stream",
          "text": [
            "/var/folders/lb/824pdw_j27x5fbnfxl4hkx880000gn/T/ipykernel_9994/1495711449.py:19: FutureWarning: Setting an item of incompatible dtype is deprecated and will raise an error in a future version of pandas. Value '-0.16' has dtype incompatible with int64, please explicitly cast to a compatible dtype first.\n",
            "  input_df.at[0, col] = normalize_value(val, min_val, max_val)\n",
            "/var/folders/lb/824pdw_j27x5fbnfxl4hkx880000gn/T/ipykernel_9994/1495711449.py:19: FutureWarning: Setting an item of incompatible dtype is deprecated and will raise an error in a future version of pandas. Value '-0.20991211767671736' has dtype incompatible with int64, please explicitly cast to a compatible dtype first.\n",
            "  input_df.at[0, col] = normalize_value(val, min_val, max_val)\n",
            "/var/folders/lb/824pdw_j27x5fbnfxl4hkx880000gn/T/ipykernel_9994/1495711449.py:19: FutureWarning: Setting an item of incompatible dtype is deprecated and will raise an error in a future version of pandas. Value '-0.0011401317221647197' has dtype incompatible with int64, please explicitly cast to a compatible dtype first.\n",
            "  input_df.at[0, col] = normalize_value(val, min_val, max_val)\n",
            "/var/folders/lb/824pdw_j27x5fbnfxl4hkx880000gn/T/ipykernel_9994/1495711449.py:19: FutureWarning: Setting an item of incompatible dtype is deprecated and will raise an error in a future version of pandas. Value '-0.0014545195204106664' has dtype incompatible with int64, please explicitly cast to a compatible dtype first.\n",
            "  input_df.at[0, col] = normalize_value(val, min_val, max_val)\n",
            "/var/folders/lb/824pdw_j27x5fbnfxl4hkx880000gn/T/ipykernel_9994/1495711449.py:19: FutureWarning: Setting an item of incompatible dtype is deprecated and will raise an error in a future version of pandas. Value '-0.005127956994886691' has dtype incompatible with int64, please explicitly cast to a compatible dtype first.\n",
            "  input_df.at[0, col] = normalize_value(val, min_val, max_val)\n",
            "/var/folders/lb/824pdw_j27x5fbnfxl4hkx880000gn/T/ipykernel_9994/1495711449.py:19: FutureWarning: Setting an item of incompatible dtype is deprecated and will raise an error in a future version of pandas. Value '-0.0055916356460484' has dtype incompatible with int64, please explicitly cast to a compatible dtype first.\n",
            "  input_df.at[0, col] = normalize_value(val, min_val, max_val)\n",
            "/var/folders/lb/824pdw_j27x5fbnfxl4hkx880000gn/T/ipykernel_9994/1495711449.py:19: FutureWarning: Setting an item of incompatible dtype is deprecated and will raise an error in a future version of pandas. Value '-0.007977241853234764' has dtype incompatible with int64, please explicitly cast to a compatible dtype first.\n",
            "  input_df.at[0, col] = normalize_value(val, min_val, max_val)\n",
            "/var/folders/lb/824pdw_j27x5fbnfxl4hkx880000gn/T/ipykernel_9994/1495711449.py:19: FutureWarning: Setting an item of incompatible dtype is deprecated and will raise an error in a future version of pandas. Value '-0.015768753509664137' has dtype incompatible with int64, please explicitly cast to a compatible dtype first.\n",
            "  input_df.at[0, col] = normalize_value(val, min_val, max_val)\n",
            "/var/folders/lb/824pdw_j27x5fbnfxl4hkx880000gn/T/ipykernel_9994/1495711449.py:19: FutureWarning: Setting an item of incompatible dtype is deprecated and will raise an error in a future version of pandas. Value '-0.0022755497923438108' has dtype incompatible with int64, please explicitly cast to a compatible dtype first.\n",
            "  input_df.at[0, col] = normalize_value(val, min_val, max_val)\n",
            "/var/folders/lb/824pdw_j27x5fbnfxl4hkx880000gn/T/ipykernel_9994/1495711449.py:19: FutureWarning: Setting an item of incompatible dtype is deprecated and will raise an error in a future version of pandas. Value '-0.010796017572967675' has dtype incompatible with int64, please explicitly cast to a compatible dtype first.\n",
            "  input_df.at[0, col] = normalize_value(val, min_val, max_val)\n",
            "/var/folders/lb/824pdw_j27x5fbnfxl4hkx880000gn/T/ipykernel_9994/1495711449.py:19: FutureWarning: Setting an item of incompatible dtype is deprecated and will raise an error in a future version of pandas. Value '-0.030243829583292157' has dtype incompatible with int64, please explicitly cast to a compatible dtype first.\n",
            "  input_df.at[0, col] = normalize_value(val, min_val, max_val)\n",
            "/var/folders/lb/824pdw_j27x5fbnfxl4hkx880000gn/T/ipykernel_9994/1495711449.py:19: FutureWarning: Setting an item of incompatible dtype is deprecated and will raise an error in a future version of pandas. Value '-0.0076224069712883' has dtype incompatible with int64, please explicitly cast to a compatible dtype first.\n",
            "  input_df.at[0, col] = normalize_value(val, min_val, max_val)\n",
            "/var/folders/lb/824pdw_j27x5fbnfxl4hkx880000gn/T/ipykernel_9994/1495711449.py:19: FutureWarning: Setting an item of incompatible dtype is deprecated and will raise an error in a future version of pandas. Value '-0.2' has dtype incompatible with int64, please explicitly cast to a compatible dtype first.\n",
            "  input_df.at[0, col] = normalize_value(val, min_val, max_val)\n",
            "/var/folders/lb/824pdw_j27x5fbnfxl4hkx880000gn/T/ipykernel_9994/1495711449.py:19: FutureWarning: Setting an item of incompatible dtype is deprecated and will raise an error in a future version of pandas. Value '-0.2102550873839912' has dtype incompatible with int64, please explicitly cast to a compatible dtype first.\n",
            "  input_df.at[0, col] = normalize_value(val, min_val, max_val)\n",
            "/var/folders/lb/824pdw_j27x5fbnfxl4hkx880000gn/T/ipykernel_9994/1495711449.py:19: FutureWarning: Setting an item of incompatible dtype is deprecated and will raise an error in a future version of pandas. Value '-0.0011419320061687307' has dtype incompatible with int64, please explicitly cast to a compatible dtype first.\n",
            "  input_df.at[0, col] = normalize_value(val, min_val, max_val)\n",
            "/var/folders/lb/824pdw_j27x5fbnfxl4hkx880000gn/T/ipykernel_9994/1495711449.py:19: FutureWarning: Setting an item of incompatible dtype is deprecated and will raise an error in a future version of pandas. Value '-0.0014553653451326305' has dtype incompatible with int64, please explicitly cast to a compatible dtype first.\n",
            "  input_df.at[0, col] = normalize_value(val, min_val, max_val)\n",
            "/var/folders/lb/824pdw_j27x5fbnfxl4hkx880000gn/T/ipykernel_9994/1495711449.py:19: FutureWarning: Setting an item of incompatible dtype is deprecated and will raise an error in a future version of pandas. Value '-0.00512504101290615' has dtype incompatible with int64, please explicitly cast to a compatible dtype first.\n",
            "  input_df.at[0, col] = normalize_value(val, min_val, max_val)\n",
            "/var/folders/lb/824pdw_j27x5fbnfxl4hkx880000gn/T/ipykernel_9994/1495711449.py:19: FutureWarning: Setting an item of incompatible dtype is deprecated and will raise an error in a future version of pandas. Value '-0.005623545551512755' has dtype incompatible with int64, please explicitly cast to a compatible dtype first.\n",
            "  input_df.at[0, col] = normalize_value(val, min_val, max_val)\n",
            "/var/folders/lb/824pdw_j27x5fbnfxl4hkx880000gn/T/ipykernel_9994/1495711449.py:19: FutureWarning: Setting an item of incompatible dtype is deprecated and will raise an error in a future version of pandas. Value '-0.00797896315756686' has dtype incompatible with int64, please explicitly cast to a compatible dtype first.\n",
            "  input_df.at[0, col] = normalize_value(val, min_val, max_val)\n",
            "/var/folders/lb/824pdw_j27x5fbnfxl4hkx880000gn/T/ipykernel_9994/1495711449.py:19: FutureWarning: Setting an item of incompatible dtype is deprecated and will raise an error in a future version of pandas. Value '-0.015749168124219604' has dtype incompatible with int64, please explicitly cast to a compatible dtype first.\n",
            "  input_df.at[0, col] = normalize_value(val, min_val, max_val)\n",
            "/var/folders/lb/824pdw_j27x5fbnfxl4hkx880000gn/T/ipykernel_9994/1495711449.py:19: FutureWarning: Setting an item of incompatible dtype is deprecated and will raise an error in a future version of pandas. Value '-0.0022764042330352097' has dtype incompatible with int64, please explicitly cast to a compatible dtype first.\n",
            "  input_df.at[0, col] = normalize_value(val, min_val, max_val)\n",
            "/var/folders/lb/824pdw_j27x5fbnfxl4hkx880000gn/T/ipykernel_9994/1495711449.py:19: FutureWarning: Setting an item of incompatible dtype is deprecated and will raise an error in a future version of pandas. Value '-0.010805095629288995' has dtype incompatible with int64, please explicitly cast to a compatible dtype first.\n",
            "  input_df.at[0, col] = normalize_value(val, min_val, max_val)\n",
            "/var/folders/lb/824pdw_j27x5fbnfxl4hkx880000gn/T/ipykernel_9994/1495711449.py:19: FutureWarning: Setting an item of incompatible dtype is deprecated and will raise an error in a future version of pandas. Value '-0.030238581448807342' has dtype incompatible with int64, please explicitly cast to a compatible dtype first.\n",
            "  input_df.at[0, col] = normalize_value(val, min_val, max_val)\n",
            "/var/folders/lb/824pdw_j27x5fbnfxl4hkx880000gn/T/ipykernel_9994/1495711449.py:19: FutureWarning: Setting an item of incompatible dtype is deprecated and will raise an error in a future version of pandas. Value '-0.007643767636612771' has dtype incompatible with int64, please explicitly cast to a compatible dtype first.\n",
            "  input_df.at[0, col] = normalize_value(val, min_val, max_val)\n",
            "/var/folders/lb/824pdw_j27x5fbnfxl4hkx880000gn/T/ipykernel_9994/1495711449.py:19: FutureWarning: Setting an item of incompatible dtype is deprecated and will raise an error in a future version of pandas. Value '-0.2' has dtype incompatible with int64, please explicitly cast to a compatible dtype first.\n",
            "  input_df.at[0, col] = normalize_value(val, min_val, max_val)\n",
            "/var/folders/lb/824pdw_j27x5fbnfxl4hkx880000gn/T/ipykernel_9994/1495711449.py:19: FutureWarning: Setting an item of incompatible dtype is deprecated and will raise an error in a future version of pandas. Value '-0.21023603351136488' has dtype incompatible with int64, please explicitly cast to a compatible dtype first.\n",
            "  input_df.at[0, col] = normalize_value(val, min_val, max_val)\n",
            "/var/folders/lb/824pdw_j27x5fbnfxl4hkx880000gn/T/ipykernel_9994/1495711449.py:19: FutureWarning: Setting an item of incompatible dtype is deprecated and will raise an error in a future version of pandas. Value '-0.001141806797647049' has dtype incompatible with int64, please explicitly cast to a compatible dtype first.\n",
            "  input_df.at[0, col] = normalize_value(val, min_val, max_val)\n",
            "/var/folders/lb/824pdw_j27x5fbnfxl4hkx880000gn/T/ipykernel_9994/1495711449.py:19: FutureWarning: Setting an item of incompatible dtype is deprecated and will raise an error in a future version of pandas. Value '-0.0014553152662986307' has dtype incompatible with int64, please explicitly cast to a compatible dtype first.\n",
            "  input_df.at[0, col] = normalize_value(val, min_val, max_val)\n",
            "/var/folders/lb/824pdw_j27x5fbnfxl4hkx880000gn/T/ipykernel_9994/1495711449.py:19: FutureWarning: Setting an item of incompatible dtype is deprecated and will raise an error in a future version of pandas. Value '-0.005125048616132429' has dtype incompatible with int64, please explicitly cast to a compatible dtype first.\n",
            "  input_df.at[0, col] = normalize_value(val, min_val, max_val)\n",
            "/var/folders/lb/824pdw_j27x5fbnfxl4hkx880000gn/T/ipykernel_9994/1495711449.py:19: FutureWarning: Setting an item of incompatible dtype is deprecated and will raise an error in a future version of pandas. Value '-0.005466683527995502' has dtype incompatible with int64, please explicitly cast to a compatible dtype first.\n",
            "  input_df.at[0, col] = normalize_value(val, min_val, max_val)\n",
            "/var/folders/lb/824pdw_j27x5fbnfxl4hkx880000gn/T/ipykernel_9994/1495711449.py:19: FutureWarning: Setting an item of incompatible dtype is deprecated and will raise an error in a future version of pandas. Value '-0.00797871099171717' has dtype incompatible with int64, please explicitly cast to a compatible dtype first.\n",
            "  input_df.at[0, col] = normalize_value(val, min_val, max_val)\n",
            "/var/folders/lb/824pdw_j27x5fbnfxl4hkx880000gn/T/ipykernel_9994/1495711449.py:19: FutureWarning: Setting an item of incompatible dtype is deprecated and will raise an error in a future version of pandas. Value '-0.015748566631484908' has dtype incompatible with int64, please explicitly cast to a compatible dtype first.\n",
            "  input_df.at[0, col] = normalize_value(val, min_val, max_val)\n",
            "/var/folders/lb/824pdw_j27x5fbnfxl4hkx880000gn/T/ipykernel_9994/1495711449.py:19: FutureWarning: Setting an item of incompatible dtype is deprecated and will raise an error in a future version of pandas. Value '-0.0022762695127433136' has dtype incompatible with int64, please explicitly cast to a compatible dtype first.\n",
            "  input_df.at[0, col] = normalize_value(val, min_val, max_val)\n",
            "/var/folders/lb/824pdw_j27x5fbnfxl4hkx880000gn/T/ipykernel_9994/1495711449.py:19: FutureWarning: Setting an item of incompatible dtype is deprecated and will raise an error in a future version of pandas. Value '-0.01080330820860307' has dtype incompatible with int64, please explicitly cast to a compatible dtype first.\n",
            "  input_df.at[0, col] = normalize_value(val, min_val, max_val)\n",
            "/var/folders/lb/824pdw_j27x5fbnfxl4hkx880000gn/T/ipykernel_9994/1495711449.py:19: FutureWarning: Setting an item of incompatible dtype is deprecated and will raise an error in a future version of pandas. Value '-0.030238691875355245' has dtype incompatible with int64, please explicitly cast to a compatible dtype first.\n",
            "  input_df.at[0, col] = normalize_value(val, min_val, max_val)\n",
            "/var/folders/lb/824pdw_j27x5fbnfxl4hkx880000gn/T/ipykernel_9994/1495711449.py:19: FutureWarning: Setting an item of incompatible dtype is deprecated and will raise an error in a future version of pandas. Value '-0.007635838711274063' has dtype incompatible with int64, please explicitly cast to a compatible dtype first.\n",
            "  input_df.at[0, col] = normalize_value(val, min_val, max_val)\n",
            "/var/folders/lb/824pdw_j27x5fbnfxl4hkx880000gn/T/ipykernel_9994/1495711449.py:19: FutureWarning: Setting an item of incompatible dtype is deprecated and will raise an error in a future version of pandas. Value '-0.2' has dtype incompatible with int64, please explicitly cast to a compatible dtype first.\n",
            "  input_df.at[0, col] = normalize_value(val, min_val, max_val)\n",
            "/var/folders/lb/824pdw_j27x5fbnfxl4hkx880000gn/T/ipykernel_9994/1495711449.py:19: FutureWarning: Setting an item of incompatible dtype is deprecated and will raise an error in a future version of pandas. Value '-0.21029026376422444' has dtype incompatible with int64, please explicitly cast to a compatible dtype first.\n",
            "  input_df.at[0, col] = normalize_value(val, min_val, max_val)\n",
            "/var/folders/lb/824pdw_j27x5fbnfxl4hkx880000gn/T/ipykernel_9994/1495711449.py:19: FutureWarning: Setting an item of incompatible dtype is deprecated and will raise an error in a future version of pandas. Value '-0.0011404455572470874' has dtype incompatible with int64, please explicitly cast to a compatible dtype first.\n",
            "  input_df.at[0, col] = normalize_value(val, min_val, max_val)\n",
            "/var/folders/lb/824pdw_j27x5fbnfxl4hkx880000gn/T/ipykernel_9994/1495711449.py:19: FutureWarning: Setting an item of incompatible dtype is deprecated and will raise an error in a future version of pandas. Value '-0.0014522777338603259' has dtype incompatible with int64, please explicitly cast to a compatible dtype first.\n",
            "  input_df.at[0, col] = normalize_value(val, min_val, max_val)\n",
            "/var/folders/lb/824pdw_j27x5fbnfxl4hkx880000gn/T/ipykernel_9994/1495711449.py:19: FutureWarning: Setting an item of incompatible dtype is deprecated and will raise an error in a future version of pandas. Value '-0.0051244750428094754' has dtype incompatible with int64, please explicitly cast to a compatible dtype first.\n",
            "  input_df.at[0, col] = normalize_value(val, min_val, max_val)\n",
            "/var/folders/lb/824pdw_j27x5fbnfxl4hkx880000gn/T/ipykernel_9994/1495711449.py:19: FutureWarning: Setting an item of incompatible dtype is deprecated and will raise an error in a future version of pandas. Value '-0.005609193625887255' has dtype incompatible with int64, please explicitly cast to a compatible dtype first.\n",
            "  input_df.at[0, col] = normalize_value(val, min_val, max_val)\n",
            "/var/folders/lb/824pdw_j27x5fbnfxl4hkx880000gn/T/ipykernel_9994/1495711449.py:19: FutureWarning: Setting an item of incompatible dtype is deprecated and will raise an error in a future version of pandas. Value '-0.007971022220586176' has dtype incompatible with int64, please explicitly cast to a compatible dtype first.\n",
            "  input_df.at[0, col] = normalize_value(val, min_val, max_val)\n",
            "/var/folders/lb/824pdw_j27x5fbnfxl4hkx880000gn/T/ipykernel_9994/1495711449.py:19: FutureWarning: Setting an item of incompatible dtype is deprecated and will raise an error in a future version of pandas. Value '-0.015765030822476312' has dtype incompatible with int64, please explicitly cast to a compatible dtype first.\n",
            "  input_df.at[0, col] = normalize_value(val, min_val, max_val)\n",
            "/var/folders/lb/824pdw_j27x5fbnfxl4hkx880000gn/T/ipykernel_9994/1495711449.py:19: FutureWarning: Setting an item of incompatible dtype is deprecated and will raise an error in a future version of pandas. Value '-0.00227586448724164' has dtype incompatible with int64, please explicitly cast to a compatible dtype first.\n",
            "  input_df.at[0, col] = normalize_value(val, min_val, max_val)\n",
            "/var/folders/lb/824pdw_j27x5fbnfxl4hkx880000gn/T/ipykernel_9994/1495711449.py:19: FutureWarning: Setting an item of incompatible dtype is deprecated and will raise an error in a future version of pandas. Value '-0.01079103733162307' has dtype incompatible with int64, please explicitly cast to a compatible dtype first.\n",
            "  input_df.at[0, col] = normalize_value(val, min_val, max_val)\n",
            "/var/folders/lb/824pdw_j27x5fbnfxl4hkx880000gn/T/ipykernel_9994/1495711449.py:19: FutureWarning: Setting an item of incompatible dtype is deprecated and will raise an error in a future version of pandas. Value '-0.03024391674109136' has dtype incompatible with int64, please explicitly cast to a compatible dtype first.\n",
            "  input_df.at[0, col] = normalize_value(val, min_val, max_val)\n",
            "/var/folders/lb/824pdw_j27x5fbnfxl4hkx880000gn/T/ipykernel_9994/1495711449.py:19: FutureWarning: Setting an item of incompatible dtype is deprecated and will raise an error in a future version of pandas. Value '-0.00760578452717868' has dtype incompatible with int64, please explicitly cast to a compatible dtype first.\n",
            "  input_df.at[0, col] = normalize_value(val, min_val, max_val)\n",
            "/var/folders/lb/824pdw_j27x5fbnfxl4hkx880000gn/T/ipykernel_9994/1495711449.py:19: FutureWarning: Setting an item of incompatible dtype is deprecated and will raise an error in a future version of pandas. Value '-0.16' has dtype incompatible with int64, please explicitly cast to a compatible dtype first.\n",
            "  input_df.at[0, col] = normalize_value(val, min_val, max_val)\n",
            "/var/folders/lb/824pdw_j27x5fbnfxl4hkx880000gn/T/ipykernel_9994/1495711449.py:19: FutureWarning: Setting an item of incompatible dtype is deprecated and will raise an error in a future version of pandas. Value '-0.21015835233834987' has dtype incompatible with int64, please explicitly cast to a compatible dtype first.\n",
            "  input_df.at[0, col] = normalize_value(val, min_val, max_val)\n",
            "/var/folders/lb/824pdw_j27x5fbnfxl4hkx880000gn/T/ipykernel_9994/1495711449.py:19: FutureWarning: Setting an item of incompatible dtype is deprecated and will raise an error in a future version of pandas. Value '-0.0011364981603919' has dtype incompatible with int64, please explicitly cast to a compatible dtype first.\n",
            "  input_df.at[0, col] = normalize_value(val, min_val, max_val)\n",
            "/var/folders/lb/824pdw_j27x5fbnfxl4hkx880000gn/T/ipykernel_9994/1495711449.py:19: FutureWarning: Setting an item of incompatible dtype is deprecated and will raise an error in a future version of pandas. Value '-0.001450393604878022' has dtype incompatible with int64, please explicitly cast to a compatible dtype first.\n",
            "  input_df.at[0, col] = normalize_value(val, min_val, max_val)\n",
            "/var/folders/lb/824pdw_j27x5fbnfxl4hkx880000gn/T/ipykernel_9994/1495711449.py:19: FutureWarning: Setting an item of incompatible dtype is deprecated and will raise an error in a future version of pandas. Value '-0.005128080345067426' has dtype incompatible with int64, please explicitly cast to a compatible dtype first.\n",
            "  input_df.at[0, col] = normalize_value(val, min_val, max_val)\n",
            "/var/folders/lb/824pdw_j27x5fbnfxl4hkx880000gn/T/ipykernel_9994/1495711449.py:19: FutureWarning: Setting an item of incompatible dtype is deprecated and will raise an error in a future version of pandas. Value '-0.005594443570688592' has dtype incompatible with int64, please explicitly cast to a compatible dtype first.\n",
            "  input_df.at[0, col] = normalize_value(val, min_val, max_val)\n",
            "/var/folders/lb/824pdw_j27x5fbnfxl4hkx880000gn/T/ipykernel_9994/1495711449.py:19: FutureWarning: Setting an item of incompatible dtype is deprecated and will raise an error in a future version of pandas. Value '-0.007978880776418423' has dtype incompatible with int64, please explicitly cast to a compatible dtype first.\n",
            "  input_df.at[0, col] = normalize_value(val, min_val, max_val)\n",
            "/var/folders/lb/824pdw_j27x5fbnfxl4hkx880000gn/T/ipykernel_9994/1495711449.py:19: FutureWarning: Setting an item of incompatible dtype is deprecated and will raise an error in a future version of pandas. Value '-0.015755390202344795' has dtype incompatible with int64, please explicitly cast to a compatible dtype first.\n",
            "  input_df.at[0, col] = normalize_value(val, min_val, max_val)\n",
            "/var/folders/lb/824pdw_j27x5fbnfxl4hkx880000gn/T/ipykernel_9994/1495711449.py:19: FutureWarning: Setting an item of incompatible dtype is deprecated and will raise an error in a future version of pandas. Value '-0.0022731781695978894' has dtype incompatible with int64, please explicitly cast to a compatible dtype first.\n",
            "  input_df.at[0, col] = normalize_value(val, min_val, max_val)\n",
            "/var/folders/lb/824pdw_j27x5fbnfxl4hkx880000gn/T/ipykernel_9994/1495711449.py:19: FutureWarning: Setting an item of incompatible dtype is deprecated and will raise an error in a future version of pandas. Value '-0.010760737649196484' has dtype incompatible with int64, please explicitly cast to a compatible dtype first.\n",
            "  input_df.at[0, col] = normalize_value(val, min_val, max_val)\n",
            "/var/folders/lb/824pdw_j27x5fbnfxl4hkx880000gn/T/ipykernel_9994/1495711449.py:19: FutureWarning: Setting an item of incompatible dtype is deprecated and will raise an error in a future version of pandas. Value '-0.030242225961211792' has dtype incompatible with int64, please explicitly cast to a compatible dtype first.\n",
            "  input_df.at[0, col] = normalize_value(val, min_val, max_val)\n",
            "/var/folders/lb/824pdw_j27x5fbnfxl4hkx880000gn/T/ipykernel_9994/1495711449.py:19: FutureWarning: Setting an item of incompatible dtype is deprecated and will raise an error in a future version of pandas. Value '-0.007637617064430497' has dtype incompatible with int64, please explicitly cast to a compatible dtype first.\n",
            "  input_df.at[0, col] = normalize_value(val, min_val, max_val)\n",
            "/var/folders/lb/824pdw_j27x5fbnfxl4hkx880000gn/T/ipykernel_9994/1495711449.py:19: FutureWarning: Setting an item of incompatible dtype is deprecated and will raise an error in a future version of pandas. Value '-0.2' has dtype incompatible with int64, please explicitly cast to a compatible dtype first.\n",
            "  input_df.at[0, col] = normalize_value(val, min_val, max_val)\n",
            "/var/folders/lb/824pdw_j27x5fbnfxl4hkx880000gn/T/ipykernel_9994/1495711449.py:19: FutureWarning: Setting an item of incompatible dtype is deprecated and will raise an error in a future version of pandas. Value '-0.21001324976988783' has dtype incompatible with int64, please explicitly cast to a compatible dtype first.\n",
            "  input_df.at[0, col] = normalize_value(val, min_val, max_val)\n",
            "/var/folders/lb/824pdw_j27x5fbnfxl4hkx880000gn/T/ipykernel_9994/1495711449.py:19: FutureWarning: Setting an item of incompatible dtype is deprecated and will raise an error in a future version of pandas. Value '-0.0011354975119571378' has dtype incompatible with int64, please explicitly cast to a compatible dtype first.\n",
            "  input_df.at[0, col] = normalize_value(val, min_val, max_val)\n",
            "/var/folders/lb/824pdw_j27x5fbnfxl4hkx880000gn/T/ipykernel_9994/1495711449.py:19: FutureWarning: Setting an item of incompatible dtype is deprecated and will raise an error in a future version of pandas. Value '-0.0014555421029969274' has dtype incompatible with int64, please explicitly cast to a compatible dtype first.\n",
            "  input_df.at[0, col] = normalize_value(val, min_val, max_val)\n",
            "/var/folders/lb/824pdw_j27x5fbnfxl4hkx880000gn/T/ipykernel_9994/1495711449.py:19: FutureWarning: Setting an item of incompatible dtype is deprecated and will raise an error in a future version of pandas. Value '-0.00512585851593824' has dtype incompatible with int64, please explicitly cast to a compatible dtype first.\n",
            "  input_df.at[0, col] = normalize_value(val, min_val, max_val)\n",
            "/var/folders/lb/824pdw_j27x5fbnfxl4hkx880000gn/T/ipykernel_9994/1495711449.py:19: FutureWarning: Setting an item of incompatible dtype is deprecated and will raise an error in a future version of pandas. Value '-0.0055500368329851' has dtype incompatible with int64, please explicitly cast to a compatible dtype first.\n",
            "  input_df.at[0, col] = normalize_value(val, min_val, max_val)\n",
            "/var/folders/lb/824pdw_j27x5fbnfxl4hkx880000gn/T/ipykernel_9994/1495711449.py:19: FutureWarning: Setting an item of incompatible dtype is deprecated and will raise an error in a future version of pandas. Value '-0.00796951482755656' has dtype incompatible with int64, please explicitly cast to a compatible dtype first.\n",
            "  input_df.at[0, col] = normalize_value(val, min_val, max_val)\n",
            "/var/folders/lb/824pdw_j27x5fbnfxl4hkx880000gn/T/ipykernel_9994/1495711449.py:19: FutureWarning: Setting an item of incompatible dtype is deprecated and will raise an error in a future version of pandas. Value '-0.015757176355340435' has dtype incompatible with int64, please explicitly cast to a compatible dtype first.\n",
            "  input_df.at[0, col] = normalize_value(val, min_val, max_val)\n",
            "/var/folders/lb/824pdw_j27x5fbnfxl4hkx880000gn/T/ipykernel_9994/1495711449.py:19: FutureWarning: Setting an item of incompatible dtype is deprecated and will raise an error in a future version of pandas. Value '-0.0022702184849054735' has dtype incompatible with int64, please explicitly cast to a compatible dtype first.\n",
            "  input_df.at[0, col] = normalize_value(val, min_val, max_val)\n",
            "/var/folders/lb/824pdw_j27x5fbnfxl4hkx880000gn/T/ipykernel_9994/1495711449.py:19: FutureWarning: Setting an item of incompatible dtype is deprecated and will raise an error in a future version of pandas. Value '-0.010796681418662656' has dtype incompatible with int64, please explicitly cast to a compatible dtype first.\n",
            "  input_df.at[0, col] = normalize_value(val, min_val, max_val)\n",
            "/var/folders/lb/824pdw_j27x5fbnfxl4hkx880000gn/T/ipykernel_9994/1495711449.py:19: FutureWarning: Setting an item of incompatible dtype is deprecated and will raise an error in a future version of pandas. Value '-0.03024314966351423' has dtype incompatible with int64, please explicitly cast to a compatible dtype first.\n",
            "  input_df.at[0, col] = normalize_value(val, min_val, max_val)\n",
            "/var/folders/lb/824pdw_j27x5fbnfxl4hkx880000gn/T/ipykernel_9994/1495711449.py:19: FutureWarning: Setting an item of incompatible dtype is deprecated and will raise an error in a future version of pandas. Value '-0.007638765670619552' has dtype incompatible with int64, please explicitly cast to a compatible dtype first.\n",
            "  input_df.at[0, col] = normalize_value(val, min_val, max_val)\n",
            "/var/folders/lb/824pdw_j27x5fbnfxl4hkx880000gn/T/ipykernel_9994/1495711449.py:19: FutureWarning: Setting an item of incompatible dtype is deprecated and will raise an error in a future version of pandas. Value '-0.2' has dtype incompatible with int64, please explicitly cast to a compatible dtype first.\n",
            "  input_df.at[0, col] = normalize_value(val, min_val, max_val)\n",
            "/var/folders/lb/824pdw_j27x5fbnfxl4hkx880000gn/T/ipykernel_9994/1495711449.py:19: FutureWarning: Setting an item of incompatible dtype is deprecated and will raise an error in a future version of pandas. Value '-0.21011584754556809' has dtype incompatible with int64, please explicitly cast to a compatible dtype first.\n",
            "  input_df.at[0, col] = normalize_value(val, min_val, max_val)\n",
            "/var/folders/lb/824pdw_j27x5fbnfxl4hkx880000gn/T/ipykernel_9994/1495711449.py:19: FutureWarning: Setting an item of incompatible dtype is deprecated and will raise an error in a future version of pandas. Value '-0.0011390322037200258' has dtype incompatible with int64, please explicitly cast to a compatible dtype first.\n",
            "  input_df.at[0, col] = normalize_value(val, min_val, max_val)\n",
            "/var/folders/lb/824pdw_j27x5fbnfxl4hkx880000gn/T/ipykernel_9994/1495711449.py:19: FutureWarning: Setting an item of incompatible dtype is deprecated and will raise an error in a future version of pandas. Value '-0.0014529016383254569' has dtype incompatible with int64, please explicitly cast to a compatible dtype first.\n",
            "  input_df.at[0, col] = normalize_value(val, min_val, max_val)\n",
            "/var/folders/lb/824pdw_j27x5fbnfxl4hkx880000gn/T/ipykernel_9994/1495711449.py:19: FutureWarning: Setting an item of incompatible dtype is deprecated and will raise an error in a future version of pandas. Value '-0.005126130720200274' has dtype incompatible with int64, please explicitly cast to a compatible dtype first.\n",
            "  input_df.at[0, col] = normalize_value(val, min_val, max_val)\n",
            "/var/folders/lb/824pdw_j27x5fbnfxl4hkx880000gn/T/ipykernel_9994/1495711449.py:19: FutureWarning: Setting an item of incompatible dtype is deprecated and will raise an error in a future version of pandas. Value '-0.005487402199517441' has dtype incompatible with int64, please explicitly cast to a compatible dtype first.\n",
            "  input_df.at[0, col] = normalize_value(val, min_val, max_val)\n",
            "/var/folders/lb/824pdw_j27x5fbnfxl4hkx880000gn/T/ipykernel_9994/1495711449.py:19: FutureWarning: Setting an item of incompatible dtype is deprecated and will raise an error in a future version of pandas. Value '-0.007976070874438277' has dtype incompatible with int64, please explicitly cast to a compatible dtype first.\n",
            "  input_df.at[0, col] = normalize_value(val, min_val, max_val)\n",
            "/var/folders/lb/824pdw_j27x5fbnfxl4hkx880000gn/T/ipykernel_9994/1495711449.py:19: FutureWarning: Setting an item of incompatible dtype is deprecated and will raise an error in a future version of pandas. Value '-0.015759602328546504' has dtype incompatible with int64, please explicitly cast to a compatible dtype first.\n",
            "  input_df.at[0, col] = normalize_value(val, min_val, max_val)\n",
            "/var/folders/lb/824pdw_j27x5fbnfxl4hkx880000gn/T/ipykernel_9994/1495711449.py:19: FutureWarning: Setting an item of incompatible dtype is deprecated and will raise an error in a future version of pandas. Value '-0.002274150181361423' has dtype incompatible with int64, please explicitly cast to a compatible dtype first.\n",
            "  input_df.at[0, col] = normalize_value(val, min_val, max_val)\n",
            "/var/folders/lb/824pdw_j27x5fbnfxl4hkx880000gn/T/ipykernel_9994/1495711449.py:19: FutureWarning: Setting an item of incompatible dtype is deprecated and will raise an error in a future version of pandas. Value '-0.010794867156665921' has dtype incompatible with int64, please explicitly cast to a compatible dtype first.\n",
            "  input_df.at[0, col] = normalize_value(val, min_val, max_val)\n",
            "/var/folders/lb/824pdw_j27x5fbnfxl4hkx880000gn/T/ipykernel_9994/1495711449.py:19: FutureWarning: Setting an item of incompatible dtype is deprecated and will raise an error in a future version of pandas. Value '-0.03023864166731199' has dtype incompatible with int64, please explicitly cast to a compatible dtype first.\n",
            "  input_df.at[0, col] = normalize_value(val, min_val, max_val)\n",
            "/var/folders/lb/824pdw_j27x5fbnfxl4hkx880000gn/T/ipykernel_9994/1495711449.py:19: FutureWarning: Setting an item of incompatible dtype is deprecated and will raise an error in a future version of pandas. Value '-0.007556073770879262' has dtype incompatible with int64, please explicitly cast to a compatible dtype first.\n",
            "  input_df.at[0, col] = normalize_value(val, min_val, max_val)\n",
            "/var/folders/lb/824pdw_j27x5fbnfxl4hkx880000gn/T/ipykernel_9994/1495711449.py:19: FutureWarning: Setting an item of incompatible dtype is deprecated and will raise an error in a future version of pandas. Value '-0.2' has dtype incompatible with int64, please explicitly cast to a compatible dtype first.\n",
            "  input_df.at[0, col] = normalize_value(val, min_val, max_val)\n",
            "/var/folders/lb/824pdw_j27x5fbnfxl4hkx880000gn/T/ipykernel_9994/1495711449.py:19: FutureWarning: Setting an item of incompatible dtype is deprecated and will raise an error in a future version of pandas. Value '-0.21023310214634547' has dtype incompatible with int64, please explicitly cast to a compatible dtype first.\n",
            "  input_df.at[0, col] = normalize_value(val, min_val, max_val)\n",
            "/var/folders/lb/824pdw_j27x5fbnfxl4hkx880000gn/T/ipykernel_9994/1495711449.py:19: FutureWarning: Setting an item of incompatible dtype is deprecated and will raise an error in a future version of pandas. Value '-0.0011389013407785958' has dtype incompatible with int64, please explicitly cast to a compatible dtype first.\n",
            "  input_df.at[0, col] = normalize_value(val, min_val, max_val)\n",
            "/var/folders/lb/824pdw_j27x5fbnfxl4hkx880000gn/T/ipykernel_9994/1495711449.py:19: FutureWarning: Setting an item of incompatible dtype is deprecated and will raise an error in a future version of pandas. Value '-0.0014529018987060258' has dtype incompatible with int64, please explicitly cast to a compatible dtype first.\n",
            "  input_df.at[0, col] = normalize_value(val, min_val, max_val)\n",
            "/var/folders/lb/824pdw_j27x5fbnfxl4hkx880000gn/T/ipykernel_9994/1495711449.py:19: FutureWarning: Setting an item of incompatible dtype is deprecated and will raise an error in a future version of pandas. Value '-0.00512736603737409' has dtype incompatible with int64, please explicitly cast to a compatible dtype first.\n",
            "  input_df.at[0, col] = normalize_value(val, min_val, max_val)\n",
            "/var/folders/lb/824pdw_j27x5fbnfxl4hkx880000gn/T/ipykernel_9994/1495711449.py:19: FutureWarning: Setting an item of incompatible dtype is deprecated and will raise an error in a future version of pandas. Value '-0.005400341906930703' has dtype incompatible with int64, please explicitly cast to a compatible dtype first.\n",
            "  input_df.at[0, col] = normalize_value(val, min_val, max_val)\n",
            "/var/folders/lb/824pdw_j27x5fbnfxl4hkx880000gn/T/ipykernel_9994/1495711449.py:19: FutureWarning: Setting an item of incompatible dtype is deprecated and will raise an error in a future version of pandas. Value '-0.007978903004544765' has dtype incompatible with int64, please explicitly cast to a compatible dtype first.\n",
            "  input_df.at[0, col] = normalize_value(val, min_val, max_val)\n",
            "/var/folders/lb/824pdw_j27x5fbnfxl4hkx880000gn/T/ipykernel_9994/1495711449.py:19: FutureWarning: Setting an item of incompatible dtype is deprecated and will raise an error in a future version of pandas. Value '-0.015766686920820748' has dtype incompatible with int64, please explicitly cast to a compatible dtype first.\n",
            "  input_df.at[0, col] = normalize_value(val, min_val, max_val)\n",
            "/var/folders/lb/824pdw_j27x5fbnfxl4hkx880000gn/T/ipykernel_9994/1495711449.py:19: FutureWarning: Setting an item of incompatible dtype is deprecated and will raise an error in a future version of pandas. Value '-0.002274628649651468' has dtype incompatible with int64, please explicitly cast to a compatible dtype first.\n",
            "  input_df.at[0, col] = normalize_value(val, min_val, max_val)\n",
            "/var/folders/lb/824pdw_j27x5fbnfxl4hkx880000gn/T/ipykernel_9994/1495711449.py:19: FutureWarning: Setting an item of incompatible dtype is deprecated and will raise an error in a future version of pandas. Value '-0.010792226302436035' has dtype incompatible with int64, please explicitly cast to a compatible dtype first.\n",
            "  input_df.at[0, col] = normalize_value(val, min_val, max_val)\n",
            "/var/folders/lb/824pdw_j27x5fbnfxl4hkx880000gn/T/ipykernel_9994/1495711449.py:19: FutureWarning: Setting an item of incompatible dtype is deprecated and will raise an error in a future version of pandas. Value '-0.03024224007843775' has dtype incompatible with int64, please explicitly cast to a compatible dtype first.\n",
            "  input_df.at[0, col] = normalize_value(val, min_val, max_val)\n",
            "/var/folders/lb/824pdw_j27x5fbnfxl4hkx880000gn/T/ipykernel_9994/1495711449.py:19: FutureWarning: Setting an item of incompatible dtype is deprecated and will raise an error in a future version of pandas. Value '-0.007625188365785682' has dtype incompatible with int64, please explicitly cast to a compatible dtype first.\n",
            "  input_df.at[0, col] = normalize_value(val, min_val, max_val)\n",
            "/var/folders/lb/824pdw_j27x5fbnfxl4hkx880000gn/T/ipykernel_9994/1495711449.py:19: FutureWarning: Setting an item of incompatible dtype is deprecated and will raise an error in a future version of pandas. Value '-0.2' has dtype incompatible with int64, please explicitly cast to a compatible dtype first.\n",
            "  input_df.at[0, col] = normalize_value(val, min_val, max_val)\n",
            "/var/folders/lb/824pdw_j27x5fbnfxl4hkx880000gn/T/ipykernel_9994/1495711449.py:19: FutureWarning: Setting an item of incompatible dtype is deprecated and will raise an error in a future version of pandas. Value '-0.21017447484595678' has dtype incompatible with int64, please explicitly cast to a compatible dtype first.\n",
            "  input_df.at[0, col] = normalize_value(val, min_val, max_val)\n",
            "/var/folders/lb/824pdw_j27x5fbnfxl4hkx880000gn/T/ipykernel_9994/1495711449.py:19: FutureWarning: Setting an item of incompatible dtype is deprecated and will raise an error in a future version of pandas. Value '-0.0011406490183418264' has dtype incompatible with int64, please explicitly cast to a compatible dtype first.\n",
            "  input_df.at[0, col] = normalize_value(val, min_val, max_val)\n",
            "/var/folders/lb/824pdw_j27x5fbnfxl4hkx880000gn/T/ipykernel_9994/1495711449.py:19: FutureWarning: Setting an item of incompatible dtype is deprecated and will raise an error in a future version of pandas. Value '-0.0014556678871539136' has dtype incompatible with int64, please explicitly cast to a compatible dtype first.\n",
            "  input_df.at[0, col] = normalize_value(val, min_val, max_val)\n",
            "/var/folders/lb/824pdw_j27x5fbnfxl4hkx880000gn/T/ipykernel_9994/1495711449.py:19: FutureWarning: Setting an item of incompatible dtype is deprecated and will raise an error in a future version of pandas. Value '-0.005127411516329295' has dtype incompatible with int64, please explicitly cast to a compatible dtype first.\n",
            "  input_df.at[0, col] = normalize_value(val, min_val, max_val)\n",
            "/var/folders/lb/824pdw_j27x5fbnfxl4hkx880000gn/T/ipykernel_9994/1495711449.py:19: FutureWarning: Setting an item of incompatible dtype is deprecated and will raise an error in a future version of pandas. Value '-0.005570910171688275' has dtype incompatible with int64, please explicitly cast to a compatible dtype first.\n",
            "  input_df.at[0, col] = normalize_value(val, min_val, max_val)\n",
            "/var/folders/lb/824pdw_j27x5fbnfxl4hkx880000gn/T/ipykernel_9994/1495711449.py:19: FutureWarning: Setting an item of incompatible dtype is deprecated and will raise an error in a future version of pandas. Value '-0.00797704742854931' has dtype incompatible with int64, please explicitly cast to a compatible dtype first.\n",
            "  input_df.at[0, col] = normalize_value(val, min_val, max_val)\n",
            "/var/folders/lb/824pdw_j27x5fbnfxl4hkx880000gn/T/ipykernel_9994/1495711449.py:19: FutureWarning: Setting an item of incompatible dtype is deprecated and will raise an error in a future version of pandas. Value '-0.015768886211456362' has dtype incompatible with int64, please explicitly cast to a compatible dtype first.\n",
            "  input_df.at[0, col] = normalize_value(val, min_val, max_val)\n",
            "/var/folders/lb/824pdw_j27x5fbnfxl4hkx880000gn/T/ipykernel_9994/1495711449.py:19: FutureWarning: Setting an item of incompatible dtype is deprecated and will raise an error in a future version of pandas. Value '-0.0022742184395449006' has dtype incompatible with int64, please explicitly cast to a compatible dtype first.\n",
            "  input_df.at[0, col] = normalize_value(val, min_val, max_val)\n",
            "/var/folders/lb/824pdw_j27x5fbnfxl4hkx880000gn/T/ipykernel_9994/1495711449.py:19: FutureWarning: Setting an item of incompatible dtype is deprecated and will raise an error in a future version of pandas. Value '-0.010803013010809473' has dtype incompatible with int64, please explicitly cast to a compatible dtype first.\n",
            "  input_df.at[0, col] = normalize_value(val, min_val, max_val)\n",
            "/var/folders/lb/824pdw_j27x5fbnfxl4hkx880000gn/T/ipykernel_9994/1495711449.py:19: FutureWarning: Setting an item of incompatible dtype is deprecated and will raise an error in a future version of pandas. Value '-0.0302432666192513' has dtype incompatible with int64, please explicitly cast to a compatible dtype first.\n",
            "  input_df.at[0, col] = normalize_value(val, min_val, max_val)\n",
            "/var/folders/lb/824pdw_j27x5fbnfxl4hkx880000gn/T/ipykernel_9994/1495711449.py:19: FutureWarning: Setting an item of incompatible dtype is deprecated and will raise an error in a future version of pandas. Value '-0.007651149381760688' has dtype incompatible with int64, please explicitly cast to a compatible dtype first.\n",
            "  input_df.at[0, col] = normalize_value(val, min_val, max_val)\n",
            "/var/folders/lb/824pdw_j27x5fbnfxl4hkx880000gn/T/ipykernel_9994/1495711449.py:19: FutureWarning: Setting an item of incompatible dtype is deprecated and will raise an error in a future version of pandas. Value '-0.2' has dtype incompatible with int64, please explicitly cast to a compatible dtype first.\n",
            "  input_df.at[0, col] = normalize_value(val, min_val, max_val)\n",
            "/var/folders/lb/824pdw_j27x5fbnfxl4hkx880000gn/T/ipykernel_9994/1495711449.py:19: FutureWarning: Setting an item of incompatible dtype is deprecated and will raise an error in a future version of pandas. Value '-0.21023603351136488' has dtype incompatible with int64, please explicitly cast to a compatible dtype first.\n",
            "  input_df.at[0, col] = normalize_value(val, min_val, max_val)\n",
            "/var/folders/lb/824pdw_j27x5fbnfxl4hkx880000gn/T/ipykernel_9994/1495711449.py:19: FutureWarning: Setting an item of incompatible dtype is deprecated and will raise an error in a future version of pandas. Value '-0.0011420176660925266' has dtype incompatible with int64, please explicitly cast to a compatible dtype first.\n",
            "  input_df.at[0, col] = normalize_value(val, min_val, max_val)\n",
            "/var/folders/lb/824pdw_j27x5fbnfxl4hkx880000gn/T/ipykernel_9994/1495711449.py:19: FutureWarning: Setting an item of incompatible dtype is deprecated and will raise an error in a future version of pandas. Value '-0.0014556947375049898' has dtype incompatible with int64, please explicitly cast to a compatible dtype first.\n",
            "  input_df.at[0, col] = normalize_value(val, min_val, max_val)\n",
            "/var/folders/lb/824pdw_j27x5fbnfxl4hkx880000gn/T/ipykernel_9994/1495711449.py:19: FutureWarning: Setting an item of incompatible dtype is deprecated and will raise an error in a future version of pandas. Value '-0.005124934302622298' has dtype incompatible with int64, please explicitly cast to a compatible dtype first.\n",
            "  input_df.at[0, col] = normalize_value(val, min_val, max_val)\n",
            "/var/folders/lb/824pdw_j27x5fbnfxl4hkx880000gn/T/ipykernel_9994/1495711449.py:19: FutureWarning: Setting an item of incompatible dtype is deprecated and will raise an error in a future version of pandas. Value '-0.005614574627645003' has dtype incompatible with int64, please explicitly cast to a compatible dtype first.\n",
            "  input_df.at[0, col] = normalize_value(val, min_val, max_val)\n",
            "/var/folders/lb/824pdw_j27x5fbnfxl4hkx880000gn/T/ipykernel_9994/1495711449.py:19: FutureWarning: Setting an item of incompatible dtype is deprecated and will raise an error in a future version of pandas. Value '-0.00797812082141865' has dtype incompatible with int64, please explicitly cast to a compatible dtype first.\n",
            "  input_df.at[0, col] = normalize_value(val, min_val, max_val)\n",
            "/var/folders/lb/824pdw_j27x5fbnfxl4hkx880000gn/T/ipykernel_9994/1495711449.py:19: FutureWarning: Setting an item of incompatible dtype is deprecated and will raise an error in a future version of pandas. Value '-0.01574874487740179' has dtype incompatible with int64, please explicitly cast to a compatible dtype first.\n",
            "  input_df.at[0, col] = normalize_value(val, min_val, max_val)\n",
            "/var/folders/lb/824pdw_j27x5fbnfxl4hkx880000gn/T/ipykernel_9994/1495711449.py:19: FutureWarning: Setting an item of incompatible dtype is deprecated and will raise an error in a future version of pandas. Value '-0.0022759853704855063' has dtype incompatible with int64, please explicitly cast to a compatible dtype first.\n",
            "  input_df.at[0, col] = normalize_value(val, min_val, max_val)\n",
            "/var/folders/lb/824pdw_j27x5fbnfxl4hkx880000gn/T/ipykernel_9994/1495711449.py:19: FutureWarning: Setting an item of incompatible dtype is deprecated and will raise an error in a future version of pandas. Value '-0.010804205230938512' has dtype incompatible with int64, please explicitly cast to a compatible dtype first.\n",
            "  input_df.at[0, col] = normalize_value(val, min_val, max_val)\n",
            "/var/folders/lb/824pdw_j27x5fbnfxl4hkx880000gn/T/ipykernel_9994/1495711449.py:19: FutureWarning: Setting an item of incompatible dtype is deprecated and will raise an error in a future version of pandas. Value '-0.030238736347704333' has dtype incompatible with int64, please explicitly cast to a compatible dtype first.\n",
            "  input_df.at[0, col] = normalize_value(val, min_val, max_val)\n",
            "/var/folders/lb/824pdw_j27x5fbnfxl4hkx880000gn/T/ipykernel_9994/1495711449.py:19: FutureWarning: Setting an item of incompatible dtype is deprecated and will raise an error in a future version of pandas. Value '-0.007618299997866094' has dtype incompatible with int64, please explicitly cast to a compatible dtype first.\n",
            "  input_df.at[0, col] = normalize_value(val, min_val, max_val)\n",
            "/var/folders/lb/824pdw_j27x5fbnfxl4hkx880000gn/T/ipykernel_9994/1495711449.py:19: FutureWarning: Setting an item of incompatible dtype is deprecated and will raise an error in a future version of pandas. Value '-0.2' has dtype incompatible with int64, please explicitly cast to a compatible dtype first.\n",
            "  input_df.at[0, col] = normalize_value(val, min_val, max_val)\n",
            "/var/folders/lb/824pdw_j27x5fbnfxl4hkx880000gn/T/ipykernel_9994/1495711449.py:19: FutureWarning: Setting an item of incompatible dtype is deprecated and will raise an error in a future version of pandas. Value '-0.21048959658554603' has dtype incompatible with int64, please explicitly cast to a compatible dtype first.\n",
            "  input_df.at[0, col] = normalize_value(val, min_val, max_val)\n",
            "/var/folders/lb/824pdw_j27x5fbnfxl4hkx880000gn/T/ipykernel_9994/1495711449.py:19: FutureWarning: Setting an item of incompatible dtype is deprecated and will raise an error in a future version of pandas. Value '-0.0011418030621462164' has dtype incompatible with int64, please explicitly cast to a compatible dtype first.\n",
            "  input_df.at[0, col] = normalize_value(val, min_val, max_val)\n",
            "/var/folders/lb/824pdw_j27x5fbnfxl4hkx880000gn/T/ipykernel_9994/1495711449.py:19: FutureWarning: Setting an item of incompatible dtype is deprecated and will raise an error in a future version of pandas. Value '-0.0014559391989539352' has dtype incompatible with int64, please explicitly cast to a compatible dtype first.\n",
            "  input_df.at[0, col] = normalize_value(val, min_val, max_val)\n",
            "/var/folders/lb/824pdw_j27x5fbnfxl4hkx880000gn/T/ipykernel_9994/1495711449.py:19: FutureWarning: Setting an item of incompatible dtype is deprecated and will raise an error in a future version of pandas. Value '-0.005127815894238841' has dtype incompatible with int64, please explicitly cast to a compatible dtype first.\n",
            "  input_df.at[0, col] = normalize_value(val, min_val, max_val)\n",
            "/var/folders/lb/824pdw_j27x5fbnfxl4hkx880000gn/T/ipykernel_9994/1495711449.py:19: FutureWarning: Setting an item of incompatible dtype is deprecated and will raise an error in a future version of pandas. Value '-0.005620133144468626' has dtype incompatible with int64, please explicitly cast to a compatible dtype first.\n",
            "  input_df.at[0, col] = normalize_value(val, min_val, max_val)\n",
            "/var/folders/lb/824pdw_j27x5fbnfxl4hkx880000gn/T/ipykernel_9994/1495711449.py:19: FutureWarning: Setting an item of incompatible dtype is deprecated and will raise an error in a future version of pandas. Value '-0.00797809599665667' has dtype incompatible with int64, please explicitly cast to a compatible dtype first.\n",
            "  input_df.at[0, col] = normalize_value(val, min_val, max_val)\n",
            "/var/folders/lb/824pdw_j27x5fbnfxl4hkx880000gn/T/ipykernel_9994/1495711449.py:19: FutureWarning: Setting an item of incompatible dtype is deprecated and will raise an error in a future version of pandas. Value '-0.015769563119067624' has dtype incompatible with int64, please explicitly cast to a compatible dtype first.\n",
            "  input_df.at[0, col] = normalize_value(val, min_val, max_val)\n",
            "/var/folders/lb/824pdw_j27x5fbnfxl4hkx880000gn/T/ipykernel_9994/1495711449.py:19: FutureWarning: Setting an item of incompatible dtype is deprecated and will raise an error in a future version of pandas. Value '-0.0022764176137220486' has dtype incompatible with int64, please explicitly cast to a compatible dtype first.\n",
            "  input_df.at[0, col] = normalize_value(val, min_val, max_val)\n",
            "/var/folders/lb/824pdw_j27x5fbnfxl4hkx880000gn/T/ipykernel_9994/1495711449.py:19: FutureWarning: Setting an item of incompatible dtype is deprecated and will raise an error in a future version of pandas. Value '-0.010804089922988067' has dtype incompatible with int64, please explicitly cast to a compatible dtype first.\n",
            "  input_df.at[0, col] = normalize_value(val, min_val, max_val)\n",
            "/var/folders/lb/824pdw_j27x5fbnfxl4hkx880000gn/T/ipykernel_9994/1495711449.py:19: FutureWarning: Setting an item of incompatible dtype is deprecated and will raise an error in a future version of pandas. Value '-0.030243652047044302' has dtype incompatible with int64, please explicitly cast to a compatible dtype first.\n",
            "  input_df.at[0, col] = normalize_value(val, min_val, max_val)\n",
            "/var/folders/lb/824pdw_j27x5fbnfxl4hkx880000gn/T/ipykernel_9994/1495711449.py:19: FutureWarning: Setting an item of incompatible dtype is deprecated and will raise an error in a future version of pandas. Value '-0.007649677651239528' has dtype incompatible with int64, please explicitly cast to a compatible dtype first.\n",
            "  input_df.at[0, col] = normalize_value(val, min_val, max_val)\n",
            "/var/folders/lb/824pdw_j27x5fbnfxl4hkx880000gn/T/ipykernel_9994/1495711449.py:19: FutureWarning: Setting an item of incompatible dtype is deprecated and will raise an error in a future version of pandas. Value '-0.2' has dtype incompatible with int64, please explicitly cast to a compatible dtype first.\n",
            "  input_df.at[0, col] = normalize_value(val, min_val, max_val)\n",
            "/var/folders/lb/824pdw_j27x5fbnfxl4hkx880000gn/T/ipykernel_9994/1495711449.py:19: FutureWarning: Setting an item of incompatible dtype is deprecated and will raise an error in a future version of pandas. Value '-0.21019646008360252' has dtype incompatible with int64, please explicitly cast to a compatible dtype first.\n",
            "  input_df.at[0, col] = normalize_value(val, min_val, max_val)\n",
            "/var/folders/lb/824pdw_j27x5fbnfxl4hkx880000gn/T/ipykernel_9994/1495711449.py:19: FutureWarning: Setting an item of incompatible dtype is deprecated and will raise an error in a future version of pandas. Value '-0.0011419961627222783' has dtype incompatible with int64, please explicitly cast to a compatible dtype first.\n",
            "  input_df.at[0, col] = normalize_value(val, min_val, max_val)\n",
            "/var/folders/lb/824pdw_j27x5fbnfxl4hkx880000gn/T/ipykernel_9994/1495711449.py:19: FutureWarning: Setting an item of incompatible dtype is deprecated and will raise an error in a future version of pandas. Value '-0.0014555723969837567' has dtype incompatible with int64, please explicitly cast to a compatible dtype first.\n",
            "  input_df.at[0, col] = normalize_value(val, min_val, max_val)\n",
            "/var/folders/lb/824pdw_j27x5fbnfxl4hkx880000gn/T/ipykernel_9994/1495711449.py:19: FutureWarning: Setting an item of incompatible dtype is deprecated and will raise an error in a future version of pandas. Value '-0.005124980410526142' has dtype incompatible with int64, please explicitly cast to a compatible dtype first.\n",
            "  input_df.at[0, col] = normalize_value(val, min_val, max_val)\n",
            "/var/folders/lb/824pdw_j27x5fbnfxl4hkx880000gn/T/ipykernel_9994/1495711449.py:19: FutureWarning: Setting an item of incompatible dtype is deprecated and will raise an error in a future version of pandas. Value '-0.005582009959656291' has dtype incompatible with int64, please explicitly cast to a compatible dtype first.\n",
            "  input_df.at[0, col] = normalize_value(val, min_val, max_val)\n",
            "/var/folders/lb/824pdw_j27x5fbnfxl4hkx880000gn/T/ipykernel_9994/1495711449.py:19: FutureWarning: Setting an item of incompatible dtype is deprecated and will raise an error in a future version of pandas. Value '-0.007977997138168436' has dtype incompatible with int64, please explicitly cast to a compatible dtype first.\n",
            "  input_df.at[0, col] = normalize_value(val, min_val, max_val)\n",
            "/var/folders/lb/824pdw_j27x5fbnfxl4hkx880000gn/T/ipykernel_9994/1495711449.py:19: FutureWarning: Setting an item of incompatible dtype is deprecated and will raise an error in a future version of pandas. Value '-0.015748855230102728' has dtype incompatible with int64, please explicitly cast to a compatible dtype first.\n",
            "  input_df.at[0, col] = normalize_value(val, min_val, max_val)\n",
            "/var/folders/lb/824pdw_j27x5fbnfxl4hkx880000gn/T/ipykernel_9994/1495711449.py:19: FutureWarning: Setting an item of incompatible dtype is deprecated and will raise an error in a future version of pandas. Value '-0.0022759590540150022' has dtype incompatible with int64, please explicitly cast to a compatible dtype first.\n",
            "  input_df.at[0, col] = normalize_value(val, min_val, max_val)\n",
            "/var/folders/lb/824pdw_j27x5fbnfxl4hkx880000gn/T/ipykernel_9994/1495711449.py:19: FutureWarning: Setting an item of incompatible dtype is deprecated and will raise an error in a future version of pandas. Value '-0.01080241102583877' has dtype incompatible with int64, please explicitly cast to a compatible dtype first.\n",
            "  input_df.at[0, col] = normalize_value(val, min_val, max_val)\n",
            "/var/folders/lb/824pdw_j27x5fbnfxl4hkx880000gn/T/ipykernel_9994/1495711449.py:19: FutureWarning: Setting an item of incompatible dtype is deprecated and will raise an error in a future version of pandas. Value '-0.03023883161235404' has dtype incompatible with int64, please explicitly cast to a compatible dtype first.\n",
            "  input_df.at[0, col] = normalize_value(val, min_val, max_val)\n",
            "/var/folders/lb/824pdw_j27x5fbnfxl4hkx880000gn/T/ipykernel_9994/1495711449.py:19: FutureWarning: Setting an item of incompatible dtype is deprecated and will raise an error in a future version of pandas. Value '-0.007616636759393075' has dtype incompatible with int64, please explicitly cast to a compatible dtype first.\n",
            "  input_df.at[0, col] = normalize_value(val, min_val, max_val)\n",
            "/var/folders/lb/824pdw_j27x5fbnfxl4hkx880000gn/T/ipykernel_9994/1495711449.py:19: FutureWarning: Setting an item of incompatible dtype is deprecated and will raise an error in a future version of pandas. Value '-0.2' has dtype incompatible with int64, please explicitly cast to a compatible dtype first.\n",
            "  input_df.at[0, col] = normalize_value(val, min_val, max_val)\n",
            "/var/folders/lb/824pdw_j27x5fbnfxl4hkx880000gn/T/ipykernel_9994/1495711449.py:19: FutureWarning: Setting an item of incompatible dtype is deprecated and will raise an error in a future version of pandas. Value '-0.21018620030603452' has dtype incompatible with int64, please explicitly cast to a compatible dtype first.\n",
            "  input_df.at[0, col] = normalize_value(val, min_val, max_val)\n",
            "/var/folders/lb/824pdw_j27x5fbnfxl4hkx880000gn/T/ipykernel_9994/1495711449.py:19: FutureWarning: Setting an item of incompatible dtype is deprecated and will raise an error in a future version of pandas. Value '-0.0011404873489476491' has dtype incompatible with int64, please explicitly cast to a compatible dtype first.\n",
            "  input_df.at[0, col] = normalize_value(val, min_val, max_val)\n",
            "/var/folders/lb/824pdw_j27x5fbnfxl4hkx880000gn/T/ipykernel_9994/1495711449.py:19: FutureWarning: Setting an item of incompatible dtype is deprecated and will raise an error in a future version of pandas. Value '-0.0014547782614431543' has dtype incompatible with int64, please explicitly cast to a compatible dtype first.\n",
            "  input_df.at[0, col] = normalize_value(val, min_val, max_val)\n",
            "/var/folders/lb/824pdw_j27x5fbnfxl4hkx880000gn/T/ipykernel_9994/1495711449.py:19: FutureWarning: Setting an item of incompatible dtype is deprecated and will raise an error in a future version of pandas. Value '-0.005127557182139281' has dtype incompatible with int64, please explicitly cast to a compatible dtype first.\n",
            "  input_df.at[0, col] = normalize_value(val, min_val, max_val)\n",
            "/var/folders/lb/824pdw_j27x5fbnfxl4hkx880000gn/T/ipykernel_9994/1495711449.py:19: FutureWarning: Setting an item of incompatible dtype is deprecated and will raise an error in a future version of pandas. Value '-0.005544270373048596' has dtype incompatible with int64, please explicitly cast to a compatible dtype first.\n",
            "  input_df.at[0, col] = normalize_value(val, min_val, max_val)\n",
            "/var/folders/lb/824pdw_j27x5fbnfxl4hkx880000gn/T/ipykernel_9994/1495711449.py:19: FutureWarning: Setting an item of incompatible dtype is deprecated and will raise an error in a future version of pandas. Value '-0.0079786697976268' has dtype incompatible with int64, please explicitly cast to a compatible dtype first.\n",
            "  input_df.at[0, col] = normalize_value(val, min_val, max_val)\n",
            "/var/folders/lb/824pdw_j27x5fbnfxl4hkx880000gn/T/ipykernel_9994/1495711449.py:19: FutureWarning: Setting an item of incompatible dtype is deprecated and will raise an error in a future version of pandas. Value '-0.015766465588018145' has dtype incompatible with int64, please explicitly cast to a compatible dtype first.\n",
            "  input_df.at[0, col] = normalize_value(val, min_val, max_val)\n",
            "/var/folders/lb/824pdw_j27x5fbnfxl4hkx880000gn/T/ipykernel_9994/1495711449.py:19: FutureWarning: Setting an item of incompatible dtype is deprecated and will raise an error in a future version of pandas. Value '-0.0022747584790252205' has dtype incompatible with int64, please explicitly cast to a compatible dtype first.\n",
            "  input_df.at[0, col] = normalize_value(val, min_val, max_val)\n",
            "/var/folders/lb/824pdw_j27x5fbnfxl4hkx880000gn/T/ipykernel_9994/1495711449.py:19: FutureWarning: Setting an item of incompatible dtype is deprecated and will raise an error in a future version of pandas. Value '-0.010791732697148207' has dtype incompatible with int64, please explicitly cast to a compatible dtype first.\n",
            "  input_df.at[0, col] = normalize_value(val, min_val, max_val)\n",
            "/var/folders/lb/824pdw_j27x5fbnfxl4hkx880000gn/T/ipykernel_9994/1495711449.py:19: FutureWarning: Setting an item of incompatible dtype is deprecated and will raise an error in a future version of pandas. Value '-0.030244538938902884' has dtype incompatible with int64, please explicitly cast to a compatible dtype first.\n",
            "  input_df.at[0, col] = normalize_value(val, min_val, max_val)\n",
            "/var/folders/lb/824pdw_j27x5fbnfxl4hkx880000gn/T/ipykernel_9994/1495711449.py:19: FutureWarning: Setting an item of incompatible dtype is deprecated and will raise an error in a future version of pandas. Value '-0.00762722366388088' has dtype incompatible with int64, please explicitly cast to a compatible dtype first.\n",
            "  input_df.at[0, col] = normalize_value(val, min_val, max_val)\n",
            "/var/folders/lb/824pdw_j27x5fbnfxl4hkx880000gn/T/ipykernel_9994/1495711449.py:19: FutureWarning: Setting an item of incompatible dtype is deprecated and will raise an error in a future version of pandas. Value '-0.2' has dtype incompatible with int64, please explicitly cast to a compatible dtype first.\n",
            "  input_df.at[0, col] = normalize_value(val, min_val, max_val)\n",
            "/var/folders/lb/824pdw_j27x5fbnfxl4hkx880000gn/T/ipykernel_9994/1495711449.py:19: FutureWarning: Setting an item of incompatible dtype is deprecated and will raise an error in a future version of pandas. Value '-0.2103093176368508' has dtype incompatible with int64, please explicitly cast to a compatible dtype first.\n",
            "  input_df.at[0, col] = normalize_value(val, min_val, max_val)\n",
            "/var/folders/lb/824pdw_j27x5fbnfxl4hkx880000gn/T/ipykernel_9994/1495711449.py:19: FutureWarning: Setting an item of incompatible dtype is deprecated and will raise an error in a future version of pandas. Value '-0.001141806797647049' has dtype incompatible with int64, please explicitly cast to a compatible dtype first.\n",
            "  input_df.at[0, col] = normalize_value(val, min_val, max_val)\n",
            "/var/folders/lb/824pdw_j27x5fbnfxl4hkx880000gn/T/ipykernel_9994/1495711449.py:19: FutureWarning: Setting an item of incompatible dtype is deprecated and will raise an error in a future version of pandas. Value '-0.0014553152662986307' has dtype incompatible with int64, please explicitly cast to a compatible dtype first.\n",
            "  input_df.at[0, col] = normalize_value(val, min_val, max_val)\n",
            "/var/folders/lb/824pdw_j27x5fbnfxl4hkx880000gn/T/ipykernel_9994/1495711449.py:19: FutureWarning: Setting an item of incompatible dtype is deprecated and will raise an error in a future version of pandas. Value '-0.005125048616132429' has dtype incompatible with int64, please explicitly cast to a compatible dtype first.\n",
            "  input_df.at[0, col] = normalize_value(val, min_val, max_val)\n",
            "/var/folders/lb/824pdw_j27x5fbnfxl4hkx880000gn/T/ipykernel_9994/1495711449.py:19: FutureWarning: Setting an item of incompatible dtype is deprecated and will raise an error in a future version of pandas. Value '-0.005466683527995502' has dtype incompatible with int64, please explicitly cast to a compatible dtype first.\n",
            "  input_df.at[0, col] = normalize_value(val, min_val, max_val)\n",
            "/var/folders/lb/824pdw_j27x5fbnfxl4hkx880000gn/T/ipykernel_9994/1495711449.py:19: FutureWarning: Setting an item of incompatible dtype is deprecated and will raise an error in a future version of pandas. Value '-0.00797871099171717' has dtype incompatible with int64, please explicitly cast to a compatible dtype first.\n",
            "  input_df.at[0, col] = normalize_value(val, min_val, max_val)\n",
            "/var/folders/lb/824pdw_j27x5fbnfxl4hkx880000gn/T/ipykernel_9994/1495711449.py:19: FutureWarning: Setting an item of incompatible dtype is deprecated and will raise an error in a future version of pandas. Value '-0.015748566631484908' has dtype incompatible with int64, please explicitly cast to a compatible dtype first.\n",
            "  input_df.at[0, col] = normalize_value(val, min_val, max_val)\n",
            "/var/folders/lb/824pdw_j27x5fbnfxl4hkx880000gn/T/ipykernel_9994/1495711449.py:19: FutureWarning: Setting an item of incompatible dtype is deprecated and will raise an error in a future version of pandas. Value '-0.0022762695127433136' has dtype incompatible with int64, please explicitly cast to a compatible dtype first.\n",
            "  input_df.at[0, col] = normalize_value(val, min_val, max_val)\n",
            "/var/folders/lb/824pdw_j27x5fbnfxl4hkx880000gn/T/ipykernel_9994/1495711449.py:19: FutureWarning: Setting an item of incompatible dtype is deprecated and will raise an error in a future version of pandas. Value '-0.01080330820860307' has dtype incompatible with int64, please explicitly cast to a compatible dtype first.\n",
            "  input_df.at[0, col] = normalize_value(val, min_val, max_val)\n",
            "/var/folders/lb/824pdw_j27x5fbnfxl4hkx880000gn/T/ipykernel_9994/1495711449.py:19: FutureWarning: Setting an item of incompatible dtype is deprecated and will raise an error in a future version of pandas. Value '-0.030238691875355245' has dtype incompatible with int64, please explicitly cast to a compatible dtype first.\n",
            "  input_df.at[0, col] = normalize_value(val, min_val, max_val)\n",
            "/var/folders/lb/824pdw_j27x5fbnfxl4hkx880000gn/T/ipykernel_9994/1495711449.py:19: FutureWarning: Setting an item of incompatible dtype is deprecated and will raise an error in a future version of pandas. Value '-0.007635838711274063' has dtype incompatible with int64, please explicitly cast to a compatible dtype first.\n",
            "  input_df.at[0, col] = normalize_value(val, min_val, max_val)\n",
            "/var/folders/lb/824pdw_j27x5fbnfxl4hkx880000gn/T/ipykernel_9994/1495711449.py:19: FutureWarning: Setting an item of incompatible dtype is deprecated and will raise an error in a future version of pandas. Value '-0.039999999999999994' has dtype incompatible with int64, please explicitly cast to a compatible dtype first.\n",
            "  input_df.at[0, col] = normalize_value(val, min_val, max_val)\n",
            "/var/folders/lb/824pdw_j27x5fbnfxl4hkx880000gn/T/ipykernel_9994/1495711449.py:19: FutureWarning: Setting an item of incompatible dtype is deprecated and will raise an error in a future version of pandas. Value '-0.21006308297521822' has dtype incompatible with int64, please explicitly cast to a compatible dtype first.\n",
            "  input_df.at[0, col] = normalize_value(val, min_val, max_val)\n",
            "/var/folders/lb/824pdw_j27x5fbnfxl4hkx880000gn/T/ipykernel_9994/1495711449.py:19: FutureWarning: Setting an item of incompatible dtype is deprecated and will raise an error in a future version of pandas. Value '-0.001141109647286755' has dtype incompatible with int64, please explicitly cast to a compatible dtype first.\n",
            "  input_df.at[0, col] = normalize_value(val, min_val, max_val)\n",
            "/var/folders/lb/824pdw_j27x5fbnfxl4hkx880000gn/T/ipykernel_9994/1495711449.py:19: FutureWarning: Setting an item of incompatible dtype is deprecated and will raise an error in a future version of pandas. Value '-0.0014554817009047052' has dtype incompatible with int64, please explicitly cast to a compatible dtype first.\n",
            "  input_df.at[0, col] = normalize_value(val, min_val, max_val)\n",
            "/var/folders/lb/824pdw_j27x5fbnfxl4hkx880000gn/T/ipykernel_9994/1495711449.py:19: FutureWarning: Setting an item of incompatible dtype is deprecated and will raise an error in a future version of pandas. Value '-0.0051279318735616974' has dtype incompatible with int64, please explicitly cast to a compatible dtype first.\n",
            "  input_df.at[0, col] = normalize_value(val, min_val, max_val)\n",
            "/var/folders/lb/824pdw_j27x5fbnfxl4hkx880000gn/T/ipykernel_9994/1495711449.py:19: FutureWarning: Setting an item of incompatible dtype is deprecated and will raise an error in a future version of pandas. Value '-0.0054737312043429505' has dtype incompatible with int64, please explicitly cast to a compatible dtype first.\n",
            "  input_df.at[0, col] = normalize_value(val, min_val, max_val)\n",
            "/var/folders/lb/824pdw_j27x5fbnfxl4hkx880000gn/T/ipykernel_9994/1495711449.py:19: FutureWarning: Setting an item of incompatible dtype is deprecated and will raise an error in a future version of pandas. Value '-0.007976339467619177' has dtype incompatible with int64, please explicitly cast to a compatible dtype first.\n",
            "  input_df.at[0, col] = normalize_value(val, min_val, max_val)\n",
            "/var/folders/lb/824pdw_j27x5fbnfxl4hkx880000gn/T/ipykernel_9994/1495711449.py:19: FutureWarning: Setting an item of incompatible dtype is deprecated and will raise an error in a future version of pandas. Value '-0.01577058722426342' has dtype incompatible with int64, please explicitly cast to a compatible dtype first.\n",
            "  input_df.at[0, col] = normalize_value(val, min_val, max_val)\n",
            "/var/folders/lb/824pdw_j27x5fbnfxl4hkx880000gn/T/ipykernel_9994/1495711449.py:19: FutureWarning: Setting an item of incompatible dtype is deprecated and will raise an error in a future version of pandas. Value '-0.002274462356641462' has dtype incompatible with int64, please explicitly cast to a compatible dtype first.\n",
            "  input_df.at[0, col] = normalize_value(val, min_val, max_val)\n",
            "/var/folders/lb/824pdw_j27x5fbnfxl4hkx880000gn/T/ipykernel_9994/1495711449.py:19: FutureWarning: Setting an item of incompatible dtype is deprecated and will raise an error in a future version of pandas. Value '-0.010799588578824031' has dtype incompatible with int64, please explicitly cast to a compatible dtype first.\n",
            "  input_df.at[0, col] = normalize_value(val, min_val, max_val)\n",
            "/var/folders/lb/824pdw_j27x5fbnfxl4hkx880000gn/T/ipykernel_9994/1495711449.py:19: FutureWarning: Setting an item of incompatible dtype is deprecated and will raise an error in a future version of pandas. Value '-0.030239642449932918' has dtype incompatible with int64, please explicitly cast to a compatible dtype first.\n",
            "  input_df.at[0, col] = normalize_value(val, min_val, max_val)\n",
            "/var/folders/lb/824pdw_j27x5fbnfxl4hkx880000gn/T/ipykernel_9994/1495711449.py:19: FutureWarning: Setting an item of incompatible dtype is deprecated and will raise an error in a future version of pandas. Value '-0.0076497878163607445' has dtype incompatible with int64, please explicitly cast to a compatible dtype first.\n",
            "  input_df.at[0, col] = normalize_value(val, min_val, max_val)\n",
            "/var/folders/lb/824pdw_j27x5fbnfxl4hkx880000gn/T/ipykernel_9994/1495711449.py:19: FutureWarning: Setting an item of incompatible dtype is deprecated and will raise an error in a future version of pandas. Value '-0.2' has dtype incompatible with int64, please explicitly cast to a compatible dtype first.\n",
            "  input_df.at[0, col] = normalize_value(val, min_val, max_val)\n",
            "/var/folders/lb/824pdw_j27x5fbnfxl4hkx880000gn/T/ipykernel_9994/1495711449.py:19: FutureWarning: Setting an item of incompatible dtype is deprecated and will raise an error in a future version of pandas. Value '-0.21005722024517937' has dtype incompatible with int64, please explicitly cast to a compatible dtype first.\n",
            "  input_df.at[0, col] = normalize_value(val, min_val, max_val)\n",
            "/var/folders/lb/824pdw_j27x5fbnfxl4hkx880000gn/T/ipykernel_9994/1495711449.py:19: FutureWarning: Setting an item of incompatible dtype is deprecated and will raise an error in a future version of pandas. Value '-0.0011394073216162725' has dtype incompatible with int64, please explicitly cast to a compatible dtype first.\n",
            "  input_df.at[0, col] = normalize_value(val, min_val, max_val)\n",
            "/var/folders/lb/824pdw_j27x5fbnfxl4hkx880000gn/T/ipykernel_9994/1495711449.py:19: FutureWarning: Setting an item of incompatible dtype is deprecated and will raise an error in a future version of pandas. Value '-0.0014535761987455279' has dtype incompatible with int64, please explicitly cast to a compatible dtype first.\n",
            "  input_df.at[0, col] = normalize_value(val, min_val, max_val)\n",
            "/var/folders/lb/824pdw_j27x5fbnfxl4hkx880000gn/T/ipykernel_9994/1495711449.py:19: FutureWarning: Setting an item of incompatible dtype is deprecated and will raise an error in a future version of pandas. Value '-0.0051263653366311595' has dtype incompatible with int64, please explicitly cast to a compatible dtype first.\n",
            "  input_df.at[0, col] = normalize_value(val, min_val, max_val)\n",
            "/var/folders/lb/824pdw_j27x5fbnfxl4hkx880000gn/T/ipykernel_9994/1495711449.py:19: FutureWarning: Setting an item of incompatible dtype is deprecated and will raise an error in a future version of pandas. Value '-0.005576892834139186' has dtype incompatible with int64, please explicitly cast to a compatible dtype first.\n",
            "  input_df.at[0, col] = normalize_value(val, min_val, max_val)\n",
            "/var/folders/lb/824pdw_j27x5fbnfxl4hkx880000gn/T/ipykernel_9994/1495711449.py:19: FutureWarning: Setting an item of incompatible dtype is deprecated and will raise an error in a future version of pandas. Value '-0.007975165067263004' has dtype incompatible with int64, please explicitly cast to a compatible dtype first.\n",
            "  input_df.at[0, col] = normalize_value(val, min_val, max_val)\n",
            "/var/folders/lb/824pdw_j27x5fbnfxl4hkx880000gn/T/ipykernel_9994/1495711449.py:19: FutureWarning: Setting an item of incompatible dtype is deprecated and will raise an error in a future version of pandas. Value '-0.01576221467727173' has dtype incompatible with int64, please explicitly cast to a compatible dtype first.\n",
            "  input_df.at[0, col] = normalize_value(val, min_val, max_val)\n",
            "/var/folders/lb/824pdw_j27x5fbnfxl4hkx880000gn/T/ipykernel_9994/1495711449.py:19: FutureWarning: Setting an item of incompatible dtype is deprecated and will raise an error in a future version of pandas. Value '-0.0022735515825842737' has dtype incompatible with int64, please explicitly cast to a compatible dtype first.\n",
            "  input_df.at[0, col] = normalize_value(val, min_val, max_val)\n",
            "/var/folders/lb/824pdw_j27x5fbnfxl4hkx880000gn/T/ipykernel_9994/1495711449.py:19: FutureWarning: Setting an item of incompatible dtype is deprecated and will raise an error in a future version of pandas. Value '-0.010804246881979668' has dtype incompatible with int64, please explicitly cast to a compatible dtype first.\n",
            "  input_df.at[0, col] = normalize_value(val, min_val, max_val)\n",
            "/var/folders/lb/824pdw_j27x5fbnfxl4hkx880000gn/T/ipykernel_9994/1495711449.py:19: FutureWarning: Setting an item of incompatible dtype is deprecated and will raise an error in a future version of pandas. Value '-0.030239042782292558' has dtype incompatible with int64, please explicitly cast to a compatible dtype first.\n",
            "  input_df.at[0, col] = normalize_value(val, min_val, max_val)\n",
            "/var/folders/lb/824pdw_j27x5fbnfxl4hkx880000gn/T/ipykernel_9994/1495711449.py:19: FutureWarning: Setting an item of incompatible dtype is deprecated and will raise an error in a future version of pandas. Value '-0.007565786368406628' has dtype incompatible with int64, please explicitly cast to a compatible dtype first.\n",
            "  input_df.at[0, col] = normalize_value(val, min_val, max_val)\n",
            "/var/folders/lb/824pdw_j27x5fbnfxl4hkx880000gn/T/ipykernel_9994/1495711449.py:19: FutureWarning: Setting an item of incompatible dtype is deprecated and will raise an error in a future version of pandas. Value '-0.2' has dtype incompatible with int64, please explicitly cast to a compatible dtype first.\n",
            "  input_df.at[0, col] = normalize_value(val, min_val, max_val)\n",
            "/var/folders/lb/824pdw_j27x5fbnfxl4hkx880000gn/T/ipykernel_9994/1495711449.py:19: FutureWarning: Setting an item of incompatible dtype is deprecated and will raise an error in a future version of pandas. Value '-0.21050132204562377' has dtype incompatible with int64, please explicitly cast to a compatible dtype first.\n",
            "  input_df.at[0, col] = normalize_value(val, min_val, max_val)\n",
            "/var/folders/lb/824pdw_j27x5fbnfxl4hkx880000gn/T/ipykernel_9994/1495711449.py:19: FutureWarning: Setting an item of incompatible dtype is deprecated and will raise an error in a future version of pandas. Value '-0.0011418060611376054' has dtype incompatible with int64, please explicitly cast to a compatible dtype first.\n",
            "  input_df.at[0, col] = normalize_value(val, min_val, max_val)\n",
            "/var/folders/lb/824pdw_j27x5fbnfxl4hkx880000gn/T/ipykernel_9994/1495711449.py:19: FutureWarning: Setting an item of incompatible dtype is deprecated and will raise an error in a future version of pandas. Value '-0.0014551614336806515' has dtype incompatible with int64, please explicitly cast to a compatible dtype first.\n",
            "  input_df.at[0, col] = normalize_value(val, min_val, max_val)\n",
            "/var/folders/lb/824pdw_j27x5fbnfxl4hkx880000gn/T/ipykernel_9994/1495711449.py:19: FutureWarning: Setting an item of incompatible dtype is deprecated and will raise an error in a future version of pandas. Value '-0.005124717118077722' has dtype incompatible with int64, please explicitly cast to a compatible dtype first.\n",
            "  input_df.at[0, col] = normalize_value(val, min_val, max_val)\n",
            "/var/folders/lb/824pdw_j27x5fbnfxl4hkx880000gn/T/ipykernel_9994/1495711449.py:19: FutureWarning: Setting an item of incompatible dtype is deprecated and will raise an error in a future version of pandas. Value '-0.0055115072901500495' has dtype incompatible with int64, please explicitly cast to a compatible dtype first.\n",
            "  input_df.at[0, col] = normalize_value(val, min_val, max_val)\n",
            "/var/folders/lb/824pdw_j27x5fbnfxl4hkx880000gn/T/ipykernel_9994/1495711449.py:19: FutureWarning: Setting an item of incompatible dtype is deprecated and will raise an error in a future version of pandas. Value '-0.007978380285670196' has dtype incompatible with int64, please explicitly cast to a compatible dtype first.\n",
            "  input_df.at[0, col] = normalize_value(val, min_val, max_val)\n",
            "/var/folders/lb/824pdw_j27x5fbnfxl4hkx880000gn/T/ipykernel_9994/1495711449.py:19: FutureWarning: Setting an item of incompatible dtype is deprecated and will raise an error in a future version of pandas. Value '-0.015747717314678056' has dtype incompatible with int64, please explicitly cast to a compatible dtype first.\n",
            "  input_df.at[0, col] = normalize_value(val, min_val, max_val)\n",
            "/var/folders/lb/824pdw_j27x5fbnfxl4hkx880000gn/T/ipykernel_9994/1495711449.py:19: FutureWarning: Setting an item of incompatible dtype is deprecated and will raise an error in a future version of pandas. Value '-0.002275847062680205' has dtype incompatible with int64, please explicitly cast to a compatible dtype first.\n",
            "  input_df.at[0, col] = normalize_value(val, min_val, max_val)\n",
            "/var/folders/lb/824pdw_j27x5fbnfxl4hkx880000gn/T/ipykernel_9994/1495711449.py:19: FutureWarning: Setting an item of incompatible dtype is deprecated and will raise an error in a future version of pandas. Value '-0.010802181209997801' has dtype incompatible with int64, please explicitly cast to a compatible dtype first.\n",
            "  input_df.at[0, col] = normalize_value(val, min_val, max_val)\n",
            "/var/folders/lb/824pdw_j27x5fbnfxl4hkx880000gn/T/ipykernel_9994/1495711449.py:19: FutureWarning: Setting an item of incompatible dtype is deprecated and will raise an error in a future version of pandas. Value '-0.030238314061108773' has dtype incompatible with int64, please explicitly cast to a compatible dtype first.\n",
            "  input_df.at[0, col] = normalize_value(val, min_val, max_val)\n",
            "/var/folders/lb/824pdw_j27x5fbnfxl4hkx880000gn/T/ipykernel_9994/1495711449.py:19: FutureWarning: Setting an item of incompatible dtype is deprecated and will raise an error in a future version of pandas. Value '-0.007610606417390775' has dtype incompatible with int64, please explicitly cast to a compatible dtype first.\n",
            "  input_df.at[0, col] = normalize_value(val, min_val, max_val)\n",
            "/var/folders/lb/824pdw_j27x5fbnfxl4hkx880000gn/T/ipykernel_9994/1495711449.py:19: FutureWarning: Setting an item of incompatible dtype is deprecated and will raise an error in a future version of pandas. Value '-0.2' has dtype incompatible with int64, please explicitly cast to a compatible dtype first.\n",
            "  input_df.at[0, col] = normalize_value(val, min_val, max_val)\n",
            "/var/folders/lb/824pdw_j27x5fbnfxl4hkx880000gn/T/ipykernel_9994/1495711449.py:19: FutureWarning: Setting an item of incompatible dtype is deprecated and will raise an error in a future version of pandas. Value '-0.21039579290492413' has dtype incompatible with int64, please explicitly cast to a compatible dtype first.\n",
            "  input_df.at[0, col] = normalize_value(val, min_val, max_val)\n",
            "/var/folders/lb/824pdw_j27x5fbnfxl4hkx880000gn/T/ipykernel_9994/1495711449.py:19: FutureWarning: Setting an item of incompatible dtype is deprecated and will raise an error in a future version of pandas. Value '-0.0011391550291989718' has dtype incompatible with int64, please explicitly cast to a compatible dtype first.\n",
            "  input_df.at[0, col] = normalize_value(val, min_val, max_val)\n",
            "/var/folders/lb/824pdw_j27x5fbnfxl4hkx880000gn/T/ipykernel_9994/1495711449.py:19: FutureWarning: Setting an item of incompatible dtype is deprecated and will raise an error in a future version of pandas. Value '-0.0014527982497755324' has dtype incompatible with int64, please explicitly cast to a compatible dtype first.\n",
            "  input_df.at[0, col] = normalize_value(val, min_val, max_val)\n",
            "/var/folders/lb/824pdw_j27x5fbnfxl4hkx880000gn/T/ipykernel_9994/1495711449.py:19: FutureWarning: Setting an item of incompatible dtype is deprecated and will raise an error in a future version of pandas. Value '-0.005126097941729845' has dtype incompatible with int64, please explicitly cast to a compatible dtype first.\n",
            "  input_df.at[0, col] = normalize_value(val, min_val, max_val)\n",
            "/var/folders/lb/824pdw_j27x5fbnfxl4hkx880000gn/T/ipykernel_9994/1495711449.py:19: FutureWarning: Setting an item of incompatible dtype is deprecated and will raise an error in a future version of pandas. Value '-0.005582721656922026' has dtype incompatible with int64, please explicitly cast to a compatible dtype first.\n",
            "  input_df.at[0, col] = normalize_value(val, min_val, max_val)\n",
            "/var/folders/lb/824pdw_j27x5fbnfxl4hkx880000gn/T/ipykernel_9994/1495711449.py:19: FutureWarning: Setting an item of incompatible dtype is deprecated and will raise an error in a future version of pandas. Value '-0.007976204865978758' has dtype incompatible with int64, please explicitly cast to a compatible dtype first.\n",
            "  input_df.at[0, col] = normalize_value(val, min_val, max_val)\n",
            "/var/folders/lb/824pdw_j27x5fbnfxl4hkx880000gn/T/ipykernel_9994/1495711449.py:19: FutureWarning: Setting an item of incompatible dtype is deprecated and will raise an error in a future version of pandas. Value '-0.015759146787815405' has dtype incompatible with int64, please explicitly cast to a compatible dtype first.\n",
            "  input_df.at[0, col] = normalize_value(val, min_val, max_val)\n",
            "/var/folders/lb/824pdw_j27x5fbnfxl4hkx880000gn/T/ipykernel_9994/1495711449.py:19: FutureWarning: Setting an item of incompatible dtype is deprecated and will raise an error in a future version of pandas. Value '-0.0022742320045037894' has dtype incompatible with int64, please explicitly cast to a compatible dtype first.\n",
            "  input_df.at[0, col] = normalize_value(val, min_val, max_val)\n",
            "/var/folders/lb/824pdw_j27x5fbnfxl4hkx880000gn/T/ipykernel_9994/1495711449.py:19: FutureWarning: Setting an item of incompatible dtype is deprecated and will raise an error in a future version of pandas. Value '-0.010793074528884918' has dtype incompatible with int64, please explicitly cast to a compatible dtype first.\n",
            "  input_df.at[0, col] = normalize_value(val, min_val, max_val)\n",
            "/var/folders/lb/824pdw_j27x5fbnfxl4hkx880000gn/T/ipykernel_9994/1495711449.py:19: FutureWarning: Setting an item of incompatible dtype is deprecated and will raise an error in a future version of pandas. Value '-0.030238579392082705' has dtype incompatible with int64, please explicitly cast to a compatible dtype first.\n",
            "  input_df.at[0, col] = normalize_value(val, min_val, max_val)\n",
            "/var/folders/lb/824pdw_j27x5fbnfxl4hkx880000gn/T/ipykernel_9994/1495711449.py:19: FutureWarning: Setting an item of incompatible dtype is deprecated and will raise an error in a future version of pandas. Value '-0.007560403402769601' has dtype incompatible with int64, please explicitly cast to a compatible dtype first.\n",
            "  input_df.at[0, col] = normalize_value(val, min_val, max_val)\n",
            "/var/folders/lb/824pdw_j27x5fbnfxl4hkx880000gn/T/ipykernel_9994/1495711449.py:19: FutureWarning: Setting an item of incompatible dtype is deprecated and will raise an error in a future version of pandas. Value '-0.2' has dtype incompatible with int64, please explicitly cast to a compatible dtype first.\n",
            "  input_df.at[0, col] = normalize_value(val, min_val, max_val)\n",
            "/var/folders/lb/824pdw_j27x5fbnfxl4hkx880000gn/T/ipykernel_9994/1495711449.py:19: FutureWarning: Setting an item of incompatible dtype is deprecated and will raise an error in a future version of pandas. Value '-0.2101671464334082' has dtype incompatible with int64, please explicitly cast to a compatible dtype first.\n",
            "  input_df.at[0, col] = normalize_value(val, min_val, max_val)\n",
            "/var/folders/lb/824pdw_j27x5fbnfxl4hkx880000gn/T/ipykernel_9994/1495711449.py:19: FutureWarning: Setting an item of incompatible dtype is deprecated and will raise an error in a future version of pandas. Value '-0.0011404873489476491' has dtype incompatible with int64, please explicitly cast to a compatible dtype first.\n",
            "  input_df.at[0, col] = normalize_value(val, min_val, max_val)\n",
            "/var/folders/lb/824pdw_j27x5fbnfxl4hkx880000gn/T/ipykernel_9994/1495711449.py:19: FutureWarning: Setting an item of incompatible dtype is deprecated and will raise an error in a future version of pandas. Value '-0.0014547782614431543' has dtype incompatible with int64, please explicitly cast to a compatible dtype first.\n",
            "  input_df.at[0, col] = normalize_value(val, min_val, max_val)\n",
            "/var/folders/lb/824pdw_j27x5fbnfxl4hkx880000gn/T/ipykernel_9994/1495711449.py:19: FutureWarning: Setting an item of incompatible dtype is deprecated and will raise an error in a future version of pandas. Value '-0.005127557182139281' has dtype incompatible with int64, please explicitly cast to a compatible dtype first.\n",
            "  input_df.at[0, col] = normalize_value(val, min_val, max_val)\n",
            "/var/folders/lb/824pdw_j27x5fbnfxl4hkx880000gn/T/ipykernel_9994/1495711449.py:19: FutureWarning: Setting an item of incompatible dtype is deprecated and will raise an error in a future version of pandas. Value '-0.005544270373048596' has dtype incompatible with int64, please explicitly cast to a compatible dtype first.\n",
            "  input_df.at[0, col] = normalize_value(val, min_val, max_val)\n",
            "/var/folders/lb/824pdw_j27x5fbnfxl4hkx880000gn/T/ipykernel_9994/1495711449.py:19: FutureWarning: Setting an item of incompatible dtype is deprecated and will raise an error in a future version of pandas. Value '-0.0079786697976268' has dtype incompatible with int64, please explicitly cast to a compatible dtype first.\n",
            "  input_df.at[0, col] = normalize_value(val, min_val, max_val)\n",
            "/var/folders/lb/824pdw_j27x5fbnfxl4hkx880000gn/T/ipykernel_9994/1495711449.py:19: FutureWarning: Setting an item of incompatible dtype is deprecated and will raise an error in a future version of pandas. Value '-0.015766465588018145' has dtype incompatible with int64, please explicitly cast to a compatible dtype first.\n",
            "  input_df.at[0, col] = normalize_value(val, min_val, max_val)\n",
            "/var/folders/lb/824pdw_j27x5fbnfxl4hkx880000gn/T/ipykernel_9994/1495711449.py:19: FutureWarning: Setting an item of incompatible dtype is deprecated and will raise an error in a future version of pandas. Value '-0.0022747584790252205' has dtype incompatible with int64, please explicitly cast to a compatible dtype first.\n",
            "  input_df.at[0, col] = normalize_value(val, min_val, max_val)\n",
            "/var/folders/lb/824pdw_j27x5fbnfxl4hkx880000gn/T/ipykernel_9994/1495711449.py:19: FutureWarning: Setting an item of incompatible dtype is deprecated and will raise an error in a future version of pandas. Value '-0.010791732697148207' has dtype incompatible with int64, please explicitly cast to a compatible dtype first.\n",
            "  input_df.at[0, col] = normalize_value(val, min_val, max_val)\n",
            "/var/folders/lb/824pdw_j27x5fbnfxl4hkx880000gn/T/ipykernel_9994/1495711449.py:19: FutureWarning: Setting an item of incompatible dtype is deprecated and will raise an error in a future version of pandas. Value '-0.030244538938902884' has dtype incompatible with int64, please explicitly cast to a compatible dtype first.\n",
            "  input_df.at[0, col] = normalize_value(val, min_val, max_val)\n",
            "/var/folders/lb/824pdw_j27x5fbnfxl4hkx880000gn/T/ipykernel_9994/1495711449.py:19: FutureWarning: Setting an item of incompatible dtype is deprecated and will raise an error in a future version of pandas. Value '-0.00762722366388088' has dtype incompatible with int64, please explicitly cast to a compatible dtype first.\n",
            "  input_df.at[0, col] = normalize_value(val, min_val, max_val)\n",
            "/var/folders/lb/824pdw_j27x5fbnfxl4hkx880000gn/T/ipykernel_9994/1495711449.py:19: FutureWarning: Setting an item of incompatible dtype is deprecated and will raise an error in a future version of pandas. Value '-0.2' has dtype incompatible with int64, please explicitly cast to a compatible dtype first.\n",
            "  input_df.at[0, col] = normalize_value(val, min_val, max_val)\n",
            "/var/folders/lb/824pdw_j27x5fbnfxl4hkx880000gn/T/ipykernel_9994/1495711449.py:19: FutureWarning: Setting an item of incompatible dtype is deprecated and will raise an error in a future version of pandas. Value '-0.21035035674712285' has dtype incompatible with int64, please explicitly cast to a compatible dtype first.\n",
            "  input_df.at[0, col] = normalize_value(val, min_val, max_val)\n",
            "/var/folders/lb/824pdw_j27x5fbnfxl4hkx880000gn/T/ipykernel_9994/1495711449.py:19: FutureWarning: Setting an item of incompatible dtype is deprecated and will raise an error in a future version of pandas. Value '-0.0011419178298797026' has dtype incompatible with int64, please explicitly cast to a compatible dtype first.\n",
            "  input_df.at[0, col] = normalize_value(val, min_val, max_val)\n",
            "/var/folders/lb/824pdw_j27x5fbnfxl4hkx880000gn/T/ipykernel_9994/1495711449.py:19: FutureWarning: Setting an item of incompatible dtype is deprecated and will raise an error in a future version of pandas. Value '-0.001455483262469395' has dtype incompatible with int64, please explicitly cast to a compatible dtype first.\n",
            "  input_df.at[0, col] = normalize_value(val, min_val, max_val)\n",
            "/var/folders/lb/824pdw_j27x5fbnfxl4hkx880000gn/T/ipykernel_9994/1495711449.py:19: FutureWarning: Setting an item of incompatible dtype is deprecated and will raise an error in a future version of pandas. Value '-0.005124988077008316' has dtype incompatible with int64, please explicitly cast to a compatible dtype first.\n",
            "  input_df.at[0, col] = normalize_value(val, min_val, max_val)\n",
            "/var/folders/lb/824pdw_j27x5fbnfxl4hkx880000gn/T/ipykernel_9994/1495711449.py:19: FutureWarning: Setting an item of incompatible dtype is deprecated and will raise an error in a future version of pandas. Value '-0.00557358790205874' has dtype incompatible with int64, please explicitly cast to a compatible dtype first.\n",
            "  input_df.at[0, col] = normalize_value(val, min_val, max_val)\n",
            "/var/folders/lb/824pdw_j27x5fbnfxl4hkx880000gn/T/ipykernel_9994/1495711449.py:19: FutureWarning: Setting an item of incompatible dtype is deprecated and will raise an error in a future version of pandas. Value '-0.007977917754820308' has dtype incompatible with int64, please explicitly cast to a compatible dtype first.\n",
            "  input_df.at[0, col] = normalize_value(val, min_val, max_val)\n",
            "/var/folders/lb/824pdw_j27x5fbnfxl4hkx880000gn/T/ipykernel_9994/1495711449.py:19: FutureWarning: Setting an item of incompatible dtype is deprecated and will raise an error in a future version of pandas. Value '-0.015749544821025026' has dtype incompatible with int64, please explicitly cast to a compatible dtype first.\n",
            "  input_df.at[0, col] = normalize_value(val, min_val, max_val)\n",
            "/var/folders/lb/824pdw_j27x5fbnfxl4hkx880000gn/T/ipykernel_9994/1495711449.py:19: FutureWarning: Setting an item of incompatible dtype is deprecated and will raise an error in a future version of pandas. Value '-0.002275853838207337' has dtype incompatible with int64, please explicitly cast to a compatible dtype first.\n",
            "  input_df.at[0, col] = normalize_value(val, min_val, max_val)\n",
            "/var/folders/lb/824pdw_j27x5fbnfxl4hkx880000gn/T/ipykernel_9994/1495711449.py:19: FutureWarning: Setting an item of incompatible dtype is deprecated and will raise an error in a future version of pandas. Value '-0.0108016565527325' has dtype incompatible with int64, please explicitly cast to a compatible dtype first.\n",
            "  input_df.at[0, col] = normalize_value(val, min_val, max_val)\n",
            "/var/folders/lb/824pdw_j27x5fbnfxl4hkx880000gn/T/ipykernel_9994/1495711449.py:19: FutureWarning: Setting an item of incompatible dtype is deprecated and will raise an error in a future version of pandas. Value '-0.030238800481510546' has dtype incompatible with int64, please explicitly cast to a compatible dtype first.\n",
            "  input_df.at[0, col] = normalize_value(val, min_val, max_val)\n",
            "/var/folders/lb/824pdw_j27x5fbnfxl4hkx880000gn/T/ipykernel_9994/1495711449.py:19: FutureWarning: Setting an item of incompatible dtype is deprecated and will raise an error in a future version of pandas. Value '-0.007611096517053738' has dtype incompatible with int64, please explicitly cast to a compatible dtype first.\n",
            "  input_df.at[0, col] = normalize_value(val, min_val, max_val)\n"
          ]
        }
      ],
      "execution_count": null
    },
    {
      "metadata": {
        "id": "52497667b753f856"
      },
      "cell_type": "markdown",
      "source": [
        "# New query"
      ],
      "id": "52497667b753f856"
    },
    {
      "metadata": {
        "ExecuteTime": {
          "end_time": "2025-05-27T13:11:57.926136Z",
          "start_time": "2025-05-27T13:11:57.921070Z"
        },
        "id": "95818cc99240e1ec",
        "outputId": "7c034a6d-9d74-40f9-ec44-4cc30ccf14a6"
      },
      "cell_type": "code",
      "source": [
        "# עבור רשומה זו המחיר הסופי הינו - 440,000\n",
        "user_input = {\n",
        "    'Units': 1,\n",
        "    'Area m2': 543,\n",
        "    'block': '38761.0',\n",
        "    'Committee year': '2024.0',\n",
        "    'committee month': '7.0',\n",
        "    'region': 'דרום',\n",
        "    'city': 'באר שבע',\n",
        "    'dist_to_kindergarten': 500,\n",
        "    'dist_to_school': 500,\n",
        "    'dist_to_university': 1000,\n",
        "    'dist_to_bus_stop': 200,\n",
        "    'dist_to_train_station': 1500,\n",
        "    'dist_to_park': 300,\n",
        "    'dist_to_mall': 1000,\n",
        "    'dist_to_supermarket': 300,\n",
        "    'dist_to_beach': 5000,\n",
        "    'dist_to_place_of_worship': 400\n",
        "}\n",
        "\n",
        "predicted_price = predict_price_mlp(user_input, model, X_columns, scaler_minmax, price_minmax)\n",
        "total_price = predicted_price * user_input['Area m2']\n",
        "\n",
        "print(f\"\\nPredicted price per m²: {predicted_price:,.2f} ₪\")\n",
        "print(f\"Total price for this area: {total_price:,.2f} ₪\")"
      ],
      "id": "95818cc99240e1ec",
      "outputs": [
        {
          "name": "stdout",
          "output_type": "stream",
          "text": [
            "\n",
            "Predicted price per m²: 547.98 ₪\n",
            "Total price for this area: 297,550.83 ₪\n",
            "time: 3.44 ms (started: 2025-05-27 16:11:57 +03:00)\n"
          ]
        },
        {
          "name": "stderr",
          "output_type": "stream",
          "text": [
            "/var/folders/lb/824pdw_j27x5fbnfxl4hkx880000gn/T/ipykernel_9994/2377787459.py:31: FutureWarning: Setting an item of incompatible dtype is deprecated and will raise an error in a future version of pandas. Value '0.4467312348668281' has dtype incompatible with int64, please explicitly cast to a compatible dtype first.\n",
            "  input_df.at[0, col] = normalize_value(val, min_val, max_val)\n",
            "/var/folders/lb/824pdw_j27x5fbnfxl4hkx880000gn/T/ipykernel_9994/2377787459.py:54: FutureWarning: Setting an item of incompatible dtype is deprecated and will raise an error in a future version of pandas. Value '0.007712030170146494' has dtype incompatible with int64, please explicitly cast to a compatible dtype first.\n",
            "  input_df.at[0, col] = normalize_value(val, min_val, max_val)\n",
            "/var/folders/lb/824pdw_j27x5fbnfxl4hkx880000gn/T/ipykernel_9994/2377787459.py:54: FutureWarning: Setting an item of incompatible dtype is deprecated and will raise an error in a future version of pandas. Value '0.007509882776203064' has dtype incompatible with int64, please explicitly cast to a compatible dtype first.\n",
            "  input_df.at[0, col] = normalize_value(val, min_val, max_val)\n",
            "/var/folders/lb/824pdw_j27x5fbnfxl4hkx880000gn/T/ipykernel_9994/2377787459.py:54: FutureWarning: Setting an item of incompatible dtype is deprecated and will raise an error in a future version of pandas. Value '0.004573339241164042' has dtype incompatible with int64, please explicitly cast to a compatible dtype first.\n",
            "  input_df.at[0, col] = normalize_value(val, min_val, max_val)\n",
            "/var/folders/lb/824pdw_j27x5fbnfxl4hkx880000gn/T/ipykernel_9994/2377787459.py:54: FutureWarning: Setting an item of incompatible dtype is deprecated and will raise an error in a future version of pandas. Value '0.08572019683136921' has dtype incompatible with int64, please explicitly cast to a compatible dtype first.\n",
            "  input_df.at[0, col] = normalize_value(val, min_val, max_val)\n",
            "/var/folders/lb/824pdw_j27x5fbnfxl4hkx880000gn/T/ipykernel_9994/2377787459.py:54: FutureWarning: Setting an item of incompatible dtype is deprecated and will raise an error in a future version of pandas. Value '0.019287846659355366' has dtype incompatible with int64, please explicitly cast to a compatible dtype first.\n",
            "  input_df.at[0, col] = normalize_value(val, min_val, max_val)\n",
            "/var/folders/lb/824pdw_j27x5fbnfxl4hkx880000gn/T/ipykernel_9994/2377787459.py:54: FutureWarning: Setting an item of incompatible dtype is deprecated and will raise an error in a future version of pandas. Value '-0.005353477943968218' has dtype incompatible with int64, please explicitly cast to a compatible dtype first.\n",
            "  input_df.at[0, col] = normalize_value(val, min_val, max_val)\n",
            "/var/folders/lb/824pdw_j27x5fbnfxl4hkx880000gn/T/ipykernel_9994/2377787459.py:54: FutureWarning: Setting an item of incompatible dtype is deprecated and will raise an error in a future version of pandas. Value '0.01182928370364903' has dtype incompatible with int64, please explicitly cast to a compatible dtype first.\n",
            "  input_df.at[0, col] = normalize_value(val, min_val, max_val)\n",
            "/var/folders/lb/824pdw_j27x5fbnfxl4hkx880000gn/T/ipykernel_9994/2377787459.py:54: FutureWarning: Setting an item of incompatible dtype is deprecated and will raise an error in a future version of pandas. Value '0.007833245145057344' has dtype incompatible with int64, please explicitly cast to a compatible dtype first.\n",
            "  input_df.at[0, col] = normalize_value(val, min_val, max_val)\n",
            "/var/folders/lb/824pdw_j27x5fbnfxl4hkx880000gn/T/ipykernel_9994/2377787459.py:54: FutureWarning: Setting an item of incompatible dtype is deprecated and will raise an error in a future version of pandas. Value '0.029787836676671915' has dtype incompatible with int64, please explicitly cast to a compatible dtype first.\n",
            "  input_df.at[0, col] = normalize_value(val, min_val, max_val)\n",
            "/var/folders/lb/824pdw_j27x5fbnfxl4hkx880000gn/T/ipykernel_9994/2377787459.py:54: FutureWarning: Setting an item of incompatible dtype is deprecated and will raise an error in a future version of pandas. Value '0.034049384947223295' has dtype incompatible with int64, please explicitly cast to a compatible dtype first.\n",
            "  input_df.at[0, col] = normalize_value(val, min_val, max_val)\n"
          ]
        }
      ],
      "execution_count": null
    },
    {
      "metadata": {
        "id": "5e949f1c5eaaaba0"
      },
      "cell_type": "markdown",
      "source": [
        "## Validation of input\n",
        "#### checks if the input match the columns in the model."
      ],
      "id": "5e949f1c5eaaaba0"
    },
    {
      "metadata": {
        "id": "58f6f2418771b498",
        "outputId": "b0f9dd1a-82f8-4d7a-c86a-7d647a3808af",
        "ExecuteTime": {
          "end_time": "2025-05-27T13:11:57.938198Z",
          "start_time": "2025-05-27T13:11:57.934962Z"
        }
      },
      "cell_type": "code",
      "source": [
        "def validate_input_against_columns(user_input, X_columns):\n",
        "    warnings = []\n",
        "    activated = []\n",
        "\n",
        "    block = user_input.get('block')\n",
        "    if block is not None:\n",
        "        block_col = f\"Block_{float(block):.1f}\"\n",
        "        if block_col in X_columns:\n",
        "            activated.append(block_col)\n",
        "        else:\n",
        "            warnings.append(f\"Block column '{block_col}' not found.\")\n",
        "\n",
        "    year = user_input.get('Committee year')\n",
        "    if year is not None:\n",
        "        year_col = f\"Committee_year_{float(year):.1f}\"\n",
        "        if year_col in X_columns:\n",
        "            activated.append(year_col)\n",
        "        else:\n",
        "            warnings.append(f\"Committee year column '{year_col}' not found.\")\n",
        "\n",
        "    month = user_input.get('committee month')\n",
        "    if month is not None:\n",
        "        month_col = f\"Committee_month_{float(month):.1f}\"\n",
        "        if month_col in X_columns:\n",
        "            activated.append(month_col)\n",
        "        else:\n",
        "            warnings.append(f\"Committee month column '{month_col}' not found.\")\n",
        "\n",
        "    for field in ['city', 'region']:\n",
        "        val = user_input.get(field, '').strip().lower()\n",
        "        matches = [col for col in X_columns if val in col.lower()]\n",
        "        if matches:\n",
        "            activated.extend(matches)\n",
        "        else:\n",
        "            warnings.append(f\"No column {field} found.\")\n",
        "\n",
        "    if warnings:\n",
        "        print(\"Warnings features:\")\n",
        "        for w in warnings:\n",
        "            print(\" -\", w)\n",
        "\n",
        "    if activated:\n",
        "        print(\"\\nColumns that will be activated for this input:\")\n",
        "        for col in activated:\n",
        "            print(\"  -\", col)\n",
        "    else:\n",
        "        print(\"\\n No one-hot columns matched the input.\")"
      ],
      "id": "58f6f2418771b498",
      "outputs": [
        {
          "name": "stdout",
          "output_type": "stream",
          "text": [
            "time: 752 μs (started: 2025-05-27 16:11:57 +03:00)\n"
          ]
        }
      ],
      "execution_count": null
    },
    {
      "metadata": {
        "id": "e5288fd8b718d7d4",
        "outputId": "4d58c779-652f-436c-80d6-682d07b03a7c",
        "ExecuteTime": {
          "end_time": "2025-05-27T13:11:57.948950Z",
          "start_time": "2025-05-27T13:11:57.947355Z"
        }
      },
      "cell_type": "code",
      "source": [
        "validate_input_against_columns(user_input, X.columns)"
      ],
      "id": "e5288fd8b718d7d4",
      "outputs": [
        {
          "name": "stdout",
          "output_type": "stream",
          "text": [
            "\n",
            "Columns that will be activated for this input:\n",
            "  - Block_38761.0\n",
            "  - Committee_year_2024.0\n",
            "  - Committee_month_7.0\n",
            "  - City_באר שבע , הרקפות\n",
            "  - City_באר שבע , כלניות\n",
            "  - City_באר שבע , כלניות לנכים\n",
            "  - City_באר שבע , נאות לון\n",
            "  - City_באר שבע , נווה נוי\n",
            "  - City_באר שבע , רמות\n",
            "  - City_באר שבע , רקפות\n",
            "  - Region_דרום\n",
            "  - City_אריאל , דרום מזרח\n",
            "time: 270 μs (started: 2025-05-27 16:11:57 +03:00)\n"
          ]
        }
      ],
      "execution_count": null
    },
    {
      "metadata": {
        "id": "68ebd15f8e96e4e1"
      },
      "cell_type": "markdown",
      "source": [
        "### Export all predictions"
      ],
      "id": "68ebd15f8e96e4e1"
    },
    {
      "metadata": {
        "ExecuteTime": {
          "end_time": "2025-05-27T13:11:58.370948Z",
          "start_time": "2025-05-27T13:11:57.966030Z"
        },
        "id": "cc68239804c661b6",
        "outputId": "f5a75e2d-0703-44d2-f686-e66d5eb9f80c"
      },
      "cell_type": "code",
      "source": [
        "!pip install openpyxl"
      ],
      "id": "cc68239804c661b6",
      "outputs": [
        {
          "name": "stdout",
          "output_type": "stream",
          "text": [
            "Requirement already satisfied: openpyxl in /Library/Frameworks/Python.framework/Versions/3.13/lib/python3.13/site-packages (3.1.5)\r\n",
            "Requirement already satisfied: et-xmlfile in /Library/Frameworks/Python.framework/Versions/3.13/lib/python3.13/site-packages (from openpyxl) (2.0.0)\r\n",
            "\r\n",
            "\u001b[1m[\u001b[0m\u001b[34;49mnotice\u001b[0m\u001b[1;39;49m]\u001b[0m\u001b[39;49m A new release of pip is available: \u001b[0m\u001b[31;49m25.0.1\u001b[0m\u001b[39;49m -> \u001b[0m\u001b[32;49m25.1.1\u001b[0m\r\n",
            "\u001b[1m[\u001b[0m\u001b[34;49mnotice\u001b[0m\u001b[1;39;49m]\u001b[0m\u001b[39;49m To update, run: \u001b[0m\u001b[32;49mpip install --upgrade pip\u001b[0m\r\n",
            "time: 403 ms (started: 2025-05-27 16:11:57 +03:00)\n"
          ]
        }
      ],
      "execution_count": null
    },
    {
      "metadata": {
        "ExecuteTime": {
          "end_time": "2025-05-27T13:11:58.379363Z",
          "start_time": "2025-05-27T13:11:58.375105Z"
        },
        "id": "9e78d5e89cc32754",
        "outputId": "8db76c65-c9e9-4185-c7ac-e5a3222163ce"
      },
      "cell_type": "code",
      "source": [
        "def export_predictions_to_excel(X_data, y_true, model, price_minmax, filename=\"model_predictions.xlsx\"):\n",
        "    model.eval()\n",
        "    with torch.no_grad():\n",
        "        preds_norm = model(torch.tensor(X_data, dtype=torch.float32).to(device)).cpu().numpy().flatten()\n",
        "\n",
        "    price_min = price_minmax[\"min\"]\n",
        "    price_max = price_minmax[\"max\"]\n",
        "\n",
        "    def inv(x): return x * (price_max - price_min) + price_min\n",
        "\n",
        "    if isinstance(y_true, pd.Series):\n",
        "        y_true_array = y_true.to_numpy()\n",
        "    else:\n",
        "        y_true_array = y_true\n",
        "\n",
        "    if len(y_true_array.shape) > 1:\n",
        "        y_true_array = y_true_array.flatten()\n",
        "\n",
        "    preds_shekel = inv(preds_norm)\n",
        "    y_true_shekel = inv(y_true_array)\n",
        "\n",
        "    # preds_shekel = inv(preds_norm)\n",
        "    # y_true_shekel = inv(y_true.flatten())\n",
        "\n",
        "    errors = np.abs(preds_shekel - y_true_shekel)\n",
        "    errors_pct = errors / y_true_shekel * 100\n",
        "\n",
        "    df_results = pd.DataFrame({\n",
        "        \"Predicted Price per m² (₪)\": preds_shekel,\n",
        "        \"Actual Price per m² (₪)\": y_true_shekel,\n",
        "        \"Absolute Error (₪)\": errors,\n",
        "        \"Percentage Error (%)\": errors_pct\n",
        "    })\n",
        "\n",
        "    df_results.to_excel(filename, index=False)\n",
        "    print(f\"Predictions exported to '{filename}' with {len(df_results)} rows.\")\n",
        "    mean_pct_error = errors_pct.mean()\n",
        "    print(f\"Mean Percentage Error: {mean_pct_error:.2f}%\")\n",
        "    median_pct_error = np.median(errors_pct)\n",
        "    print(f\"Median Percentage Error: {median_pct_error:.2f}%\")\n"
      ],
      "id": "9e78d5e89cc32754",
      "outputs": [
        {
          "name": "stdout",
          "output_type": "stream",
          "text": [
            "time: 777 μs (started: 2025-05-27 16:11:58 +03:00)\n"
          ]
        }
      ],
      "execution_count": null
    },
    {
      "metadata": {
        "ExecuteTime": {
          "end_time": "2025-05-27T13:11:58.431120Z",
          "start_time": "2025-05-27T13:11:58.389554Z"
        },
        "id": "2ad227f9a4e2f955",
        "outputId": "98170ce0-ba3f-4274-8b5a-abf24ccbdd04"
      },
      "cell_type": "code",
      "source": [
        "export_predictions_to_excel(X_test, y_test, model, price_minmax)"
      ],
      "id": "2ad227f9a4e2f955",
      "outputs": [
        {
          "name": "stdout",
          "output_type": "stream",
          "text": [
            "Predictions exported to 'model_predictions.xlsx' with 1036 rows.\n",
            "Mean Percentage Error: 27.81%\n",
            "Median Percentage Error: 13.88%\n",
            "time: 40.2 ms (started: 2025-05-27 16:11:58 +03:00)\n"
          ]
        }
      ],
      "execution_count": null
    }
  ],
  "metadata": {
    "kernelspec": {
      "display_name": "Python 3",
      "language": "python",
      "name": "python3"
    },
    "language_info": {
      "codemirror_mode": {
        "name": "ipython",
        "version": 2
      },
      "file_extension": ".py",
      "mimetype": "text/x-python",
      "name": "python",
      "nbconvert_exporter": "python",
      "pygments_lexer": "ipython2",
      "version": "2.7.6"
    },
    "colab": {
      "provenance": [],
      "include_colab_link": true
    }
  },
  "nbformat": 4,
  "nbformat_minor": 5
}