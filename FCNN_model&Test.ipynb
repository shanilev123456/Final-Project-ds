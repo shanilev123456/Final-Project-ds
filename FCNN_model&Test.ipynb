{
  "cells": [
    {
      "cell_type": "markdown",
      "metadata": {
        "id": "view-in-github",
        "colab_type": "text"
      },
      "source": [
        "<a href=\"https://colab.research.google.com/github/shanilev123456/Final-Project-ds/blob/master/FCNN_model%26Test.ipynb\" target=\"_parent\"><img src=\"https://colab.research.google.com/assets/colab-badge.svg\" alt=\"Open In Colab\"/></a>"
      ]
    },
    {
      "cell_type": "code",
      "id": "initial_id",
      "metadata": {
        "collapsed": true,
        "ExecuteTime": {
          "end_time": "2025-05-18T09:38:58.548901Z",
          "start_time": "2025-05-18T09:38:56.671304Z"
        },
        "id": "initial_id",
        "outputId": "ec24538c-c0e2-4eb6-9a8f-04832b2fd9a0",
        "colab": {
          "base_uri": "https://localhost:8080/"
        }
      },
      "source": [
        "import torch\n",
        "import torch.nn as nn\n",
        "from torch.utils.data import TensorDataset, DataLoader\n",
        "from sklearn.model_selection import train_test_split\n",
        "import pandas as pd\n",
        "import numpy as np\n",
        "from sklearn.model_selection import train_test_split\n",
        "from sklearn.metrics import mean_absolute_error, mean_squared_error, r2_score\n",
        "import matplotlib.pyplot as plt\n",
        "import copy\n",
        "\n",
        "!pip install ipython-autotime\n",
        "%load_ext autotime"
      ],
      "outputs": [
        {
          "output_type": "stream",
          "name": "stdout",
          "text": [
            "Requirement already satisfied: ipython-autotime in /usr/local/lib/python3.11/dist-packages (0.3.2)\n",
            "Requirement already satisfied: ipython in /usr/local/lib/python3.11/dist-packages (from ipython-autotime) (7.34.0)\n",
            "Requirement already satisfied: setuptools>=18.5 in /usr/local/lib/python3.11/dist-packages (from ipython->ipython-autotime) (75.2.0)\n",
            "Requirement already satisfied: jedi>=0.16 in /usr/local/lib/python3.11/dist-packages (from ipython->ipython-autotime) (0.19.2)\n",
            "Requirement already satisfied: decorator in /usr/local/lib/python3.11/dist-packages (from ipython->ipython-autotime) (4.4.2)\n",
            "Requirement already satisfied: pickleshare in /usr/local/lib/python3.11/dist-packages (from ipython->ipython-autotime) (0.7.5)\n",
            "Requirement already satisfied: traitlets>=4.2 in /usr/local/lib/python3.11/dist-packages (from ipython->ipython-autotime) (5.7.1)\n",
            "Requirement already satisfied: prompt-toolkit!=3.0.0,!=3.0.1,<3.1.0,>=2.0.0 in /usr/local/lib/python3.11/dist-packages (from ipython->ipython-autotime) (3.0.51)\n",
            "Requirement already satisfied: pygments in /usr/local/lib/python3.11/dist-packages (from ipython->ipython-autotime) (2.19.1)\n",
            "Requirement already satisfied: backcall in /usr/local/lib/python3.11/dist-packages (from ipython->ipython-autotime) (0.2.0)\n",
            "Requirement already satisfied: matplotlib-inline in /usr/local/lib/python3.11/dist-packages (from ipython->ipython-autotime) (0.1.7)\n",
            "Requirement already satisfied: pexpect>4.3 in /usr/local/lib/python3.11/dist-packages (from ipython->ipython-autotime) (4.9.0)\n",
            "Requirement already satisfied: parso<0.9.0,>=0.8.4 in /usr/local/lib/python3.11/dist-packages (from jedi>=0.16->ipython->ipython-autotime) (0.8.4)\n",
            "Requirement already satisfied: ptyprocess>=0.5 in /usr/local/lib/python3.11/dist-packages (from pexpect>4.3->ipython->ipython-autotime) (0.7.0)\n",
            "Requirement already satisfied: wcwidth in /usr/local/lib/python3.11/dist-packages (from prompt-toolkit!=3.0.0,!=3.0.1,<3.1.0,>=2.0.0->ipython->ipython-autotime) (0.2.13)\n",
            "time: 719 µs (started: 2025-05-27 06:28:34 +00:00)\n"
          ]
        }
      ],
      "execution_count": 1
    },
    {
      "metadata": {
        "id": "f6ec1b35e6f1cb95"
      },
      "cell_type": "markdown",
      "source": [
        "## Import Data"
      ],
      "id": "f6ec1b35e6f1cb95"
    },
    {
      "metadata": {
        "ExecuteTime": {
          "end_time": "2025-05-18T09:38:58.559338Z",
          "start_time": "2025-05-18T09:38:58.556350Z"
        },
        "id": "483bddd534b33274",
        "outputId": "358d1a68-f4bd-402f-e8e5-63464402e356",
        "colab": {
          "base_uri": "https://localhost:8080/",
          "height": 91
        }
      },
      "cell_type": "code",
      "source": [
        "from google.colab import files\n",
        "uploaded = files.upload()"
      ],
      "id": "483bddd534b33274",
      "outputs": [
        {
          "output_type": "display_data",
          "data": {
            "text/plain": [
              "<IPython.core.display.HTML object>"
            ],
            "text/html": [
              "\n",
              "     <input type=\"file\" id=\"files-d47fa3f9-553d-4f21-b026-4c33cf28b832\" name=\"files[]\" multiple disabled\n",
              "        style=\"border:none\" />\n",
              "     <output id=\"result-d47fa3f9-553d-4f21-b026-4c33cf28b832\">\n",
              "      Upload widget is only available when the cell has been executed in the\n",
              "      current browser session. Please rerun this cell to enable.\n",
              "      </output>\n",
              "      <script>// Copyright 2017 Google LLC\n",
              "//\n",
              "// Licensed under the Apache License, Version 2.0 (the \"License\");\n",
              "// you may not use this file except in compliance with the License.\n",
              "// You may obtain a copy of the License at\n",
              "//\n",
              "//      http://www.apache.org/licenses/LICENSE-2.0\n",
              "//\n",
              "// Unless required by applicable law or agreed to in writing, software\n",
              "// distributed under the License is distributed on an \"AS IS\" BASIS,\n",
              "// WITHOUT WARRANTIES OR CONDITIONS OF ANY KIND, either express or implied.\n",
              "// See the License for the specific language governing permissions and\n",
              "// limitations under the License.\n",
              "\n",
              "/**\n",
              " * @fileoverview Helpers for google.colab Python module.\n",
              " */\n",
              "(function(scope) {\n",
              "function span(text, styleAttributes = {}) {\n",
              "  const element = document.createElement('span');\n",
              "  element.textContent = text;\n",
              "  for (const key of Object.keys(styleAttributes)) {\n",
              "    element.style[key] = styleAttributes[key];\n",
              "  }\n",
              "  return element;\n",
              "}\n",
              "\n",
              "// Max number of bytes which will be uploaded at a time.\n",
              "const MAX_PAYLOAD_SIZE = 100 * 1024;\n",
              "\n",
              "function _uploadFiles(inputId, outputId) {\n",
              "  const steps = uploadFilesStep(inputId, outputId);\n",
              "  const outputElement = document.getElementById(outputId);\n",
              "  // Cache steps on the outputElement to make it available for the next call\n",
              "  // to uploadFilesContinue from Python.\n",
              "  outputElement.steps = steps;\n",
              "\n",
              "  return _uploadFilesContinue(outputId);\n",
              "}\n",
              "\n",
              "// This is roughly an async generator (not supported in the browser yet),\n",
              "// where there are multiple asynchronous steps and the Python side is going\n",
              "// to poll for completion of each step.\n",
              "// This uses a Promise to block the python side on completion of each step,\n",
              "// then passes the result of the previous step as the input to the next step.\n",
              "function _uploadFilesContinue(outputId) {\n",
              "  const outputElement = document.getElementById(outputId);\n",
              "  const steps = outputElement.steps;\n",
              "\n",
              "  const next = steps.next(outputElement.lastPromiseValue);\n",
              "  return Promise.resolve(next.value.promise).then((value) => {\n",
              "    // Cache the last promise value to make it available to the next\n",
              "    // step of the generator.\n",
              "    outputElement.lastPromiseValue = value;\n",
              "    return next.value.response;\n",
              "  });\n",
              "}\n",
              "\n",
              "/**\n",
              " * Generator function which is called between each async step of the upload\n",
              " * process.\n",
              " * @param {string} inputId Element ID of the input file picker element.\n",
              " * @param {string} outputId Element ID of the output display.\n",
              " * @return {!Iterable<!Object>} Iterable of next steps.\n",
              " */\n",
              "function* uploadFilesStep(inputId, outputId) {\n",
              "  const inputElement = document.getElementById(inputId);\n",
              "  inputElement.disabled = false;\n",
              "\n",
              "  const outputElement = document.getElementById(outputId);\n",
              "  outputElement.innerHTML = '';\n",
              "\n",
              "  const pickedPromise = new Promise((resolve) => {\n",
              "    inputElement.addEventListener('change', (e) => {\n",
              "      resolve(e.target.files);\n",
              "    });\n",
              "  });\n",
              "\n",
              "  const cancel = document.createElement('button');\n",
              "  inputElement.parentElement.appendChild(cancel);\n",
              "  cancel.textContent = 'Cancel upload';\n",
              "  const cancelPromise = new Promise((resolve) => {\n",
              "    cancel.onclick = () => {\n",
              "      resolve(null);\n",
              "    };\n",
              "  });\n",
              "\n",
              "  // Wait for the user to pick the files.\n",
              "  const files = yield {\n",
              "    promise: Promise.race([pickedPromise, cancelPromise]),\n",
              "    response: {\n",
              "      action: 'starting',\n",
              "    }\n",
              "  };\n",
              "\n",
              "  cancel.remove();\n",
              "\n",
              "  // Disable the input element since further picks are not allowed.\n",
              "  inputElement.disabled = true;\n",
              "\n",
              "  if (!files) {\n",
              "    return {\n",
              "      response: {\n",
              "        action: 'complete',\n",
              "      }\n",
              "    };\n",
              "  }\n",
              "\n",
              "  for (const file of files) {\n",
              "    const li = document.createElement('li');\n",
              "    li.append(span(file.name, {fontWeight: 'bold'}));\n",
              "    li.append(span(\n",
              "        `(${file.type || 'n/a'}) - ${file.size} bytes, ` +\n",
              "        `last modified: ${\n",
              "            file.lastModifiedDate ? file.lastModifiedDate.toLocaleDateString() :\n",
              "                                    'n/a'} - `));\n",
              "    const percent = span('0% done');\n",
              "    li.appendChild(percent);\n",
              "\n",
              "    outputElement.appendChild(li);\n",
              "\n",
              "    const fileDataPromise = new Promise((resolve) => {\n",
              "      const reader = new FileReader();\n",
              "      reader.onload = (e) => {\n",
              "        resolve(e.target.result);\n",
              "      };\n",
              "      reader.readAsArrayBuffer(file);\n",
              "    });\n",
              "    // Wait for the data to be ready.\n",
              "    let fileData = yield {\n",
              "      promise: fileDataPromise,\n",
              "      response: {\n",
              "        action: 'continue',\n",
              "      }\n",
              "    };\n",
              "\n",
              "    // Use a chunked sending to avoid message size limits. See b/62115660.\n",
              "    let position = 0;\n",
              "    do {\n",
              "      const length = Math.min(fileData.byteLength - position, MAX_PAYLOAD_SIZE);\n",
              "      const chunk = new Uint8Array(fileData, position, length);\n",
              "      position += length;\n",
              "\n",
              "      const base64 = btoa(String.fromCharCode.apply(null, chunk));\n",
              "      yield {\n",
              "        response: {\n",
              "          action: 'append',\n",
              "          file: file.name,\n",
              "          data: base64,\n",
              "        },\n",
              "      };\n",
              "\n",
              "      let percentDone = fileData.byteLength === 0 ?\n",
              "          100 :\n",
              "          Math.round((position / fileData.byteLength) * 100);\n",
              "      percent.textContent = `${percentDone}% done`;\n",
              "\n",
              "    } while (position < fileData.byteLength);\n",
              "  }\n",
              "\n",
              "  // All done.\n",
              "  yield {\n",
              "    response: {\n",
              "      action: 'complete',\n",
              "    }\n",
              "  };\n",
              "}\n",
              "\n",
              "scope.google = scope.google || {};\n",
              "scope.google.colab = scope.google.colab || {};\n",
              "scope.google.colab._files = {\n",
              "  _uploadFiles,\n",
              "  _uploadFilesContinue,\n",
              "};\n",
              "})(self);\n",
              "</script> "
            ]
          },
          "metadata": {}
        },
        {
          "output_type": "stream",
          "name": "stdout",
          "text": [
            "Saving cleaned_data.csv to cleaned_data.csv\n",
            "time: 10.8 s (started: 2025-05-27 06:28:34 +00:00)\n"
          ]
        }
      ],
      "execution_count": 2
    },
    {
      "metadata": {
        "ExecuteTime": {
          "end_time": "2025-05-18T09:38:58.727675Z",
          "start_time": "2025-05-18T09:38:58.572646Z"
        },
        "id": "726723c11ba277fa",
        "outputId": "ba1296af-6d83-41e8-d58c-431422efa6c0",
        "colab": {
          "base_uri": "https://localhost:8080/",
          "height": 291
        }
      },
      "cell_type": "code",
      "source": [
        "df = pd.read_csv(\"cleaned_data.csv\")\n",
        "df.head()"
      ],
      "id": "726723c11ba277fa",
      "outputs": [
        {
          "output_type": "execute_result",
          "data": {
            "text/plain": [
              "   Units   Area m2  Price per m2  Block_187.0  Block_325.0  Block_326.0  \\\n",
              "0    0.2  0.651852      0.246652            0            0            0   \n",
              "1    0.2  0.650617      0.255311            0            0            0   \n",
              "2    0.2  0.650617      0.215054            0            0            0   \n",
              "3    0.0  0.170370      0.119238            0            0            0   \n",
              "4    0.0  0.170370      0.120038            0            0            0   \n",
              "\n",
              "   Block_375.0  Block_376.0  Block_390.0  Block_395.0  ...  dist_to_park  \\\n",
              "0            0            0            0            0  ...      0.079120   \n",
              "1            0            0            0            0  ...      0.079120   \n",
              "2            0            0            0            0  ...      0.079120   \n",
              "3            0            0            0            0  ...      0.732147   \n",
              "4            0            0            0            0  ...      0.732147   \n",
              "\n",
              "   is_park_within_radius  dist_to_mall  is_mall_within_radius  \\\n",
              "0                    0.0      0.880842                    0.0   \n",
              "1                    0.0      0.880842                    0.0   \n",
              "2                    0.0      0.880842                    0.0   \n",
              "3                    0.0      0.903616                    0.0   \n",
              "4                    0.0      0.903616                    0.0   \n",
              "\n",
              "   dist_to_supermarket  is_supermarket_within_radius  dist_to_beach  \\\n",
              "0             0.033427                           1.0       0.450467   \n",
              "1             0.033427                           1.0       0.450467   \n",
              "2             0.033427                           1.0       0.450467   \n",
              "3             0.675538                           0.0       0.499842   \n",
              "4             0.675538                           0.0       0.499842   \n",
              "\n",
              "   is_beach_within_radius  dist_to_place_of_worship  \\\n",
              "0                     0.0                  0.197408   \n",
              "1                     0.0                  0.197408   \n",
              "2                     0.0                  0.197408   \n",
              "3                     0.0                  0.332241   \n",
              "4                     0.0                  0.332241   \n",
              "\n",
              "   is_place_of_worship_within_radius  \n",
              "0                                0.0  \n",
              "1                                0.0  \n",
              "2                                0.0  \n",
              "3                                0.0  \n",
              "4                                0.0  \n",
              "\n",
              "[5 rows x 381 columns]"
            ],
            "text/html": [
              "\n",
              "  <div id=\"df-3efc5d5a-d3f2-4694-8dd8-d5ac6819e696\" class=\"colab-df-container\">\n",
              "    <div>\n",
              "<style scoped>\n",
              "    .dataframe tbody tr th:only-of-type {\n",
              "        vertical-align: middle;\n",
              "    }\n",
              "\n",
              "    .dataframe tbody tr th {\n",
              "        vertical-align: top;\n",
              "    }\n",
              "\n",
              "    .dataframe thead th {\n",
              "        text-align: right;\n",
              "    }\n",
              "</style>\n",
              "<table border=\"1\" class=\"dataframe\">\n",
              "  <thead>\n",
              "    <tr style=\"text-align: right;\">\n",
              "      <th></th>\n",
              "      <th>Units</th>\n",
              "      <th>Area m2</th>\n",
              "      <th>Price per m2</th>\n",
              "      <th>Block_187.0</th>\n",
              "      <th>Block_325.0</th>\n",
              "      <th>Block_326.0</th>\n",
              "      <th>Block_375.0</th>\n",
              "      <th>Block_376.0</th>\n",
              "      <th>Block_390.0</th>\n",
              "      <th>Block_395.0</th>\n",
              "      <th>...</th>\n",
              "      <th>dist_to_park</th>\n",
              "      <th>is_park_within_radius</th>\n",
              "      <th>dist_to_mall</th>\n",
              "      <th>is_mall_within_radius</th>\n",
              "      <th>dist_to_supermarket</th>\n",
              "      <th>is_supermarket_within_radius</th>\n",
              "      <th>dist_to_beach</th>\n",
              "      <th>is_beach_within_radius</th>\n",
              "      <th>dist_to_place_of_worship</th>\n",
              "      <th>is_place_of_worship_within_radius</th>\n",
              "    </tr>\n",
              "  </thead>\n",
              "  <tbody>\n",
              "    <tr>\n",
              "      <th>0</th>\n",
              "      <td>0.2</td>\n",
              "      <td>0.651852</td>\n",
              "      <td>0.246652</td>\n",
              "      <td>0</td>\n",
              "      <td>0</td>\n",
              "      <td>0</td>\n",
              "      <td>0</td>\n",
              "      <td>0</td>\n",
              "      <td>0</td>\n",
              "      <td>0</td>\n",
              "      <td>...</td>\n",
              "      <td>0.079120</td>\n",
              "      <td>0.0</td>\n",
              "      <td>0.880842</td>\n",
              "      <td>0.0</td>\n",
              "      <td>0.033427</td>\n",
              "      <td>1.0</td>\n",
              "      <td>0.450467</td>\n",
              "      <td>0.0</td>\n",
              "      <td>0.197408</td>\n",
              "      <td>0.0</td>\n",
              "    </tr>\n",
              "    <tr>\n",
              "      <th>1</th>\n",
              "      <td>0.2</td>\n",
              "      <td>0.650617</td>\n",
              "      <td>0.255311</td>\n",
              "      <td>0</td>\n",
              "      <td>0</td>\n",
              "      <td>0</td>\n",
              "      <td>0</td>\n",
              "      <td>0</td>\n",
              "      <td>0</td>\n",
              "      <td>0</td>\n",
              "      <td>...</td>\n",
              "      <td>0.079120</td>\n",
              "      <td>0.0</td>\n",
              "      <td>0.880842</td>\n",
              "      <td>0.0</td>\n",
              "      <td>0.033427</td>\n",
              "      <td>1.0</td>\n",
              "      <td>0.450467</td>\n",
              "      <td>0.0</td>\n",
              "      <td>0.197408</td>\n",
              "      <td>0.0</td>\n",
              "    </tr>\n",
              "    <tr>\n",
              "      <th>2</th>\n",
              "      <td>0.2</td>\n",
              "      <td>0.650617</td>\n",
              "      <td>0.215054</td>\n",
              "      <td>0</td>\n",
              "      <td>0</td>\n",
              "      <td>0</td>\n",
              "      <td>0</td>\n",
              "      <td>0</td>\n",
              "      <td>0</td>\n",
              "      <td>0</td>\n",
              "      <td>...</td>\n",
              "      <td>0.079120</td>\n",
              "      <td>0.0</td>\n",
              "      <td>0.880842</td>\n",
              "      <td>0.0</td>\n",
              "      <td>0.033427</td>\n",
              "      <td>1.0</td>\n",
              "      <td>0.450467</td>\n",
              "      <td>0.0</td>\n",
              "      <td>0.197408</td>\n",
              "      <td>0.0</td>\n",
              "    </tr>\n",
              "    <tr>\n",
              "      <th>3</th>\n",
              "      <td>0.0</td>\n",
              "      <td>0.170370</td>\n",
              "      <td>0.119238</td>\n",
              "      <td>0</td>\n",
              "      <td>0</td>\n",
              "      <td>0</td>\n",
              "      <td>0</td>\n",
              "      <td>0</td>\n",
              "      <td>0</td>\n",
              "      <td>0</td>\n",
              "      <td>...</td>\n",
              "      <td>0.732147</td>\n",
              "      <td>0.0</td>\n",
              "      <td>0.903616</td>\n",
              "      <td>0.0</td>\n",
              "      <td>0.675538</td>\n",
              "      <td>0.0</td>\n",
              "      <td>0.499842</td>\n",
              "      <td>0.0</td>\n",
              "      <td>0.332241</td>\n",
              "      <td>0.0</td>\n",
              "    </tr>\n",
              "    <tr>\n",
              "      <th>4</th>\n",
              "      <td>0.0</td>\n",
              "      <td>0.170370</td>\n",
              "      <td>0.120038</td>\n",
              "      <td>0</td>\n",
              "      <td>0</td>\n",
              "      <td>0</td>\n",
              "      <td>0</td>\n",
              "      <td>0</td>\n",
              "      <td>0</td>\n",
              "      <td>0</td>\n",
              "      <td>...</td>\n",
              "      <td>0.732147</td>\n",
              "      <td>0.0</td>\n",
              "      <td>0.903616</td>\n",
              "      <td>0.0</td>\n",
              "      <td>0.675538</td>\n",
              "      <td>0.0</td>\n",
              "      <td>0.499842</td>\n",
              "      <td>0.0</td>\n",
              "      <td>0.332241</td>\n",
              "      <td>0.0</td>\n",
              "    </tr>\n",
              "  </tbody>\n",
              "</table>\n",
              "<p>5 rows × 381 columns</p>\n",
              "</div>\n",
              "    <div class=\"colab-df-buttons\">\n",
              "\n",
              "  <div class=\"colab-df-container\">\n",
              "    <button class=\"colab-df-convert\" onclick=\"convertToInteractive('df-3efc5d5a-d3f2-4694-8dd8-d5ac6819e696')\"\n",
              "            title=\"Convert this dataframe to an interactive table.\"\n",
              "            style=\"display:none;\">\n",
              "\n",
              "  <svg xmlns=\"http://www.w3.org/2000/svg\" height=\"24px\" viewBox=\"0 -960 960 960\">\n",
              "    <path d=\"M120-120v-720h720v720H120Zm60-500h600v-160H180v160Zm220 220h160v-160H400v160Zm0 220h160v-160H400v160ZM180-400h160v-160H180v160Zm440 0h160v-160H620v160ZM180-180h160v-160H180v160Zm440 0h160v-160H620v160Z\"/>\n",
              "  </svg>\n",
              "    </button>\n",
              "\n",
              "  <style>\n",
              "    .colab-df-container {\n",
              "      display:flex;\n",
              "      gap: 12px;\n",
              "    }\n",
              "\n",
              "    .colab-df-convert {\n",
              "      background-color: #E8F0FE;\n",
              "      border: none;\n",
              "      border-radius: 50%;\n",
              "      cursor: pointer;\n",
              "      display: none;\n",
              "      fill: #1967D2;\n",
              "      height: 32px;\n",
              "      padding: 0 0 0 0;\n",
              "      width: 32px;\n",
              "    }\n",
              "\n",
              "    .colab-df-convert:hover {\n",
              "      background-color: #E2EBFA;\n",
              "      box-shadow: 0px 1px 2px rgba(60, 64, 67, 0.3), 0px 1px 3px 1px rgba(60, 64, 67, 0.15);\n",
              "      fill: #174EA6;\n",
              "    }\n",
              "\n",
              "    .colab-df-buttons div {\n",
              "      margin-bottom: 4px;\n",
              "    }\n",
              "\n",
              "    [theme=dark] .colab-df-convert {\n",
              "      background-color: #3B4455;\n",
              "      fill: #D2E3FC;\n",
              "    }\n",
              "\n",
              "    [theme=dark] .colab-df-convert:hover {\n",
              "      background-color: #434B5C;\n",
              "      box-shadow: 0px 1px 3px 1px rgba(0, 0, 0, 0.15);\n",
              "      filter: drop-shadow(0px 1px 2px rgba(0, 0, 0, 0.3));\n",
              "      fill: #FFFFFF;\n",
              "    }\n",
              "  </style>\n",
              "\n",
              "    <script>\n",
              "      const buttonEl =\n",
              "        document.querySelector('#df-3efc5d5a-d3f2-4694-8dd8-d5ac6819e696 button.colab-df-convert');\n",
              "      buttonEl.style.display =\n",
              "        google.colab.kernel.accessAllowed ? 'block' : 'none';\n",
              "\n",
              "      async function convertToInteractive(key) {\n",
              "        const element = document.querySelector('#df-3efc5d5a-d3f2-4694-8dd8-d5ac6819e696');\n",
              "        const dataTable =\n",
              "          await google.colab.kernel.invokeFunction('convertToInteractive',\n",
              "                                                    [key], {});\n",
              "        if (!dataTable) return;\n",
              "\n",
              "        const docLinkHtml = 'Like what you see? Visit the ' +\n",
              "          '<a target=\"_blank\" href=https://colab.research.google.com/notebooks/data_table.ipynb>data table notebook</a>'\n",
              "          + ' to learn more about interactive tables.';\n",
              "        element.innerHTML = '';\n",
              "        dataTable['output_type'] = 'display_data';\n",
              "        await google.colab.output.renderOutput(dataTable, element);\n",
              "        const docLink = document.createElement('div');\n",
              "        docLink.innerHTML = docLinkHtml;\n",
              "        element.appendChild(docLink);\n",
              "      }\n",
              "    </script>\n",
              "  </div>\n",
              "\n",
              "\n",
              "    <div id=\"df-b1af3ee6-f575-4586-8262-5ac4581c11ec\">\n",
              "      <button class=\"colab-df-quickchart\" onclick=\"quickchart('df-b1af3ee6-f575-4586-8262-5ac4581c11ec')\"\n",
              "                title=\"Suggest charts\"\n",
              "                style=\"display:none;\">\n",
              "\n",
              "<svg xmlns=\"http://www.w3.org/2000/svg\" height=\"24px\"viewBox=\"0 0 24 24\"\n",
              "     width=\"24px\">\n",
              "    <g>\n",
              "        <path d=\"M19 3H5c-1.1 0-2 .9-2 2v14c0 1.1.9 2 2 2h14c1.1 0 2-.9 2-2V5c0-1.1-.9-2-2-2zM9 17H7v-7h2v7zm4 0h-2V7h2v10zm4 0h-2v-4h2v4z\"/>\n",
              "    </g>\n",
              "</svg>\n",
              "      </button>\n",
              "\n",
              "<style>\n",
              "  .colab-df-quickchart {\n",
              "      --bg-color: #E8F0FE;\n",
              "      --fill-color: #1967D2;\n",
              "      --hover-bg-color: #E2EBFA;\n",
              "      --hover-fill-color: #174EA6;\n",
              "      --disabled-fill-color: #AAA;\n",
              "      --disabled-bg-color: #DDD;\n",
              "  }\n",
              "\n",
              "  [theme=dark] .colab-df-quickchart {\n",
              "      --bg-color: #3B4455;\n",
              "      --fill-color: #D2E3FC;\n",
              "      --hover-bg-color: #434B5C;\n",
              "      --hover-fill-color: #FFFFFF;\n",
              "      --disabled-bg-color: #3B4455;\n",
              "      --disabled-fill-color: #666;\n",
              "  }\n",
              "\n",
              "  .colab-df-quickchart {\n",
              "    background-color: var(--bg-color);\n",
              "    border: none;\n",
              "    border-radius: 50%;\n",
              "    cursor: pointer;\n",
              "    display: none;\n",
              "    fill: var(--fill-color);\n",
              "    height: 32px;\n",
              "    padding: 0;\n",
              "    width: 32px;\n",
              "  }\n",
              "\n",
              "  .colab-df-quickchart:hover {\n",
              "    background-color: var(--hover-bg-color);\n",
              "    box-shadow: 0 1px 2px rgba(60, 64, 67, 0.3), 0 1px 3px 1px rgba(60, 64, 67, 0.15);\n",
              "    fill: var(--button-hover-fill-color);\n",
              "  }\n",
              "\n",
              "  .colab-df-quickchart-complete:disabled,\n",
              "  .colab-df-quickchart-complete:disabled:hover {\n",
              "    background-color: var(--disabled-bg-color);\n",
              "    fill: var(--disabled-fill-color);\n",
              "    box-shadow: none;\n",
              "  }\n",
              "\n",
              "  .colab-df-spinner {\n",
              "    border: 2px solid var(--fill-color);\n",
              "    border-color: transparent;\n",
              "    border-bottom-color: var(--fill-color);\n",
              "    animation:\n",
              "      spin 1s steps(1) infinite;\n",
              "  }\n",
              "\n",
              "  @keyframes spin {\n",
              "    0% {\n",
              "      border-color: transparent;\n",
              "      border-bottom-color: var(--fill-color);\n",
              "      border-left-color: var(--fill-color);\n",
              "    }\n",
              "    20% {\n",
              "      border-color: transparent;\n",
              "      border-left-color: var(--fill-color);\n",
              "      border-top-color: var(--fill-color);\n",
              "    }\n",
              "    30% {\n",
              "      border-color: transparent;\n",
              "      border-left-color: var(--fill-color);\n",
              "      border-top-color: var(--fill-color);\n",
              "      border-right-color: var(--fill-color);\n",
              "    }\n",
              "    40% {\n",
              "      border-color: transparent;\n",
              "      border-right-color: var(--fill-color);\n",
              "      border-top-color: var(--fill-color);\n",
              "    }\n",
              "    60% {\n",
              "      border-color: transparent;\n",
              "      border-right-color: var(--fill-color);\n",
              "    }\n",
              "    80% {\n",
              "      border-color: transparent;\n",
              "      border-right-color: var(--fill-color);\n",
              "      border-bottom-color: var(--fill-color);\n",
              "    }\n",
              "    90% {\n",
              "      border-color: transparent;\n",
              "      border-bottom-color: var(--fill-color);\n",
              "    }\n",
              "  }\n",
              "</style>\n",
              "\n",
              "      <script>\n",
              "        async function quickchart(key) {\n",
              "          const quickchartButtonEl =\n",
              "            document.querySelector('#' + key + ' button');\n",
              "          quickchartButtonEl.disabled = true;  // To prevent multiple clicks.\n",
              "          quickchartButtonEl.classList.add('colab-df-spinner');\n",
              "          try {\n",
              "            const charts = await google.colab.kernel.invokeFunction(\n",
              "                'suggestCharts', [key], {});\n",
              "          } catch (error) {\n",
              "            console.error('Error during call to suggestCharts:', error);\n",
              "          }\n",
              "          quickchartButtonEl.classList.remove('colab-df-spinner');\n",
              "          quickchartButtonEl.classList.add('colab-df-quickchart-complete');\n",
              "        }\n",
              "        (() => {\n",
              "          let quickchartButtonEl =\n",
              "            document.querySelector('#df-b1af3ee6-f575-4586-8262-5ac4581c11ec button');\n",
              "          quickchartButtonEl.style.display =\n",
              "            google.colab.kernel.accessAllowed ? 'block' : 'none';\n",
              "        })();\n",
              "      </script>\n",
              "    </div>\n",
              "\n",
              "    </div>\n",
              "  </div>\n"
            ],
            "application/vnd.google.colaboratory.intrinsic+json": {
              "type": "dataframe",
              "variable_name": "df"
            }
          },
          "metadata": {},
          "execution_count": 3
        },
        {
          "output_type": "stream",
          "name": "stdout",
          "text": [
            "time: 220 ms (started: 2025-05-27 06:28:45 +00:00)\n"
          ]
        }
      ],
      "execution_count": 3
    },
    {
      "cell_type": "code",
      "source": [
        "df = df.dropna()\n",
        "city_columns = [col for col in df.columns if col.startswith(\"City_\")]\n",
        "df['city'] = df[city_columns].idxmax(axis=1).str.replace('City_', '')\n",
        "\n",
        "city_counts = df['city'].value_counts()\n",
        "valid_cities = city_counts[city_counts > 1].index\n",
        "df = df[df['city'].isin(valid_cities)].copy()\n",
        "\n",
        "\n",
        "city_columns = [col for col in df.columns if col.startswith(\"City_\")]\n",
        "\n",
        "target_column = \"Price per m2\"\n",
        "y = df[target_column]\n",
        "X = df.drop(columns=[target_column])\n",
        "\n",
        "X_train_full, X_test, y_train_full, y_test = train_test_split(\n",
        "    X, y, test_size=0.2, random_state=42, stratify=df['city']\n",
        ")\n",
        "\n",
        "X_train_part, X_val, y_train_part, y_val = train_test_split(\n",
        "    X_train_full, y_train_full, test_size=0.15, random_state=42,\n",
        "    stratify=X_train_full['city']\n",
        ")\n",
        "\n",
        "X_train_part = X_train_part.drop(columns=['city'])\n",
        "X_val = X_val.drop(columns=['city'])\n",
        "X_test = X_test.drop(columns=['city'])\n"
      ],
      "metadata": {
        "colab": {
          "base_uri": "https://localhost:8080/"
        },
        "id": "u71_MdIvUgWe",
        "outputId": "7261f703-df5d-4b17-f2e0-8a30e3898c74"
      },
      "id": "u71_MdIvUgWe",
      "execution_count": 4,
      "outputs": [
        {
          "output_type": "stream",
          "name": "stdout",
          "text": [
            "time: 65 ms (started: 2025-05-27 06:28:47 +00:00)\n"
          ]
        },
        {
          "output_type": "stream",
          "name": "stderr",
          "text": [
            "<ipython-input-4-f3814325d322>:3: SettingWithCopyWarning: \n",
            "A value is trying to be set on a copy of a slice from a DataFrame.\n",
            "Try using .loc[row_indexer,col_indexer] = value instead\n",
            "\n",
            "See the caveats in the documentation: https://pandas.pydata.org/pandas-docs/stable/user_guide/indexing.html#returning-a-view-versus-a-copy\n",
            "  df['city'] = df[city_columns].idxmax(axis=1).str.replace('City_', '')\n"
          ]
        }
      ]
    },
    {
      "cell_type": "code",
      "source": [
        "if isinstance(X_train_part, pd.DataFrame):\n",
        "    X_train_part = X_train_part.values\n",
        "if isinstance(X_val, pd.DataFrame):\n",
        "    X_val = X_val.values\n",
        "if isinstance(X_test, pd.DataFrame):\n",
        "    X_test = X_test.values"
      ],
      "metadata": {
        "colab": {
          "base_uri": "https://localhost:8080/"
        },
        "id": "1sH1xfDUXFzw",
        "outputId": "80d80127-8ff6-4da7-a7c3-71cceb0dc304"
      },
      "id": "1sH1xfDUXFzw",
      "execution_count": 5,
      "outputs": [
        {
          "output_type": "stream",
          "name": "stdout",
          "text": [
            "time: 7.04 ms (started: 2025-05-27 06:28:49 +00:00)\n"
          ]
        }
      ]
    },
    {
      "cell_type": "code",
      "source": [
        "X_train_part = X_train_part.astype(float)\n",
        "X_val = X_val.astype(float)\n",
        "X_test = X_test.astype(float)\n",
        "\n",
        "X_train_part = np.array(X_train_part, dtype=np.float32)\n",
        "X_val = np.array(X_val, dtype=np.float32)\n",
        "X_test = np.array(X_test, dtype=np.float32)"
      ],
      "metadata": {
        "colab": {
          "base_uri": "https://localhost:8080/"
        },
        "id": "q9slbr5iXK2h",
        "outputId": "35c49b19-ef56-44a4-d2b6-9f3d7a645bdc"
      },
      "id": "q9slbr5iXK2h",
      "execution_count": 6,
      "outputs": [
        {
          "output_type": "stream",
          "name": "stdout",
          "text": [
            "time: 5.84 ms (started: 2025-05-27 06:28:50 +00:00)\n"
          ]
        }
      ]
    },
    {
      "metadata": {
        "ExecuteTime": {
          "end_time": "2025-05-18T09:38:58.861313Z",
          "start_time": "2025-05-18T09:38:58.855532Z"
        },
        "id": "465d11927825c065",
        "outputId": "93c0c483-b322-4804-860d-8f44cc9d6423",
        "colab": {
          "base_uri": "https://localhost:8080/"
        }
      },
      "cell_type": "code",
      "source": [
        "device = torch.device(\"cuda\" if torch.cuda.is_available() else \"cpu\")\n",
        "print(f\"Using device: {device}\")"
      ],
      "id": "465d11927825c065",
      "outputs": [
        {
          "output_type": "stream",
          "name": "stdout",
          "text": [
            "Using device: cpu\n",
            "time: 1.55 ms (started: 2025-05-27 06:28:51 +00:00)\n"
          ]
        }
      ],
      "execution_count": 7
    },
    {
      "cell_type": "code",
      "source": [
        "# tensors\n",
        "X_train_tensor = torch.tensor(X_train_part, dtype=torch.float32).to(device)\n",
        "y_train_tensor = torch.tensor(y_train_part.values.reshape(-1,1), dtype=torch.float32).to(device)   # ← .values + reshape\n",
        "X_val_tensor   = torch.tensor(X_val,   dtype=torch.float32).to(device)\n",
        "y_val_tensor   = torch.tensor(y_val.values.reshape(-1,1),   dtype=torch.float32).to(device)   # ← same here\n",
        "X_test_tensor  = torch.tensor(X_test,  dtype=torch.float32).to(device)\n",
        "y_test_tensor  = torch.tensor(y_test.values.reshape(-1,1),  dtype=torch.float32).to(device)   # ← and here\n",
        "\n",
        "# DataLoaders\n",
        "train_loader = DataLoader(TensorDataset(X_train_tensor, y_train_tensor), batch_size=64, shuffle=True)\n",
        "val_loader   = DataLoader(TensorDataset(X_val_tensor,   y_val_tensor),   batch_size=64)"
      ],
      "metadata": {
        "colab": {
          "base_uri": "https://localhost:8080/"
        },
        "id": "srOXaEWsYW3D",
        "outputId": "a674d023-73a3-4761-b270-d89f78ff71b0"
      },
      "id": "srOXaEWsYW3D",
      "execution_count": 8,
      "outputs": [
        {
          "output_type": "stream",
          "name": "stdout",
          "text": [
            "time: 18.1 ms (started: 2025-05-27 06:28:51 +00:00)\n"
          ]
        }
      ]
    },
    {
      "metadata": {
        "id": "a5e5718c1b47ba39"
      },
      "cell_type": "markdown",
      "source": [
        "## Model Architecture"
      ],
      "id": "a5e5718c1b47ba39"
    },
    {
      "metadata": {
        "ExecuteTime": {
          "end_time": "2025-05-18T09:38:58.954781Z",
          "start_time": "2025-05-18T09:38:58.936426Z"
        },
        "id": "3c826d14b963bfb5",
        "outputId": "40975770-fb79-48e2-dce1-3349ed8ab9c7",
        "colab": {
          "base_uri": "https://localhost:8080/"
        }
      },
      "cell_type": "code",
      "source": [
        "class MLPmodel(nn.Module):\n",
        "    def __init__(self, input_dim):\n",
        "        super(MLPmodel, self).__init__()\n",
        "        # self.model = nn.Sequential(\n",
        "        #     nn.Linear(input_dim, 128),\n",
        "        #     nn.ReLU(),\n",
        "        #     nn.Dropout(0.3),\n",
        "        #     nn.Linear(128, 64),\n",
        "        #     nn.ReLU(),\n",
        "        #     nn.Dropout(0.3),\n",
        "        #     nn.Linear(64, 1)\n",
        "        # )\n",
        "\n",
        "        self.model = nn.Sequential(\n",
        "            nn.Linear(input_dim, 256),\n",
        "            nn.LayerNorm(256),\n",
        "            nn.SiLU(),\n",
        "            nn.Dropout(0.2),\n",
        "\n",
        "            nn.Linear(256, 128),\n",
        "            nn.LayerNorm(128),\n",
        "            nn.SiLU(),\n",
        "            nn.Dropout(0.2),\n",
        "\n",
        "            nn.Linear(128, 64),\n",
        "            nn.SiLU(),\n",
        "\n",
        "            nn.Linear(64, 1)\n",
        "        )\n",
        "\n",
        "    def forward(self, x):\n",
        "        return self.model(x)\n",
        "\n",
        "model = MLPmodel(input_dim=X_train_part.shape[1]).to(device)\n"
      ],
      "id": "3c826d14b963bfb5",
      "outputs": [
        {
          "output_type": "stream",
          "name": "stdout",
          "text": [
            "time: 23.4 ms (started: 2025-05-27 06:28:55 +00:00)\n"
          ]
        }
      ],
      "execution_count": 9
    },
    {
      "metadata": {
        "id": "549cd01cc0da863f"
      },
      "cell_type": "markdown",
      "source": [
        "## Define hyper-parameters & Training model"
      ],
      "id": "549cd01cc0da863f"
    },
    {
      "metadata": {
        "ExecuteTime": {
          "end_time": "2025-05-18T09:39:00.691854Z",
          "start_time": "2025-05-18T09:38:58.959133Z"
        },
        "id": "190d984b527586a6",
        "outputId": "ffc0f91f-3edc-477b-8e50-87617c244317",
        "colab": {
          "base_uri": "https://localhost:8080/"
        }
      },
      "cell_type": "code",
      "source": [
        "# criterion = nn.MSELoss()\n",
        "criterion = nn.HuberLoss(delta=0.1)\n",
        "optimizer = torch.optim.Adam(model.parameters(), lr=0.001)\n",
        "\n",
        "num_epochs = 100\n",
        "early_stop_patience = 5\n",
        "best_val_loss = float('inf')\n",
        "epochs_no_improve = 0\n",
        "train_losses = []\n",
        "val_losses = []\n",
        "\n",
        "best_model = None\n",
        "\n",
        "for epoch in range(num_epochs):\n",
        "    model.train()\n",
        "    train_loss = 0.0\n",
        "    for xb, yb in train_loader:\n",
        "        pred = model(xb)\n",
        "        loss = criterion(pred, yb)\n",
        "        optimizer.zero_grad()\n",
        "        loss.backward()\n",
        "        optimizer.step()\n",
        "        train_loss += loss.item()\n",
        "    train_loss /= len(train_loader)\n",
        "    train_losses.append(train_loss)\n",
        "\n",
        "    model.eval()\n",
        "    val_loss = 0.0\n",
        "    with torch.no_grad():\n",
        "        for xb, yb in val_loader:\n",
        "            pred = model(xb)\n",
        "            loss = criterion(pred, yb)\n",
        "            val_loss += loss.item()\n",
        "    val_loss /= len(val_loader)\n",
        "    val_losses.append(val_loss)\n",
        "\n",
        "    print(f\"Epoch {epoch+1}, Train Loss: {train_loss:.5f}, Val Loss: {val_loss:.5f}\")\n",
        "\n",
        "    # Early stopping\n",
        "    if val_loss < best_val_loss:\n",
        "        best_val_loss = val_loss\n",
        "        best_model = copy.deepcopy(model.state_dict())\n",
        "        epochs_no_improve = 0\n",
        "    else:\n",
        "        epochs_no_improve += 1\n",
        "        if epochs_no_improve >= early_stop_patience:\n",
        "            print(\"Early stopping triggered.\")\n",
        "            break\n"
      ],
      "id": "190d984b527586a6",
      "outputs": [
        {
          "output_type": "stream",
          "name": "stdout",
          "text": [
            "Epoch 1, Train Loss: 0.00569, Val Loss: 0.00161\n",
            "Epoch 2, Train Loss: 0.00156, Val Loss: 0.00102\n",
            "Epoch 3, Train Loss: 0.00106, Val Loss: 0.00084\n",
            "Epoch 4, Train Loss: 0.00092, Val Loss: 0.00076\n",
            "Epoch 5, Train Loss: 0.00077, Val Loss: 0.00074\n",
            "Epoch 6, Train Loss: 0.00067, Val Loss: 0.00066\n",
            "Epoch 7, Train Loss: 0.00072, Val Loss: 0.00071\n",
            "Epoch 8, Train Loss: 0.00063, Val Loss: 0.00067\n",
            "Epoch 9, Train Loss: 0.00060, Val Loss: 0.00066\n",
            "Epoch 10, Train Loss: 0.00065, Val Loss: 0.00072\n",
            "Epoch 11, Train Loss: 0.00064, Val Loss: 0.00067\n",
            "Early stopping triggered.\n",
            "time: 11.3 s (started: 2025-05-27 06:28:57 +00:00)\n"
          ]
        }
      ],
      "execution_count": 10
    },
    {
      "metadata": {
        "id": "60ecab9877145b2"
      },
      "cell_type": "markdown",
      "source": [
        "## Plotting Training and Validation Metrics"
      ],
      "id": "60ecab9877145b2"
    },
    {
      "metadata": {
        "ExecuteTime": {
          "end_time": "2025-05-18T09:39:00.848718Z",
          "start_time": "2025-05-18T09:39:00.695885Z"
        },
        "id": "4e3a45c0f39a2dc8",
        "outputId": "78dd4b44-644c-40c7-fcb4-66e4406e9592",
        "colab": {
          "base_uri": "https://localhost:8080/",
          "height": 490
        }
      },
      "cell_type": "code",
      "source": [
        "plt.plot(train_losses, label='Train Loss')\n",
        "plt.plot(val_losses, label='Validation Loss')\n",
        "plt.xlabel(\"Epoch\")\n",
        "plt.ylabel(\"MSE Loss\")\n",
        "plt.title(\"Training & Validation Loss\")\n",
        "plt.legend()\n",
        "plt.grid(True)\n",
        "plt.show()"
      ],
      "id": "4e3a45c0f39a2dc8",
      "outputs": [
        {
          "output_type": "display_data",
          "data": {
            "text/plain": [
              "<Figure size 640x480 with 1 Axes>"
            ],
            "image/png": "[encoded data removed]"
          },
          "metadata": {}
        },
        {
          "output_type": "stream",
          "name": "stdout",
          "text": [
            "time: 158 ms (started: 2025-05-27 06:29:17 +00:00)\n"
          ]
        }
      ],
      "execution_count": 11
    },
    {
      "metadata": {
        "id": "ba9bda6e3ce69c93"
      },
      "cell_type": "markdown",
      "source": [
        "### Saving trained model"
      ],
      "id": "ba9bda6e3ce69c93"
    },
    {
      "metadata": {
        "ExecuteTime": {
          "end_time": "2025-05-18T09:39:00.869373Z",
          "start_time": "2025-05-18T09:39:00.859827Z"
        },
        "id": "d30f30fef99ee735",
        "outputId": "960fc473-68da-4158-b2fe-acc9168099dd",
        "colab": {
          "base_uri": "https://localhost:8080/"
        }
      },
      "cell_type": "code",
      "source": [
        "model.load_state_dict(best_model)\n",
        "\n",
        "torch.save(model.state_dict(), \"mlp_model.pt\")\n",
        "print(\"Model saved to mlp_model.pt\")\n"
      ],
      "id": "d30f30fef99ee735",
      "outputs": [
        {
          "output_type": "stream",
          "name": "stdout",
          "text": [
            "Model saved to mlp_model.pt\n",
            "time: 6.35 ms (started: 2025-05-27 06:29:20 +00:00)\n"
          ]
        }
      ],
      "execution_count": 12
    },
    {
      "metadata": {
        "id": "a2adf69eae9b8598"
      },
      "cell_type": "markdown",
      "source": [
        "## Evaluation"
      ],
      "id": "a2adf69eae9b8598"
    },
    {
      "metadata": {
        "ExecuteTime": {
          "end_time": "2025-05-18T09:39:00.907036Z",
          "start_time": "2025-05-18T09:39:00.884745Z"
        },
        "id": "68240a5ba15d7a6f",
        "colab": {
          "base_uri": "https://localhost:8080/"
        },
        "outputId": "25647992-9d1a-450b-d6db-2e21d0b86332"
      },
      "cell_type": "code",
      "source": [
        "model.load_state_dict(best_model)\n",
        "model.eval()\n",
        "\n",
        "with torch.no_grad():\n",
        "    y_train_pred = model(torch.tensor(X_train_part, dtype=torch.float32).to(device)).cpu().numpy()\n",
        "    y_val_pred = model(torch.tensor(X_val, dtype=torch.float32).to(device)).cpu().numpy()\n",
        "    y_test_pred = model(X_test_tensor).cpu().numpy()\n",
        "\n",
        "print(\"Train set:\")\n",
        "print(f\"MAE: {mean_absolute_error(y_train_part, y_train_pred):.4f}\")\n",
        "print(f\"MSE: {mean_squared_error(y_train_part, y_train_pred):.4f}\")\n",
        "print(f\"R² : {r2_score(y_train_part, y_train_pred):.4f}\")\n",
        "\n",
        "print(\"\\nValidation set:\")\n",
        "print(f\"MAE: {mean_absolute_error(y_val, y_val_pred):.4f}\")\n",
        "print(f\"MSE: {mean_squared_error(y_val, y_val_pred):.4f}\")\n",
        "print(f\"R² : {r2_score(y_val, y_val_pred):.4f}\")\n",
        "\n",
        "print(\"\\nTest set:\")\n",
        "print(f\"MAE: {mean_absolute_error(y_test_tensor.cpu().numpy(), y_test_pred):.4f}\")\n",
        "print(f\"MSE: {mean_squared_error(y_test_tensor.cpu().numpy(), y_test_pred):.4f}\")\n",
        "print(f\"R² : {r2_score(y_test_tensor.cpu().numpy(), y_test_pred):.4f}\")\n"
      ],
      "id": "68240a5ba15d7a6f",
      "outputs": [
        {
          "output_type": "stream",
          "name": "stdout",
          "text": [
            "Train set:\n",
            "MAE: 0.0210\n",
            "MSE: 0.0011\n",
            "R² : 0.9387\n",
            "\n",
            "Validation set:\n",
            "MAE: 0.0248\n",
            "MSE: 0.0018\n",
            "R² : 0.9009\n",
            "\n",
            "Test set:\n",
            "MAE: 0.0251\n",
            "MSE: 0.0021\n",
            "R² : 0.8875\n",
            "time: 27.8 ms (started: 2025-05-27 06:29:22 +00:00)\n"
          ]
        }
      ],
      "execution_count": 13
    },
    {
      "metadata": {
        "id": "a925208c392fbcfa"
      },
      "cell_type": "markdown",
      "source": [
        "## Test env"
      ],
      "id": "a925208c392fbcfa"
    },
    {
      "metadata": {
        "ExecuteTime": {
          "end_time": "2025-05-18T09:39:00.915235Z",
          "start_time": "2025-05-18T09:39:00.912824Z"
        },
        "id": "d69165f059e882f5",
        "outputId": "973323d1-d3cd-4d45-af85-cc74639046fa",
        "colab": {
          "base_uri": "https://localhost:8080/"
        }
      },
      "cell_type": "code",
      "source": [
        "import torch\n",
        "import pandas as pd\n",
        "import json"
      ],
      "id": "d69165f059e882f5",
      "outputs": [
        {
          "output_type": "stream",
          "name": "stdout",
          "text": [
            "time: 360 µs (started: 2025-05-27 06:00:34 +00:00)\n"
          ]
        }
      ],
      "execution_count": 13
    },
    {
      "metadata": {
        "ExecuteTime": {
          "end_time": "2025-05-18T09:39:01.033311Z",
          "start_time": "2025-05-18T09:39:00.927851Z"
        },
        "id": "2dd9c2b38a700d0a",
        "outputId": "ad009d40-7f97-4c46-878b-c8e4d20522ed",
        "colab": {
          "base_uri": "https://localhost:8080/",
          "height": 238
        }
      },
      "cell_type": "code",
      "source": [
        "with open('scaler_minmax.json', 'r') as f:\n",
        "    scaler_minmax = json.load(f)\n",
        "\n",
        "with open('price_minmax.json', 'r') as f:\n",
        "    price_minmax = json.load(f)\n",
        "\n",
        "# loading selected cols\n",
        "X_columns = pd.read_csv(\"cleaned_data.csv\").drop(columns=[\"Price per m2\"]).columns\n",
        "# df = pd.read_csv(\"cleaned_data.csv\")\n"
      ],
      "id": "2dd9c2b38a700d0a",
      "outputs": [
        {
          "output_type": "error",
          "ename": "FileNotFoundError",
          "evalue": "[Errno 2] No such file or directory: 'scaler_minmax.json'",
          "traceback": [
            "\u001b[0;31m---------------------------------------------------------------------------\u001b[0m",
            "\u001b[0;31mFileNotFoundError\u001b[0m                         Traceback (most recent call last)",
            "\u001b[0;32m<ipython-input-14-2530448a4e0d>\u001b[0m in \u001b[0;36m<cell line: 0>\u001b[0;34m()\u001b[0m\n\u001b[0;32m----> 1\u001b[0;31m \u001b[0;32mwith\u001b[0m \u001b[0mopen\u001b[0m\u001b[0;34m(\u001b[0m\u001b[0;34m'scaler_minmax.json'\u001b[0m\u001b[0;34m,\u001b[0m \u001b[0;34m'r'\u001b[0m\u001b[0;34m)\u001b[0m \u001b[0;32mas\u001b[0m \u001b[0mf\u001b[0m\u001b[0;34m:\u001b[0m\u001b[0;34m\u001b[0m\u001b[0;34m\u001b[0m\u001b[0m\n\u001b[0m\u001b[1;32m      2\u001b[0m     \u001b[0mscaler_minmax\u001b[0m \u001b[0;34m=\u001b[0m \u001b[0mjson\u001b[0m\u001b[0;34m.\u001b[0m\u001b[0mload\u001b[0m\u001b[0;34m(\u001b[0m\u001b[0mf\u001b[0m\u001b[0;34m)\u001b[0m\u001b[0;34m\u001b[0m\u001b[0;34m\u001b[0m\u001b[0m\n\u001b[1;32m      3\u001b[0m \u001b[0;34m\u001b[0m\u001b[0m\n\u001b[1;32m      4\u001b[0m \u001b[0;32mwith\u001b[0m \u001b[0mopen\u001b[0m\u001b[0;34m(\u001b[0m\u001b[0;34m'price_minmax.json'\u001b[0m\u001b[0;34m,\u001b[0m \u001b[0;34m'r'\u001b[0m\u001b[0;34m)\u001b[0m \u001b[0;32mas\u001b[0m \u001b[0mf\u001b[0m\u001b[0;34m:\u001b[0m\u001b[0;34m\u001b[0m\u001b[0;34m\u001b[0m\u001b[0m\n\u001b[1;32m      5\u001b[0m     \u001b[0mprice_minmax\u001b[0m \u001b[0;34m=\u001b[0m \u001b[0mjson\u001b[0m\u001b[0;34m.\u001b[0m\u001b[0mload\u001b[0m\u001b[0;34m(\u001b[0m\u001b[0mf\u001b[0m\u001b[0;34m)\u001b[0m\u001b[0;34m\u001b[0m\u001b[0;34m\u001b[0m\u001b[0m\n",
            "\u001b[0;31mFileNotFoundError\u001b[0m: [Errno 2] No such file or directory: 'scaler_minmax.json'"
          ]
        },
        {
          "output_type": "stream",
          "name": "stdout",
          "text": [
            "time: 24.4 ms (started: 2025-05-27 06:00:35 +00:00)\n"
          ]
        }
      ],
      "execution_count": 14
    },
    {
      "metadata": {
        "ExecuteTime": {
          "end_time": "2025-05-18T09:39:01.047635Z",
          "start_time": "2025-05-18T09:39:01.041531Z"
        },
        "id": "72228323a2f0190e",
        "outputId": "ddbf6b34-b440-443d-b69c-2340dbbf7948"
      },
      "cell_type": "code",
      "source": [
        "def normalize_value(value, min_val, max_val):\n",
        "    if max_val > min_val:\n",
        "        return (value - min_val) / (max_val - min_val)\n",
        "    else:\n",
        "        return 0.0\n",
        "\n",
        "def find_all_columns_by_substring(columns, value):\n",
        "    value = str(value).strip().lower()\n",
        "    matches = [col for col in columns if value in col.lower()]\n",
        "    return matches\n",
        "\n",
        "def find_columns_exact_match(columns, value):\n",
        "    value = str(value).strip().lower()\n",
        "    matches = [col for col in columns if col.lower() == value]\n",
        "    return matches\n",
        "\n",
        "def predict_price_mlp(user_input: dict, model, X_columns, scaler_minmax, price_minmax, default_values=None):\n",
        "\n",
        "    if default_values is None:\n",
        "        default_values = {\n",
        "            'Units': 1,\n",
        "            'Area m2': 500,\n",
        "            'block': '0.0',\n",
        "            'Committee year': '2025.0',\n",
        "            'committee month': '6.0',\n",
        "            'region': 'Unknown',\n",
        "            'city': 'Unknown'\n",
        "        }\n",
        "\n",
        "    input_df = pd.DataFrame([0] * len(X_columns), index=X_columns).T\n",
        "\n",
        "    # handling numeric features\n",
        "    for col in ['Units', 'Area m2']:\n",
        "        val = float(user_input.get(col, default_values[col]))\n",
        "        min_val = scaler_minmax[col]['min']\n",
        "        max_val = scaler_minmax[col]['max']\n",
        "        input_df.at[0, col] = normalize_value(val, min_val, max_val)\n",
        "\n",
        "    block_col = f\"Block_{user_input.get('block', default_values['block'])}\"\n",
        "    if block_col in X_columns:\n",
        "        input_df.at[0, block_col] = 1\n",
        "\n",
        "    year_col = f\"Committee_year_{user_input.get('Committee year', default_values['Committee year'])}\"\n",
        "    month_col = f\"Committee_month_{user_input.get('committee month', default_values['committee month'])}\"\n",
        "    if year_col in X_columns:\n",
        "        input_df.at[0, year_col] = 1\n",
        "    if month_col in X_columns:\n",
        "        input_df.at[0, month_col] = 1\n",
        "\n",
        "    # one-hot coding features\n",
        "\n",
        "    # city_col = user_input.get('city', default_values['city'])\n",
        "    # val = find_all_columns_by_substring(X_columns, city_col)\n",
        "    # if val in X_columns:\n",
        "    #     input_df.at[0, val] = 1\n",
        "    #\n",
        "    #\n",
        "    # region_col = user_input.get('region', default_values['region'])\n",
        "    # val = find_columns_exact_match(X_columns, region_col)\n",
        "    # if val in X_columns:\n",
        "    #     input_df.at[0, val] = 1\n",
        "\n",
        "    for feature in ['region', 'city']:\n",
        "        val = user_input.get(feature, default_values[feature])\n",
        "        matches = find_all_columns_by_substring(X_columns, val)\n",
        "        for col in matches:\n",
        "            if col in input_df.columns:\n",
        "                input_df.at[0, col] = 1\n",
        "\n",
        "\n",
        "      #Exeption in case no values have got\n",
        "    if input_df.empty:\n",
        "        raise ValueError(\"No records were found match to the query.\")\n",
        "\n",
        "\n",
        "    input_tensor = torch.tensor(input_df.values, dtype=torch.float32).to(device)\n",
        "    model.eval()\n",
        "    with torch.no_grad():\n",
        "        prediction = model(input_tensor).item()\n",
        "\n",
        "    price_min = price_minmax[\"min\"]\n",
        "    price_max = price_minmax[\"max\"]\n",
        "    predicted_price_per_m2 = prediction * (price_max - price_min) + price_min\n",
        "\n",
        "    return predicted_price_per_m2"
      ],
      "id": "72228323a2f0190e",
      "outputs": [
        {
          "name": "stdout",
          "output_type": "stream",
          "text": [
            "time: 1.06 ms (started: 2025-05-18 12:39:01 +03:00)\n"
          ]
        }
      ],
      "execution_count": null
    },
    {
      "metadata": {
        "id": "6393e33a780bd1f8"
      },
      "cell_type": "markdown",
      "source": [
        "### Testing on existing record in Dataset"
      ],
      "id": "6393e33a780bd1f8"
    },
    {
      "metadata": {
        "ExecuteTime": {
          "end_time": "2025-05-18T09:39:01.056091Z",
          "start_time": "2025-05-18T09:39:01.052348Z"
        },
        "id": "78908a4c8ca8986c",
        "outputId": "ad3580f9-f4ca-4261-eff1-ba918ae6a2f3"
      },
      "cell_type": "code",
      "source": [
        "import torch\n",
        "import pandas as pd\n",
        "\n",
        "def predict_from_record(row, model, price_minmax):\n",
        "\n",
        "    input_df = pd.DataFrame([0] * len(row.drop(labels='Price per m2', errors='ignore').index),\n",
        "                            index=row.drop(labels='Price per m2', errors='ignore').index).T\n",
        "\n",
        "    # numeric features\n",
        "    numeric_features = ['Units', 'Area m2']\n",
        "    for col in numeric_features:\n",
        "        if col in row:\n",
        "            input_df.at[0, col] = row[col]\n",
        "\n",
        "    # copy the cols which turn on to '1'\n",
        "    for col in row.index:\n",
        "        if col.startswith(('Block_', 'City_', 'Region_', 'Committee_year_', 'Committee_month_')) and row[col] == 1:\n",
        "            input_df.at[0, col] = 1\n",
        "\n",
        "    input_tensor = torch.tensor(input_df.values, dtype=torch.float32)\n",
        "\n",
        "    model.eval()\n",
        "    with torch.no_grad():\n",
        "        prediction_norm = model(input_tensor).item()\n",
        "\n",
        "    price_min = price_minmax[\"min\"]\n",
        "    price_max = price_minmax[\"max\"]\n",
        "    prediction = prediction_norm * (price_max - price_min) + price_min\n",
        "\n",
        "    true_norm = row['Price per m2']\n",
        "    true_price = true_norm * (price_max - price_min) + price_min\n",
        "\n",
        "    print(f\"Prediction: {prediction:,.2f} ₪\")\n",
        "    print(f\"Actual price: {true_price:,.2f} ₪\")\n",
        "    print(f\"Deviation: {abs(prediction - true_price) / true_price * 100:.2f}%\")\n",
        "    return prediction, true_price"
      ],
      "id": "78908a4c8ca8986c",
      "outputs": [
        {
          "name": "stdout",
          "output_type": "stream",
          "text": [
            "time: 592 μs (started: 2025-05-18 12:39:01 +03:00)\n"
          ]
        }
      ],
      "execution_count": null
    },
    {
      "metadata": {
        "ExecuteTime": {
          "end_time": "2025-05-18T09:39:01.077916Z",
          "start_time": "2025-05-18T09:39:01.068932Z"
        },
        "id": "c5201030f08ffc4a",
        "outputId": "e67f8412-9f86-46b8-b978-72582817aeca"
      },
      "cell_type": "code",
      "source": [
        "row = df.sample(1).iloc[0]\n",
        "predict_from_record(row, model, price_minmax)"
      ],
      "id": "c5201030f08ffc4a",
      "outputs": [
        {
          "name": "stdout",
          "output_type": "stream",
          "text": [
            "Prediction: 120.97 ₪\n",
            "Actual price: 79.94 ₪\n",
            "Deviation: 51.33%\n"
          ]
        },
        {
          "name": "stderr",
          "output_type": "stream",
          "text": [
            "/var/folders/lb/824pdw_j27x5fbnfxl4hkx880000gn/T/ipykernel_21726/464310760.py:13: FutureWarning: Setting an item of incompatible dtype is deprecated and will raise an error in a future version of pandas. Value '0.4031476997578692' has dtype incompatible with int64, please explicitly cast to a compatible dtype first.\n",
            "  input_df.at[0, col] = row[col]\n"
          ]
        },
        {
          "data": {
            "text/plain": [
              "(120.9695897461392, np.float64(79.93688362919087))"
            ]
          },
          "execution_count": 37,
          "metadata": {},
          "output_type": "execute_result"
        },
        {
          "name": "stdout",
          "output_type": "stream",
          "text": [
            "time: 7.1 ms (started: 2025-05-18 12:39:01 +03:00)\n"
          ]
        }
      ],
      "execution_count": null
    },
    {
      "metadata": {
        "id": "a69c3f5a2561cb4e"
      },
      "cell_type": "markdown",
      "source": [
        "## Random records from data"
      ],
      "id": "a69c3f5a2561cb4e"
    },
    {
      "metadata": {
        "ExecuteTime": {
          "end_time": "2025-05-18T09:39:01.087551Z",
          "start_time": "2025-05-18T09:39:01.082579Z"
        },
        "id": "932c07326070e93",
        "outputId": "fcc53afe-8629-440f-dc1f-de4f08f5eef6"
      },
      "cell_type": "code",
      "source": [
        "def evaluate_on_random_samples(df, model, scaler_minmax, price_minmax, n=20):\n",
        "\n",
        "    X_columns = df.drop(columns=[\"Price per m2\"]).columns\n",
        "    errors = []\n",
        "\n",
        "    for _, row in df.sample(n=n, random_state=42).iterrows():\n",
        "        input_df = pd.DataFrame([0] * len(X_columns), index=X_columns).T\n",
        "\n",
        "        for col in ['Units', 'Area m2']:\n",
        "            val = row[col]\n",
        "            min_val = scaler_minmax[col]['min']\n",
        "            max_val = scaler_minmax[col]['max']\n",
        "            input_df.at[0, col] = normalize_value(val, min_val, max_val)\n",
        "\n",
        "        for col in row.index:\n",
        "            if row[col] == 1 and col in input_df.columns:\n",
        "                input_df.at[0, col] = 1\n",
        "\n",
        "        input_tensor = torch.tensor(input_df.values, dtype=torch.float32).to(device)\n",
        "        model.eval()\n",
        "        with torch.no_grad():\n",
        "            pred_norm = model(input_tensor).item()\n",
        "\n",
        "        pred = pred_norm * (price_minmax[\"max\"] - price_minmax[\"min\"]) + price_minmax[\"min\"]\n",
        "        true = row[\"Price per m2\"] * (price_minmax[\"max\"] - price_minmax[\"min\"]) + price_minmax[\"min\"]\n",
        "        error_pct = abs(pred - true) / true * 100\n",
        "        errors.append(error_pct)\n",
        "\n",
        "    print(f\"Mean error: {np.mean(errors):.2f}%\") # ממוצע שגיאה\n",
        "    print(f\"Median error: {np.median(errors):.2f}%\") # חציון שגיאה\n",
        "    print(f\"Maximum error: {np.max(errors):.2f}%\")\n",
        "    print(f\"Minimum error: {np.min(errors):.2f}%\")"
      ],
      "id": "932c07326070e93",
      "outputs": [
        {
          "name": "stdout",
          "output_type": "stream",
          "text": [
            "time: 648 μs (started: 2025-05-18 12:39:01 +03:00)\n"
          ]
        }
      ],
      "execution_count": null
    },
    {
      "metadata": {
        "ExecuteTime": {
          "end_time": "2025-05-18T09:39:01.133625Z",
          "start_time": "2025-05-18T09:39:01.107809Z"
        },
        "id": "e9ba308e8ebbf22b",
        "outputId": "1be6391f-bcbd-4abd-b063-aee1437a7954"
      },
      "cell_type": "code",
      "source": [
        "evaluate_on_random_samples(df, model, scaler_minmax, price_minmax, n=20)"
      ],
      "id": "e9ba308e8ebbf22b",
      "outputs": [
        {
          "name": "stdout",
          "output_type": "stream",
          "text": [
            "Mean error: 71.99%\n",
            "Median error: 53.11%\n",
            "Maximum error: 330.91%\n",
            "Minimum error: 4.19%\n",
            "time: 23.3 ms (started: 2025-05-18 12:39:01 +03:00)\n"
          ]
        },
        {
          "name": "stderr",
          "output_type": "stream",
          "text": [
            "/var/folders/lb/824pdw_j27x5fbnfxl4hkx880000gn/T/ipykernel_21726/450460328.py:13: FutureWarning: Setting an item of incompatible dtype is deprecated and will raise an error in a future version of pandas. Value '-0.2' has dtype incompatible with int64, please explicitly cast to a compatible dtype first.\n",
            "  input_df.at[0, col] = normalize_value(val, min_val, max_val)\n",
            "/var/folders/lb/824pdw_j27x5fbnfxl4hkx880000gn/T/ipykernel_21726/450460328.py:13: FutureWarning: Setting an item of incompatible dtype is deprecated and will raise an error in a future version of pandas. Value '-0.2103122490018702' has dtype incompatible with int64, please explicitly cast to a compatible dtype first.\n",
            "  input_df.at[0, col] = normalize_value(val, min_val, max_val)\n",
            "/var/folders/lb/824pdw_j27x5fbnfxl4hkx880000gn/T/ipykernel_21726/450460328.py:13: FutureWarning: Setting an item of incompatible dtype is deprecated and will raise an error in a future version of pandas. Value '-0.2' has dtype incompatible with int64, please explicitly cast to a compatible dtype first.\n",
            "  input_df.at[0, col] = normalize_value(val, min_val, max_val)\n",
            "/var/folders/lb/824pdw_j27x5fbnfxl4hkx880000gn/T/ipykernel_21726/450460328.py:13: FutureWarning: Setting an item of incompatible dtype is deprecated and will raise an error in a future version of pandas. Value '-0.21008799957788343' has dtype incompatible with int64, please explicitly cast to a compatible dtype first.\n",
            "  input_df.at[0, col] = normalize_value(val, min_val, max_val)\n",
            "/var/folders/lb/824pdw_j27x5fbnfxl4hkx880000gn/T/ipykernel_21726/450460328.py:13: FutureWarning: Setting an item of incompatible dtype is deprecated and will raise an error in a future version of pandas. Value '-0.2' has dtype incompatible with int64, please explicitly cast to a compatible dtype first.\n",
            "  input_df.at[0, col] = normalize_value(val, min_val, max_val)\n",
            "/var/folders/lb/824pdw_j27x5fbnfxl4hkx880000gn/T/ipykernel_21726/450460328.py:13: FutureWarning: Setting an item of incompatible dtype is deprecated and will raise an error in a future version of pandas. Value '-0.21039579290492413' has dtype incompatible with int64, please explicitly cast to a compatible dtype first.\n",
            "  input_df.at[0, col] = normalize_value(val, min_val, max_val)\n",
            "/var/folders/lb/824pdw_j27x5fbnfxl4hkx880000gn/T/ipykernel_21726/450460328.py:13: FutureWarning: Setting an item of incompatible dtype is deprecated and will raise an error in a future version of pandas. Value '-0.16' has dtype incompatible with int64, please explicitly cast to a compatible dtype first.\n",
            "  input_df.at[0, col] = normalize_value(val, min_val, max_val)\n",
            "/var/folders/lb/824pdw_j27x5fbnfxl4hkx880000gn/T/ipykernel_21726/450460328.py:13: FutureWarning: Setting an item of incompatible dtype is deprecated and will raise an error in a future version of pandas. Value '-0.2101774062109762' has dtype incompatible with int64, please explicitly cast to a compatible dtype first.\n",
            "  input_df.at[0, col] = normalize_value(val, min_val, max_val)\n",
            "/var/folders/lb/824pdw_j27x5fbnfxl4hkx880000gn/T/ipykernel_21726/450460328.py:13: FutureWarning: Setting an item of incompatible dtype is deprecated and will raise an error in a future version of pandas. Value '-0.2' has dtype incompatible with int64, please explicitly cast to a compatible dtype first.\n",
            "  input_df.at[0, col] = normalize_value(val, min_val, max_val)\n",
            "/var/folders/lb/824pdw_j27x5fbnfxl4hkx880000gn/T/ipykernel_21726/450460328.py:13: FutureWarning: Setting an item of incompatible dtype is deprecated and will raise an error in a future version of pandas. Value '-0.2101510239258013' has dtype incompatible with int64, please explicitly cast to a compatible dtype first.\n",
            "  input_df.at[0, col] = normalize_value(val, min_val, max_val)\n",
            "/var/folders/lb/824pdw_j27x5fbnfxl4hkx880000gn/T/ipykernel_21726/450460328.py:13: FutureWarning: Setting an item of incompatible dtype is deprecated and will raise an error in a future version of pandas. Value '-0.2' has dtype incompatible with int64, please explicitly cast to a compatible dtype first.\n",
            "  input_df.at[0, col] = normalize_value(val, min_val, max_val)\n",
            "/var/folders/lb/824pdw_j27x5fbnfxl4hkx880000gn/T/ipykernel_21726/450460328.py:13: FutureWarning: Setting an item of incompatible dtype is deprecated and will raise an error in a future version of pandas. Value '-0.20975528964817758' has dtype incompatible with int64, please explicitly cast to a compatible dtype first.\n",
            "  input_df.at[0, col] = normalize_value(val, min_val, max_val)\n",
            "/var/folders/lb/824pdw_j27x5fbnfxl4hkx880000gn/T/ipykernel_21726/450460328.py:13: FutureWarning: Setting an item of incompatible dtype is deprecated and will raise an error in a future version of pandas. Value '-0.2' has dtype incompatible with int64, please explicitly cast to a compatible dtype first.\n",
            "  input_df.at[0, col] = normalize_value(val, min_val, max_val)\n",
            "/var/folders/lb/824pdw_j27x5fbnfxl4hkx880000gn/T/ipykernel_21726/450460328.py:13: FutureWarning: Setting an item of incompatible dtype is deprecated and will raise an error in a future version of pandas. Value '-0.21023163646383575' has dtype incompatible with int64, please explicitly cast to a compatible dtype first.\n",
            "  input_df.at[0, col] = normalize_value(val, min_val, max_val)\n",
            "/var/folders/lb/824pdw_j27x5fbnfxl4hkx880000gn/T/ipykernel_21726/450460328.py:13: FutureWarning: Setting an item of incompatible dtype is deprecated and will raise an error in a future version of pandas. Value '-0.12' has dtype incompatible with int64, please explicitly cast to a compatible dtype first.\n",
            "  input_df.at[0, col] = normalize_value(val, min_val, max_val)\n",
            "/var/folders/lb/824pdw_j27x5fbnfxl4hkx880000gn/T/ipykernel_21726/450460328.py:13: FutureWarning: Setting an item of incompatible dtype is deprecated and will raise an error in a future version of pandas. Value '-0.21010265640298062' has dtype incompatible with int64, please explicitly cast to a compatible dtype first.\n",
            "  input_df.at[0, col] = normalize_value(val, min_val, max_val)\n",
            "/var/folders/lb/824pdw_j27x5fbnfxl4hkx880000gn/T/ipykernel_21726/450460328.py:13: FutureWarning: Setting an item of incompatible dtype is deprecated and will raise an error in a future version of pandas. Value '-0.2' has dtype incompatible with int64, please explicitly cast to a compatible dtype first.\n",
            "  input_df.at[0, col] = normalize_value(val, min_val, max_val)\n",
            "/var/folders/lb/824pdw_j27x5fbnfxl4hkx880000gn/T/ipykernel_21726/450460328.py:13: FutureWarning: Setting an item of incompatible dtype is deprecated and will raise an error in a future version of pandas. Value '-0.2101774062109762' has dtype incompatible with int64, please explicitly cast to a compatible dtype first.\n",
            "  input_df.at[0, col] = normalize_value(val, min_val, max_val)\n",
            "/var/folders/lb/824pdw_j27x5fbnfxl4hkx880000gn/T/ipykernel_21726/450460328.py:13: FutureWarning: Setting an item of incompatible dtype is deprecated and will raise an error in a future version of pandas. Value '-0.2' has dtype incompatible with int64, please explicitly cast to a compatible dtype first.\n",
            "  input_df.at[0, col] = normalize_value(val, min_val, max_val)\n",
            "/var/folders/lb/824pdw_j27x5fbnfxl4hkx880000gn/T/ipykernel_21726/450460328.py:13: FutureWarning: Setting an item of incompatible dtype is deprecated and will raise an error in a future version of pandas. Value '-0.21047054271291968' has dtype incompatible with int64, please explicitly cast to a compatible dtype first.\n",
            "  input_df.at[0, col] = normalize_value(val, min_val, max_val)\n",
            "/var/folders/lb/824pdw_j27x5fbnfxl4hkx880000gn/T/ipykernel_21726/450460328.py:13: FutureWarning: Setting an item of incompatible dtype is deprecated and will raise an error in a future version of pandas. Value '-0.08' has dtype incompatible with int64, please explicitly cast to a compatible dtype first.\n",
            "  input_df.at[0, col] = normalize_value(val, min_val, max_val)\n",
            "/var/folders/lb/824pdw_j27x5fbnfxl4hkx880000gn/T/ipykernel_21726/450460328.py:13: FutureWarning: Setting an item of incompatible dtype is deprecated and will raise an error in a future version of pandas. Value '-0.2100836025303543' has dtype incompatible with int64, please explicitly cast to a compatible dtype first.\n",
            "  input_df.at[0, col] = normalize_value(val, min_val, max_val)\n",
            "/var/folders/lb/824pdw_j27x5fbnfxl4hkx880000gn/T/ipykernel_21726/450460328.py:13: FutureWarning: Setting an item of incompatible dtype is deprecated and will raise an error in a future version of pandas. Value '-0.2' has dtype incompatible with int64, please explicitly cast to a compatible dtype first.\n",
            "  input_df.at[0, col] = normalize_value(val, min_val, max_val)\n",
            "/var/folders/lb/824pdw_j27x5fbnfxl4hkx880000gn/T/ipykernel_21726/450460328.py:13: FutureWarning: Setting an item of incompatible dtype is deprecated and will raise an error in a future version of pandas. Value '-0.2101759405284665' has dtype incompatible with int64, please explicitly cast to a compatible dtype first.\n",
            "  input_df.at[0, col] = normalize_value(val, min_val, max_val)\n",
            "/var/folders/lb/824pdw_j27x5fbnfxl4hkx880000gn/T/ipykernel_21726/450460328.py:13: FutureWarning: Setting an item of incompatible dtype is deprecated and will raise an error in a future version of pandas. Value '-0.16' has dtype incompatible with int64, please explicitly cast to a compatible dtype first.\n",
            "  input_df.at[0, col] = normalize_value(val, min_val, max_val)\n",
            "/var/folders/lb/824pdw_j27x5fbnfxl4hkx880000gn/T/ipykernel_21726/450460328.py:13: FutureWarning: Setting an item of incompatible dtype is deprecated and will raise an error in a future version of pandas. Value '-0.20973477009304153' has dtype incompatible with int64, please explicitly cast to a compatible dtype first.\n",
            "  input_df.at[0, col] = normalize_value(val, min_val, max_val)\n",
            "/var/folders/lb/824pdw_j27x5fbnfxl4hkx880000gn/T/ipykernel_21726/450460328.py:13: FutureWarning: Setting an item of incompatible dtype is deprecated and will raise an error in a future version of pandas. Value '-0.2' has dtype incompatible with int64, please explicitly cast to a compatible dtype first.\n",
            "  input_df.at[0, col] = normalize_value(val, min_val, max_val)\n",
            "/var/folders/lb/824pdw_j27x5fbnfxl4hkx880000gn/T/ipykernel_21726/450460328.py:13: FutureWarning: Setting an item of incompatible dtype is deprecated and will raise an error in a future version of pandas. Value '-0.21021404827371915' has dtype incompatible with int64, please explicitly cast to a compatible dtype first.\n",
            "  input_df.at[0, col] = normalize_value(val, min_val, max_val)\n",
            "/var/folders/lb/824pdw_j27x5fbnfxl4hkx880000gn/T/ipykernel_21726/450460328.py:13: FutureWarning: Setting an item of incompatible dtype is deprecated and will raise an error in a future version of pandas. Value '-0.2' has dtype incompatible with int64, please explicitly cast to a compatible dtype first.\n",
            "  input_df.at[0, col] = normalize_value(val, min_val, max_val)\n",
            "/var/folders/lb/824pdw_j27x5fbnfxl4hkx880000gn/T/ipykernel_21726/450460328.py:13: FutureWarning: Setting an item of incompatible dtype is deprecated and will raise an error in a future version of pandas. Value '-0.21026388147904954' has dtype incompatible with int64, please explicitly cast to a compatible dtype first.\n",
            "  input_df.at[0, col] = normalize_value(val, min_val, max_val)\n",
            "/var/folders/lb/824pdw_j27x5fbnfxl4hkx880000gn/T/ipykernel_21726/450460328.py:13: FutureWarning: Setting an item of incompatible dtype is deprecated and will raise an error in a future version of pandas. Value '-0.16' has dtype incompatible with int64, please explicitly cast to a compatible dtype first.\n",
            "  input_df.at[0, col] = normalize_value(val, min_val, max_val)\n",
            "/var/folders/lb/824pdw_j27x5fbnfxl4hkx880000gn/T/ipykernel_21726/450460328.py:13: FutureWarning: Setting an item of incompatible dtype is deprecated and will raise an error in a future version of pandas. Value '-0.20964536345994877' has dtype incompatible with int64, please explicitly cast to a compatible dtype first.\n",
            "  input_df.at[0, col] = normalize_value(val, min_val, max_val)\n",
            "/var/folders/lb/824pdw_j27x5fbnfxl4hkx880000gn/T/ipykernel_21726/450460328.py:13: FutureWarning: Setting an item of incompatible dtype is deprecated and will raise an error in a future version of pandas. Value '-0.2' has dtype incompatible with int64, please explicitly cast to a compatible dtype first.\n",
            "  input_df.at[0, col] = normalize_value(val, min_val, max_val)\n",
            "/var/folders/lb/824pdw_j27x5fbnfxl4hkx880000gn/T/ipykernel_21726/450460328.py:13: FutureWarning: Setting an item of incompatible dtype is deprecated and will raise an error in a future version of pandas. Value '-0.21013636710070413' has dtype incompatible with int64, please explicitly cast to a compatible dtype first.\n",
            "  input_df.at[0, col] = normalize_value(val, min_val, max_val)\n",
            "/var/folders/lb/824pdw_j27x5fbnfxl4hkx880000gn/T/ipykernel_21726/450460328.py:13: FutureWarning: Setting an item of incompatible dtype is deprecated and will raise an error in a future version of pandas. Value '-0.16' has dtype incompatible with int64, please explicitly cast to a compatible dtype first.\n",
            "  input_df.at[0, col] = normalize_value(val, min_val, max_val)\n",
            "/var/folders/lb/824pdw_j27x5fbnfxl4hkx880000gn/T/ipykernel_21726/450460328.py:13: FutureWarning: Setting an item of incompatible dtype is deprecated and will raise an error in a future version of pandas. Value '-0.20966002028504593' has dtype incompatible with int64, please explicitly cast to a compatible dtype first.\n",
            "  input_df.at[0, col] = normalize_value(val, min_val, max_val)\n",
            "/var/folders/lb/824pdw_j27x5fbnfxl4hkx880000gn/T/ipykernel_21726/450460328.py:13: FutureWarning: Setting an item of incompatible dtype is deprecated and will raise an error in a future version of pandas. Value '-0.2' has dtype incompatible with int64, please explicitly cast to a compatible dtype first.\n",
            "  input_df.at[0, col] = normalize_value(val, min_val, max_val)\n",
            "/var/folders/lb/824pdw_j27x5fbnfxl4hkx880000gn/T/ipykernel_21726/450460328.py:13: FutureWarning: Setting an item of incompatible dtype is deprecated and will raise an error in a future version of pandas. Value '-0.2101788718934859' has dtype incompatible with int64, please explicitly cast to a compatible dtype first.\n",
            "  input_df.at[0, col] = normalize_value(val, min_val, max_val)\n",
            "/var/folders/lb/824pdw_j27x5fbnfxl4hkx880000gn/T/ipykernel_21726/450460328.py:13: FutureWarning: Setting an item of incompatible dtype is deprecated and will raise an error in a future version of pandas. Value '-0.2' has dtype incompatible with int64, please explicitly cast to a compatible dtype first.\n",
            "  input_df.at[0, col] = normalize_value(val, min_val, max_val)\n",
            "/var/folders/lb/824pdw_j27x5fbnfxl4hkx880000gn/T/ipykernel_21726/450460328.py:13: FutureWarning: Setting an item of incompatible dtype is deprecated and will raise an error in a future version of pandas. Value '-0.2101700777984276' has dtype incompatible with int64, please explicitly cast to a compatible dtype first.\n",
            "  input_df.at[0, col] = normalize_value(val, min_val, max_val)\n"
          ]
        }
      ],
      "execution_count": null
    },
    {
      "metadata": {
        "id": "52497667b753f856"
      },
      "cell_type": "markdown",
      "source": [
        "# New query"
      ],
      "id": "52497667b753f856"
    },
    {
      "metadata": {
        "ExecuteTime": {
          "end_time": "2025-05-18T09:39:01.143686Z",
          "start_time": "2025-05-18T09:39:01.138181Z"
        },
        "id": "2fb83dc1b516fd87",
        "outputId": "20f2f160-193a-4587-bc73-6597d834aa39"
      },
      "cell_type": "code",
      "source": [
        "# עבור רשומה זו המחיר הסופי הינו - 440,000\n",
        "user_input = {\n",
        "    'Units': 1,\n",
        "    'Area m2': 543,\n",
        "    'block': '38761.0',\n",
        "    'Committee year': '2024.0',\n",
        "    'committee month': '7.0',\n",
        "    'region': 'דרום',\n",
        "    'city': 'באר שבע'\n",
        "}\n",
        "\n",
        "predicted_price = predict_price_mlp(user_input, model, df.drop(columns=[\"Price per m2\"]).columns, scaler_minmax, price_minmax)\n",
        "total_price = predicted_price * user_input['Area m2']\n",
        "\n",
        "print(f\"\\nPredicted price per m²: {predicted_price:,.2f} ₪\")\n",
        "print(f\"Total price for this area: {total_price:,.2f} ₪\")"
      ],
      "id": "2fb83dc1b516fd87",
      "outputs": [
        {
          "name": "stdout",
          "output_type": "stream",
          "text": [
            "\n",
            "Predicted price per m²: 631.61 ₪\n",
            "Total price for this area: 342,962.66 ₪\n",
            "time: 3.74 ms (started: 2025-05-18 12:39:01 +03:00)\n"
          ]
        },
        {
          "name": "stderr",
          "output_type": "stream",
          "text": [
            "/var/folders/lb/824pdw_j27x5fbnfxl4hkx880000gn/T/ipykernel_21726/840466003.py:37: FutureWarning: Setting an item of incompatible dtype is deprecated and will raise an error in a future version of pandas. Value '0.4467312348668281' has dtype incompatible with int64, please explicitly cast to a compatible dtype first.\n",
            "  input_df.at[0, col] = normalize_value(val, min_val, max_val)\n"
          ]
        }
      ],
      "execution_count": null
    },
    {
      "metadata": {
        "id": "5e949f1c5eaaaba0"
      },
      "cell_type": "markdown",
      "source": [
        "## Validation of input\n",
        "#### checks if the input match the columns in the model."
      ],
      "id": "5e949f1c5eaaaba0"
    },
    {
      "metadata": {
        "ExecuteTime": {
          "end_time": "2025-05-18T09:39:01.160941Z",
          "start_time": "2025-05-18T09:39:01.157085Z"
        },
        "id": "58f6f2418771b498",
        "outputId": "b0f9dd1a-82f8-4d7a-c86a-7d647a3808af"
      },
      "cell_type": "code",
      "source": [
        "def validate_input_against_columns(user_input, X_columns):\n",
        "    warnings = []\n",
        "    activated = []\n",
        "\n",
        "    block = user_input.get('block')\n",
        "    if block is not None:\n",
        "        block_col = f\"Block_{float(block):.1f}\"\n",
        "        if block_col in X_columns:\n",
        "            activated.append(block_col)\n",
        "        else:\n",
        "            warnings.append(f\"Block column '{block_col}' not found.\")\n",
        "\n",
        "    year = user_input.get('Committee year')\n",
        "    if year is not None:\n",
        "        year_col = f\"Committee_year_{float(year):.1f}\"\n",
        "        if year_col in X_columns:\n",
        "            activated.append(year_col)\n",
        "        else:\n",
        "            warnings.append(f\"Committee year column '{year_col}' not found.\")\n",
        "\n",
        "    month = user_input.get('committee month')\n",
        "    if month is not None:\n",
        "        month_col = f\"Committee_month_{float(month):.1f}\"\n",
        "        if month_col in X_columns:\n",
        "            activated.append(month_col)\n",
        "        else:\n",
        "            warnings.append(f\"Committee month column '{month_col}' not found.\")\n",
        "\n",
        "    for field in ['city', 'region']:\n",
        "        val = user_input.get(field, '').strip().lower()\n",
        "        matches = [col for col in X_columns if val in col.lower()]\n",
        "        if matches:\n",
        "            activated.extend(matches)\n",
        "        else:\n",
        "            warnings.append(f\"No column {field} found.\")\n",
        "\n",
        "    if warnings:\n",
        "        print(\"Warnings features:\")\n",
        "        for w in warnings:\n",
        "            print(\" -\", w)\n",
        "\n",
        "    if activated:\n",
        "        print(\"\\nColumns that will be activated for this input:\")\n",
        "        for col in activated:\n",
        "            print(\"  -\", col)\n",
        "    else:\n",
        "        print(\"\\n No one-hot columns matched the input.\")"
      ],
      "id": "58f6f2418771b498",
      "outputs": [
        {
          "name": "stdout",
          "output_type": "stream",
          "text": [
            "time: 558 μs (started: 2025-05-18 12:39:01 +03:00)\n"
          ]
        }
      ],
      "execution_count": null
    },
    {
      "metadata": {
        "ExecuteTime": {
          "end_time": "2025-05-18T09:39:01.175085Z",
          "start_time": "2025-05-18T09:39:01.172632Z"
        },
        "id": "e5288fd8b718d7d4",
        "outputId": "4d58c779-652f-436c-80d6-682d07b03a7c"
      },
      "cell_type": "code",
      "source": [
        "validate_input_against_columns(user_input, X.columns)"
      ],
      "id": "e5288fd8b718d7d4",
      "outputs": [
        {
          "name": "stdout",
          "output_type": "stream",
          "text": [
            "\n",
            "Columns that will be activated for this input:\n",
            "  - Block_38761.0\n",
            "  - Committee_year_2024.0\n",
            "  - Committee_month_7.0\n",
            "  - City_באר שבע , הרקפות\n",
            "  - City_באר שבע , כלניות\n",
            "  - City_באר שבע , כלניות לנכים\n",
            "  - City_באר שבע , נאות לון\n",
            "  - City_באר שבע , נווה נוי\n",
            "  - City_באר שבע , רמות\n",
            "  - City_באר שבע , רקפות\n",
            "  - Region_דרום\n",
            "  - City_אריאל , דרום מזרח\n",
            "time: 356 μs (started: 2025-05-18 12:39:01 +03:00)\n"
          ]
        }
      ],
      "execution_count": null
    },
    {
      "metadata": {
        "id": "68ebd15f8e96e4e1"
      },
      "cell_type": "markdown",
      "source": [
        "### Export all predictions"
      ],
      "id": "68ebd15f8e96e4e1"
    },
    {
      "metadata": {
        "ExecuteTime": {
          "end_time": "2025-05-18T09:39:01.377077Z",
          "start_time": "2025-05-18T09:39:01.246625Z"
        },
        "id": "ae3ab7dc87d89f7c",
        "outputId": "71000937-6a07-40cc-f38f-74d89d08c0e7"
      },
      "cell_type": "code",
      "source": [
        "def export_predictions_to_excel(X_data, y_true, model, price_minmax, filename=\"model_predictions.xlsx\"):\n",
        "    model.eval()\n",
        "    with torch.no_grad():\n",
        "        preds_norm = model(torch.tensor(X_data, dtype=torch.float32).to(device)).cpu().numpy().flatten()\n",
        "\n",
        "    price_min = price_minmax[\"min\"]\n",
        "    price_max = price_minmax[\"max\"]\n",
        "\n",
        "    def inv(x): return x * (price_max - price_min) + price_min\n",
        "\n",
        "    preds_shekel = inv(preds_norm)\n",
        "    y_true_shekel = inv(y_true.flatten())\n",
        "\n",
        "    errors = np.abs(preds_shekel - y_true_shekel)\n",
        "    errors_pct = errors / y_true_shekel * 100\n",
        "\n",
        "    df_results = pd.DataFrame({\n",
        "        \"Predicted Price per m² (₪)\": preds_shekel,\n",
        "        \"Actual Price per m² (₪)\": y_true_shekel,\n",
        "        \"Absolute Error (₪)\": errors,\n",
        "        \"Percentage Error (%)\": errors_pct\n",
        "    })\n",
        "\n",
        "    df_results.to_excel(filename, index=False)\n",
        "    print(f\"Predictions exported to '{filename}' with {len(df_results)} rows.\")\n",
        "    mean_pct_error = errors_pct.mean()\n",
        "    print(f\"Mean Percentage Error: {mean_pct_error:.2f}%\")\n",
        "    median_pct_error = np.median(errors_pct)\n",
        "    print(f\"Median Percentage Error: {median_pct_error:.2f}%\")\n"
      ],
      "id": "ae3ab7dc87d89f7c",
      "outputs": [
        {
          "name": "stdout",
          "output_type": "stream",
          "text": [
            "Predictions exported to 'model_predictions.xlsx' with 1294 rows.\n",
            "Mean Percentage Error: 20.30%\n",
            "Median Percentage Error: 12.16%\n",
            "time: 128 ms (started: 2025-05-18 12:39:01 +03:00)\n"
          ]
        }
      ],
      "execution_count": null
    },
    {
      "metadata": {
        "id": "862788299f525761"
      },
      "cell_type": "code",
      "outputs": [],
      "execution_count": null,
      "source": [
        "export_predictions_to_excel(X_test, y_test, model, price_minmax)\n"
      ],
      "id": "862788299f525761"
    }
  ],
  "metadata": {
    "kernelspec": {
      "display_name": "Python 3",
      "language": "python",
      "name": "python3"
    },
    "language_info": {
      "codemirror_mode": {
        "name": "ipython",
        "version": 2
      },
      "file_extension": ".py",
      "mimetype": "text/x-python",
      "name": "python",
      "nbconvert_exporter": "python",
      "pygments_lexer": "ipython2",
      "version": "2.7.6"
    },
    "colab": {
      "provenance": [],
      "include_colab_link": true
    }
  },
  "nbformat": 4,
  "nbformat_minor": 5
}