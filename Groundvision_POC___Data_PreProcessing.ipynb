{
 "cells": [
  {
   "cell_type": "markdown",
   "metadata": {
    "id": "4DoDFRsVG3g2"
   },
   "source": [
    "## Data pre-processing"
   ]
  },
  {
   "cell_type": "code",
   "metadata": {
    "colab": {
     "base_uri": "https://localhost:8080/",
     "height": 73
    },
    "id": "VkuTDwI42mmN",
    "outputId": "ef6632be-5e95-4675-effe-3f4cbcb387a2",
    "ExecuteTime": {
     "end_time": "2025-05-12T13:20:34.133047Z",
     "start_time": "2025-05-12T13:20:34.130029Z"
    }
   },
   "source": [
    "# from google.colab import files\n",
    "# uploaded = files.upload()"
   ],
   "outputs": [],
   "execution_count": 1
  },
  {
   "cell_type": "code",
   "metadata": {
    "colab": {
     "base_uri": "https://localhost:8080/",
     "height": 426
    },
    "id": "fhQ22xlc2qum",
    "outputId": "a1d8038a-0d7a-4266-fdeb-14e7ab3d89b1",
    "ExecuteTime": {
     "end_time": "2025-05-12T13:20:36.120440Z",
     "start_time": "2025-05-12T13:20:34.147668Z"
    }
   },
   "source": [
    "import pandas as pd\n",
    "df = pd.read_excel('rmi_data.xlsx')\n",
    "df.head()"
   ],
   "outputs": [
    {
     "data": {
      "text/plain": [
       "  Tender Number   Region                      City                 Purpose  \\\n",
       "0      198/2016     חיפה  זכרון יעקב , מורדות הבאר  בנייה נמוכה/צמודת קרקע   \n",
       "1      198/2016     חיפה  זכרון יעקב , מורדות הבאר  בנייה נמוכה/צמודת קרקע   \n",
       "2      198/2016     חיפה  זכרון יעקב , מורדות הבאר  בנייה נמוכה/צמודת קרקע   \n",
       "3      197/2016  ירושלים         קרית גת , כרמי גת  בנייה נמוכה/צמודת קרקע   \n",
       "4      197/2016  ירושלים         קרית גת , כרמי גת  בנייה נמוכה/צמודת קרקע   \n",
       "\n",
       "  Publication date              Status Opening date Submission deadline  \\\n",
       "0       25/09/2016  נדון בוועדת מכרזים   07/11/2016    26/12/2016 12:00   \n",
       "1       25/09/2016  נדון בוועדת מכרזים   07/11/2016    26/12/2016 12:00   \n",
       "2       25/09/2016  נדון בוועדת מכרזים   07/11/2016    26/12/2016 12:00   \n",
       "3       10/11/2016  נדון בוועדת מכרזים   10/11/2016    19/12/2016 12:00   \n",
       "4       10/11/2016  נדון בוועדת מכרזים   10/11/2016    19/12/2016 12:00   \n",
       "\n",
       "  Committee date Compound Number  ...  \\\n",
       "0     01/01/2017              68  ...   \n",
       "1     01/01/2017              70  ...   \n",
       "2     01/01/2017              71  ...   \n",
       "3     27/12/2016              15  ...   \n",
       "4     27/12/2016             A15  ...   \n",
       "\n",
       "                                         Winner Name Final Price  \\\n",
       "0                        אלוש מישל, אלוש דנה, זלץ בן   2,150,101   \n",
       "1       פרץ סלומון, פרץ יפית, גיגי יהודית, גיגי שלמה   2,220,000   \n",
       "2  אורגל משה, ברכפלד אביגיל מרים, גלם אפרת, גלם רועי   1,880,800   \n",
       "3                                       סבן ג'אן איב     477,770   \n",
       "4                                            סבן ארי     480,770   \n",
       "\n",
       "  Development Cost Valuation Price Minimum Price Area m2        Plan Parcel  \\\n",
       "0              NaN       2,694,000     1,225,770     702       ש/619     68   \n",
       "1              NaN       2,694,000     1,225,770     701       ש/619     70   \n",
       "2              NaN       2,694,000     1,225,770     701       ש/619     71   \n",
       "3          264,850         239,800       109,109     312  4/140/03/9     15   \n",
       "4          264,850         239,800       109,109     312  4/140/03/9    A15   \n",
       "\n",
       "     Block  Section  \n",
       "0  11308.0    163.0  \n",
       "1  11308.0    165.0  \n",
       "2  11308.0    166.0  \n",
       "3   2909.0     22.0  \n",
       "4   2909.0     23.0  \n",
       "\n",
       "[5 rows x 21 columns]"
      ],
      "text/html": [
       "<div>\n",
       "<style scoped>\n",
       "    .dataframe tbody tr th:only-of-type {\n",
       "        vertical-align: middle;\n",
       "    }\n",
       "\n",
       "    .dataframe tbody tr th {\n",
       "        vertical-align: top;\n",
       "    }\n",
       "\n",
       "    .dataframe thead th {\n",
       "        text-align: right;\n",
       "    }\n",
       "</style>\n",
       "<table border=\"1\" class=\"dataframe\">\n",
       "  <thead>\n",
       "    <tr style=\"text-align: right;\">\n",
       "      <th></th>\n",
       "      <th>Tender Number</th>\n",
       "      <th>Region</th>\n",
       "      <th>City</th>\n",
       "      <th>Purpose</th>\n",
       "      <th>Publication date</th>\n",
       "      <th>Status</th>\n",
       "      <th>Opening date</th>\n",
       "      <th>Submission deadline</th>\n",
       "      <th>Committee date</th>\n",
       "      <th>Compound Number</th>\n",
       "      <th>...</th>\n",
       "      <th>Winner Name</th>\n",
       "      <th>Final Price</th>\n",
       "      <th>Development Cost</th>\n",
       "      <th>Valuation Price</th>\n",
       "      <th>Minimum Price</th>\n",
       "      <th>Area m2</th>\n",
       "      <th>Plan</th>\n",
       "      <th>Parcel</th>\n",
       "      <th>Block</th>\n",
       "      <th>Section</th>\n",
       "    </tr>\n",
       "  </thead>\n",
       "  <tbody>\n",
       "    <tr>\n",
       "      <th>0</th>\n",
       "      <td>198/2016</td>\n",
       "      <td>חיפה</td>\n",
       "      <td>זכרון יעקב , מורדות הבאר</td>\n",
       "      <td>בנייה נמוכה/צמודת קרקע</td>\n",
       "      <td>25/09/2016</td>\n",
       "      <td>נדון בוועדת מכרזים</td>\n",
       "      <td>07/11/2016</td>\n",
       "      <td>26/12/2016 12:00</td>\n",
       "      <td>01/01/2017</td>\n",
       "      <td>68</td>\n",
       "      <td>...</td>\n",
       "      <td>אלוש מישל, אלוש דנה, זלץ בן</td>\n",
       "      <td>2,150,101</td>\n",
       "      <td>NaN</td>\n",
       "      <td>2,694,000</td>\n",
       "      <td>1,225,770</td>\n",
       "      <td>702</td>\n",
       "      <td>ש/619</td>\n",
       "      <td>68</td>\n",
       "      <td>11308.0</td>\n",
       "      <td>163.0</td>\n",
       "    </tr>\n",
       "    <tr>\n",
       "      <th>1</th>\n",
       "      <td>198/2016</td>\n",
       "      <td>חיפה</td>\n",
       "      <td>זכרון יעקב , מורדות הבאר</td>\n",
       "      <td>בנייה נמוכה/צמודת קרקע</td>\n",
       "      <td>25/09/2016</td>\n",
       "      <td>נדון בוועדת מכרזים</td>\n",
       "      <td>07/11/2016</td>\n",
       "      <td>26/12/2016 12:00</td>\n",
       "      <td>01/01/2017</td>\n",
       "      <td>70</td>\n",
       "      <td>...</td>\n",
       "      <td>פרץ סלומון, פרץ יפית, גיגי יהודית, גיגי שלמה</td>\n",
       "      <td>2,220,000</td>\n",
       "      <td>NaN</td>\n",
       "      <td>2,694,000</td>\n",
       "      <td>1,225,770</td>\n",
       "      <td>701</td>\n",
       "      <td>ש/619</td>\n",
       "      <td>70</td>\n",
       "      <td>11308.0</td>\n",
       "      <td>165.0</td>\n",
       "    </tr>\n",
       "    <tr>\n",
       "      <th>2</th>\n",
       "      <td>198/2016</td>\n",
       "      <td>חיפה</td>\n",
       "      <td>זכרון יעקב , מורדות הבאר</td>\n",
       "      <td>בנייה נמוכה/צמודת קרקע</td>\n",
       "      <td>25/09/2016</td>\n",
       "      <td>נדון בוועדת מכרזים</td>\n",
       "      <td>07/11/2016</td>\n",
       "      <td>26/12/2016 12:00</td>\n",
       "      <td>01/01/2017</td>\n",
       "      <td>71</td>\n",
       "      <td>...</td>\n",
       "      <td>אורגל משה, ברכפלד אביגיל מרים, גלם אפרת, גלם רועי</td>\n",
       "      <td>1,880,800</td>\n",
       "      <td>NaN</td>\n",
       "      <td>2,694,000</td>\n",
       "      <td>1,225,770</td>\n",
       "      <td>701</td>\n",
       "      <td>ש/619</td>\n",
       "      <td>71</td>\n",
       "      <td>11308.0</td>\n",
       "      <td>166.0</td>\n",
       "    </tr>\n",
       "    <tr>\n",
       "      <th>3</th>\n",
       "      <td>197/2016</td>\n",
       "      <td>ירושלים</td>\n",
       "      <td>קרית גת , כרמי גת</td>\n",
       "      <td>בנייה נמוכה/צמודת קרקע</td>\n",
       "      <td>10/11/2016</td>\n",
       "      <td>נדון בוועדת מכרזים</td>\n",
       "      <td>10/11/2016</td>\n",
       "      <td>19/12/2016 12:00</td>\n",
       "      <td>27/12/2016</td>\n",
       "      <td>15</td>\n",
       "      <td>...</td>\n",
       "      <td>סבן ג'אן איב</td>\n",
       "      <td>477,770</td>\n",
       "      <td>264,850</td>\n",
       "      <td>239,800</td>\n",
       "      <td>109,109</td>\n",
       "      <td>312</td>\n",
       "      <td>4/140/03/9</td>\n",
       "      <td>15</td>\n",
       "      <td>2909.0</td>\n",
       "      <td>22.0</td>\n",
       "    </tr>\n",
       "    <tr>\n",
       "      <th>4</th>\n",
       "      <td>197/2016</td>\n",
       "      <td>ירושלים</td>\n",
       "      <td>קרית גת , כרמי גת</td>\n",
       "      <td>בנייה נמוכה/צמודת קרקע</td>\n",
       "      <td>10/11/2016</td>\n",
       "      <td>נדון בוועדת מכרזים</td>\n",
       "      <td>10/11/2016</td>\n",
       "      <td>19/12/2016 12:00</td>\n",
       "      <td>27/12/2016</td>\n",
       "      <td>A15</td>\n",
       "      <td>...</td>\n",
       "      <td>סבן ארי</td>\n",
       "      <td>480,770</td>\n",
       "      <td>264,850</td>\n",
       "      <td>239,800</td>\n",
       "      <td>109,109</td>\n",
       "      <td>312</td>\n",
       "      <td>4/140/03/9</td>\n",
       "      <td>A15</td>\n",
       "      <td>2909.0</td>\n",
       "      <td>23.0</td>\n",
       "    </tr>\n",
       "  </tbody>\n",
       "</table>\n",
       "<p>5 rows × 21 columns</p>\n",
       "</div>"
      ]
     },
     "execution_count": 2,
     "metadata": {},
     "output_type": "execute_result"
    }
   ],
   "execution_count": 2
  },
  {
   "cell_type": "code",
   "metadata": {
    "id": "drd4zWxt4qpn",
    "ExecuteTime": {
     "end_time": "2025-05-12T13:20:36.199369Z",
     "start_time": "2025-05-12T13:20:36.192641Z"
    }
   },
   "source": [
    "df = df[df['Purpose'] != \"בנייה נמוכה/צמודת קרקע -לייזמים/קבלנים\"]\n",
    "df = df.drop(columns=['Tender Number', 'Purpose','Publication date','Status', 'Winner Name', 'Submission deadline', 'Plan','Valuation Price', 'Minimum Price', 'Development Cost', 'Compound Number', 'Opening date'])"
   ],
   "outputs": [],
   "execution_count": 3
  },
  {
   "cell_type": "code",
   "metadata": {
    "ExecuteTime": {
     "end_time": "2025-05-12T13:20:36.221768Z",
     "start_time": "2025-05-12T13:20:36.216833Z"
    }
   },
   "source": [
    "df.head()"
   ],
   "outputs": [
    {
     "data": {
      "text/plain": [
       "    Region                      City Committee date  Units Final Price  \\\n",
       "0     חיפה  זכרון יעקב , מורדות הבאר     01/01/2017    2.0   2,150,101   \n",
       "1     חיפה  זכרון יעקב , מורדות הבאר     01/01/2017    2.0   2,220,000   \n",
       "2     חיפה  זכרון יעקב , מורדות הבאר     01/01/2017    2.0   1,880,800   \n",
       "3  ירושלים         קרית גת , כרמי גת     27/12/2016    1.0     477,770   \n",
       "4  ירושלים         קרית גת , כרמי גת     27/12/2016    1.0     480,770   \n",
       "\n",
       "  Area m2 Parcel    Block  Section  \n",
       "0     702     68  11308.0    163.0  \n",
       "1     701     70  11308.0    165.0  \n",
       "2     701     71  11308.0    166.0  \n",
       "3     312     15   2909.0     22.0  \n",
       "4     312    A15   2909.0     23.0  "
      ],
      "text/html": [
       "<div>\n",
       "<style scoped>\n",
       "    .dataframe tbody tr th:only-of-type {\n",
       "        vertical-align: middle;\n",
       "    }\n",
       "\n",
       "    .dataframe tbody tr th {\n",
       "        vertical-align: top;\n",
       "    }\n",
       "\n",
       "    .dataframe thead th {\n",
       "        text-align: right;\n",
       "    }\n",
       "</style>\n",
       "<table border=\"1\" class=\"dataframe\">\n",
       "  <thead>\n",
       "    <tr style=\"text-align: right;\">\n",
       "      <th></th>\n",
       "      <th>Region</th>\n",
       "      <th>City</th>\n",
       "      <th>Committee date</th>\n",
       "      <th>Units</th>\n",
       "      <th>Final Price</th>\n",
       "      <th>Area m2</th>\n",
       "      <th>Parcel</th>\n",
       "      <th>Block</th>\n",
       "      <th>Section</th>\n",
       "    </tr>\n",
       "  </thead>\n",
       "  <tbody>\n",
       "    <tr>\n",
       "      <th>0</th>\n",
       "      <td>חיפה</td>\n",
       "      <td>זכרון יעקב , מורדות הבאר</td>\n",
       "      <td>01/01/2017</td>\n",
       "      <td>2.0</td>\n",
       "      <td>2,150,101</td>\n",
       "      <td>702</td>\n",
       "      <td>68</td>\n",
       "      <td>11308.0</td>\n",
       "      <td>163.0</td>\n",
       "    </tr>\n",
       "    <tr>\n",
       "      <th>1</th>\n",
       "      <td>חיפה</td>\n",
       "      <td>זכרון יעקב , מורדות הבאר</td>\n",
       "      <td>01/01/2017</td>\n",
       "      <td>2.0</td>\n",
       "      <td>2,220,000</td>\n",
       "      <td>701</td>\n",
       "      <td>70</td>\n",
       "      <td>11308.0</td>\n",
       "      <td>165.0</td>\n",
       "    </tr>\n",
       "    <tr>\n",
       "      <th>2</th>\n",
       "      <td>חיפה</td>\n",
       "      <td>זכרון יעקב , מורדות הבאר</td>\n",
       "      <td>01/01/2017</td>\n",
       "      <td>2.0</td>\n",
       "      <td>1,880,800</td>\n",
       "      <td>701</td>\n",
       "      <td>71</td>\n",
       "      <td>11308.0</td>\n",
       "      <td>166.0</td>\n",
       "    </tr>\n",
       "    <tr>\n",
       "      <th>3</th>\n",
       "      <td>ירושלים</td>\n",
       "      <td>קרית גת , כרמי גת</td>\n",
       "      <td>27/12/2016</td>\n",
       "      <td>1.0</td>\n",
       "      <td>477,770</td>\n",
       "      <td>312</td>\n",
       "      <td>15</td>\n",
       "      <td>2909.0</td>\n",
       "      <td>22.0</td>\n",
       "    </tr>\n",
       "    <tr>\n",
       "      <th>4</th>\n",
       "      <td>ירושלים</td>\n",
       "      <td>קרית גת , כרמי גת</td>\n",
       "      <td>27/12/2016</td>\n",
       "      <td>1.0</td>\n",
       "      <td>480,770</td>\n",
       "      <td>312</td>\n",
       "      <td>A15</td>\n",
       "      <td>2909.0</td>\n",
       "      <td>23.0</td>\n",
       "    </tr>\n",
       "  </tbody>\n",
       "</table>\n",
       "</div>"
      ]
     },
     "execution_count": 4,
     "metadata": {},
     "output_type": "execute_result"
    }
   ],
   "execution_count": 4
  },
  {
   "cell_type": "markdown",
   "metadata": {
    "id": "RvauX80n4qWb"
   },
   "source": [
    "### Cleaning data\n",
    "#### Using Min-Max Scaler"
   ]
  },
  {
   "cell_type": "code",
   "metadata": {
    "colab": {
     "base_uri": "https://localhost:8080/"
    },
    "id": "tSUJ8E1u2z75",
    "outputId": "16ed1745-2774-42c3-f07c-4118bcf2563b",
    "ExecuteTime": {
     "end_time": "2025-05-12T13:20:36.264430Z",
     "start_time": "2025-05-12T13:20:36.252781Z"
    }
   },
   "source": [
    "# Remove missing values\n",
    "\n",
    "print(\"missing data:\")\n",
    "print(df.isnull().sum())\n",
    "\n",
    "df = df[df['Final Price'].notnull()]\n",
    "df = df[df['Region'].notnull()]\n",
    "df = df[df['Final Price'] != \"אין הצעות למתחם זה\"]\n",
    "\n",
    "numeric_columns = ['Final Price']\n",
    "\n",
    "for col in numeric_columns:\n",
    "    df[col] = df[col].astype(str).str.replace(',', '').astype(float)\n",
    "\n",
    "# Handling missing values in numerics columns\n",
    "df['Units'] = df['Units'].fillna(df['Units'].median())\n",
    "\n",
    "df['Parcel'] = df['Parcel'].fillna(\"Not existing\")\n",
    "df['Block'] = df['Block'].fillna(\"Not existing\")\n",
    "df['Section'] = df['Section'].fillna(\"Not existing\") # remove this\n",
    "#\n",
    "# df['Block'] = pd.to_numeric(df['Block'], errors='coerce')\n",
    "# df['Section'] = pd.to_numeric(df['Block'], errors='coerce')\n",
    "# df['Parcel'] = pd.to_numeric(df['Parcel'], errors='coerce')"
   ],
   "outputs": [
    {
     "name": "stdout",
     "output_type": "stream",
     "text": [
      "missing data:\n",
      "Region             396\n",
      "City               396\n",
      "Committee date     396\n",
      "Units              227\n",
      "Final Price       3480\n",
      "Area m2              2\n",
      "Parcel             610\n",
      "Block              259\n",
      "Section            259\n",
      "dtype: int64\n"
     ]
    }
   ],
   "execution_count": 5
  },
  {
   "cell_type": "code",
   "metadata": {
    "colab": {
     "base_uri": "https://localhost:8080/"
    },
    "id": "swaAP5hE3N9z",
    "outputId": "a882fc48-4024-440b-b470-aaa11945bb57",
    "ExecuteTime": {
     "end_time": "2025-05-12T13:20:36.363259Z",
     "start_time": "2025-05-12T13:20:36.356399Z"
    }
   },
   "source": [
    "df['Final Price'] = df['Final Price'].replace(',', '', regex=True).astype(float)\n",
    "df['Area m2'] = df['Area m2'].replace(',', '', regex=True).astype(float)\n",
    "print(f\"before filter Final Price: {len(df)}\")\n",
    "\n",
    "# Manual binderies\n",
    "lower_bound = df['Final Price'].quantile(0.05)\n",
    "upper_bound = df['Final Price'].quantile(0.95)\n",
    "\n",
    "df = df[(df['Final Price'] >= lower_bound) & (df['Final Price'] <= upper_bound)]\n",
    "print(f\"after filter Final Price: {len(df)}\")\n",
    "df = df[(df['Area m2'] >= 100) & (df['Area m2'] <= 1000)]\n",
    "print(f\"after filter Area m2: {len(df)}\")"
   ],
   "outputs": [
    {
     "name": "stdout",
     "output_type": "stream",
     "text": [
      "before filter Final Price: 7484\n",
      "after filter Final Price: 6735\n",
      "after filter Area m2: 6467\n"
     ]
    }
   ],
   "execution_count": 6
  },
  {
   "cell_type": "code",
   "metadata": {
    "colab": {
     "base_uri": "https://localhost:8080/"
    },
    "id": "sXVMuTfxG3g4",
    "outputId": "3f41879b-65ab-438b-ba17-79651594cc57",
    "ExecuteTime": {
     "end_time": "2025-05-12T13:20:36.398909Z",
     "start_time": "2025-05-12T13:20:36.391969Z"
    }
   },
   "source": [
    "df['Committee date'] = pd.to_datetime(df['Committee date'], errors='coerce')\n",
    "df['Committee_year'] = df['Committee date'].dt.year\n",
    "df['Committee_month'] = df['Committee date'].dt.month\n",
    "\n",
    "df = df.drop(columns=['Committee date'])"
   ],
   "outputs": [],
   "execution_count": 7
  },
  {
   "cell_type": "code",
   "metadata": {
    "colab": {
     "base_uri": "https://localhost:8080/"
    },
    "id": "bFVlLCtkG3g5",
    "outputId": "ef29b6ff-03fa-4639-ba62-4a381f32c690",
    "ExecuteTime": {
     "end_time": "2025-05-12T13:20:36.422712Z",
     "start_time": "2025-05-12T13:20:36.418903Z"
    }
   },
   "source": [
    "print(df.head())"
   ],
   "outputs": [
    {
     "name": "stdout",
     "output_type": "stream",
     "text": [
      "    Region                      City  Units  Final Price  Area m2 Parcel  \\\n",
      "0     חיפה  זכרון יעקב , מורדות הבאר    2.0    2150101.0    702.0     68   \n",
      "1     חיפה  זכרון יעקב , מורדות הבאר    2.0    2220000.0    701.0     70   \n",
      "2     חיפה  זכרון יעקב , מורדות הבאר    2.0    1880800.0    701.0     71   \n",
      "3  ירושלים         קרית גת , כרמי גת    1.0     477770.0    312.0     15   \n",
      "4  ירושלים         קרית גת , כרמי גת    1.0     480770.0    312.0    A15   \n",
      "\n",
      "     Block Section  Committee_year  Committee_month  \n",
      "0  11308.0   163.0          2017.0              1.0  \n",
      "1  11308.0   165.0          2017.0              1.0  \n",
      "2  11308.0   166.0          2017.0              1.0  \n",
      "3   2909.0    22.0             NaN              NaN  \n",
      "4   2909.0    23.0             NaN              NaN  \n"
     ]
    }
   ],
   "execution_count": 8
  },
  {
   "cell_type": "code",
   "metadata": {
    "colab": {
     "base_uri": "https://localhost:8080/"
    },
    "id": "tlwb7Kz3mJHn",
    "outputId": "862a4c8d-2d23-4c42-f54e-88596cbb409b",
    "ExecuteTime": {
     "end_time": "2025-05-12T13:20:36.443345Z",
     "start_time": "2025-05-12T13:20:36.439254Z"
    }
   },
   "source": [
    "print(df['Final Price'].describe())"
   ],
   "outputs": [
    {
     "name": "stdout",
     "output_type": "stream",
     "text": [
      "count    6.467000e+03\n",
      "mean     5.728593e+05\n",
      "std      4.968573e+05\n",
      "min      3.636000e+04\n",
      "25%      2.213245e+05\n",
      "50%      4.300000e+05\n",
      "75%      7.577635e+05\n",
      "max      2.455560e+06\n",
      "Name: Final Price, dtype: float64\n"
     ]
    }
   ],
   "execution_count": 9
  },
  {
   "cell_type": "code",
   "metadata": {
    "id": "G1dYFrCkG3g5",
    "ExecuteTime": {
     "end_time": "2025-05-12T13:20:36.464564Z",
     "start_time": "2025-05-12T13:20:36.461993Z"
    }
   },
   "source": [
    "df['Price per m2'] = df['Final Price'] / df['Area m2']\n",
    "\n",
    "# Saving min- max vals of price.\n",
    "price_per_m2_min = df['Price per m2'].min()\n",
    "price_per_m2_max = df['Price per m2'].max()"
   ],
   "outputs": [],
   "execution_count": 10
  },
  {
   "cell_type": "code",
   "metadata": {
    "ExecuteTime": {
     "end_time": "2025-05-12T13:20:36.478488Z",
     "start_time": "2025-05-12T13:20:36.475605Z"
    }
   },
   "source": [
    "import json\n",
    "price_minmax = {\n",
    "    \"min\": float(price_per_m2_min),\n",
    "    \"max\": float(price_per_m2_max)\n",
    "}\n",
    "\n",
    "with open(\"price_minmax.json\", \"w\", encoding=\"utf-8\") as f:\n",
    "    json.dump(price_minmax, f, ensure_ascii=False, indent=2)"
   ],
   "outputs": [],
   "execution_count": 11
  },
  {
   "cell_type": "code",
   "metadata": {
    "id": "b9zxv6egSt0N",
    "ExecuteTime": {
     "end_time": "2025-05-12T13:20:36.492874Z",
     "start_time": "2025-05-12T13:20:36.485160Z"
    }
   },
   "source": [
    "numeric_columns = ['Units','Final Price','Area m2','Price per m2']\n",
    "\n",
    "scaler_dict = {}\n",
    "\n",
    "for col in numeric_columns:\n",
    "    if col not in df.columns:\n",
    "        print(f\"Warning: Column '{col}' not found, skipping.\")\n",
    "        continue\n",
    "\n",
    "    col_min = df[col].min()\n",
    "    col_max = df[col].max()\n",
    "    if col_min == col_max:\n",
    "        print(f\"Warning: column '{col}' has the same min ({col_min}) and max. Setting all scaled to 0.\")\n",
    "        df[col] = 0.0\n",
    "    else:\n",
    "        df[col] = (df[col] - col_min) / (col_max - col_min)\n",
    "\n",
    "    scaler_dict[col] = {\n",
    "        \"min\": float(col_min),\n",
    "        \"max\": float(col_max)\n",
    "    }\n",
    "\n",
    "block_one_hot = pd.get_dummies(df['Block'], prefix='Block')\n",
    "# section_one_hot = pd.get_dummies(df['Section'], prefix='Section')\n",
    "# parcel_one_hot = pd.get_dummies(df['Parcel'], prefix='Parcel')\n",
    "committee_month_one_hot = pd.get_dummies(df['Committee_month'], prefix='Committee_month')\n",
    "committee_year_one_hot = pd.get_dummies(df['Committee_year'], prefix='Committee_year')\n",
    "\n",
    "\n",
    "df = df.drop(['Block', 'Section', 'Parcel', 'Committee_month', 'Committee_year'], axis=1)\n",
    "\n",
    "# df = pd.concat([df, block_one_hot, section_one_hot, parcel_one_hot, committee_month_one_hot, committee_year_one_hot], axis=1)\n",
    "df = pd.concat([df, block_one_hot, committee_month_one_hot, committee_year_one_hot], axis=1)\n",
    "\n",
    "with open(\"scaler_minmax.json\", \"w\", encoding=\"utf-8\") as f:\n",
    "    json.dump(scaler_dict, f, ensure_ascii=False, indent=2)\n",
    "\n",
    "normalized_columns = ['Final Price', 'Area m2', 'Units']"
   ],
   "outputs": [],
   "execution_count": 12
  },
  {
   "cell_type": "code",
   "metadata": {
    "colab": {
     "base_uri": "https://localhost:8080/",
     "height": 707
    },
    "id": "uds3_BJgmOhN",
    "outputId": "17cf2d16-ae6f-4230-ac62-8674d1d65796",
    "ExecuteTime": {
     "end_time": "2025-05-12T13:20:36.510606Z",
     "start_time": "2025-05-12T13:20:36.503985Z"
    }
   },
   "source": [
    "df.head()"
   ],
   "outputs": [
    {
     "data": {
      "text/plain": [
       "    Region                      City  Units  Final Price   Area m2  \\\n",
       "0     חיפה  זכרון יעקב , מורדות הבאר    0.2     0.873736  0.639225   \n",
       "1     חיפה  זכרון יעקב , מורדות הבאר    0.2     0.902629  0.638015   \n",
       "2     חיפה  זכרון יעקב , מורדות הבאר    0.2     0.762417  0.638015   \n",
       "3  ירושלים         קרית גת , כרמי גת    0.0     0.182461  0.167070   \n",
       "4  ירושלים         קרית גת , כרמי גת    0.0     0.183701  0.167070   \n",
       "\n",
       "   Price per m2  Block_325.0  Block_326.0  Block_375.0  Block_376.0  ...  \\\n",
       "0      0.249075        False        False        False        False  ...   \n",
       "1      0.257707        False        False        False        False  ...   \n",
       "2      0.217580        False        False        False        False  ...   \n",
       "3      0.122072        False        False        False        False  ...   \n",
       "4      0.122869        False        False        False        False  ...   \n",
       "\n",
       "   Committee_year_2016.0  Committee_year_2017.0  Committee_year_2018.0  \\\n",
       "0                  False                   True                  False   \n",
       "1                  False                   True                  False   \n",
       "2                  False                   True                  False   \n",
       "3                  False                  False                  False   \n",
       "4                  False                  False                  False   \n",
       "\n",
       "   Committee_year_2019.0  Committee_year_2020.0  Committee_year_2021.0  \\\n",
       "0                  False                  False                  False   \n",
       "1                  False                  False                  False   \n",
       "2                  False                  False                  False   \n",
       "3                  False                  False                  False   \n",
       "4                  False                  False                  False   \n",
       "\n",
       "   Committee_year_2022.0  Committee_year_2023.0  Committee_year_2024.0  \\\n",
       "0                  False                  False                  False   \n",
       "1                  False                  False                  False   \n",
       "2                  False                  False                  False   \n",
       "3                  False                  False                  False   \n",
       "4                  False                  False                  False   \n",
       "\n",
       "   Committee_year_2025.0  \n",
       "0                  False  \n",
       "1                  False  \n",
       "2                  False  \n",
       "3                  False  \n",
       "4                  False  \n",
       "\n",
       "[5 rows x 313 columns]"
      ],
      "text/html": [
       "<div>\n",
       "<style scoped>\n",
       "    .dataframe tbody tr th:only-of-type {\n",
       "        vertical-align: middle;\n",
       "    }\n",
       "\n",
       "    .dataframe tbody tr th {\n",
       "        vertical-align: top;\n",
       "    }\n",
       "\n",
       "    .dataframe thead th {\n",
       "        text-align: right;\n",
       "    }\n",
       "</style>\n",
       "<table border=\"1\" class=\"dataframe\">\n",
       "  <thead>\n",
       "    <tr style=\"text-align: right;\">\n",
       "      <th></th>\n",
       "      <th>Region</th>\n",
       "      <th>City</th>\n",
       "      <th>Units</th>\n",
       "      <th>Final Price</th>\n",
       "      <th>Area m2</th>\n",
       "      <th>Price per m2</th>\n",
       "      <th>Block_325.0</th>\n",
       "      <th>Block_326.0</th>\n",
       "      <th>Block_375.0</th>\n",
       "      <th>Block_376.0</th>\n",
       "      <th>...</th>\n",
       "      <th>Committee_year_2016.0</th>\n",
       "      <th>Committee_year_2017.0</th>\n",
       "      <th>Committee_year_2018.0</th>\n",
       "      <th>Committee_year_2019.0</th>\n",
       "      <th>Committee_year_2020.0</th>\n",
       "      <th>Committee_year_2021.0</th>\n",
       "      <th>Committee_year_2022.0</th>\n",
       "      <th>Committee_year_2023.0</th>\n",
       "      <th>Committee_year_2024.0</th>\n",
       "      <th>Committee_year_2025.0</th>\n",
       "    </tr>\n",
       "  </thead>\n",
       "  <tbody>\n",
       "    <tr>\n",
       "      <th>0</th>\n",
       "      <td>חיפה</td>\n",
       "      <td>זכרון יעקב , מורדות הבאר</td>\n",
       "      <td>0.2</td>\n",
       "      <td>0.873736</td>\n",
       "      <td>0.639225</td>\n",
       "      <td>0.249075</td>\n",
       "      <td>False</td>\n",
       "      <td>False</td>\n",
       "      <td>False</td>\n",
       "      <td>False</td>\n",
       "      <td>...</td>\n",
       "      <td>False</td>\n",
       "      <td>True</td>\n",
       "      <td>False</td>\n",
       "      <td>False</td>\n",
       "      <td>False</td>\n",
       "      <td>False</td>\n",
       "      <td>False</td>\n",
       "      <td>False</td>\n",
       "      <td>False</td>\n",
       "      <td>False</td>\n",
       "    </tr>\n",
       "    <tr>\n",
       "      <th>1</th>\n",
       "      <td>חיפה</td>\n",
       "      <td>זכרון יעקב , מורדות הבאר</td>\n",
       "      <td>0.2</td>\n",
       "      <td>0.902629</td>\n",
       "      <td>0.638015</td>\n",
       "      <td>0.257707</td>\n",
       "      <td>False</td>\n",
       "      <td>False</td>\n",
       "      <td>False</td>\n",
       "      <td>False</td>\n",
       "      <td>...</td>\n",
       "      <td>False</td>\n",
       "      <td>True</td>\n",
       "      <td>False</td>\n",
       "      <td>False</td>\n",
       "      <td>False</td>\n",
       "      <td>False</td>\n",
       "      <td>False</td>\n",
       "      <td>False</td>\n",
       "      <td>False</td>\n",
       "      <td>False</td>\n",
       "    </tr>\n",
       "    <tr>\n",
       "      <th>2</th>\n",
       "      <td>חיפה</td>\n",
       "      <td>זכרון יעקב , מורדות הבאר</td>\n",
       "      <td>0.2</td>\n",
       "      <td>0.762417</td>\n",
       "      <td>0.638015</td>\n",
       "      <td>0.217580</td>\n",
       "      <td>False</td>\n",
       "      <td>False</td>\n",
       "      <td>False</td>\n",
       "      <td>False</td>\n",
       "      <td>...</td>\n",
       "      <td>False</td>\n",
       "      <td>True</td>\n",
       "      <td>False</td>\n",
       "      <td>False</td>\n",
       "      <td>False</td>\n",
       "      <td>False</td>\n",
       "      <td>False</td>\n",
       "      <td>False</td>\n",
       "      <td>False</td>\n",
       "      <td>False</td>\n",
       "    </tr>\n",
       "    <tr>\n",
       "      <th>3</th>\n",
       "      <td>ירושלים</td>\n",
       "      <td>קרית גת , כרמי גת</td>\n",
       "      <td>0.0</td>\n",
       "      <td>0.182461</td>\n",
       "      <td>0.167070</td>\n",
       "      <td>0.122072</td>\n",
       "      <td>False</td>\n",
       "      <td>False</td>\n",
       "      <td>False</td>\n",
       "      <td>False</td>\n",
       "      <td>...</td>\n",
       "      <td>False</td>\n",
       "      <td>False</td>\n",
       "      <td>False</td>\n",
       "      <td>False</td>\n",
       "      <td>False</td>\n",
       "      <td>False</td>\n",
       "      <td>False</td>\n",
       "      <td>False</td>\n",
       "      <td>False</td>\n",
       "      <td>False</td>\n",
       "    </tr>\n",
       "    <tr>\n",
       "      <th>4</th>\n",
       "      <td>ירושלים</td>\n",
       "      <td>קרית גת , כרמי גת</td>\n",
       "      <td>0.0</td>\n",
       "      <td>0.183701</td>\n",
       "      <td>0.167070</td>\n",
       "      <td>0.122869</td>\n",
       "      <td>False</td>\n",
       "      <td>False</td>\n",
       "      <td>False</td>\n",
       "      <td>False</td>\n",
       "      <td>...</td>\n",
       "      <td>False</td>\n",
       "      <td>False</td>\n",
       "      <td>False</td>\n",
       "      <td>False</td>\n",
       "      <td>False</td>\n",
       "      <td>False</td>\n",
       "      <td>False</td>\n",
       "      <td>False</td>\n",
       "      <td>False</td>\n",
       "      <td>False</td>\n",
       "    </tr>\n",
       "  </tbody>\n",
       "</table>\n",
       "<p>5 rows × 313 columns</p>\n",
       "</div>"
      ]
     },
     "execution_count": 13,
     "metadata": {},
     "output_type": "execute_result"
    }
   ],
   "execution_count": 13
  },
  {
   "cell_type": "code",
   "metadata": {
    "id": "UZDxvRd8CR5j",
    "ExecuteTime": {
     "end_time": "2025-05-12T13:20:36.556628Z",
     "start_time": "2025-05-12T13:20:36.549945Z"
    }
   },
   "source": [
    "df = pd.get_dummies(df, columns=['Region', 'City'], prefix=['Region', 'City']) # קידוד 0-1 לערים ומחוזות"
   ],
   "outputs": [],
   "execution_count": 14
  },
  {
   "cell_type": "code",
   "metadata": {
    "id": "UHRkdLxbG3g5",
    "ExecuteTime": {
     "end_time": "2025-05-12T13:20:36.563694Z",
     "start_time": "2025-05-12T13:20:36.561560Z"
    }
   },
   "source": [
    "city_columns = [col for col in df.columns if col.startswith('City_')]\n",
    "\n",
    "cities = set()\n",
    "for col in city_columns:\n",
    "    city_name = col.replace('City_', '').split(',')[0].strip()\n",
    "    cities.add(city_name)"
   ],
   "outputs": [],
   "execution_count": 15
  },
  {
   "cell_type": "code",
   "metadata": {
    "colab": {
     "base_uri": "https://localhost:8080/"
    },
    "id": "qB9VYCvFG3g5",
    "outputId": "8fe97c5a-2f45-48c3-89dd-0e4b9b0ea65a",
    "ExecuteTime": {
     "end_time": "2025-05-12T13:20:36.598164Z",
     "start_time": "2025-05-12T13:20:36.587768Z"
    }
   },
   "source": [
    "df.info()"
   ],
   "outputs": [
    {
     "name": "stdout",
     "output_type": "stream",
     "text": [
      "<class 'pandas.core.frame.DataFrame'>\n",
      "Index: 6467 entries, 0 to 11491\n",
      "Columns: 536 entries, Units to City_תנובות\n",
      "dtypes: bool(532), float64(4)\n",
      "memory usage: 3.5 MB\n"
     ]
    }
   ],
   "execution_count": 16
  },
  {
   "cell_type": "code",
   "metadata": {
    "ExecuteTime": {
     "end_time": "2025-05-12T13:20:36.750297Z",
     "start_time": "2025-05-12T13:20:36.747565Z"
    }
   },
   "source": "df.columns",
   "outputs": [
    {
     "data": {
      "text/plain": [
       "Index(['Units', 'Final Price', 'Area m2', 'Price per m2', 'Block_325.0',\n",
       "       'Block_326.0', 'Block_375.0', 'Block_376.0', 'Block_390.0',\n",
       "       'Block_395.0',\n",
       "       ...\n",
       "       'City_שלומי , יערית', 'City_שער אפרים', 'City_שער אפרים , שער אפרים',\n",
       "       'City_שריגים(לי און', 'City_שריגים(לי און , מועצה אזורית מטה יהודה',\n",
       "       'City_תל אביב יפו , בצרה', 'City_תל מונד', 'City_תלמי יחיאל',\n",
       "       'City_תמרת', 'City_תנובות'],\n",
       "      dtype='object', length=536)"
      ]
     },
     "execution_count": 17,
     "metadata": {},
     "output_type": "execute_result"
    }
   ],
   "execution_count": 17
  },
  {
   "cell_type": "markdown",
   "metadata": {
    "id": "cM75fbbntYPl"
   },
   "source": [
    "## Focus on Southern cities of Israel"
   ]
  },
  {
   "cell_type": "code",
   "metadata": {
    "colab": {
     "base_uri": "https://localhost:8080/"
    },
    "id": "mmaL4grMG3g6",
    "outputId": "7b93106f-c631-462d-d0c0-80032419829e",
    "ExecuteTime": {
     "end_time": "2025-05-12T13:20:36.800966Z",
     "start_time": "2025-05-12T13:20:36.799217Z"
    }
   },
   "source": [
    "# southern_base_cities = [\n",
    "#     \"אופקים\", \"אשקלון\", \"באר גנים\", \"באר שבע\", \"גדרה\", \"גן יבנה\",\n",
    "#     \"חלץ\", \"יבנה\", \"מיתר\", \"להבים\", \"דימונה\", \"ניצן\", \"נתיבות\",\n",
    "#     \"עומר\", \"קרית גת\", \"קרית מלאכי\", \"שדרות\"\n",
    "# ]\n",
    "#\n",
    "# southern_city_columns = []\n",
    "# for city in southern_base_cities:\n",
    "#     matches = [col for col in df.columns if col.startswith(f\"City_{city}\")]\n",
    "#     southern_city_columns.extend(matches)\n",
    "#\n",
    "# df = df[df[southern_city_columns].any(axis=1)]\n",
    "#\n",
    "# all_city_columns = [col for col in df.columns if col.startswith(\"City_\")]\n",
    "# columns_with_data = [col for col in all_city_columns if df[col].sum() > 0]\n",
    "#\n",
    "# columns_to_drop = set(all_city_columns) - set(columns_with_data)\n",
    "# df = df.drop(columns=columns_to_drop)\n",
    "#\n",
    "# print(columns_with_data)"
   ],
   "outputs": [],
   "execution_count": 18
  },
  {
   "cell_type": "code",
   "metadata": {
    "colab": {
     "base_uri": "https://localhost:8080/",
     "height": 308
    },
    "id": "wllGQ7g1G3g6",
    "outputId": "f8ad6b8c-d4ac-4aa8-c6fe-fcb3ac367c04",
    "ExecuteTime": {
     "end_time": "2025-05-12T13:20:36.845093Z",
     "start_time": "2025-05-12T13:20:36.837139Z"
    }
   },
   "source": [
    "df.head()"
   ],
   "outputs": [
    {
     "data": {
      "text/plain": [
       "   Units  Final Price   Area m2  Price per m2  Block_325.0  Block_326.0  \\\n",
       "0    0.2     0.873736  0.639225      0.249075        False        False   \n",
       "1    0.2     0.902629  0.638015      0.257707        False        False   \n",
       "2    0.2     0.762417  0.638015      0.217580        False        False   \n",
       "3    0.0     0.182461  0.167070      0.122072        False        False   \n",
       "4    0.0     0.183701  0.167070      0.122869        False        False   \n",
       "\n",
       "   Block_375.0  Block_376.0  Block_390.0  Block_395.0  ...  \\\n",
       "0        False        False        False        False  ...   \n",
       "1        False        False        False        False  ...   \n",
       "2        False        False        False        False  ...   \n",
       "3        False        False        False        False  ...   \n",
       "4        False        False        False        False  ...   \n",
       "\n",
       "   City_שלומי , יערית  City_שער אפרים  City_שער אפרים , שער אפרים  \\\n",
       "0               False           False                       False   \n",
       "1               False           False                       False   \n",
       "2               False           False                       False   \n",
       "3               False           False                       False   \n",
       "4               False           False                       False   \n",
       "\n",
       "   City_שריגים(לי און  City_שריגים(לי און , מועצה אזורית מטה יהודה  \\\n",
       "0               False                                        False   \n",
       "1               False                                        False   \n",
       "2               False                                        False   \n",
       "3               False                                        False   \n",
       "4               False                                        False   \n",
       "\n",
       "   City_תל אביב יפו , בצרה  City_תל מונד  City_תלמי יחיאל  City_תמרת  \\\n",
       "0                    False         False            False      False   \n",
       "1                    False         False            False      False   \n",
       "2                    False         False            False      False   \n",
       "3                    False         False            False      False   \n",
       "4                    False         False            False      False   \n",
       "\n",
       "   City_תנובות  \n",
       "0        False  \n",
       "1        False  \n",
       "2        False  \n",
       "3        False  \n",
       "4        False  \n",
       "\n",
       "[5 rows x 536 columns]"
      ],
      "text/html": [
       "<div>\n",
       "<style scoped>\n",
       "    .dataframe tbody tr th:only-of-type {\n",
       "        vertical-align: middle;\n",
       "    }\n",
       "\n",
       "    .dataframe tbody tr th {\n",
       "        vertical-align: top;\n",
       "    }\n",
       "\n",
       "    .dataframe thead th {\n",
       "        text-align: right;\n",
       "    }\n",
       "</style>\n",
       "<table border=\"1\" class=\"dataframe\">\n",
       "  <thead>\n",
       "    <tr style=\"text-align: right;\">\n",
       "      <th></th>\n",
       "      <th>Units</th>\n",
       "      <th>Final Price</th>\n",
       "      <th>Area m2</th>\n",
       "      <th>Price per m2</th>\n",
       "      <th>Block_325.0</th>\n",
       "      <th>Block_326.0</th>\n",
       "      <th>Block_375.0</th>\n",
       "      <th>Block_376.0</th>\n",
       "      <th>Block_390.0</th>\n",
       "      <th>Block_395.0</th>\n",
       "      <th>...</th>\n",
       "      <th>City_שלומי , יערית</th>\n",
       "      <th>City_שער אפרים</th>\n",
       "      <th>City_שער אפרים , שער אפרים</th>\n",
       "      <th>City_שריגים(לי און</th>\n",
       "      <th>City_שריגים(לי און , מועצה אזורית מטה יהודה</th>\n",
       "      <th>City_תל אביב יפו , בצרה</th>\n",
       "      <th>City_תל מונד</th>\n",
       "      <th>City_תלמי יחיאל</th>\n",
       "      <th>City_תמרת</th>\n",
       "      <th>City_תנובות</th>\n",
       "    </tr>\n",
       "  </thead>\n",
       "  <tbody>\n",
       "    <tr>\n",
       "      <th>0</th>\n",
       "      <td>0.2</td>\n",
       "      <td>0.873736</td>\n",
       "      <td>0.639225</td>\n",
       "      <td>0.249075</td>\n",
       "      <td>False</td>\n",
       "      <td>False</td>\n",
       "      <td>False</td>\n",
       "      <td>False</td>\n",
       "      <td>False</td>\n",
       "      <td>False</td>\n",
       "      <td>...</td>\n",
       "      <td>False</td>\n",
       "      <td>False</td>\n",
       "      <td>False</td>\n",
       "      <td>False</td>\n",
       "      <td>False</td>\n",
       "      <td>False</td>\n",
       "      <td>False</td>\n",
       "      <td>False</td>\n",
       "      <td>False</td>\n",
       "      <td>False</td>\n",
       "    </tr>\n",
       "    <tr>\n",
       "      <th>1</th>\n",
       "      <td>0.2</td>\n",
       "      <td>0.902629</td>\n",
       "      <td>0.638015</td>\n",
       "      <td>0.257707</td>\n",
       "      <td>False</td>\n",
       "      <td>False</td>\n",
       "      <td>False</td>\n",
       "      <td>False</td>\n",
       "      <td>False</td>\n",
       "      <td>False</td>\n",
       "      <td>...</td>\n",
       "      <td>False</td>\n",
       "      <td>False</td>\n",
       "      <td>False</td>\n",
       "      <td>False</td>\n",
       "      <td>False</td>\n",
       "      <td>False</td>\n",
       "      <td>False</td>\n",
       "      <td>False</td>\n",
       "      <td>False</td>\n",
       "      <td>False</td>\n",
       "    </tr>\n",
       "    <tr>\n",
       "      <th>2</th>\n",
       "      <td>0.2</td>\n",
       "      <td>0.762417</td>\n",
       "      <td>0.638015</td>\n",
       "      <td>0.217580</td>\n",
       "      <td>False</td>\n",
       "      <td>False</td>\n",
       "      <td>False</td>\n",
       "      <td>False</td>\n",
       "      <td>False</td>\n",
       "      <td>False</td>\n",
       "      <td>...</td>\n",
       "      <td>False</td>\n",
       "      <td>False</td>\n",
       "      <td>False</td>\n",
       "      <td>False</td>\n",
       "      <td>False</td>\n",
       "      <td>False</td>\n",
       "      <td>False</td>\n",
       "      <td>False</td>\n",
       "      <td>False</td>\n",
       "      <td>False</td>\n",
       "    </tr>\n",
       "    <tr>\n",
       "      <th>3</th>\n",
       "      <td>0.0</td>\n",
       "      <td>0.182461</td>\n",
       "      <td>0.167070</td>\n",
       "      <td>0.122072</td>\n",
       "      <td>False</td>\n",
       "      <td>False</td>\n",
       "      <td>False</td>\n",
       "      <td>False</td>\n",
       "      <td>False</td>\n",
       "      <td>False</td>\n",
       "      <td>...</td>\n",
       "      <td>False</td>\n",
       "      <td>False</td>\n",
       "      <td>False</td>\n",
       "      <td>False</td>\n",
       "      <td>False</td>\n",
       "      <td>False</td>\n",
       "      <td>False</td>\n",
       "      <td>False</td>\n",
       "      <td>False</td>\n",
       "      <td>False</td>\n",
       "    </tr>\n",
       "    <tr>\n",
       "      <th>4</th>\n",
       "      <td>0.0</td>\n",
       "      <td>0.183701</td>\n",
       "      <td>0.167070</td>\n",
       "      <td>0.122869</td>\n",
       "      <td>False</td>\n",
       "      <td>False</td>\n",
       "      <td>False</td>\n",
       "      <td>False</td>\n",
       "      <td>False</td>\n",
       "      <td>False</td>\n",
       "      <td>...</td>\n",
       "      <td>False</td>\n",
       "      <td>False</td>\n",
       "      <td>False</td>\n",
       "      <td>False</td>\n",
       "      <td>False</td>\n",
       "      <td>False</td>\n",
       "      <td>False</td>\n",
       "      <td>False</td>\n",
       "      <td>False</td>\n",
       "      <td>False</td>\n",
       "    </tr>\n",
       "  </tbody>\n",
       "</table>\n",
       "<p>5 rows × 536 columns</p>\n",
       "</div>"
      ]
     },
     "execution_count": 19,
     "metadata": {},
     "output_type": "execute_result"
    }
   ],
   "execution_count": 19
  },
  {
   "cell_type": "code",
   "metadata": {
    "ExecuteTime": {
     "end_time": "2025-05-12T13:20:36.900418Z",
     "start_time": "2025-05-12T13:20:36.896888Z"
    }
   },
   "source": [
    "df=df.drop(['Final Price'],axis=1)"
   ],
   "outputs": [],
   "execution_count": 20
  },
  {
   "cell_type": "code",
   "metadata": {
    "colab": {
     "base_uri": "https://localhost:8080/",
     "height": 17
    },
    "id": "VlGMzOa93o5H",
    "outputId": "da400d33-3289-4976-b187-5ffda6941d69",
    "ExecuteTime": {
     "end_time": "2025-05-12T13:20:37.172222Z",
     "start_time": "2025-05-12T13:20:36.904036Z"
    }
   },
   "source": [
    "df.to_csv(\"cleaned_data.csv\", index=False)\n",
    "\n",
    "# files.download(\"/content/cleaned_data.csv\")\n",
    "# files.download(\"/content/scaler_minmax.json\")"
   ],
   "outputs": [],
   "execution_count": 21
  },
  {
   "cell_type": "code",
   "metadata": {
    "colab": {
     "base_uri": "https://localhost:8080/"
    },
    "id": "qXp2-BdUPDGv",
    "outputId": "c296c116-fb98-43ec-90b8-1bf5b636ee64",
    "ExecuteTime": {
     "end_time": "2025-05-12T13:20:37.191133Z",
     "start_time": "2025-05-12T13:20:37.188397Z"
    }
   },
   "source": [
    "df.columns"
   ],
   "outputs": [
    {
     "data": {
      "text/plain": [
       "Index(['Units', 'Area m2', 'Price per m2', 'Block_325.0', 'Block_326.0',\n",
       "       'Block_375.0', 'Block_376.0', 'Block_390.0', 'Block_395.0',\n",
       "       'Block_399.0',\n",
       "       ...\n",
       "       'City_שלומי , יערית', 'City_שער אפרים', 'City_שער אפרים , שער אפרים',\n",
       "       'City_שריגים(לי און', 'City_שריגים(לי און , מועצה אזורית מטה יהודה',\n",
       "       'City_תל אביב יפו , בצרה', 'City_תל מונד', 'City_תלמי יחיאל',\n",
       "       'City_תמרת', 'City_תנובות'],\n",
       "      dtype='object', length=535)"
      ]
     },
     "execution_count": 22,
     "metadata": {},
     "output_type": "execute_result"
    }
   ],
   "execution_count": 22
  }
 ],
 "metadata": {
  "colab": {
   "provenance": []
  },
  "kernelspec": {
   "display_name": "Python 3 (ipykernel)",
   "language": "python",
   "name": "python3"
  },
  "language_info": {
   "name": "python"
  }
 },
 "nbformat": 4,
 "nbformat_minor": 0
}
