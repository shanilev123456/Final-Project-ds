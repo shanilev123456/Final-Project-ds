{
 "cells": [
  {
   "cell_type": "markdown",
   "id": "57409dc2daa8343c",
   "metadata": {
    "id": "57409dc2daa8343c"
   },
   "source": [
    "<a href=\"https://colab.research.google.com/github/shanilev123456/Final-Project-ds/blob/master/FCNN_model%26Test.ipynb\" target=\"_parent\"><img src=\"https://colab.research.google.com/assets/colab-badge.svg\" alt=\"Open In Colab\"/></a>"
   ]
  },
  {
   "cell_type": "code",
   "execution_count": 163,
   "id": "initial_id",
   "metadata": {
    "ExecuteTime": {
     "end_time": "2025-06-11T09:50:44.340389Z",
     "start_time": "2025-06-11T09:50:42.525345Z"
    },
    "colab": {
     "base_uri": "https://localhost:8080/"
    },
    "collapsed": true,
    "id": "initial_id",
    "outputId": "ec24538c-c0e2-4eb6-9a8f-04832b2fd9a0"
   },
   "outputs": [
    {
     "name": "stdout",
     "output_type": "stream",
     "text": [
      "Requirement already satisfied: ipython-autotime in c:\\users\\idanb\\appdata\\local\\programs\\python\\python311\\lib\\site-packages (0.3.2)\n",
      "Requirement already satisfied: ipython in c:\\users\\idanb\\appdata\\local\\programs\\python\\python311\\lib\\site-packages (from ipython-autotime) (8.29.0)\n",
      "Requirement already satisfied: decorator in c:\\users\\idanb\\appdata\\local\\programs\\python\\python311\\lib\\site-packages (from ipython->ipython-autotime) (5.1.1)\n",
      "Requirement already satisfied: jedi>=0.16 in c:\\users\\idanb\\appdata\\local\\programs\\python\\python311\\lib\\site-packages (from ipython->ipython-autotime) (0.19.2)\n",
      "Requirement already satisfied: matplotlib-inline in c:\\users\\idanb\\appdata\\local\\programs\\python\\python311\\lib\\site-packages (from ipython->ipython-autotime) (0.1.7)\n",
      "Requirement already satisfied: prompt-toolkit<3.1.0,>=3.0.41 in c:\\users\\idanb\\appdata\\local\\programs\\python\\python311\\lib\\site-packages (from ipython->ipython-autotime) (3.0.48)\n",
      "Requirement already satisfied: pygments>=2.4.0 in c:\\users\\idanb\\appdata\\local\\programs\\python\\python311\\lib\\site-packages (from ipython->ipython-autotime) (2.18.0)\n",
      "Requirement already satisfied: stack-data in c:\\users\\idanb\\appdata\\local\\programs\\python\\python311\\lib\\site-packages (from ipython->ipython-autotime) (0.6.3)\n",
      "Requirement already satisfied: traitlets>=5.13.0 in c:\\users\\idanb\\appdata\\local\\programs\\python\\python311\\lib\\site-packages (from ipython->ipython-autotime) (5.14.3)\n",
      "Requirement already satisfied: typing-extensions>=4.6 in c:\\users\\idanb\\appdata\\local\\programs\\python\\python311\\lib\\site-packages (from ipython->ipython-autotime) (4.12.2)\n",
      "Requirement already satisfied: colorama in c:\\users\\idanb\\appdata\\local\\programs\\python\\python311\\lib\\site-packages (from ipython->ipython-autotime) (0.4.6)\n",
      "Requirement already satisfied: parso<0.9.0,>=0.8.4 in c:\\users\\idanb\\appdata\\local\\programs\\python\\python311\\lib\\site-packages (from jedi>=0.16->ipython->ipython-autotime) (0.8.4)\n",
      "Requirement already satisfied: wcwidth in c:\\users\\idanb\\appdata\\local\\programs\\python\\python311\\lib\\site-packages (from prompt-toolkit<3.1.0,>=3.0.41->ipython->ipython-autotime) (0.2.13)\n",
      "Requirement already satisfied: executing>=1.2.0 in c:\\users\\idanb\\appdata\\local\\programs\\python\\python311\\lib\\site-packages (from stack-data->ipython->ipython-autotime) (2.1.0)\n",
      "Requirement already satisfied: asttokens>=2.1.0 in c:\\users\\idanb\\appdata\\local\\programs\\python\\python311\\lib\\site-packages (from stack-data->ipython->ipython-autotime) (2.4.1)\n",
      "Requirement already satisfied: pure-eval in c:\\users\\idanb\\appdata\\local\\programs\\python\\python311\\lib\\site-packages (from stack-data->ipython->ipython-autotime) (0.2.3)\n",
      "Requirement already satisfied: six>=1.12.0 in c:\\users\\idanb\\appdata\\local\\programs\\python\\python311\\lib\\site-packages (from asttokens>=2.1.0->stack-data->ipython->ipython-autotime) (1.16.0)\n",
      "The autotime extension is already loaded. To reload it, use:\n",
      "  %reload_ext autotime\n",
      "time: 1.8 s (started: 2025-06-11 12:50:42 +03:00)\n"
     ]
    },
    {
     "name": "stderr",
     "output_type": "stream",
     "text": [
      "\n",
      "[notice] A new release of pip is available: 25.0.1 -> 25.1.1\n",
      "[notice] To update, run: python.exe -m pip install --upgrade pip\n"
     ]
    }
   ],
   "source": [
    "import torch\n",
    "import torch.nn as nn\n",
    "from torch.utils.data import TensorDataset, DataLoader\n",
    "from sklearn.model_selection import train_test_split\n",
    "import pandas as pd\n",
    "import numpy as np\n",
    "from sklearn.model_selection import train_test_split\n",
    "from sklearn.metrics import mean_absolute_error, mean_squared_error, r2_score\n",
    "import matplotlib.pyplot as plt\n",
    "import copy\n",
    "\n",
    "!pip install ipython-autotime\n",
    "%load_ext autotime"
   ]
  },
  {
   "cell_type": "markdown",
   "id": "f6ec1b35e6f1cb95",
   "metadata": {
    "id": "f6ec1b35e6f1cb95"
   },
   "source": [
    "## Import Data"
   ]
  },
  {
   "cell_type": "code",
   "execution_count": 164,
   "id": "4d95c92b078539c6",
   "metadata": {
    "ExecuteTime": {
     "end_time": "2025-06-11T09:50:44.358572Z",
     "start_time": "2025-06-11T09:50:44.353315Z"
    },
    "id": "4d95c92b078539c6",
    "outputId": "ca8aff42-ae86-40e2-f5c5-e8a3f54269aa"
   },
   "outputs": [
    {
     "name": "stdout",
     "output_type": "stream",
     "text": [
      "time: 0 ns (started: 2025-06-11 12:50:44 +03:00)\n"
     ]
    }
   ],
   "source": [
    "# from google.colab import files\n",
    "# uploaded = files.upload()"
   ]
  },
  {
   "cell_type": "code",
   "execution_count": 165,
   "id": "6785fed2979dbf57",
   "metadata": {
    "ExecuteTime": {
     "end_time": "2025-06-11T09:50:44.552178Z",
     "start_time": "2025-06-11T09:50:44.383608Z"
    },
    "id": "6785fed2979dbf57",
    "outputId": "de95c678-4551-498d-b963-fd8f77355930"
   },
   "outputs": [
    {
     "data": {
      "text/html": [
       "<div>\n",
       "<style scoped>\n",
       "    .dataframe tbody tr th:only-of-type {\n",
       "        vertical-align: middle;\n",
       "    }\n",
       "\n",
       "    .dataframe tbody tr th {\n",
       "        vertical-align: top;\n",
       "    }\n",
       "\n",
       "    .dataframe thead th {\n",
       "        text-align: right;\n",
       "    }\n",
       "</style>\n",
       "<table border=\"1\" class=\"dataframe\">\n",
       "  <thead>\n",
       "    <tr style=\"text-align: right;\">\n",
       "      <th></th>\n",
       "      <th>City</th>\n",
       "      <th>Units</th>\n",
       "      <th>Area m2</th>\n",
       "      <th>dist_to_kindergarten</th>\n",
       "      <th>is_kindergarten_within_radius</th>\n",
       "      <th>dist_to_school</th>\n",
       "      <th>is_school_within_radius</th>\n",
       "      <th>dist_to_university</th>\n",
       "      <th>is_university_within_radius</th>\n",
       "      <th>dist_to_bus_stop</th>\n",
       "      <th>...</th>\n",
       "      <th>Committee_year_2023.0</th>\n",
       "      <th>Committee_year_2024.0</th>\n",
       "      <th>Committee_year_2025.0</th>\n",
       "      <th>Region_דרום</th>\n",
       "      <th>Region_חיפה</th>\n",
       "      <th>Region_ירושלים</th>\n",
       "      <th>Region_מרכז</th>\n",
       "      <th>Region_צפון</th>\n",
       "      <th>Region_תל אביב</th>\n",
       "      <th>City_Index</th>\n",
       "    </tr>\n",
       "  </thead>\n",
       "  <tbody>\n",
       "    <tr>\n",
       "      <th>0</th>\n",
       "      <td>זכרון יעקב , מורדות הבאר</td>\n",
       "      <td>0.2</td>\n",
       "      <td>0.639225</td>\n",
       "      <td>0.012903</td>\n",
       "      <td>1</td>\n",
       "      <td>0.018328</td>\n",
       "      <td>1</td>\n",
       "      <td>0.330703</td>\n",
       "      <td>0</td>\n",
       "      <td>0.031822</td>\n",
       "      <td>...</td>\n",
       "      <td>0</td>\n",
       "      <td>0</td>\n",
       "      <td>0</td>\n",
       "      <td>0</td>\n",
       "      <td>1</td>\n",
       "      <td>0</td>\n",
       "      <td>0</td>\n",
       "      <td>0</td>\n",
       "      <td>0</td>\n",
       "      <td>0</td>\n",
       "    </tr>\n",
       "    <tr>\n",
       "      <th>1</th>\n",
       "      <td>זכרון יעקב , מורדות הבאר</td>\n",
       "      <td>0.2</td>\n",
       "      <td>0.638015</td>\n",
       "      <td>0.012903</td>\n",
       "      <td>1</td>\n",
       "      <td>0.018328</td>\n",
       "      <td>1</td>\n",
       "      <td>0.330703</td>\n",
       "      <td>0</td>\n",
       "      <td>0.031822</td>\n",
       "      <td>...</td>\n",
       "      <td>0</td>\n",
       "      <td>0</td>\n",
       "      <td>0</td>\n",
       "      <td>0</td>\n",
       "      <td>1</td>\n",
       "      <td>0</td>\n",
       "      <td>0</td>\n",
       "      <td>0</td>\n",
       "      <td>0</td>\n",
       "      <td>0</td>\n",
       "    </tr>\n",
       "    <tr>\n",
       "      <th>2</th>\n",
       "      <td>זכרון יעקב , מורדות הבאר</td>\n",
       "      <td>0.2</td>\n",
       "      <td>0.638015</td>\n",
       "      <td>0.012903</td>\n",
       "      <td>1</td>\n",
       "      <td>0.018328</td>\n",
       "      <td>1</td>\n",
       "      <td>0.330703</td>\n",
       "      <td>0</td>\n",
       "      <td>0.031822</td>\n",
       "      <td>...</td>\n",
       "      <td>0</td>\n",
       "      <td>0</td>\n",
       "      <td>0</td>\n",
       "      <td>0</td>\n",
       "      <td>1</td>\n",
       "      <td>0</td>\n",
       "      <td>0</td>\n",
       "      <td>0</td>\n",
       "      <td>0</td>\n",
       "      <td>0</td>\n",
       "    </tr>\n",
       "    <tr>\n",
       "      <th>3</th>\n",
       "      <td>קרית גת , כרמי גת</td>\n",
       "      <td>0.0</td>\n",
       "      <td>0.167070</td>\n",
       "      <td>0.000509</td>\n",
       "      <td>1</td>\n",
       "      <td>0.018030</td>\n",
       "      <td>1</td>\n",
       "      <td>0.200951</td>\n",
       "      <td>0</td>\n",
       "      <td>0.034332</td>\n",
       "      <td>...</td>\n",
       "      <td>0</td>\n",
       "      <td>0</td>\n",
       "      <td>0</td>\n",
       "      <td>0</td>\n",
       "      <td>0</td>\n",
       "      <td>1</td>\n",
       "      <td>0</td>\n",
       "      <td>0</td>\n",
       "      <td>0</td>\n",
       "      <td>1</td>\n",
       "    </tr>\n",
       "    <tr>\n",
       "      <th>4</th>\n",
       "      <td>קרית גת , כרמי גת</td>\n",
       "      <td>0.0</td>\n",
       "      <td>0.167070</td>\n",
       "      <td>0.000509</td>\n",
       "      <td>1</td>\n",
       "      <td>0.018030</td>\n",
       "      <td>1</td>\n",
       "      <td>0.200951</td>\n",
       "      <td>0</td>\n",
       "      <td>0.034332</td>\n",
       "      <td>...</td>\n",
       "      <td>0</td>\n",
       "      <td>0</td>\n",
       "      <td>0</td>\n",
       "      <td>0</td>\n",
       "      <td>0</td>\n",
       "      <td>1</td>\n",
       "      <td>0</td>\n",
       "      <td>0</td>\n",
       "      <td>0</td>\n",
       "      <td>1</td>\n",
       "    </tr>\n",
       "  </tbody>\n",
       "</table>\n",
       "<p>5 rows × 328 columns</p>\n",
       "</div>"
      ],
      "text/plain": [
       "                       City  Units   Area m2  dist_to_kindergarten  \\\n",
       "0  זכרון יעקב , מורדות הבאר    0.2  0.639225              0.012903   \n",
       "1  זכרון יעקב , מורדות הבאר    0.2  0.638015              0.012903   \n",
       "2  זכרון יעקב , מורדות הבאר    0.2  0.638015              0.012903   \n",
       "3         קרית גת , כרמי גת    0.0  0.167070              0.000509   \n",
       "4         קרית גת , כרמי גת    0.0  0.167070              0.000509   \n",
       "\n",
       "   is_kindergarten_within_radius  dist_to_school  is_school_within_radius  \\\n",
       "0                              1        0.018328                        1   \n",
       "1                              1        0.018328                        1   \n",
       "2                              1        0.018328                        1   \n",
       "3                              1        0.018030                        1   \n",
       "4                              1        0.018030                        1   \n",
       "\n",
       "   dist_to_university  is_university_within_radius  dist_to_bus_stop  ...  \\\n",
       "0            0.330703                            0          0.031822  ...   \n",
       "1            0.330703                            0          0.031822  ...   \n",
       "2            0.330703                            0          0.031822  ...   \n",
       "3            0.200951                            0          0.034332  ...   \n",
       "4            0.200951                            0          0.034332  ...   \n",
       "\n",
       "   Committee_year_2023.0  Committee_year_2024.0  Committee_year_2025.0  \\\n",
       "0                      0                      0                      0   \n",
       "1                      0                      0                      0   \n",
       "2                      0                      0                      0   \n",
       "3                      0                      0                      0   \n",
       "4                      0                      0                      0   \n",
       "\n",
       "   Region_דרום  Region_חיפה  Region_ירושלים  Region_מרכז  Region_צפון  \\\n",
       "0            0            1               0            0            0   \n",
       "1            0            1               0            0            0   \n",
       "2            0            1               0            0            0   \n",
       "3            0            0               1            0            0   \n",
       "4            0            0               1            0            0   \n",
       "\n",
       "   Region_תל אביב  City_Index  \n",
       "0               0           0  \n",
       "1               0           0  \n",
       "2               0           0  \n",
       "3               0           1  \n",
       "4               0           1  \n",
       "\n",
       "[5 rows x 328 columns]"
      ]
     },
     "execution_count": 165,
     "metadata": {},
     "output_type": "execute_result"
    },
    {
     "name": "stdout",
     "output_type": "stream",
     "text": [
      "time: 156 ms (started: 2025-06-11 12:50:44 +03:00)\n"
     ]
    }
   ],
   "source": [
    "df = pd.read_csv(\"cleaned_data.csv\")\n",
    "df.head()"
   ]
  },
  {
   "cell_type": "code",
   "execution_count": null,
   "id": "d34ee5ed751af816",
   "metadata": {
    "ExecuteTime": {
     "end_time": "2025-06-11T09:50:44.774958Z",
     "start_time": "2025-06-11T09:50:44.659736Z"
    },
    "id": "d34ee5ed751af816",
    "outputId": "a407f0b5-5993-487c-de09-408ac9792083"
   },
   "outputs": [
    {
     "name": "stdout",
     "output_type": "stream",
     "text": [
      "time: 94 ms (started: 2025-06-11 12:50:44 +03:00)\n"
     ]
    }
   ],
   "source": [
    "df = df.dropna()\n",
    "\n",
    "city_counts = df[\"City_Index\"].value_counts()\n",
    "valid_cities = city_counts[city_counts >= 2].index\n",
    "df = df[df[\"City_Index\"].isin(valid_cities)]\n",
    "\n",
    "target_column = \"Price per m2\"\n",
    "y = df[target_column]\n",
    "city_idx = df[\"City_Index\"]\n",
    "X = df.drop(columns=[target_column, \"City_Index\",\"City\"])\n",
    "\n",
    "X_train_full, X_test, y_train_full, y_test, city_train_full, city_test = train_test_split(\n",
    "    X, y, city_idx, test_size=0.2, random_state=42, stratify=city_idx\n",
    ")\n",
    "\n",
    "X_train_part, X_val, y_train_part, y_val, city_train_part, city_val = train_test_split(\n",
    "    X_train_full, y_train_full, city_train_full, test_size=0.15, random_state=42, stratify=city_train_full\n",
    ")\n"
   ]
  },
  {
   "cell_type": "code",
   "execution_count": 167,
   "id": "e4156f7637386a43",
   "metadata": {
    "ExecuteTime": {
     "end_time": "2025-06-11T09:50:44.899830Z",
     "start_time": "2025-06-11T09:50:44.889297Z"
    },
    "id": "e4156f7637386a43",
    "outputId": "d2b766d4-efa4-41d3-bcc2-46c30dfb023d"
   },
   "outputs": [
    {
     "name": "stdout",
     "output_type": "stream",
     "text": [
      "time: 0 ns (started: 2025-06-11 12:50:44 +03:00)\n"
     ]
    }
   ],
   "source": [
    "X_columns = X_train_part.columns\n",
    "X_columns.to_series().to_csv(\"model_columns.csv\", index=False, header=False)"
   ]
  },
  {
   "cell_type": "code",
   "execution_count": 168,
   "id": "413fa994182ccfac",
   "metadata": {
    "ExecuteTime": {
     "end_time": "2025-06-11T09:50:44.955171Z",
     "start_time": "2025-06-11T09:50:44.936492Z"
    },
    "id": "413fa994182ccfac",
    "outputId": "12d5ca86-978e-4cbd-c014-44daf5048f20"
   },
   "outputs": [
    {
     "name": "stdout",
     "output_type": "stream",
     "text": [
      "time: 15 ms (started: 2025-06-11 12:50:44 +03:00)\n"
     ]
    }
   ],
   "source": [
    "if isinstance(X_train_part, pd.DataFrame):\n",
    "    X_train_part = X_train_part.values\n",
    "if isinstance(X_val, pd.DataFrame):\n",
    "    X_val = X_val.values\n",
    "if isinstance(X_test, pd.DataFrame):\n",
    "    X_test = X_test.values"
   ]
  },
  {
   "cell_type": "code",
   "execution_count": 169,
   "id": "63bd7caaa29571a5",
   "metadata": {
    "ExecuteTime": {
     "end_time": "2025-06-11T09:50:45.012314Z",
     "start_time": "2025-06-11T09:50:44.983620Z"
    },
    "id": "63bd7caaa29571a5",
    "outputId": "e9049ce0-7d98-4867-a165-f003d4d183af"
   },
   "outputs": [
    {
     "name": "stdout",
     "output_type": "stream",
     "text": [
      "time: 16 ms (started: 2025-06-11 12:50:44 +03:00)\n"
     ]
    }
   ],
   "source": [
    "X_train_part = X_train_part.astype(float)\n",
    "X_val = X_val.astype(float)\n",
    "X_test = X_test.astype(float)\n",
    "\n",
    "X_train_part = np.array(X_train_part, dtype=np.float32)\n",
    "X_val = np.array(X_val, dtype=np.float32)\n",
    "X_test = np.array(X_test, dtype=np.float32)"
   ]
  },
  {
   "cell_type": "code",
   "execution_count": 170,
   "id": "bda8efee2e2c1839",
   "metadata": {
    "ExecuteTime": {
     "end_time": "2025-06-11T09:50:45.051033Z",
     "start_time": "2025-06-11T09:50:45.043448Z"
    },
    "id": "bda8efee2e2c1839",
    "outputId": "22f9e3d5-d40b-4601-c1c9-e2fbadb83ada"
   },
   "outputs": [
    {
     "name": "stdout",
     "output_type": "stream",
     "text": [
      "Using device: cpu\n",
      "time: 0 ns (started: 2025-06-11 12:50:45 +03:00)\n"
     ]
    }
   ],
   "source": [
    "device = torch.device(\"cuda\" if torch.cuda.is_available() else \"cpu\")\n",
    "print(f\"Using device: {device}\")"
   ]
  },
  {
   "cell_type": "code",
   "execution_count": null,
   "id": "c57afc9cefd1f27",
   "metadata": {
    "ExecuteTime": {
     "end_time": "2025-06-11T09:50:45.094205Z",
     "start_time": "2025-06-11T09:50:45.078454Z"
    },
    "id": "c57afc9cefd1f27",
    "outputId": "6e3ae490-90bb-4521-f7e5-bdca8f0712ba"
   },
   "outputs": [
    {
     "name": "stdout",
     "output_type": "stream",
     "text": [
      "time: 16 ms (started: 2025-06-11 12:50:45 +03:00)\n"
     ]
    }
   ],
   "source": [
    "X_train_tensor = torch.tensor(X_train_part, dtype=torch.float32).to(device)\n",
    "y_train_tensor = torch.tensor(y_train_part.values.reshape(-1,1), dtype=torch.float32).to(device)   # ← .values + reshape\n",
    "X_val_tensor   = torch.tensor(X_val,   dtype=torch.float32).to(device)\n",
    "y_val_tensor   = torch.tensor(y_val.values.reshape(-1,1),   dtype=torch.float32).to(device)   # ← same here\n",
    "X_test_tensor  = torch.tensor(X_test,  dtype=torch.float32).to(device)\n",
    "y_test_tensor  = torch.tensor(y_test.values.reshape(-1,1),  dtype=torch.float32).to(device)   # ← and here\n",
    "city_train_tensor = torch.tensor(city_train_part.values, dtype=torch.long).to(device)\n",
    "city_val_tensor   = torch.tensor(city_val.values, dtype=torch.long).to(device)\n",
    "city_test_tensor  = torch.tensor(city_test.values, dtype=torch.long).to(device)\n",
    "\n",
    "train_loader = DataLoader(TensorDataset(X_train_tensor, city_train_tensor, y_train_tensor), batch_size=64, shuffle=True)\n",
    "val_loader   = DataLoader(TensorDataset(X_val_tensor,   city_val_tensor,   y_val_tensor),   batch_size=64)\n"
   ]
  },
  {
   "cell_type": "markdown",
   "id": "a5e5718c1b47ba39",
   "metadata": {
    "id": "a5e5718c1b47ba39"
   },
   "source": [
    "## Model Architecture"
   ]
  },
  {
   "cell_type": "code",
   "execution_count": 172,
   "id": "7937b786fdc5dce1",
   "metadata": {
    "ExecuteTime": {
     "end_time": "2025-06-11T09:50:45.183513Z",
     "start_time": "2025-06-11T09:50:45.154960Z"
    },
    "id": "7937b786fdc5dce1",
    "outputId": "360f3a5e-7771-4ecf-e2c0-4bd1d8fa3d4e"
   },
   "outputs": [
    {
     "name": "stdout",
     "output_type": "stream",
     "text": [
      "time: 16 ms (started: 2025-06-11 12:50:45 +03:00)\n"
     ]
    }
   ],
   "source": [
    "import torch.nn as nn\n",
    "import torch\n",
    "\n",
    "class DeepMLPwithEmbedding(nn.Module):\n",
    "    def __init__(self, input_dim, num_cities, embedding_dim=32):\n",
    "        super().__init__()\n",
    "        self.city_emb = nn.Embedding(num_cities, embedding_dim)\n",
    "\n",
    "        self.model = nn.Sequential(\n",
    "            nn.Linear(input_dim + embedding_dim, 1024),\n",
    "            nn.LayerNorm(1024),\n",
    "            nn.ReLU(),\n",
    "            nn.Dropout(0.3),\n",
    "\n",
    "            nn.Linear(1024, 512),\n",
    "            nn.LayerNorm(512),\n",
    "            nn.ReLU(),\n",
    "            nn.Dropout(0.3),\n",
    "\n",
    "            nn.Linear(512, 256),\n",
    "            nn.LayerNorm(256),\n",
    "            nn.ReLU(),\n",
    "            nn.Dropout(0.3),\n",
    "\n",
    "            nn.Linear(256, 128),\n",
    "            nn.LayerNorm(128),\n",
    "            nn.ReLU(),\n",
    "            nn.Dropout(0.2),\n",
    "\n",
    "            nn.Linear(128, 64),\n",
    "            nn.LayerNorm(64),\n",
    "            nn.ReLU(),\n",
    "\n",
    "            nn.Linear(64, 32),\n",
    "            nn.LayerNorm(32),\n",
    "            nn.ReLU(),\n",
    "\n",
    "            nn.Linear(32, 16),\n",
    "            nn.ReLU(),\n",
    "\n",
    "            nn.Linear(16, 1),\n",
    "            nn.ReLU()  # Keeps output ≥ 0\n",
    "        )\n",
    "\n",
    "    def forward(self, x, city_idx):\n",
    "        city_vec = self.city_emb(city_idx)\n",
    "        x_combined = torch.cat((x, city_vec), dim=1)\n",
    "        return self.model(x_combined)\n",
    "\n",
    "num_cities = df[\"City_Index\"].max() + 1\n",
    "model = DeepMLPwithEmbedding(input_dim=X_train_part.shape[1], num_cities=num_cities).to(device)\n"
   ]
  },
  {
   "cell_type": "markdown",
   "id": "549cd01cc0da863f",
   "metadata": {
    "id": "549cd01cc0da863f"
   },
   "source": [
    "## Define Hyper-Parameters & Training Model"
   ]
  },
  {
   "cell_type": "code",
   "execution_count": null,
   "id": "190d984b527586a6",
   "metadata": {
    "ExecuteTime": {
     "end_time": "2025-06-11T09:51:24.468774Z",
     "start_time": "2025-06-11T09:50:45.207318Z"
    },
    "colab": {
     "base_uri": "https://localhost:8080/"
    },
    "id": "190d984b527586a6",
    "outputId": "ffc0f91f-3edc-477b-8e50-87617c244317"
   },
   "outputs": [
    {
     "name": "stderr",
     "output_type": "stream",
     "text": [
      "C:\\Users\\idanb\\AppData\\Local\\Programs\\Python\\Python311\\Lib\\site-packages\\torch\\optim\\lr_scheduler.py:62: UserWarning: The verbose parameter is deprecated. Please use get_last_lr() to access the learning rate.\n",
      "  warnings.warn(\n"
     ]
    },
    {
     "name": "stdout",
     "output_type": "stream",
     "text": [
      "Epoch 1, Train Loss: 0.00300, Val Loss: 0.00134, LR: 0.001000\n",
      "Epoch 2, Train Loss: 0.00128, Val Loss: 0.00102, LR: 0.001000\n",
      "Epoch 3, Train Loss: 0.00098, Val Loss: 0.00082, LR: 0.001000\n",
      "Epoch 4, Train Loss: 0.00077, Val Loss: 0.00063, LR: 0.001000\n",
      "Epoch 5, Train Loss: 0.00062, Val Loss: 0.00053, LR: 0.001000\n",
      "Epoch 6, Train Loss: 0.00051, Val Loss: 0.00050, LR: 0.001000\n",
      "Epoch 7, Train Loss: 0.00049, Val Loss: 0.00052, LR: 0.001000\n",
      "Epoch 8, Train Loss: 0.00046, Val Loss: 0.00046, LR: 0.001000\n",
      "Epoch 9, Train Loss: 0.00040, Val Loss: 0.00044, LR: 0.001000\n",
      "Epoch 10, Train Loss: 0.00038, Val Loss: 0.00046, LR: 0.001000\n",
      "Epoch 11, Train Loss: 0.00037, Val Loss: 0.00041, LR: 0.001000\n",
      "Epoch 12, Train Loss: 0.00035, Val Loss: 0.00049, LR: 0.001000\n",
      "Epoch 13, Train Loss: 0.00037, Val Loss: 0.00042, LR: 0.001000\n",
      "Epoch 14, Train Loss: 0.00036, Val Loss: 0.00042, LR: 0.000500\n",
      "Epoch 15, Train Loss: 0.00033, Val Loss: 0.00038, LR: 0.000500\n",
      "Epoch 16, Train Loss: 0.00031, Val Loss: 0.00038, LR: 0.000500\n",
      "Epoch 17, Train Loss: 0.00029, Val Loss: 0.00040, LR: 0.000500\n",
      "Epoch 18, Train Loss: 0.00029, Val Loss: 0.00041, LR: 0.000500\n",
      "Epoch 19, Train Loss: 0.00028, Val Loss: 0.00042, LR: 0.000250\n",
      "Epoch 20, Train Loss: 0.00028, Val Loss: 0.00037, LR: 0.000250\n",
      "Epoch 21, Train Loss: 0.00027, Val Loss: 0.00037, LR: 0.000250\n",
      "Epoch 22, Train Loss: 0.00026, Val Loss: 0.00036, LR: 0.000250\n",
      "Epoch 23, Train Loss: 0.00026, Val Loss: 0.00037, LR: 0.000250\n",
      "Epoch 24, Train Loss: 0.00026, Val Loss: 0.00037, LR: 0.000250\n",
      "Epoch 25, Train Loss: 0.00026, Val Loss: 0.00037, LR: 0.000125\n",
      "Epoch 26, Train Loss: 0.00026, Val Loss: 0.00036, LR: 0.000125\n",
      "Epoch 27, Train Loss: 0.00025, Val Loss: 0.00036, LR: 0.000125\n",
      "Epoch 28, Train Loss: 0.00025, Val Loss: 0.00036, LR: 0.000125\n",
      "Epoch 29, Train Loss: 0.00025, Val Loss: 0.00036, LR: 0.000125\n",
      "Epoch 30, Train Loss: 0.00024, Val Loss: 0.00036, LR: 0.000125\n",
      "Epoch 31, Train Loss: 0.00024, Val Loss: 0.00036, LR: 0.000125\n",
      "Epoch 32, Train Loss: 0.00025, Val Loss: 0.00036, LR: 0.000125\n",
      "Epoch 33, Train Loss: 0.00025, Val Loss: 0.00035, LR: 0.000125\n",
      "Epoch 34, Train Loss: 0.00024, Val Loss: 0.00036, LR: 0.000125\n",
      "Epoch 35, Train Loss: 0.00024, Val Loss: 0.00035, LR: 0.000125\n",
      "Epoch 36, Train Loss: 0.00024, Val Loss: 0.00035, LR: 0.000125\n",
      "Epoch 37, Train Loss: 0.00024, Val Loss: 0.00035, LR: 0.000125\n",
      "Epoch 38, Train Loss: 0.00024, Val Loss: 0.00036, LR: 0.000125\n",
      "Epoch 39, Train Loss: 0.00024, Val Loss: 0.00036, LR: 0.000063\n",
      "Epoch 40, Train Loss: 0.00023, Val Loss: 0.00035, LR: 0.000063\n",
      "Epoch 41, Train Loss: 0.00024, Val Loss: 0.00036, LR: 0.000063\n",
      "Early stopping triggered.\n",
      "time: 39.2 s (started: 2025-06-11 12:50:45 +03:00)\n"
     ]
    }
   ],
   "source": [
    "import copy\n",
    "\n",
    "criterion = nn.HuberLoss(delta=0.1)\n",
    "optimizer = torch.optim.AdamW(model.parameters(), lr=0.001, weight_decay=1e-5)\n",
    "\n",
    "scheduler = torch.optim.lr_scheduler.ReduceLROnPlateau(\n",
    "    optimizer, mode='min', factor=0.5, patience=2,\n",
    "    verbose=True, min_lr=1e-6\n",
    ")\n",
    "\n",
    "num_epochs = 100\n",
    "early_stop_patience = 5\n",
    "best_val_loss = float('inf')\n",
    "epochs_no_improve = 0\n",
    "train_losses = []\n",
    "val_losses = []\n",
    "best_model = None\n",
    "\n",
    "for epoch in range(num_epochs):\n",
    "    model.train()\n",
    "    train_loss = 0.0\n",
    "    for xb, cityb, yb in train_loader:\n",
    "        pred = model(xb, cityb)\n",
    "        loss = criterion(pred, yb)\n",
    "        optimizer.zero_grad()\n",
    "        loss.backward()\n",
    "        optimizer.step()\n",
    "        train_loss += loss.item()\n",
    "    train_loss /= len(train_loader)\n",
    "    train_losses.append(train_loss)\n",
    "\n",
    "    model.eval()\n",
    "    val_loss = 0.0\n",
    "    with torch.no_grad():\n",
    "        for xb, cityb, yb in val_loader:\n",
    "            pred = model(xb, cityb)\n",
    "            loss = criterion(pred, yb)\n",
    "            val_loss += loss.item()\n",
    "    val_loss /= len(val_loader)\n",
    "    val_losses.append(val_loss)\n",
    "\n",
    "    scheduler.step(val_loss)\n",
    "\n",
    "    current_lr = optimizer.param_groups[0]['lr']\n",
    "    print(f\"Epoch {epoch+1}, Train Loss: {train_loss:.5f}, Val Loss: {val_loss:.5f}, LR: {current_lr:.6f}\")\n",
    "\n",
    "    # Early stopping\n",
    "    if val_loss < best_val_loss:\n",
    "        best_val_loss = val_loss\n",
    "        best_model = copy.deepcopy(model.state_dict())\n",
    "        epochs_no_improve = 0\n",
    "    else:\n",
    "        epochs_no_improve += 1\n",
    "        if epochs_no_improve >= early_stop_patience:\n",
    "            print(\"Early stopping triggered.\")\n",
    "            break\n"
   ]
  },
  {
   "cell_type": "markdown",
   "id": "60ecab9877145b2",
   "metadata": {
    "id": "60ecab9877145b2"
   },
   "source": [
    "## Plotting Training and Validation Metrics"
   ]
  },
  {
   "cell_type": "code",
   "execution_count": 174,
   "id": "4e3a45c0f39a2dc8",
   "metadata": {
    "ExecuteTime": {
     "end_time": "2025-06-11T09:51:24.697566Z",
     "start_time": "2025-06-11T09:51:24.479474Z"
    },
    "colab": {
     "base_uri": "https://localhost:8080/",
     "height": 490
    },
    "id": "4e3a45c0f39a2dc8",
    "outputId": "78dd4b44-644c-40c7-fcb4-66e4406e9592"
   },
   "outputs": [
    {
     "data": {
      "image/png": "[encoded data removed]",
      "text/plain": [
       "<Figure size 640x480 with 1 Axes>"
      ]
     },
     "metadata": {},
     "output_type": "display_data"
    },
    {
     "name": "stdout",
     "output_type": "stream",
     "text": [
      "time: 218 ms (started: 2025-06-11 12:51:24 +03:00)\n"
     ]
    }
   ],
   "source": [
    "plt.plot(train_losses, label='Train Loss')\n",
    "plt.plot(val_losses, label='Validation Loss')\n",
    "plt.xlabel(\"Epoch\")\n",
    "plt.ylabel(\"MSE Loss\")\n",
    "plt.title(\"Training & Validation Loss\")\n",
    "plt.legend()\n",
    "plt.grid(True)\n",
    "plt.show()"
   ]
  },
  {
   "cell_type": "markdown",
   "id": "ba9bda6e3ce69c93",
   "metadata": {
    "id": "ba9bda6e3ce69c93"
   },
   "source": [
    "### Saving trained model"
   ]
  },
  {
   "cell_type": "code",
   "execution_count": 175,
   "id": "cc2572d365313bdd",
   "metadata": {
    "ExecuteTime": {
     "end_time": "2025-06-11T09:51:24.729463Z",
     "start_time": "2025-06-11T09:51:24.703502Z"
    },
    "id": "cc2572d365313bdd",
    "outputId": "193bee03-2177-4135-f18c-e565b7f9f4ad"
   },
   "outputs": [
    {
     "name": "stdout",
     "output_type": "stream",
     "text": [
      "Model saved to mlp_model.pt\n",
      "time: 32 ms (started: 2025-06-11 12:51:24 +03:00)\n"
     ]
    }
   ],
   "source": [
    "model.load_state_dict(best_model)\n",
    "\n",
    "torch.save(model.state_dict(), \"mlp_model.pt\")\n",
    "print(\"Model saved to mlp_model.pt\")"
   ]
  },
  {
   "cell_type": "markdown",
   "id": "db1364eacfc89adf",
   "metadata": {
    "id": "db1364eacfc89adf"
   },
   "source": [
    "## Evaluation"
   ]
  },
  {
   "cell_type": "code",
   "execution_count": null,
   "id": "67ab965e0cc760a9",
   "metadata": {
    "ExecuteTime": {
     "end_time": "2025-06-11T09:51:24.914427Z",
     "start_time": "2025-06-11T09:51:24.770228Z"
    },
    "id": "67ab965e0cc760a9",
    "outputId": "427cd9db-6321-42cc-eb94-250bb51985a0"
   },
   "outputs": [
    {
     "name": "stdout",
     "output_type": "stream",
     "text": [
      "\n",
      "📊 Train Set Results:\n",
      "MAE:  0.01\n",
      "MSE:  0.00\n",
      "R²:   0.9473\n",
      "MAPE: 23.22%\n",
      "MedAE: 0.01\n",
      "Accuracy within ±10%: 53.06%\n",
      "Accuracy within ±20%: 76.70%\n",
      "Accuracy within ±30%: 86.43%\n",
      "\n",
      "📊 Validation Set Results:\n",
      "MAE:  0.02\n",
      "MSE:  0.00\n",
      "R²:   0.8864\n",
      "MAPE: 23.10%\n",
      "MedAE: 0.01\n",
      "Accuracy within ±10%: 46.53%\n",
      "Accuracy within ±20%: 72.11%\n",
      "Accuracy within ±30%: 84.65%\n",
      "\n",
      "📊 Test Set Results:\n",
      "MAE:  0.01\n",
      "MSE:  0.00\n",
      "R²:   0.9128\n",
      "MAPE: 25.21%\n",
      "MedAE: 0.01\n",
      "Accuracy within ±10%: 48.22%\n",
      "Accuracy within ±20%: 74.06%\n",
      "Accuracy within ±30%: 85.35%\n",
      "time: 125 ms (started: 2025-06-11 12:51:24 +03:00)\n"
     ]
    },
    {
     "name": "stderr",
     "output_type": "stream",
     "text": [
      "C:\\Users\\idanb\\AppData\\Local\\Temp\\ipykernel_20780\\1935142757.py:17: RuntimeWarning: divide by zero encountered in divide\n",
      "  error_pct = np.abs((y_true - y_pred) / y_true) * 100\n"
     ]
    }
   ],
   "source": [
    "from sklearn.metrics import mean_absolute_error, mean_squared_error, r2_score, median_absolute_error\n",
    "import numpy as np\n",
    "import torch\n",
    "\n",
    "def mean_absolute_percentage_error(y_true, y_pred):\n",
    "    y_true = np.array(y_true).flatten()\n",
    "    y_pred = np.array(y_pred).flatten()\n",
    "\n",
    "    non_zero_mask = np.abs(y_true) > 1e-6\n",
    "    y_true_filtered = y_true[non_zero_mask]\n",
    "    y_pred_filtered = y_pred[non_zero_mask]\n",
    "\n",
    "    return np.mean(np.abs((y_true_filtered - y_pred_filtered) / y_true_filtered)) * 100\n",
    "\n",
    "\n",
    "def accuracy_within_percentage(y_true, y_pred, threshold_percent=10):\n",
    "    error_pct = np.abs((y_true - y_pred) / y_true) * 100\n",
    "    return np.mean(error_pct <= threshold_percent) * 100\n",
    "\n",
    "def evaluate_predictions(y_true, y_pred, label=\"Set\"):\n",
    "    mae = mean_absolute_error(y_true, y_pred)\n",
    "    mse = mean_squared_error(y_true, y_pred)\n",
    "    r2 = r2_score(y_true, y_pred)\n",
    "    mape = mean_absolute_percentage_error(y_true, y_pred)\n",
    "    medae = median_absolute_error(y_true, y_pred)\n",
    "    acc10 = accuracy_within_percentage(y_true, y_pred, 10)\n",
    "    acc20 = accuracy_within_percentage(y_true, y_pred, 20)\n",
    "    acc30 = accuracy_within_percentage(y_true, y_pred, 30)\n",
    "\n",
    "    print(f\"\\n{label} Results:\")\n",
    "    print(f\"MAE:  {mae:.2f}\")\n",
    "    print(f\"MSE:  {mse:.2f}\")\n",
    "    print(f\"R²:   {r2:.4f}\")\n",
    "    print(f\"MAPE: {mape:.2f}%\")\n",
    "    print(f\"MedAE: {medae:.2f}\")\n",
    "    print(f\"Accuracy within ±10%: {acc10:.2f}%\")\n",
    "    print(f\"Accuracy within ±20%: {acc20:.2f}%\")\n",
    "    print(f\"Accuracy within ±30%: {acc30:.2f}%\")\n",
    "\n",
    "model.load_state_dict(best_model)\n",
    "model.eval()\n",
    "\n",
    "with torch.no_grad():\n",
    "    y_train_pred = model(X_train_tensor, city_train_tensor).cpu().numpy()\n",
    "    y_val_pred   = model(X_val_tensor,   city_val_tensor).cpu().numpy()\n",
    "    y_test_pred  = model(X_test_tensor,  city_test_tensor).cpu().numpy()\n",
    "\n",
    "evaluate_predictions(y_train_part.values.ravel(), y_train_pred.ravel(), \"Train Set\")\n",
    "evaluate_predictions(y_val.values.ravel(), y_val_pred.ravel(), \"Validation Set\")\n",
    "evaluate_predictions(y_test_tensor.cpu().numpy().ravel(), y_test_pred.ravel(), \"Test Set\")\n"
   ]
  },
  {
   "cell_type": "code",
   "execution_count": null,
   "id": "6f318e239bbe52d0",
   "metadata": {
    "ExecuteTime": {
     "end_time": "2025-06-11T09:51:25.569444Z",
     "start_time": "2025-06-11T09:51:24.930739Z"
    }
   },
   "outputs": [
    {
     "data": {
      "image/png": "[encoded data removed]",
      "text/plain": [
       "<Figure size 800x500 with 1 Axes>"
      ]
     },
     "metadata": {},
     "output_type": "display_data"
    },
    {
     "data": {
      "image/png": "[encoded data removed]",
      "text/plain": [
       "<Figure size 800x500 with 1 Axes>"
      ]
     },
     "metadata": {},
     "output_type": "display_data"
    },
    {
     "data": {
      "image/png": "[encoded data removed]",
      "text/plain": [
       "<Figure size 600x600 with 1 Axes>"
      ]
     },
     "metadata": {},
     "output_type": "display_data"
    },
    {
     "name": "stdout",
     "output_type": "stream",
     "text": [
      "time: 610 ms (started: 2025-06-11 12:51:24 +03:00)\n"
     ]
    }
   ],
   "source": [
    "import matplotlib.pyplot as plt\n",
    "import pandas as pd\n",
    "import numpy as np\n",
    "\n",
    "y_true = y_test_tensor.cpu().numpy().ravel()\n",
    "y_pred = y_test_pred.ravel()\n",
    "\n",
    "df_eval = pd.DataFrame({\n",
    "    'True': y_true,\n",
    "    'Predicted': y_pred\n",
    "})\n",
    "df_eval['Error'] = df_eval['True'] - df_eval['Predicted']\n",
    "df_eval['AbsError'] = np.abs(df_eval['Error'])\n",
    "df_eval['Error%'] = df_eval['AbsError'] / df_eval['True'] * 100\n",
    "\n",
    "plt.figure(figsize=(8, 5))\n",
    "plt.hist(df_eval['Error'], bins=50, color='skyblue', edgecolor='black')\n",
    "plt.title(\"Distribution of Prediction Errors\")\n",
    "plt.xlabel(\"Error (₪)\")\n",
    "plt.ylabel(\"Frequency\")\n",
    "plt.grid(True)\n",
    "plt.show()\n",
    "\n",
    "plt.figure(figsize=(8, 5))\n",
    "plt.scatter(df_eval['Predicted'], df_eval['Error'], alpha=0.5)\n",
    "plt.axhline(0, color='red', linestyle='--')\n",
    "plt.xlabel(\"Predicted Price\")\n",
    "plt.ylabel(\"Residual (True - Predicted)\")\n",
    "plt.title(\"Residuals vs Predicted Values\")\n",
    "plt.grid(True)\n",
    "plt.show()\n",
    "\n",
    "plt.figure(figsize=(6, 6))\n",
    "plt.scatter(df_eval['True'], df_eval['Predicted'], alpha=0.5)\n",
    "plt.plot([df_eval['True'].min(), df_eval['True'].max()],\n",
    "         [df_eval['True'].min(), df_eval['True'].max()],\n",
    "         'r--')\n",
    "plt.xlabel(\"Actual Price\")\n",
    "plt.ylabel(\"Predicted Price\")\n",
    "plt.title(\"Predicted vs Actual\")\n",
    "plt.grid(True)\n",
    "plt.show()\n"
   ]
  },
  {
   "cell_type": "markdown",
   "id": "ce3ffc573747fadf",
   "metadata": {
    "id": "ce3ffc573747fadf"
   },
   "source": [
    "## Test environment"
   ]
  },
  {
   "cell_type": "code",
   "execution_count": 178,
   "id": "f4afbeb2e4aab33",
   "metadata": {
    "ExecuteTime": {
     "end_time": "2025-06-11T09:51:25.588991Z",
     "start_time": "2025-06-11T09:51:25.576417Z"
    },
    "id": "f4afbeb2e4aab33",
    "outputId": "739615ae-df10-4673-e429-94331903b130"
   },
   "outputs": [
    {
     "name": "stdout",
     "output_type": "stream",
     "text": [
      "time: 0 ns (started: 2025-06-11 12:51:25 +03:00)\n"
     ]
    }
   ],
   "source": [
    "import pandas as pd\n",
    "import json"
   ]
  },
  {
   "cell_type": "code",
   "execution_count": 179,
   "id": "efca16b3705c973f",
   "metadata": {
    "ExecuteTime": {
     "end_time": "2025-06-11T09:51:25.651853Z",
     "start_time": "2025-06-11T09:51:25.633430Z"
    },
    "id": "efca16b3705c973f",
    "outputId": "8836c933-0e63-49cd-b388-ad377b465dad"
   },
   "outputs": [
    {
     "name": "stdout",
     "output_type": "stream",
     "text": [
      "time: 16 ms (started: 2025-06-11 12:51:25 +03:00)\n"
     ]
    }
   ],
   "source": [
    "X_columns = pd.read_csv(\"model_columns.csv\", header=None).squeeze().tolist()"
   ]
  },
  {
   "cell_type": "code",
   "execution_count": 180,
   "id": "f374ab0a11fc6ede",
   "metadata": {
    "ExecuteTime": {
     "end_time": "2025-06-11T09:51:25.690218Z",
     "start_time": "2025-06-11T09:51:25.679379Z"
    },
    "id": "f374ab0a11fc6ede",
    "outputId": "d17bbef4-244e-4f8c-871f-aae68ef156d2"
   },
   "outputs": [
    {
     "name": "stdout",
     "output_type": "stream",
     "text": [
      "time: 0 ns (started: 2025-06-11 12:51:25 +03:00)\n"
     ]
    }
   ],
   "source": [
    "with open('scaler_minmax.json', 'r') as f:\n",
    "    scaler_minmax = json.load(f)\n",
    "\n",
    "with open('price_minmax.json', 'r') as f:\n",
    "    price_minmax = json.load(f)"
   ]
  },
  {
   "cell_type": "code",
   "execution_count": 181,
   "id": "eae89cfdd6d8b9cd",
   "metadata": {
    "ExecuteTime": {
     "end_time": "2025-06-11T09:51:25.725472Z",
     "start_time": "2025-06-11T09:51:25.715977Z"
    },
    "id": "eae89cfdd6d8b9cd",
    "outputId": "3f4ae5c5-3fdc-449b-be64-2bb4db924c96"
   },
   "outputs": [
    {
     "name": "stdout",
     "output_type": "stream",
     "text": [
      "time: 0 ns (started: 2025-06-11 12:51:25 +03:00)\n"
     ]
    }
   ],
   "source": [
    "def normalize_value(value, min_val, max_val):\n",
    "    if max_val > min_val:\n",
    "        return (value - min_val) / (max_val - min_val)\n",
    "    else:\n",
    "        return 0.0\n",
    "\n",
    "def find_all_columns_by_substring(columns, value):\n",
    "    value = str(value).strip().lower()\n",
    "    matches = [col for col in columns if value in col.lower()]\n",
    "    return matches\n",
    "\n",
    "def find_columns_exact_match(columns, value):\n",
    "    value = str(value).strip().lower()\n",
    "    matches = [col for col in columns if col.lower() == value]\n",
    "    return matches"
   ]
  },
  {
   "cell_type": "code",
   "execution_count": 182,
   "id": "6209202a05bc0f22",
   "metadata": {
    "ExecuteTime": {
     "end_time": "2025-06-11T09:51:25.780889Z",
     "start_time": "2025-06-11T09:51:25.755762Z"
    },
    "id": "6209202a05bc0f22",
    "outputId": "5bd95d41-5434-47b5-ae0f-0ce3957438b6"
   },
   "outputs": [
    {
     "name": "stdout",
     "output_type": "stream",
     "text": [
      "time: 0 ns (started: 2025-06-11 12:51:25 +03:00)\n"
     ]
    }
   ],
   "source": [
    "def predict_price_mlp(user_input: dict, model, X_columns, scaler_minmax, price_minmax, default_values=None):\n",
    "    if default_values is None:\n",
    "        default_values = {\n",
    "            'Units': 1,\n",
    "            'Area m2': 500,\n",
    "            'block': '0.0',\n",
    "            'Committee year': '2025.0',\n",
    "            'committee month': '6.0',\n",
    "            'region': 'Unknown',\n",
    "            'city': 'Unknown',\n",
    "            'dist_to_kindergarten': 500,\n",
    "            'dist_to_school': 500,\n",
    "            'dist_to_university': 1000,\n",
    "            'dist_to_bus_stop': 200,\n",
    "            'dist_to_train_station': 1500,\n",
    "            'dist_to_park': 300,\n",
    "            'dist_to_mall': 1000,\n",
    "            'dist_to_supermarket': 300,\n",
    "            'dist_to_beach': 5000,\n",
    "            'dist_to_place_of_worship': 400\n",
    "        }\n",
    "\n",
    "    input_df = pd.DataFrame([0] * len(X_columns), index=X_columns).T\n",
    "\n",
    "    for col in ['Units', 'Area m2']:\n",
    "        val = float(user_input.get(col, default_values[col]))\n",
    "        min_val = scaler_minmax[col]['min']\n",
    "        max_val = scaler_minmax[col]['max']\n",
    "        input_df.at[0, col] = normalize_value(val, min_val, max_val)\n",
    "\n",
    "    block_col = f\"Block_{user_input.get('block', default_values['block'])}\"\n",
    "    if block_col in X_columns:\n",
    "        input_df.at[0, block_col] = 1\n",
    "\n",
    "    year_col = f\"Committee_year_{user_input.get('Committee year', default_values['Committee year'])}\"\n",
    "    month_col = f\"Committee_month_{user_input.get('committee month', default_values['committee month'])}\"\n",
    "    if year_col in X_columns:\n",
    "        input_df.at[0, year_col] = 1\n",
    "    if month_col in X_columns:\n",
    "        input_df.at[0, month_col] = 1\n",
    "\n",
    "    distance_features = [\n",
    "        'dist_to_kindergarten', 'dist_to_school', 'dist_to_university',\n",
    "        'dist_to_bus_stop', 'dist_to_train_station', 'dist_to_park',\n",
    "        'dist_to_mall', 'dist_to_supermarket', 'dist_to_beach',\n",
    "        'dist_to_place_of_worship'\n",
    "    ]\n",
    "\n",
    "    for col in distance_features:\n",
    "        val = float(user_input.get(col, default_values[col]))\n",
    "        min_val = scaler_minmax[col]['min']\n",
    "        max_val = scaler_minmax[col]['max']\n",
    "        input_df.at[0, col] = normalize_value(val, min_val, max_val)\n",
    "\n",
    "    if input_df.empty:\n",
    "        raise ValueError(\"No records were found match to the query.\")\n",
    "\n",
    "    with open(\"city_mapping.json\", \"r\", encoding=\"utf-8\") as f:\n",
    "        city_mapping = json.load(f)\n",
    "\n",
    "    city_name = user_input.get('city', default_values['city'])\n",
    "    city_index = city_mapping.get(city_name, -1)\n",
    "    if city_index == -1:\n",
    "        raise ValueError(f\"City '{city_name}' not found in city_mapping.json\")\n",
    "\n",
    "    input_tensor = torch.tensor(input_df.values, dtype=torch.float32).to(device)\n",
    "    city_tensor = torch.tensor([city_index], dtype=torch.long).to(device)\n",
    "\n",
    "    model.eval()\n",
    "    with torch.no_grad():\n",
    "        prediction = model(input_tensor, city_tensor).item()\n",
    "\n",
    "    price_min = price_minmax[\"min\"]\n",
    "    price_max = price_minmax[\"max\"]\n",
    "    predicted_price_per_m2 = prediction * (price_max - price_min) + price_min\n",
    "\n",
    "    return predicted_price_per_m2\n"
   ]
  },
  {
   "cell_type": "markdown",
   "id": "6393e33a780bd1f8",
   "metadata": {
    "id": "6393e33a780bd1f8"
   },
   "source": [
    "### Testing on existing record in Dataset"
   ]
  },
  {
   "cell_type": "code",
   "execution_count": 183,
   "id": "9398442aafd537cd",
   "metadata": {
    "ExecuteTime": {
     "end_time": "2025-06-11T09:51:25.835190Z",
     "start_time": "2025-06-11T09:51:25.817796Z"
    },
    "id": "9398442aafd537cd",
    "outputId": "9d156400-ee0a-4cc1-fba4-412279ff3391"
   },
   "outputs": [
    {
     "name": "stdout",
     "output_type": "stream",
     "text": [
      "time: 16 ms (started: 2025-06-11 12:51:25 +03:00)\n"
     ]
    }
   ],
   "source": [
    "import torch\n",
    "import pandas as pd\n",
    "import json\n",
    "\n",
    "def predict_from_record(row, model, price_minmax):\n",
    "    input_df = pd.DataFrame([0] * len(X_columns), index=X_columns).T\n",
    "\n",
    "    numeric_features = ['Units', 'Area m2']\n",
    "    for col in numeric_features:\n",
    "        if col in row:\n",
    "            input_df.at[0, col] = row[col]\n",
    "\n",
    "    for col in row.index:\n",
    "        if col.startswith(('Block_', 'Region_', 'Committee_year_', 'Committee_month_')) and row[col] == 1:\n",
    "            input_df.at[0, col] = 1\n",
    "\n",
    "    with open(\"city_mapping.json\", \"r\", encoding=\"utf-8\") as f:\n",
    "        city_mapping = json.load(f)\n",
    "\n",
    "    if \"City_Index\" not in row:\n",
    "        raise ValueError(\"Missing City_Index in the input row\")\n",
    "\n",
    "    city_index = int(row[\"City_Index\"])\n",
    "    city_tensor = torch.tensor([city_index], dtype=torch.long).to(device)\n",
    "\n",
    "    input_tensor = torch.tensor(input_df.values, dtype=torch.float32).to(device)\n",
    "\n",
    "    model.eval()\n",
    "    with torch.no_grad():\n",
    "        prediction_norm = model(input_tensor, city_tensor).item()\n",
    "\n",
    "    price_min = price_minmax[\"min\"]\n",
    "    price_max = price_minmax[\"max\"]\n",
    "    prediction = prediction_norm * (price_max - price_min) + price_min\n",
    "\n",
    "    true_norm = row['Price per m2']\n",
    "    true_price = true_norm * (price_max - price_min) + price_min\n",
    "\n",
    "    print(f\"Prediction: {prediction:,.2f} ₪\")\n",
    "    print(f\"Actual price: {true_price:,.2f} ₪\")\n",
    "    print(f\"Deviation: {abs(prediction - true_price) / true_price * 100:.2f}%\")\n",
    "    return prediction, true_price\n"
   ]
  },
  {
   "cell_type": "code",
   "execution_count": 184,
   "id": "a15cfc3180851488",
   "metadata": {
    "ExecuteTime": {
     "end_time": "2025-06-11T09:51:25.873574Z",
     "start_time": "2025-06-11T09:51:25.853313Z"
    },
    "id": "a15cfc3180851488",
    "outputId": "34bdebef-57ea-4eef-eb10-a5e210380113"
   },
   "outputs": [
    {
     "name": "stdout",
     "output_type": "stream",
     "text": [
      "Prediction: 1,061.76 ₪\n",
      "Actual price: 1,004.00 ₪\n",
      "Deviation: 5.75%\n"
     ]
    },
    {
     "name": "stderr",
     "output_type": "stream",
     "text": [
      "C:\\Users\\idanb\\AppData\\Local\\Temp\\ipykernel_20780\\3192405487.py:11: FutureWarning: Setting an item of incompatible dtype is deprecated and will raise an error in a future version of pandas. Value '0.3644067796610169' has dtype incompatible with int64, please explicitly cast to a compatible dtype first.\n",
      "  input_df.at[0, col] = row[col]\n"
     ]
    },
    {
     "data": {
      "text/plain": [
       "(1061.760747280589, np.float64(1003.9999999999997))"
      ]
     },
     "execution_count": 184,
     "metadata": {},
     "output_type": "execute_result"
    },
    {
     "name": "stdout",
     "output_type": "stream",
     "text": [
      "time: 15 ms (started: 2025-06-11 12:51:25 +03:00)\n"
     ]
    }
   ],
   "source": [
    "row = df.sample(1).iloc[0]\n",
    "predict_from_record(row, model, price_minmax)"
   ]
  },
  {
   "cell_type": "markdown",
   "id": "a69c3f5a2561cb4e",
   "metadata": {
    "id": "a69c3f5a2561cb4e"
   },
   "source": [
    "## Random records from data"
   ]
  },
  {
   "cell_type": "code",
   "execution_count": 185,
   "id": "23f105bb751c8bf1",
   "metadata": {
    "ExecuteTime": {
     "end_time": "2025-06-11T09:51:25.956797Z",
     "start_time": "2025-06-11T09:51:25.938825Z"
    },
    "id": "23f105bb751c8bf1",
    "outputId": "91849e8c-19d1-45e4-cdd3-492d83a83393"
   },
   "outputs": [
    {
     "name": "stdout",
     "output_type": "stream",
     "text": [
      "time: 0 ns (started: 2025-06-11 12:51:25 +03:00)\n"
     ]
    }
   ],
   "source": [
    "import torch\n",
    "import numpy as np\n",
    "import pandas as pd\n",
    "import json\n",
    "\n",
    "def evaluate_on_random_samples(df, model, scaler_minmax, price_minmax, X_columns, n=20):\n",
    "    errors = []\n",
    "\n",
    "    with open(\"city_mapping.json\", \"r\", encoding=\"utf-8\") as f:\n",
    "        city_mapping = json.load(f)\n",
    "\n",
    "    for _, row in df.sample(n=n, random_state=42).iterrows():\n",
    "        input_df = pd.DataFrame([0] * len(X_columns), index=X_columns).T\n",
    "\n",
    "        numeric_features = ['Units', 'Area m2',\n",
    "                            'dist_to_kindergarten', 'dist_to_school', 'dist_to_university',\n",
    "                            'dist_to_bus_stop', 'dist_to_train_station', 'dist_to_park',\n",
    "                            'dist_to_mall', 'dist_to_supermarket', 'dist_to_beach',\n",
    "                            'dist_to_place_of_worship']\n",
    "\n",
    "        for col in numeric_features:\n",
    "            val = row[col]\n",
    "            min_val = scaler_minmax[col]['min']\n",
    "            max_val = scaler_minmax[col]['max']\n",
    "            input_df.at[0, col] = normalize_value(val, min_val, max_val)\n",
    "\n",
    "        for col in row.index:\n",
    "            if row[col] == 1 and col in input_df.columns:\n",
    "                input_df.at[0, col] = 1\n",
    "\n",
    "        if \"City_Index\" not in row:\n",
    "            raise ValueError(\"Missing City_Index in the input data\")\n",
    "\n",
    "        city_index = int(row[\"City_Index\"])\n",
    "        city_tensor = torch.tensor([city_index], dtype=torch.long).to(device)\n",
    "\n",
    "        input_tensor = torch.tensor(input_df.values, dtype=torch.float32).to(device)\n",
    "\n",
    "        model.eval()\n",
    "        with torch.no_grad():\n",
    "            pred_norm = model(input_tensor, city_tensor).item()\n",
    "\n",
    "        pred = pred_norm * (price_minmax[\"max\"] - price_minmax[\"min\"]) + price_minmax[\"min\"]\n",
    "        true = row[\"Price per m2\"] * (price_minmax[\"max\"] - price_minmax[\"min\"]) + price_minmax[\"min\"]\n",
    "        error_pct = abs(pred - true) / true * 100\n",
    "        errors.append(error_pct)\n",
    "\n",
    "    print(f\"Mean error: {np.mean(errors):.2f}%\")\n",
    "    print(f\"Median error: {np.median(errors):.2f}%\")\n",
    "    print(f\"Maximum error: {np.max(errors):.2f}%\")\n",
    "    print(f\"Minimum error: {np.min(errors):.2f}%\")\n"
   ]
  },
  {
   "cell_type": "code",
   "execution_count": 186,
   "id": "b60648720353194c",
   "metadata": {
    "ExecuteTime": {
     "end_time": "2025-06-11T09:51:26.282366Z",
     "start_time": "2025-06-11T09:51:25.988849Z"
    },
    "id": "b60648720353194c",
    "outputId": "4be6802c-3ee0-4f2e-868b-96f0c709a08b"
   },
   "outputs": [
    {
     "name": "stderr",
     "output_type": "stream",
     "text": [
      "C:\\Users\\idanb\\AppData\\Local\\Temp\\ipykernel_20780\\2780202512.py:25: FutureWarning: Setting an item of incompatible dtype is deprecated and will raise an error in a future version of pandas. Value '-0.2' has dtype incompatible with int64, please explicitly cast to a compatible dtype first.\n",
      "  input_df.at[0, col] = normalize_value(val, min_val, max_val)\n",
      "C:\\Users\\idanb\\AppData\\Local\\Temp\\ipykernel_20780\\2780202512.py:25: FutureWarning: Setting an item of incompatible dtype is deprecated and will raise an error in a future version of pandas. Value '-0.21037527334978806' has dtype incompatible with int64, please explicitly cast to a compatible dtype first.\n",
      "  input_df.at[0, col] = normalize_value(val, min_val, max_val)\n",
      "C:\\Users\\idanb\\AppData\\Local\\Temp\\ipykernel_20780\\2780202512.py:25: FutureWarning: Setting an item of incompatible dtype is deprecated and will raise an error in a future version of pandas. Value '-0.00021904026706814973' has dtype incompatible with int64, please explicitly cast to a compatible dtype first.\n",
      "  input_df.at[0, col] = normalize_value(val, min_val, max_val)\n",
      "C:\\Users\\idanb\\AppData\\Local\\Temp\\ipykernel_20780\\2780202512.py:25: FutureWarning: Setting an item of incompatible dtype is deprecated and will raise an error in a future version of pandas. Value '-0.005715719552427026' has dtype incompatible with int64, please explicitly cast to a compatible dtype first.\n",
      "  input_df.at[0, col] = normalize_value(val, min_val, max_val)\n",
      "C:\\Users\\idanb\\AppData\\Local\\Temp\\ipykernel_20780\\2780202512.py:25: FutureWarning: Setting an item of incompatible dtype is deprecated and will raise an error in a future version of pandas. Value '-0.00694366466137739' has dtype incompatible with int64, please explicitly cast to a compatible dtype first.\n",
      "  input_df.at[0, col] = normalize_value(val, min_val, max_val)\n",
      "C:\\Users\\idanb\\AppData\\Local\\Temp\\ipykernel_20780\\2780202512.py:25: FutureWarning: Setting an item of incompatible dtype is deprecated and will raise an error in a future version of pandas. Value '-0.00508436190284382' has dtype incompatible with int64, please explicitly cast to a compatible dtype first.\n",
      "  input_df.at[0, col] = normalize_value(val, min_val, max_val)\n",
      "C:\\Users\\idanb\\AppData\\Local\\Temp\\ipykernel_20780\\2780202512.py:25: FutureWarning: Setting an item of incompatible dtype is deprecated and will raise an error in a future version of pandas. Value '-0.007994565667374753' has dtype incompatible with int64, please explicitly cast to a compatible dtype first.\n",
      "  input_df.at[0, col] = normalize_value(val, min_val, max_val)\n",
      "C:\\Users\\idanb\\AppData\\Local\\Temp\\ipykernel_20780\\2780202512.py:25: FutureWarning: Setting an item of incompatible dtype is deprecated and will raise an error in a future version of pandas. Value '-0.0016503123040836837' has dtype incompatible with int64, please explicitly cast to a compatible dtype first.\n",
      "  input_df.at[0, col] = normalize_value(val, min_val, max_val)\n",
      "C:\\Users\\idanb\\AppData\\Local\\Temp\\ipykernel_20780\\2780202512.py:25: FutureWarning: Setting an item of incompatible dtype is deprecated and will raise an error in a future version of pandas. Value '-0.0032165702903638378' has dtype incompatible with int64, please explicitly cast to a compatible dtype first.\n",
      "  input_df.at[0, col] = normalize_value(val, min_val, max_val)\n",
      "C:\\Users\\idanb\\AppData\\Local\\Temp\\ipykernel_20780\\2780202512.py:25: FutureWarning: Setting an item of incompatible dtype is deprecated and will raise an error in a future version of pandas. Value '-0.02656227576231729' has dtype incompatible with int64, please explicitly cast to a compatible dtype first.\n",
      "  input_df.at[0, col] = normalize_value(val, min_val, max_val)\n",
      "C:\\Users\\idanb\\AppData\\Local\\Temp\\ipykernel_20780\\2780202512.py:25: FutureWarning: Setting an item of incompatible dtype is deprecated and will raise an error in a future version of pandas. Value '-0.0037736790729095498' has dtype incompatible with int64, please explicitly cast to a compatible dtype first.\n",
      "  input_df.at[0, col] = normalize_value(val, min_val, max_val)\n",
      "C:\\Users\\idanb\\AppData\\Local\\Temp\\ipykernel_20780\\2780202512.py:25: FutureWarning: Setting an item of incompatible dtype is deprecated and will raise an error in a future version of pandas. Value '-0.001239089830254485' has dtype incompatible with int64, please explicitly cast to a compatible dtype first.\n",
      "  input_df.at[0, col] = normalize_value(val, min_val, max_val)\n",
      "C:\\Users\\idanb\\AppData\\Local\\Temp\\ipykernel_20780\\2780202512.py:25: FutureWarning: Setting an item of incompatible dtype is deprecated and will raise an error in a future version of pandas. Value '-0.2' has dtype incompatible with int64, please explicitly cast to a compatible dtype first.\n",
      "  input_df.at[0, col] = normalize_value(val, min_val, max_val)\n",
      "C:\\Users\\idanb\\AppData\\Local\\Temp\\ipykernel_20780\\2780202512.py:25: FutureWarning: Setting an item of incompatible dtype is deprecated and will raise an error in a future version of pandas. Value '-0.21039579290492413' has dtype incompatible with int64, please explicitly cast to a compatible dtype first.\n",
      "  input_df.at[0, col] = normalize_value(val, min_val, max_val)\n",
      "C:\\Users\\idanb\\AppData\\Local\\Temp\\ipykernel_20780\\2780202512.py:25: FutureWarning: Setting an item of incompatible dtype is deprecated and will raise an error in a future version of pandas. Value '-0.00021609356782757353' has dtype incompatible with int64, please explicitly cast to a compatible dtype first.\n",
      "  input_df.at[0, col] = normalize_value(val, min_val, max_val)\n",
      "C:\\Users\\idanb\\AppData\\Local\\Temp\\ipykernel_20780\\2780202512.py:25: FutureWarning: Setting an item of incompatible dtype is deprecated and will raise an error in a future version of pandas. Value '-0.00570469070821778' has dtype incompatible with int64, please explicitly cast to a compatible dtype first.\n",
      "  input_df.at[0, col] = normalize_value(val, min_val, max_val)\n",
      "C:\\Users\\idanb\\AppData\\Local\\Temp\\ipykernel_20780\\2780202512.py:25: FutureWarning: Setting an item of incompatible dtype is deprecated and will raise an error in a future version of pandas. Value '-0.006942169511184783' has dtype incompatible with int64, please explicitly cast to a compatible dtype first.\n",
      "  input_df.at[0, col] = normalize_value(val, min_val, max_val)\n",
      "C:\\Users\\idanb\\AppData\\Local\\Temp\\ipykernel_20780\\2780202512.py:25: FutureWarning: Setting an item of incompatible dtype is deprecated and will raise an error in a future version of pandas. Value '-0.005036362092779565' has dtype incompatible with int64, please explicitly cast to a compatible dtype first.\n",
      "  input_df.at[0, col] = normalize_value(val, min_val, max_val)\n",
      "C:\\Users\\idanb\\AppData\\Local\\Temp\\ipykernel_20780\\2780202512.py:25: FutureWarning: Setting an item of incompatible dtype is deprecated and will raise an error in a future version of pandas. Value '-0.007994605510064' has dtype incompatible with int64, please explicitly cast to a compatible dtype first.\n",
      "  input_df.at[0, col] = normalize_value(val, min_val, max_val)\n",
      "C:\\Users\\idanb\\AppData\\Local\\Temp\\ipykernel_20780\\2780202512.py:25: FutureWarning: Setting an item of incompatible dtype is deprecated and will raise an error in a future version of pandas. Value '-0.0016439908763133443' has dtype incompatible with int64, please explicitly cast to a compatible dtype first.\n",
      "  input_df.at[0, col] = normalize_value(val, min_val, max_val)\n",
      "C:\\Users\\idanb\\AppData\\Local\\Temp\\ipykernel_20780\\2780202512.py:25: FutureWarning: Setting an item of incompatible dtype is deprecated and will raise an error in a future version of pandas. Value '-0.0031981291059846465' has dtype incompatible with int64, please explicitly cast to a compatible dtype first.\n",
      "  input_df.at[0, col] = normalize_value(val, min_val, max_val)\n",
      "C:\\Users\\idanb\\AppData\\Local\\Temp\\ipykernel_20780\\2780202512.py:25: FutureWarning: Setting an item of incompatible dtype is deprecated and will raise an error in a future version of pandas. Value '-0.026615451375480263' has dtype incompatible with int64, please explicitly cast to a compatible dtype first.\n",
      "  input_df.at[0, col] = normalize_value(val, min_val, max_val)\n",
      "C:\\Users\\idanb\\AppData\\Local\\Temp\\ipykernel_20780\\2780202512.py:25: FutureWarning: Setting an item of incompatible dtype is deprecated and will raise an error in a future version of pandas. Value '-0.0037699591893072086' has dtype incompatible with int64, please explicitly cast to a compatible dtype first.\n",
      "  input_df.at[0, col] = normalize_value(val, min_val, max_val)\n",
      "C:\\Users\\idanb\\AppData\\Local\\Temp\\ipykernel_20780\\2780202512.py:25: FutureWarning: Setting an item of incompatible dtype is deprecated and will raise an error in a future version of pandas. Value '-0.0012303319178911282' has dtype incompatible with int64, please explicitly cast to a compatible dtype first.\n",
      "  input_df.at[0, col] = normalize_value(val, min_val, max_val)\n",
      "C:\\Users\\idanb\\AppData\\Local\\Temp\\ipykernel_20780\\2780202512.py:25: FutureWarning: Setting an item of incompatible dtype is deprecated and will raise an error in a future version of pandas. Value '-0.2' has dtype incompatible with int64, please explicitly cast to a compatible dtype first.\n",
      "  input_df.at[0, col] = normalize_value(val, min_val, max_val)\n",
      "C:\\Users\\idanb\\AppData\\Local\\Temp\\ipykernel_20780\\2780202512.py:25: FutureWarning: Setting an item of incompatible dtype is deprecated and will raise an error in a future version of pandas. Value '-0.21031078331936048' has dtype incompatible with int64, please explicitly cast to a compatible dtype first.\n",
      "  input_df.at[0, col] = normalize_value(val, min_val, max_val)\n",
      "C:\\Users\\idanb\\AppData\\Local\\Temp\\ipykernel_20780\\2780202512.py:25: FutureWarning: Setting an item of incompatible dtype is deprecated and will raise an error in a future version of pandas. Value '-0.0002193199137034482' has dtype incompatible with int64, please explicitly cast to a compatible dtype first.\n",
      "  input_df.at[0, col] = normalize_value(val, min_val, max_val)\n",
      "C:\\Users\\idanb\\AppData\\Local\\Temp\\ipykernel_20780\\2780202512.py:25: FutureWarning: Setting an item of incompatible dtype is deprecated and will raise an error in a future version of pandas. Value '-0.005741726041477494' has dtype incompatible with int64, please explicitly cast to a compatible dtype first.\n",
      "  input_df.at[0, col] = normalize_value(val, min_val, max_val)\n",
      "C:\\Users\\idanb\\AppData\\Local\\Temp\\ipykernel_20780\\2780202512.py:25: FutureWarning: Setting an item of incompatible dtype is deprecated and will raise an error in a future version of pandas. Value '-0.006945713077562894' has dtype incompatible with int64, please explicitly cast to a compatible dtype first.\n",
      "  input_df.at[0, col] = normalize_value(val, min_val, max_val)\n",
      "C:\\Users\\idanb\\AppData\\Local\\Temp\\ipykernel_20780\\2780202512.py:25: FutureWarning: Setting an item of incompatible dtype is deprecated and will raise an error in a future version of pandas. Value '-0.0052061170170954905' has dtype incompatible with int64, please explicitly cast to a compatible dtype first.\n",
      "  input_df.at[0, col] = normalize_value(val, min_val, max_val)\n",
      "C:\\Users\\idanb\\AppData\\Local\\Temp\\ipykernel_20780\\2780202512.py:25: FutureWarning: Setting an item of incompatible dtype is deprecated and will raise an error in a future version of pandas. Value '-0.007994421537562543' has dtype incompatible with int64, please explicitly cast to a compatible dtype first.\n",
      "  input_df.at[0, col] = normalize_value(val, min_val, max_val)\n",
      "C:\\Users\\idanb\\AppData\\Local\\Temp\\ipykernel_20780\\2780202512.py:25: FutureWarning: Setting an item of incompatible dtype is deprecated and will raise an error in a future version of pandas. Value '-0.0017159837439152312' has dtype incompatible with int64, please explicitly cast to a compatible dtype first.\n",
      "  input_df.at[0, col] = normalize_value(val, min_val, max_val)\n",
      "C:\\Users\\idanb\\AppData\\Local\\Temp\\ipykernel_20780\\2780202512.py:25: FutureWarning: Setting an item of incompatible dtype is deprecated and will raise an error in a future version of pandas. Value '-0.0032214328291426263' has dtype incompatible with int64, please explicitly cast to a compatible dtype first.\n",
      "  input_df.at[0, col] = normalize_value(val, min_val, max_val)\n",
      "C:\\Users\\idanb\\AppData\\Local\\Temp\\ipykernel_20780\\2780202512.py:25: FutureWarning: Setting an item of incompatible dtype is deprecated and will raise an error in a future version of pandas. Value '-0.026630654217673147' has dtype incompatible with int64, please explicitly cast to a compatible dtype first.\n",
      "  input_df.at[0, col] = normalize_value(val, min_val, max_val)\n",
      "C:\\Users\\idanb\\AppData\\Local\\Temp\\ipykernel_20780\\2780202512.py:25: FutureWarning: Setting an item of incompatible dtype is deprecated and will raise an error in a future version of pandas. Value '-0.0037729681620034842' has dtype incompatible with int64, please explicitly cast to a compatible dtype first.\n",
      "  input_df.at[0, col] = normalize_value(val, min_val, max_val)\n",
      "C:\\Users\\idanb\\AppData\\Local\\Temp\\ipykernel_20780\\2780202512.py:25: FutureWarning: Setting an item of incompatible dtype is deprecated and will raise an error in a future version of pandas. Value '-0.0012658392352558143' has dtype incompatible with int64, please explicitly cast to a compatible dtype first.\n",
      "  input_df.at[0, col] = normalize_value(val, min_val, max_val)\n",
      "C:\\Users\\idanb\\AppData\\Local\\Temp\\ipykernel_20780\\2780202512.py:25: FutureWarning: Setting an item of incompatible dtype is deprecated and will raise an error in a future version of pandas. Value '-0.2' has dtype incompatible with int64, please explicitly cast to a compatible dtype first.\n",
      "  input_df.at[0, col] = normalize_value(val, min_val, max_val)\n",
      "C:\\Users\\idanb\\AppData\\Local\\Temp\\ipykernel_20780\\2780202512.py:25: FutureWarning: Setting an item of incompatible dtype is deprecated and will raise an error in a future version of pandas. Value '-0.21015248960831098' has dtype incompatible with int64, please explicitly cast to a compatible dtype first.\n",
      "  input_df.at[0, col] = normalize_value(val, min_val, max_val)\n",
      "C:\\Users\\idanb\\AppData\\Local\\Temp\\ipykernel_20780\\2780202512.py:25: FutureWarning: Setting an item of incompatible dtype is deprecated and will raise an error in a future version of pandas. Value '-0.00021908564372529786' has dtype incompatible with int64, please explicitly cast to a compatible dtype first.\n",
      "  input_df.at[0, col] = normalize_value(val, min_val, max_val)\n",
      "C:\\Users\\idanb\\AppData\\Local\\Temp\\ipykernel_20780\\2780202512.py:25: FutureWarning: Setting an item of incompatible dtype is deprecated and will raise an error in a future version of pandas. Value '-0.005732077889618815' has dtype incompatible with int64, please explicitly cast to a compatible dtype first.\n",
      "  input_df.at[0, col] = normalize_value(val, min_val, max_val)\n",
      "C:\\Users\\idanb\\AppData\\Local\\Temp\\ipykernel_20780\\2780202512.py:25: FutureWarning: Setting an item of incompatible dtype is deprecated and will raise an error in a future version of pandas. Value '-0.006940549298858656' has dtype incompatible with int64, please explicitly cast to a compatible dtype first.\n",
      "  input_df.at[0, col] = normalize_value(val, min_val, max_val)\n",
      "C:\\Users\\idanb\\AppData\\Local\\Temp\\ipykernel_20780\\2780202512.py:25: FutureWarning: Setting an item of incompatible dtype is deprecated and will raise an error in a future version of pandas. Value '-0.005079127786728783' has dtype incompatible with int64, please explicitly cast to a compatible dtype first.\n",
      "  input_df.at[0, col] = normalize_value(val, min_val, max_val)\n",
      "C:\\Users\\idanb\\AppData\\Local\\Temp\\ipykernel_20780\\2780202512.py:25: FutureWarning: Setting an item of incompatible dtype is deprecated and will raise an error in a future version of pandas. Value '-0.007991894887445498' has dtype incompatible with int64, please explicitly cast to a compatible dtype first.\n",
      "  input_df.at[0, col] = normalize_value(val, min_val, max_val)\n",
      "C:\\Users\\idanb\\AppData\\Local\\Temp\\ipykernel_20780\\2780202512.py:25: FutureWarning: Setting an item of incompatible dtype is deprecated and will raise an error in a future version of pandas. Value '-0.0016604443467332823' has dtype incompatible with int64, please explicitly cast to a compatible dtype first.\n",
      "  input_df.at[0, col] = normalize_value(val, min_val, max_val)\n",
      "C:\\Users\\idanb\\AppData\\Local\\Temp\\ipykernel_20780\\2780202512.py:25: FutureWarning: Setting an item of incompatible dtype is deprecated and will raise an error in a future version of pandas. Value '-0.003179555198961845' has dtype incompatible with int64, please explicitly cast to a compatible dtype first.\n",
      "  input_df.at[0, col] = normalize_value(val, min_val, max_val)\n",
      "C:\\Users\\idanb\\AppData\\Local\\Temp\\ipykernel_20780\\2780202512.py:25: FutureWarning: Setting an item of incompatible dtype is deprecated and will raise an error in a future version of pandas. Value '-0.026619065543403923' has dtype incompatible with int64, please explicitly cast to a compatible dtype first.\n",
      "  input_df.at[0, col] = normalize_value(val, min_val, max_val)\n",
      "C:\\Users\\idanb\\AppData\\Local\\Temp\\ipykernel_20780\\2780202512.py:25: FutureWarning: Setting an item of incompatible dtype is deprecated and will raise an error in a future version of pandas. Value '-0.003769410784096907' has dtype incompatible with int64, please explicitly cast to a compatible dtype first.\n",
      "  input_df.at[0, col] = normalize_value(val, min_val, max_val)\n",
      "C:\\Users\\idanb\\AppData\\Local\\Temp\\ipykernel_20780\\2780202512.py:25: FutureWarning: Setting an item of incompatible dtype is deprecated and will raise an error in a future version of pandas. Value '-0.0012375352886051165' has dtype incompatible with int64, please explicitly cast to a compatible dtype first.\n",
      "  input_df.at[0, col] = normalize_value(val, min_val, max_val)\n",
      "C:\\Users\\idanb\\AppData\\Local\\Temp\\ipykernel_20780\\2780202512.py:25: FutureWarning: Setting an item of incompatible dtype is deprecated and will raise an error in a future version of pandas. Value '-0.2' has dtype incompatible with int64, please explicitly cast to a compatible dtype first.\n",
      "  input_df.at[0, col] = normalize_value(val, min_val, max_val)\n",
      "C:\\Users\\idanb\\AppData\\Local\\Temp\\ipykernel_20780\\2780202512.py:25: FutureWarning: Setting an item of incompatible dtype is deprecated and will raise an error in a future version of pandas. Value '-0.2102257737337969' has dtype incompatible with int64, please explicitly cast to a compatible dtype first.\n",
      "  input_df.at[0, col] = normalize_value(val, min_val, max_val)\n",
      "C:\\Users\\idanb\\AppData\\Local\\Temp\\ipykernel_20780\\2780202512.py:25: FutureWarning: Setting an item of incompatible dtype is deprecated and will raise an error in a future version of pandas. Value '-0.0002189831661900505' has dtype incompatible with int64, please explicitly cast to a compatible dtype first.\n",
      "  input_df.at[0, col] = normalize_value(val, min_val, max_val)\n",
      "C:\\Users\\idanb\\AppData\\Local\\Temp\\ipykernel_20780\\2780202512.py:25: FutureWarning: Setting an item of incompatible dtype is deprecated and will raise an error in a future version of pandas. Value '-0.005726397545995852' has dtype incompatible with int64, please explicitly cast to a compatible dtype first.\n",
      "  input_df.at[0, col] = normalize_value(val, min_val, max_val)\n",
      "C:\\Users\\idanb\\AppData\\Local\\Temp\\ipykernel_20780\\2780202512.py:25: FutureWarning: Setting an item of incompatible dtype is deprecated and will raise an error in a future version of pandas. Value '-0.006942824334822479' has dtype incompatible with int64, please explicitly cast to a compatible dtype first.\n",
      "  input_df.at[0, col] = normalize_value(val, min_val, max_val)\n",
      "C:\\Users\\idanb\\AppData\\Local\\Temp\\ipykernel_20780\\2780202512.py:25: FutureWarning: Setting an item of incompatible dtype is deprecated and will raise an error in a future version of pandas. Value '-0.004984485645188666' has dtype incompatible with int64, please explicitly cast to a compatible dtype first.\n",
      "  input_df.at[0, col] = normalize_value(val, min_val, max_val)\n",
      "C:\\Users\\idanb\\AppData\\Local\\Temp\\ipykernel_20780\\2780202512.py:25: FutureWarning: Setting an item of incompatible dtype is deprecated and will raise an error in a future version of pandas. Value '-0.00799487723857747' has dtype incompatible with int64, please explicitly cast to a compatible dtype first.\n",
      "  input_df.at[0, col] = normalize_value(val, min_val, max_val)\n",
      "C:\\Users\\idanb\\AppData\\Local\\Temp\\ipykernel_20780\\2780202512.py:25: FutureWarning: Setting an item of incompatible dtype is deprecated and will raise an error in a future version of pandas. Value '-0.001649820127538875' has dtype incompatible with int64, please explicitly cast to a compatible dtype first.\n",
      "  input_df.at[0, col] = normalize_value(val, min_val, max_val)\n",
      "C:\\Users\\idanb\\AppData\\Local\\Temp\\ipykernel_20780\\2780202512.py:25: FutureWarning: Setting an item of incompatible dtype is deprecated and will raise an error in a future version of pandas. Value '-0.003219667405596208' has dtype incompatible with int64, please explicitly cast to a compatible dtype first.\n",
      "  input_df.at[0, col] = normalize_value(val, min_val, max_val)\n",
      "C:\\Users\\idanb\\AppData\\Local\\Temp\\ipykernel_20780\\2780202512.py:25: FutureWarning: Setting an item of incompatible dtype is deprecated and will raise an error in a future version of pandas. Value '-0.026578935017265368' has dtype incompatible with int64, please explicitly cast to a compatible dtype first.\n",
      "  input_df.at[0, col] = normalize_value(val, min_val, max_val)\n",
      "C:\\Users\\idanb\\AppData\\Local\\Temp\\ipykernel_20780\\2780202512.py:25: FutureWarning: Setting an item of incompatible dtype is deprecated and will raise an error in a future version of pandas. Value '-0.003773567726803432' has dtype incompatible with int64, please explicitly cast to a compatible dtype first.\n",
      "  input_df.at[0, col] = normalize_value(val, min_val, max_val)\n",
      "C:\\Users\\idanb\\AppData\\Local\\Temp\\ipykernel_20780\\2780202512.py:25: FutureWarning: Setting an item of incompatible dtype is deprecated and will raise an error in a future version of pandas. Value '-0.0012287453708276436' has dtype incompatible with int64, please explicitly cast to a compatible dtype first.\n",
      "  input_df.at[0, col] = normalize_value(val, min_val, max_val)\n",
      "C:\\Users\\idanb\\AppData\\Local\\Temp\\ipykernel_20780\\2780202512.py:25: FutureWarning: Setting an item of incompatible dtype is deprecated and will raise an error in a future version of pandas. Value '-0.16' has dtype incompatible with int64, please explicitly cast to a compatible dtype first.\n",
      "  input_df.at[0, col] = normalize_value(val, min_val, max_val)\n",
      "C:\\Users\\idanb\\AppData\\Local\\Temp\\ipykernel_20780\\2780202512.py:25: FutureWarning: Setting an item of incompatible dtype is deprecated and will raise an error in a future version of pandas. Value '-0.21023163646383575' has dtype incompatible with int64, please explicitly cast to a compatible dtype first.\n",
      "  input_df.at[0, col] = normalize_value(val, min_val, max_val)\n",
      "C:\\Users\\idanb\\AppData\\Local\\Temp\\ipykernel_20780\\2780202512.py:25: FutureWarning: Setting an item of incompatible dtype is deprecated and will raise an error in a future version of pandas. Value '-0.00021725052520124292' has dtype incompatible with int64, please explicitly cast to a compatible dtype first.\n",
      "  input_df.at[0, col] = normalize_value(val, min_val, max_val)\n",
      "C:\\Users\\idanb\\AppData\\Local\\Temp\\ipykernel_20780\\2780202512.py:25: FutureWarning: Setting an item of incompatible dtype is deprecated and will raise an error in a future version of pandas. Value '-0.005709913220815935' has dtype incompatible with int64, please explicitly cast to a compatible dtype first.\n",
      "  input_df.at[0, col] = normalize_value(val, min_val, max_val)\n",
      "C:\\Users\\idanb\\AppData\\Local\\Temp\\ipykernel_20780\\2780202512.py:25: FutureWarning: Setting an item of incompatible dtype is deprecated and will raise an error in a future version of pandas. Value '-0.0069358810062303345' has dtype incompatible with int64, please explicitly cast to a compatible dtype first.\n",
      "  input_df.at[0, col] = normalize_value(val, min_val, max_val)\n",
      "C:\\Users\\idanb\\AppData\\Local\\Temp\\ipykernel_20780\\2780202512.py:25: FutureWarning: Setting an item of incompatible dtype is deprecated and will raise an error in a future version of pandas. Value '-0.005187921637531721' has dtype incompatible with int64, please explicitly cast to a compatible dtype first.\n",
      "  input_df.at[0, col] = normalize_value(val, min_val, max_val)\n",
      "C:\\Users\\idanb\\AppData\\Local\\Temp\\ipykernel_20780\\2780202512.py:25: FutureWarning: Setting an item of incompatible dtype is deprecated and will raise an error in a future version of pandas. Value '-0.007991940385475209' has dtype incompatible with int64, please explicitly cast to a compatible dtype first.\n",
      "  input_df.at[0, col] = normalize_value(val, min_val, max_val)\n",
      "C:\\Users\\idanb\\AppData\\Local\\Temp\\ipykernel_20780\\2780202512.py:25: FutureWarning: Setting an item of incompatible dtype is deprecated and will raise an error in a future version of pandas. Value '-0.0014852593395814709' has dtype incompatible with int64, please explicitly cast to a compatible dtype first.\n",
      "  input_df.at[0, col] = normalize_value(val, min_val, max_val)\n",
      "C:\\Users\\idanb\\AppData\\Local\\Temp\\ipykernel_20780\\2780202512.py:25: FutureWarning: Setting an item of incompatible dtype is deprecated and will raise an error in a future version of pandas. Value '-0.0031831006887006255' has dtype incompatible with int64, please explicitly cast to a compatible dtype first.\n",
      "  input_df.at[0, col] = normalize_value(val, min_val, max_val)\n",
      "C:\\Users\\idanb\\AppData\\Local\\Temp\\ipykernel_20780\\2780202512.py:25: FutureWarning: Setting an item of incompatible dtype is deprecated and will raise an error in a future version of pandas. Value '-0.026615605329321234' has dtype incompatible with int64, please explicitly cast to a compatible dtype first.\n",
      "  input_df.at[0, col] = normalize_value(val, min_val, max_val)\n",
      "C:\\Users\\idanb\\AppData\\Local\\Temp\\ipykernel_20780\\2780202512.py:25: FutureWarning: Setting an item of incompatible dtype is deprecated and will raise an error in a future version of pandas. Value '-0.0037724880856614524' has dtype incompatible with int64, please explicitly cast to a compatible dtype first.\n",
      "  input_df.at[0, col] = normalize_value(val, min_val, max_val)\n",
      "C:\\Users\\idanb\\AppData\\Local\\Temp\\ipykernel_20780\\2780202512.py:25: FutureWarning: Setting an item of incompatible dtype is deprecated and will raise an error in a future version of pandas. Value '-0.0012245364669707377' has dtype incompatible with int64, please explicitly cast to a compatible dtype first.\n",
      "  input_df.at[0, col] = normalize_value(val, min_val, max_val)\n",
      "C:\\Users\\idanb\\AppData\\Local\\Temp\\ipykernel_20780\\2780202512.py:25: FutureWarning: Setting an item of incompatible dtype is deprecated and will raise an error in a future version of pandas. Value '-0.2' has dtype incompatible with int64, please explicitly cast to a compatible dtype first.\n",
      "  input_df.at[0, col] = normalize_value(val, min_val, max_val)\n",
      "C:\\Users\\idanb\\AppData\\Local\\Temp\\ipykernel_20780\\2780202512.py:25: FutureWarning: Setting an item of incompatible dtype is deprecated and will raise an error in a future version of pandas. Value '-0.21032250877943823' has dtype incompatible with int64, please explicitly cast to a compatible dtype first.\n",
      "  input_df.at[0, col] = normalize_value(val, min_val, max_val)\n",
      "C:\\Users\\idanb\\AppData\\Local\\Temp\\ipykernel_20780\\2780202512.py:25: FutureWarning: Setting an item of incompatible dtype is deprecated and will raise an error in a future version of pandas. Value '-0.00021548225679799996' has dtype incompatible with int64, please explicitly cast to a compatible dtype first.\n",
      "  input_df.at[0, col] = normalize_value(val, min_val, max_val)\n",
      "C:\\Users\\idanb\\AppData\\Local\\Temp\\ipykernel_20780\\2780202512.py:25: FutureWarning: Setting an item of incompatible dtype is deprecated and will raise an error in a future version of pandas. Value '-0.0057111894042321445' has dtype incompatible with int64, please explicitly cast to a compatible dtype first.\n",
      "  input_df.at[0, col] = normalize_value(val, min_val, max_val)\n",
      "C:\\Users\\idanb\\AppData\\Local\\Temp\\ipykernel_20780\\2780202512.py:25: FutureWarning: Setting an item of incompatible dtype is deprecated and will raise an error in a future version of pandas. Value '-0.006940050369896864' has dtype incompatible with int64, please explicitly cast to a compatible dtype first.\n",
      "  input_df.at[0, col] = normalize_value(val, min_val, max_val)\n",
      "C:\\Users\\idanb\\AppData\\Local\\Temp\\ipykernel_20780\\2780202512.py:25: FutureWarning: Setting an item of incompatible dtype is deprecated and will raise an error in a future version of pandas. Value '-0.0050409965100136666' has dtype incompatible with int64, please explicitly cast to a compatible dtype first.\n",
      "  input_df.at[0, col] = normalize_value(val, min_val, max_val)\n",
      "C:\\Users\\idanb\\AppData\\Local\\Temp\\ipykernel_20780\\2780202512.py:25: FutureWarning: Setting an item of incompatible dtype is deprecated and will raise an error in a future version of pandas. Value '-0.007994845730838827' has dtype incompatible with int64, please explicitly cast to a compatible dtype first.\n",
      "  input_df.at[0, col] = normalize_value(val, min_val, max_val)\n",
      "C:\\Users\\idanb\\AppData\\Local\\Temp\\ipykernel_20780\\2780202512.py:25: FutureWarning: Setting an item of incompatible dtype is deprecated and will raise an error in a future version of pandas. Value '-0.0016535411957049472' has dtype incompatible with int64, please explicitly cast to a compatible dtype first.\n",
      "  input_df.at[0, col] = normalize_value(val, min_val, max_val)\n",
      "C:\\Users\\idanb\\AppData\\Local\\Temp\\ipykernel_20780\\2780202512.py:25: FutureWarning: Setting an item of incompatible dtype is deprecated and will raise an error in a future version of pandas. Value '-0.003214482551116622' has dtype incompatible with int64, please explicitly cast to a compatible dtype first.\n",
      "  input_df.at[0, col] = normalize_value(val, min_val, max_val)\n",
      "C:\\Users\\idanb\\AppData\\Local\\Temp\\ipykernel_20780\\2780202512.py:25: FutureWarning: Setting an item of incompatible dtype is deprecated and will raise an error in a future version of pandas. Value '-0.026630287943538736' has dtype incompatible with int64, please explicitly cast to a compatible dtype first.\n",
      "  input_df.at[0, col] = normalize_value(val, min_val, max_val)\n",
      "C:\\Users\\idanb\\AppData\\Local\\Temp\\ipykernel_20780\\2780202512.py:25: FutureWarning: Setting an item of incompatible dtype is deprecated and will raise an error in a future version of pandas. Value '-0.0037758892003537715' has dtype incompatible with int64, please explicitly cast to a compatible dtype first.\n",
      "  input_df.at[0, col] = normalize_value(val, min_val, max_val)\n",
      "C:\\Users\\idanb\\AppData\\Local\\Temp\\ipykernel_20780\\2780202512.py:25: FutureWarning: Setting an item of incompatible dtype is deprecated and will raise an error in a future version of pandas. Value '-0.00124015343272844' has dtype incompatible with int64, please explicitly cast to a compatible dtype first.\n",
      "  input_df.at[0, col] = normalize_value(val, min_val, max_val)\n",
      "C:\\Users\\idanb\\AppData\\Local\\Temp\\ipykernel_20780\\2780202512.py:25: FutureWarning: Setting an item of incompatible dtype is deprecated and will raise an error in a future version of pandas. Value '-0.2' has dtype incompatible with int64, please explicitly cast to a compatible dtype first.\n",
      "  input_df.at[0, col] = normalize_value(val, min_val, max_val)\n",
      "C:\\Users\\idanb\\AppData\\Local\\Temp\\ipykernel_20780\\2780202512.py:25: FutureWarning: Setting an item of incompatible dtype is deprecated and will raise an error in a future version of pandas. Value '-0.21038993017488525' has dtype incompatible with int64, please explicitly cast to a compatible dtype first.\n",
      "  input_df.at[0, col] = normalize_value(val, min_val, max_val)\n",
      "C:\\Users\\idanb\\AppData\\Local\\Temp\\ipykernel_20780\\2780202512.py:25: FutureWarning: Setting an item of incompatible dtype is deprecated and will raise an error in a future version of pandas. Value '-0.00021609356782757353' has dtype incompatible with int64, please explicitly cast to a compatible dtype first.\n",
      "  input_df.at[0, col] = normalize_value(val, min_val, max_val)\n",
      "C:\\Users\\idanb\\AppData\\Local\\Temp\\ipykernel_20780\\2780202512.py:25: FutureWarning: Setting an item of incompatible dtype is deprecated and will raise an error in a future version of pandas. Value '-0.00570469070821778' has dtype incompatible with int64, please explicitly cast to a compatible dtype first.\n",
      "  input_df.at[0, col] = normalize_value(val, min_val, max_val)\n",
      "C:\\Users\\idanb\\AppData\\Local\\Temp\\ipykernel_20780\\2780202512.py:25: FutureWarning: Setting an item of incompatible dtype is deprecated and will raise an error in a future version of pandas. Value '-0.006942169511184783' has dtype incompatible with int64, please explicitly cast to a compatible dtype first.\n",
      "  input_df.at[0, col] = normalize_value(val, min_val, max_val)\n",
      "C:\\Users\\idanb\\AppData\\Local\\Temp\\ipykernel_20780\\2780202512.py:25: FutureWarning: Setting an item of incompatible dtype is deprecated and will raise an error in a future version of pandas. Value '-0.005036362092779565' has dtype incompatible with int64, please explicitly cast to a compatible dtype first.\n",
      "  input_df.at[0, col] = normalize_value(val, min_val, max_val)\n",
      "C:\\Users\\idanb\\AppData\\Local\\Temp\\ipykernel_20780\\2780202512.py:25: FutureWarning: Setting an item of incompatible dtype is deprecated and will raise an error in a future version of pandas. Value '-0.007994605510064' has dtype incompatible with int64, please explicitly cast to a compatible dtype first.\n",
      "  input_df.at[0, col] = normalize_value(val, min_val, max_val)\n",
      "C:\\Users\\idanb\\AppData\\Local\\Temp\\ipykernel_20780\\2780202512.py:25: FutureWarning: Setting an item of incompatible dtype is deprecated and will raise an error in a future version of pandas. Value '-0.0016439908763133443' has dtype incompatible with int64, please explicitly cast to a compatible dtype first.\n",
      "  input_df.at[0, col] = normalize_value(val, min_val, max_val)\n",
      "C:\\Users\\idanb\\AppData\\Local\\Temp\\ipykernel_20780\\2780202512.py:25: FutureWarning: Setting an item of incompatible dtype is deprecated and will raise an error in a future version of pandas. Value '-0.0031981291059846465' has dtype incompatible with int64, please explicitly cast to a compatible dtype first.\n",
      "  input_df.at[0, col] = normalize_value(val, min_val, max_val)\n",
      "C:\\Users\\idanb\\AppData\\Local\\Temp\\ipykernel_20780\\2780202512.py:25: FutureWarning: Setting an item of incompatible dtype is deprecated and will raise an error in a future version of pandas. Value '-0.026615451375480263' has dtype incompatible with int64, please explicitly cast to a compatible dtype first.\n",
      "  input_df.at[0, col] = normalize_value(val, min_val, max_val)\n",
      "C:\\Users\\idanb\\AppData\\Local\\Temp\\ipykernel_20780\\2780202512.py:25: FutureWarning: Setting an item of incompatible dtype is deprecated and will raise an error in a future version of pandas. Value '-0.0037699591893072086' has dtype incompatible with int64, please explicitly cast to a compatible dtype first.\n",
      "  input_df.at[0, col] = normalize_value(val, min_val, max_val)\n",
      "C:\\Users\\idanb\\AppData\\Local\\Temp\\ipykernel_20780\\2780202512.py:25: FutureWarning: Setting an item of incompatible dtype is deprecated and will raise an error in a future version of pandas. Value '-0.0012303319178911282' has dtype incompatible with int64, please explicitly cast to a compatible dtype first.\n",
      "  input_df.at[0, col] = normalize_value(val, min_val, max_val)\n",
      "C:\\Users\\idanb\\AppData\\Local\\Temp\\ipykernel_20780\\2780202512.py:25: FutureWarning: Setting an item of incompatible dtype is deprecated and will raise an error in a future version of pandas. Value '-0.2' has dtype incompatible with int64, please explicitly cast to a compatible dtype first.\n",
      "  input_df.at[0, col] = normalize_value(val, min_val, max_val)\n",
      "C:\\Users\\idanb\\AppData\\Local\\Temp\\ipykernel_20780\\2780202512.py:25: FutureWarning: Setting an item of incompatible dtype is deprecated and will raise an error in a future version of pandas. Value '-0.21015542097333045' has dtype incompatible with int64, please explicitly cast to a compatible dtype first.\n",
      "  input_df.at[0, col] = normalize_value(val, min_val, max_val)\n",
      "C:\\Users\\idanb\\AppData\\Local\\Temp\\ipykernel_20780\\2780202512.py:25: FutureWarning: Setting an item of incompatible dtype is deprecated and will raise an error in a future version of pandas. Value '-0.00021906711414489366' has dtype incompatible with int64, please explicitly cast to a compatible dtype first.\n",
      "  input_df.at[0, col] = normalize_value(val, min_val, max_val)\n",
      "C:\\Users\\idanb\\AppData\\Local\\Temp\\ipykernel_20780\\2780202512.py:25: FutureWarning: Setting an item of incompatible dtype is deprecated and will raise an error in a future version of pandas. Value '-0.0057270809074902' has dtype incompatible with int64, please explicitly cast to a compatible dtype first.\n",
      "  input_df.at[0, col] = normalize_value(val, min_val, max_val)\n",
      "C:\\Users\\idanb\\AppData\\Local\\Temp\\ipykernel_20780\\2780202512.py:25: FutureWarning: Setting an item of incompatible dtype is deprecated and will raise an error in a future version of pandas. Value '-0.006950805298325202' has dtype incompatible with int64, please explicitly cast to a compatible dtype first.\n",
      "  input_df.at[0, col] = normalize_value(val, min_val, max_val)\n",
      "C:\\Users\\idanb\\AppData\\Local\\Temp\\ipykernel_20780\\2780202512.py:25: FutureWarning: Setting an item of incompatible dtype is deprecated and will raise an error in a future version of pandas. Value '-0.0050585618702905935' has dtype incompatible with int64, please explicitly cast to a compatible dtype first.\n",
      "  input_df.at[0, col] = normalize_value(val, min_val, max_val)\n",
      "C:\\Users\\idanb\\AppData\\Local\\Temp\\ipykernel_20780\\2780202512.py:25: FutureWarning: Setting an item of incompatible dtype is deprecated and will raise an error in a future version of pandas. Value '-0.007994535308365159' has dtype incompatible with int64, please explicitly cast to a compatible dtype first.\n",
      "  input_df.at[0, col] = normalize_value(val, min_val, max_val)\n",
      "C:\\Users\\idanb\\AppData\\Local\\Temp\\ipykernel_20780\\2780202512.py:25: FutureWarning: Setting an item of incompatible dtype is deprecated and will raise an error in a future version of pandas. Value '-0.0016563369316917706' has dtype incompatible with int64, please explicitly cast to a compatible dtype first.\n",
      "  input_df.at[0, col] = normalize_value(val, min_val, max_val)\n",
      "C:\\Users\\idanb\\AppData\\Local\\Temp\\ipykernel_20780\\2780202512.py:25: FutureWarning: Setting an item of incompatible dtype is deprecated and will raise an error in a future version of pandas. Value '-0.0032254206939247914' has dtype incompatible with int64, please explicitly cast to a compatible dtype first.\n",
      "  input_df.at[0, col] = normalize_value(val, min_val, max_val)\n",
      "C:\\Users\\idanb\\AppData\\Local\\Temp\\ipykernel_20780\\2780202512.py:25: FutureWarning: Setting an item of incompatible dtype is deprecated and will raise an error in a future version of pandas. Value '-0.026664446769053506' has dtype incompatible with int64, please explicitly cast to a compatible dtype first.\n",
      "  input_df.at[0, col] = normalize_value(val, min_val, max_val)\n",
      "C:\\Users\\idanb\\AppData\\Local\\Temp\\ipykernel_20780\\2780202512.py:25: FutureWarning: Setting an item of incompatible dtype is deprecated and will raise an error in a future version of pandas. Value '-0.0037696375408501136' has dtype incompatible with int64, please explicitly cast to a compatible dtype first.\n",
      "  input_df.at[0, col] = normalize_value(val, min_val, max_val)\n",
      "C:\\Users\\idanb\\AppData\\Local\\Temp\\ipykernel_20780\\2780202512.py:25: FutureWarning: Setting an item of incompatible dtype is deprecated and will raise an error in a future version of pandas. Value '-0.001236706445346688' has dtype incompatible with int64, please explicitly cast to a compatible dtype first.\n",
      "  input_df.at[0, col] = normalize_value(val, min_val, max_val)\n",
      "C:\\Users\\idanb\\AppData\\Local\\Temp\\ipykernel_20780\\2780202512.py:25: FutureWarning: Setting an item of incompatible dtype is deprecated and will raise an error in a future version of pandas. Value '-0.16' has dtype incompatible with int64, please explicitly cast to a compatible dtype first.\n",
      "  input_df.at[0, col] = normalize_value(val, min_val, max_val)\n",
      "C:\\Users\\idanb\\AppData\\Local\\Temp\\ipykernel_20780\\2780202512.py:25: FutureWarning: Setting an item of incompatible dtype is deprecated and will raise an error in a future version of pandas. Value '-0.21000152430981012' has dtype incompatible with int64, please explicitly cast to a compatible dtype first.\n",
      "  input_df.at[0, col] = normalize_value(val, min_val, max_val)\n",
      "C:\\Users\\idanb\\AppData\\Local\\Temp\\ipykernel_20780\\2780202512.py:25: FutureWarning: Setting an item of incompatible dtype is deprecated and will raise an error in a future version of pandas. Value '-0.0002181533881743194' has dtype incompatible with int64, please explicitly cast to a compatible dtype first.\n",
      "  input_df.at[0, col] = normalize_value(val, min_val, max_val)\n",
      "C:\\Users\\idanb\\AppData\\Local\\Temp\\ipykernel_20780\\2780202512.py:25: FutureWarning: Setting an item of incompatible dtype is deprecated and will raise an error in a future version of pandas. Value '-0.005742989191306898' has dtype incompatible with int64, please explicitly cast to a compatible dtype first.\n",
      "  input_df.at[0, col] = normalize_value(val, min_val, max_val)\n",
      "C:\\Users\\idanb\\AppData\\Local\\Temp\\ipykernel_20780\\2780202512.py:25: FutureWarning: Setting an item of incompatible dtype is deprecated and will raise an error in a future version of pandas. Value '-0.006947685895275362' has dtype incompatible with int64, please explicitly cast to a compatible dtype first.\n",
      "  input_df.at[0, col] = normalize_value(val, min_val, max_val)\n",
      "C:\\Users\\idanb\\AppData\\Local\\Temp\\ipykernel_20780\\2780202512.py:25: FutureWarning: Setting an item of incompatible dtype is deprecated and will raise an error in a future version of pandas. Value '-0.005183772524786934' has dtype incompatible with int64, please explicitly cast to a compatible dtype first.\n",
      "  input_df.at[0, col] = normalize_value(val, min_val, max_val)\n",
      "C:\\Users\\idanb\\AppData\\Local\\Temp\\ipykernel_20780\\2780202512.py:25: FutureWarning: Setting an item of incompatible dtype is deprecated and will raise an error in a future version of pandas. Value '-0.007994774501824007' has dtype incompatible with int64, please explicitly cast to a compatible dtype first.\n",
      "  input_df.at[0, col] = normalize_value(val, min_val, max_val)\n",
      "C:\\Users\\idanb\\AppData\\Local\\Temp\\ipykernel_20780\\2780202512.py:25: FutureWarning: Setting an item of incompatible dtype is deprecated and will raise an error in a future version of pandas. Value '-0.0017228169157221316' has dtype incompatible with int64, please explicitly cast to a compatible dtype first.\n",
      "  input_df.at[0, col] = normalize_value(val, min_val, max_val)\n",
      "C:\\Users\\idanb\\AppData\\Local\\Temp\\ipykernel_20780\\2780202512.py:25: FutureWarning: Setting an item of incompatible dtype is deprecated and will raise an error in a future version of pandas. Value '-0.0032290180743150304' has dtype incompatible with int64, please explicitly cast to a compatible dtype first.\n",
      "  input_df.at[0, col] = normalize_value(val, min_val, max_val)\n",
      "C:\\Users\\idanb\\AppData\\Local\\Temp\\ipykernel_20780\\2780202512.py:25: FutureWarning: Setting an item of incompatible dtype is deprecated and will raise an error in a future version of pandas. Value '-0.026597215275049053' has dtype incompatible with int64, please explicitly cast to a compatible dtype first.\n",
      "  input_df.at[0, col] = normalize_value(val, min_val, max_val)\n",
      "C:\\Users\\idanb\\AppData\\Local\\Temp\\ipykernel_20780\\2780202512.py:25: FutureWarning: Setting an item of incompatible dtype is deprecated and will raise an error in a future version of pandas. Value '-0.0037745581514586814' has dtype incompatible with int64, please explicitly cast to a compatible dtype first.\n",
      "  input_df.at[0, col] = normalize_value(val, min_val, max_val)\n",
      "C:\\Users\\idanb\\AppData\\Local\\Temp\\ipykernel_20780\\2780202512.py:25: FutureWarning: Setting an item of incompatible dtype is deprecated and will raise an error in a future version of pandas. Value '-0.0012016345334557844' has dtype incompatible with int64, please explicitly cast to a compatible dtype first.\n",
      "  input_df.at[0, col] = normalize_value(val, min_val, max_val)\n",
      "C:\\Users\\idanb\\AppData\\Local\\Temp\\ipykernel_20780\\2780202512.py:25: FutureWarning: Setting an item of incompatible dtype is deprecated and will raise an error in a future version of pandas. Value '-0.2' has dtype incompatible with int64, please explicitly cast to a compatible dtype first.\n",
      "  input_df.at[0, col] = normalize_value(val, min_val, max_val)\n",
      "C:\\Users\\idanb\\AppData\\Local\\Temp\\ipykernel_20780\\2780202512.py:25: FutureWarning: Setting an item of incompatible dtype is deprecated and will raise an error in a future version of pandas. Value '-0.2101436955132527' has dtype incompatible with int64, please explicitly cast to a compatible dtype first.\n",
      "  input_df.at[0, col] = normalize_value(val, min_val, max_val)\n",
      "C:\\Users\\idanb\\AppData\\Local\\Temp\\ipykernel_20780\\2780202512.py:25: FutureWarning: Setting an item of incompatible dtype is deprecated and will raise an error in a future version of pandas. Value '-0.00021915952197630985' has dtype incompatible with int64, please explicitly cast to a compatible dtype first.\n",
      "  input_df.at[0, col] = normalize_value(val, min_val, max_val)\n",
      "C:\\Users\\idanb\\AppData\\Local\\Temp\\ipykernel_20780\\2780202512.py:25: FutureWarning: Setting an item of incompatible dtype is deprecated and will raise an error in a future version of pandas. Value '-0.00573184402181441' has dtype incompatible with int64, please explicitly cast to a compatible dtype first.\n",
      "  input_df.at[0, col] = normalize_value(val, min_val, max_val)\n",
      "C:\\Users\\idanb\\AppData\\Local\\Temp\\ipykernel_20780\\2780202512.py:25: FutureWarning: Setting an item of incompatible dtype is deprecated and will raise an error in a future version of pandas. Value '-0.006951555612307777' has dtype incompatible with int64, please explicitly cast to a compatible dtype first.\n",
      "  input_df.at[0, col] = normalize_value(val, min_val, max_val)\n",
      "C:\\Users\\idanb\\AppData\\Local\\Temp\\ipykernel_20780\\2780202512.py:25: FutureWarning: Setting an item of incompatible dtype is deprecated and will raise an error in a future version of pandas. Value '-0.00508717189044345' has dtype incompatible with int64, please explicitly cast to a compatible dtype first.\n",
      "  input_df.at[0, col] = normalize_value(val, min_val, max_val)\n",
      "C:\\Users\\idanb\\AppData\\Local\\Temp\\ipykernel_20780\\2780202512.py:25: FutureWarning: Setting an item of incompatible dtype is deprecated and will raise an error in a future version of pandas. Value '-0.007994629948957149' has dtype incompatible with int64, please explicitly cast to a compatible dtype first.\n",
      "  input_df.at[0, col] = normalize_value(val, min_val, max_val)\n",
      "C:\\Users\\idanb\\AppData\\Local\\Temp\\ipykernel_20780\\2780202512.py:25: FutureWarning: Setting an item of incompatible dtype is deprecated and will raise an error in a future version of pandas. Value '-0.0016841398112549257' has dtype incompatible with int64, please explicitly cast to a compatible dtype first.\n",
      "  input_df.at[0, col] = normalize_value(val, min_val, max_val)\n",
      "C:\\Users\\idanb\\AppData\\Local\\Temp\\ipykernel_20780\\2780202512.py:25: FutureWarning: Setting an item of incompatible dtype is deprecated and will raise an error in a future version of pandas. Value '-0.0032272752977405487' has dtype incompatible with int64, please explicitly cast to a compatible dtype first.\n",
      "  input_df.at[0, col] = normalize_value(val, min_val, max_val)\n",
      "C:\\Users\\idanb\\AppData\\Local\\Temp\\ipykernel_20780\\2780202512.py:25: FutureWarning: Setting an item of incompatible dtype is deprecated and will raise an error in a future version of pandas. Value '-0.026664593760820834' has dtype incompatible with int64, please explicitly cast to a compatible dtype first.\n",
      "  input_df.at[0, col] = normalize_value(val, min_val, max_val)\n",
      "C:\\Users\\idanb\\AppData\\Local\\Temp\\ipykernel_20780\\2780202512.py:25: FutureWarning: Setting an item of incompatible dtype is deprecated and will raise an error in a future version of pandas. Value '-0.003769603764550883' has dtype incompatible with int64, please explicitly cast to a compatible dtype first.\n",
      "  input_df.at[0, col] = normalize_value(val, min_val, max_val)\n",
      "C:\\Users\\idanb\\AppData\\Local\\Temp\\ipykernel_20780\\2780202512.py:25: FutureWarning: Setting an item of incompatible dtype is deprecated and will raise an error in a future version of pandas. Value '-0.0012475616326315328' has dtype incompatible with int64, please explicitly cast to a compatible dtype first.\n",
      "  input_df.at[0, col] = normalize_value(val, min_val, max_val)\n",
      "C:\\Users\\idanb\\AppData\\Local\\Temp\\ipykernel_20780\\2780202512.py:25: FutureWarning: Setting an item of incompatible dtype is deprecated and will raise an error in a future version of pandas. Value '-0.2' has dtype incompatible with int64, please explicitly cast to a compatible dtype first.\n",
      "  input_df.at[0, col] = normalize_value(val, min_val, max_val)\n",
      "C:\\Users\\idanb\\AppData\\Local\\Temp\\ipykernel_20780\\2780202512.py:25: FutureWarning: Setting an item of incompatible dtype is deprecated and will raise an error in a future version of pandas. Value '-0.21039579290492413' has dtype incompatible with int64, please explicitly cast to a compatible dtype first.\n",
      "  input_df.at[0, col] = normalize_value(val, min_val, max_val)\n",
      "C:\\Users\\idanb\\AppData\\Local\\Temp\\ipykernel_20780\\2780202512.py:25: FutureWarning: Setting an item of incompatible dtype is deprecated and will raise an error in a future version of pandas. Value '-0.00021609356782757353' has dtype incompatible with int64, please explicitly cast to a compatible dtype first.\n",
      "  input_df.at[0, col] = normalize_value(val, min_val, max_val)\n",
      "C:\\Users\\idanb\\AppData\\Local\\Temp\\ipykernel_20780\\2780202512.py:25: FutureWarning: Setting an item of incompatible dtype is deprecated and will raise an error in a future version of pandas. Value '-0.00570469070821778' has dtype incompatible with int64, please explicitly cast to a compatible dtype first.\n",
      "  input_df.at[0, col] = normalize_value(val, min_val, max_val)\n",
      "C:\\Users\\idanb\\AppData\\Local\\Temp\\ipykernel_20780\\2780202512.py:25: FutureWarning: Setting an item of incompatible dtype is deprecated and will raise an error in a future version of pandas. Value '-0.006942169511184783' has dtype incompatible with int64, please explicitly cast to a compatible dtype first.\n",
      "  input_df.at[0, col] = normalize_value(val, min_val, max_val)\n",
      "C:\\Users\\idanb\\AppData\\Local\\Temp\\ipykernel_20780\\2780202512.py:25: FutureWarning: Setting an item of incompatible dtype is deprecated and will raise an error in a future version of pandas. Value '-0.005036362092779565' has dtype incompatible with int64, please explicitly cast to a compatible dtype first.\n",
      "  input_df.at[0, col] = normalize_value(val, min_val, max_val)\n",
      "C:\\Users\\idanb\\AppData\\Local\\Temp\\ipykernel_20780\\2780202512.py:25: FutureWarning: Setting an item of incompatible dtype is deprecated and will raise an error in a future version of pandas. Value '-0.007994605510064' has dtype incompatible with int64, please explicitly cast to a compatible dtype first.\n",
      "  input_df.at[0, col] = normalize_value(val, min_val, max_val)\n",
      "C:\\Users\\idanb\\AppData\\Local\\Temp\\ipykernel_20780\\2780202512.py:25: FutureWarning: Setting an item of incompatible dtype is deprecated and will raise an error in a future version of pandas. Value '-0.0016439908763133443' has dtype incompatible with int64, please explicitly cast to a compatible dtype first.\n",
      "  input_df.at[0, col] = normalize_value(val, min_val, max_val)\n",
      "C:\\Users\\idanb\\AppData\\Local\\Temp\\ipykernel_20780\\2780202512.py:25: FutureWarning: Setting an item of incompatible dtype is deprecated and will raise an error in a future version of pandas. Value '-0.0031981291059846465' has dtype incompatible with int64, please explicitly cast to a compatible dtype first.\n",
      "  input_df.at[0, col] = normalize_value(val, min_val, max_val)\n",
      "C:\\Users\\idanb\\AppData\\Local\\Temp\\ipykernel_20780\\2780202512.py:25: FutureWarning: Setting an item of incompatible dtype is deprecated and will raise an error in a future version of pandas. Value '-0.026615451375480263' has dtype incompatible with int64, please explicitly cast to a compatible dtype first.\n",
      "  input_df.at[0, col] = normalize_value(val, min_val, max_val)\n",
      "C:\\Users\\idanb\\AppData\\Local\\Temp\\ipykernel_20780\\2780202512.py:25: FutureWarning: Setting an item of incompatible dtype is deprecated and will raise an error in a future version of pandas. Value '-0.0037699591893072086' has dtype incompatible with int64, please explicitly cast to a compatible dtype first.\n",
      "  input_df.at[0, col] = normalize_value(val, min_val, max_val)\n",
      "C:\\Users\\idanb\\AppData\\Local\\Temp\\ipykernel_20780\\2780202512.py:25: FutureWarning: Setting an item of incompatible dtype is deprecated and will raise an error in a future version of pandas. Value '-0.0012303319178911282' has dtype incompatible with int64, please explicitly cast to a compatible dtype first.\n",
      "  input_df.at[0, col] = normalize_value(val, min_val, max_val)\n",
      "C:\\Users\\idanb\\AppData\\Local\\Temp\\ipykernel_20780\\2780202512.py:25: FutureWarning: Setting an item of incompatible dtype is deprecated and will raise an error in a future version of pandas. Value '-0.2' has dtype incompatible with int64, please explicitly cast to a compatible dtype first.\n",
      "  input_df.at[0, col] = normalize_value(val, min_val, max_val)\n",
      "C:\\Users\\idanb\\AppData\\Local\\Temp\\ipykernel_20780\\2780202512.py:25: FutureWarning: Setting an item of incompatible dtype is deprecated and will raise an error in a future version of pandas. Value '-0.2101173132280778' has dtype incompatible with int64, please explicitly cast to a compatible dtype first.\n",
      "  input_df.at[0, col] = normalize_value(val, min_val, max_val)\n",
      "C:\\Users\\idanb\\AppData\\Local\\Temp\\ipykernel_20780\\2780202512.py:25: FutureWarning: Setting an item of incompatible dtype is deprecated and will raise an error in a future version of pandas. Value '-0.00021612194882923315' has dtype incompatible with int64, please explicitly cast to a compatible dtype first.\n",
      "  input_df.at[0, col] = normalize_value(val, min_val, max_val)\n",
      "C:\\Users\\idanb\\AppData\\Local\\Temp\\ipykernel_20780\\2780202512.py:25: FutureWarning: Setting an item of incompatible dtype is deprecated and will raise an error in a future version of pandas. Value '-0.005721007424513343' has dtype incompatible with int64, please explicitly cast to a compatible dtype first.\n",
      "  input_df.at[0, col] = normalize_value(val, min_val, max_val)\n",
      "C:\\Users\\idanb\\AppData\\Local\\Temp\\ipykernel_20780\\2780202512.py:25: FutureWarning: Setting an item of incompatible dtype is deprecated and will raise an error in a future version of pandas. Value '-0.006940992714078415' has dtype incompatible with int64, please explicitly cast to a compatible dtype first.\n",
      "  input_df.at[0, col] = normalize_value(val, min_val, max_val)\n",
      "C:\\Users\\idanb\\AppData\\Local\\Temp\\ipykernel_20780\\2780202512.py:25: FutureWarning: Setting an item of incompatible dtype is deprecated and will raise an error in a future version of pandas. Value '-0.005198046873136437' has dtype incompatible with int64, please explicitly cast to a compatible dtype first.\n",
      "  input_df.at[0, col] = normalize_value(val, min_val, max_val)\n",
      "C:\\Users\\idanb\\AppData\\Local\\Temp\\ipykernel_20780\\2780202512.py:25: FutureWarning: Setting an item of incompatible dtype is deprecated and will raise an error in a future version of pandas. Value '-0.007995313436998412' has dtype incompatible with int64, please explicitly cast to a compatible dtype first.\n",
      "  input_df.at[0, col] = normalize_value(val, min_val, max_val)\n",
      "C:\\Users\\idanb\\AppData\\Local\\Temp\\ipykernel_20780\\2780202512.py:25: FutureWarning: Setting an item of incompatible dtype is deprecated and will raise an error in a future version of pandas. Value '-0.0017226538746084171' has dtype incompatible with int64, please explicitly cast to a compatible dtype first.\n",
      "  input_df.at[0, col] = normalize_value(val, min_val, max_val)\n",
      "C:\\Users\\idanb\\AppData\\Local\\Temp\\ipykernel_20780\\2780202512.py:25: FutureWarning: Setting an item of incompatible dtype is deprecated and will raise an error in a future version of pandas. Value '-0.003208883102424984' has dtype incompatible with int64, please explicitly cast to a compatible dtype first.\n",
      "  input_df.at[0, col] = normalize_value(val, min_val, max_val)\n",
      "C:\\Users\\idanb\\AppData\\Local\\Temp\\ipykernel_20780\\2780202512.py:25: FutureWarning: Setting an item of incompatible dtype is deprecated and will raise an error in a future version of pandas. Value '-0.026672498643012542' has dtype incompatible with int64, please explicitly cast to a compatible dtype first.\n",
      "  input_df.at[0, col] = normalize_value(val, min_val, max_val)\n",
      "C:\\Users\\idanb\\AppData\\Local\\Temp\\ipykernel_20780\\2780202512.py:25: FutureWarning: Setting an item of incompatible dtype is deprecated and will raise an error in a future version of pandas. Value '-0.0037702836733011' has dtype incompatible with int64, please explicitly cast to a compatible dtype first.\n",
      "  input_df.at[0, col] = normalize_value(val, min_val, max_val)\n",
      "C:\\Users\\idanb\\AppData\\Local\\Temp\\ipykernel_20780\\2780202512.py:25: FutureWarning: Setting an item of incompatible dtype is deprecated and will raise an error in a future version of pandas. Value '-0.001254756940720379' has dtype incompatible with int64, please explicitly cast to a compatible dtype first.\n",
      "  input_df.at[0, col] = normalize_value(val, min_val, max_val)\n",
      "C:\\Users\\idanb\\AppData\\Local\\Temp\\ipykernel_20780\\2780202512.py:25: FutureWarning: Setting an item of incompatible dtype is deprecated and will raise an error in a future version of pandas. Value '-0.2' has dtype incompatible with int64, please explicitly cast to a compatible dtype first.\n",
      "  input_df.at[0, col] = normalize_value(val, min_val, max_val)\n",
      "C:\\Users\\idanb\\AppData\\Local\\Temp\\ipykernel_20780\\2780202512.py:25: FutureWarning: Setting an item of incompatible dtype is deprecated and will raise an error in a future version of pandas. Value '-0.21019939144862199' has dtype incompatible with int64, please explicitly cast to a compatible dtype first.\n",
      "  input_df.at[0, col] = normalize_value(val, min_val, max_val)\n",
      "C:\\Users\\idanb\\AppData\\Local\\Temp\\ipykernel_20780\\2780202512.py:25: FutureWarning: Setting an item of incompatible dtype is deprecated and will raise an error in a future version of pandas. Value '-0.00021918422719126115' has dtype incompatible with int64, please explicitly cast to a compatible dtype first.\n",
      "  input_df.at[0, col] = normalize_value(val, min_val, max_val)\n",
      "C:\\Users\\idanb\\AppData\\Local\\Temp\\ipykernel_20780\\2780202512.py:25: FutureWarning: Setting an item of incompatible dtype is deprecated and will raise an error in a future version of pandas. Value '-0.00574238943637819' has dtype incompatible with int64, please explicitly cast to a compatible dtype first.\n",
      "  input_df.at[0, col] = normalize_value(val, min_val, max_val)\n",
      "C:\\Users\\idanb\\AppData\\Local\\Temp\\ipykernel_20780\\2780202512.py:25: FutureWarning: Setting an item of incompatible dtype is deprecated and will raise an error in a future version of pandas. Value '-0.006948221964826807' has dtype incompatible with int64, please explicitly cast to a compatible dtype first.\n",
      "  input_df.at[0, col] = normalize_value(val, min_val, max_val)\n",
      "C:\\Users\\idanb\\AppData\\Local\\Temp\\ipykernel_20780\\2780202512.py:25: FutureWarning: Setting an item of incompatible dtype is deprecated and will raise an error in a future version of pandas. Value '-0.005161665286198321' has dtype incompatible with int64, please explicitly cast to a compatible dtype first.\n",
      "  input_df.at[0, col] = normalize_value(val, min_val, max_val)\n",
      "C:\\Users\\idanb\\AppData\\Local\\Temp\\ipykernel_20780\\2780202512.py:25: FutureWarning: Setting an item of incompatible dtype is deprecated and will raise an error in a future version of pandas. Value '-0.007994220605668883' has dtype incompatible with int64, please explicitly cast to a compatible dtype first.\n",
      "  input_df.at[0, col] = normalize_value(val, min_val, max_val)\n",
      "C:\\Users\\idanb\\AppData\\Local\\Temp\\ipykernel_20780\\2780202512.py:25: FutureWarning: Setting an item of incompatible dtype is deprecated and will raise an error in a future version of pandas. Value '-0.0016938463952385946' has dtype incompatible with int64, please explicitly cast to a compatible dtype first.\n",
      "  input_df.at[0, col] = normalize_value(val, min_val, max_val)\n",
      "C:\\Users\\idanb\\AppData\\Local\\Temp\\ipykernel_20780\\2780202512.py:25: FutureWarning: Setting an item of incompatible dtype is deprecated and will raise an error in a future version of pandas. Value '-0.0032297420205725366' has dtype incompatible with int64, please explicitly cast to a compatible dtype first.\n",
      "  input_df.at[0, col] = normalize_value(val, min_val, max_val)\n",
      "C:\\Users\\idanb\\AppData\\Local\\Temp\\ipykernel_20780\\2780202512.py:25: FutureWarning: Setting an item of incompatible dtype is deprecated and will raise an error in a future version of pandas. Value '-0.026612946045813653' has dtype incompatible with int64, please explicitly cast to a compatible dtype first.\n",
      "  input_df.at[0, col] = normalize_value(val, min_val, max_val)\n",
      "C:\\Users\\idanb\\AppData\\Local\\Temp\\ipykernel_20780\\2780202512.py:25: FutureWarning: Setting an item of incompatible dtype is deprecated and will raise an error in a future version of pandas. Value '-0.003775751148136451' has dtype incompatible with int64, please explicitly cast to a compatible dtype first.\n",
      "  input_df.at[0, col] = normalize_value(val, min_val, max_val)\n",
      "C:\\Users\\idanb\\AppData\\Local\\Temp\\ipykernel_20780\\2780202512.py:25: FutureWarning: Setting an item of incompatible dtype is deprecated and will raise an error in a future version of pandas. Value '-0.0012499995561859076' has dtype incompatible with int64, please explicitly cast to a compatible dtype first.\n",
      "  input_df.at[0, col] = normalize_value(val, min_val, max_val)\n",
      "C:\\Users\\idanb\\AppData\\Local\\Temp\\ipykernel_20780\\2780202512.py:25: FutureWarning: Setting an item of incompatible dtype is deprecated and will raise an error in a future version of pandas. Value '-0.2' has dtype incompatible with int64, please explicitly cast to a compatible dtype first.\n",
      "  input_df.at[0, col] = normalize_value(val, min_val, max_val)\n",
      "C:\\Users\\idanb\\AppData\\Local\\Temp\\ipykernel_20780\\2780202512.py:25: FutureWarning: Setting an item of incompatible dtype is deprecated and will raise an error in a future version of pandas. Value '-0.21034009696955486' has dtype incompatible with int64, please explicitly cast to a compatible dtype first.\n",
      "  input_df.at[0, col] = normalize_value(val, min_val, max_val)\n",
      "C:\\Users\\idanb\\AppData\\Local\\Temp\\ipykernel_20780\\2780202512.py:25: FutureWarning: Setting an item of incompatible dtype is deprecated and will raise an error in a future version of pandas. Value '-0.00021909125115190015' has dtype incompatible with int64, please explicitly cast to a compatible dtype first.\n",
      "  input_df.at[0, col] = normalize_value(val, min_val, max_val)\n",
      "C:\\Users\\idanb\\AppData\\Local\\Temp\\ipykernel_20780\\2780202512.py:25: FutureWarning: Setting an item of incompatible dtype is deprecated and will raise an error in a future version of pandas. Value '-0.005738492721881438' has dtype incompatible with int64, please explicitly cast to a compatible dtype first.\n",
      "  input_df.at[0, col] = normalize_value(val, min_val, max_val)\n",
      "C:\\Users\\idanb\\AppData\\Local\\Temp\\ipykernel_20780\\2780202512.py:25: FutureWarning: Setting an item of incompatible dtype is deprecated and will raise an error in a future version of pandas. Value '-0.006942326784842963' has dtype incompatible with int64, please explicitly cast to a compatible dtype first.\n",
      "  input_df.at[0, col] = normalize_value(val, min_val, max_val)\n",
      "C:\\Users\\idanb\\AppData\\Local\\Temp\\ipykernel_20780\\2780202512.py:25: FutureWarning: Setting an item of incompatible dtype is deprecated and will raise an error in a future version of pandas. Value '-0.00510066973156382' has dtype incompatible with int64, please explicitly cast to a compatible dtype first.\n",
      "  input_df.at[0, col] = normalize_value(val, min_val, max_val)\n",
      "C:\\Users\\idanb\\AppData\\Local\\Temp\\ipykernel_20780\\2780202512.py:25: FutureWarning: Setting an item of incompatible dtype is deprecated and will raise an error in a future version of pandas. Value '-0.007995058847146474' has dtype incompatible with int64, please explicitly cast to a compatible dtype first.\n",
      "  input_df.at[0, col] = normalize_value(val, min_val, max_val)\n",
      "C:\\Users\\idanb\\AppData\\Local\\Temp\\ipykernel_20780\\2780202512.py:25: FutureWarning: Setting an item of incompatible dtype is deprecated and will raise an error in a future version of pandas. Value '-0.0016916419446195098' has dtype incompatible with int64, please explicitly cast to a compatible dtype first.\n",
      "  input_df.at[0, col] = normalize_value(val, min_val, max_val)\n",
      "C:\\Users\\idanb\\AppData\\Local\\Temp\\ipykernel_20780\\2780202512.py:25: FutureWarning: Setting an item of incompatible dtype is deprecated and will raise an error in a future version of pandas. Value '-0.0032211411656548807' has dtype incompatible with int64, please explicitly cast to a compatible dtype first.\n",
      "  input_df.at[0, col] = normalize_value(val, min_val, max_val)\n",
      "C:\\Users\\idanb\\AppData\\Local\\Temp\\ipykernel_20780\\2780202512.py:25: FutureWarning: Setting an item of incompatible dtype is deprecated and will raise an error in a future version of pandas. Value '-0.026586139795091134' has dtype incompatible with int64, please explicitly cast to a compatible dtype first.\n",
      "  input_df.at[0, col] = normalize_value(val, min_val, max_val)\n",
      "C:\\Users\\idanb\\AppData\\Local\\Temp\\ipykernel_20780\\2780202512.py:25: FutureWarning: Setting an item of incompatible dtype is deprecated and will raise an error in a future version of pandas. Value '-0.003773504647802766' has dtype incompatible with int64, please explicitly cast to a compatible dtype first.\n",
      "  input_df.at[0, col] = normalize_value(val, min_val, max_val)\n",
      "C:\\Users\\idanb\\AppData\\Local\\Temp\\ipykernel_20780\\2780202512.py:25: FutureWarning: Setting an item of incompatible dtype is deprecated and will raise an error in a future version of pandas. Value '-0.0012174795276112288' has dtype incompatible with int64, please explicitly cast to a compatible dtype first.\n",
      "  input_df.at[0, col] = normalize_value(val, min_val, max_val)\n",
      "C:\\Users\\idanb\\AppData\\Local\\Temp\\ipykernel_20780\\2780202512.py:25: FutureWarning: Setting an item of incompatible dtype is deprecated and will raise an error in a future version of pandas. Value '-0.2' has dtype incompatible with int64, please explicitly cast to a compatible dtype first.\n",
      "  input_df.at[0, col] = normalize_value(val, min_val, max_val)\n",
      "C:\\Users\\idanb\\AppData\\Local\\Temp\\ipykernel_20780\\2780202512.py:25: FutureWarning: Setting an item of incompatible dtype is deprecated and will raise an error in a future version of pandas. Value '-0.21017154348093733' has dtype incompatible with int64, please explicitly cast to a compatible dtype first.\n",
      "  input_df.at[0, col] = normalize_value(val, min_val, max_val)\n",
      "C:\\Users\\idanb\\AppData\\Local\\Temp\\ipykernel_20780\\2780202512.py:25: FutureWarning: Setting an item of incompatible dtype is deprecated and will raise an error in a future version of pandas. Value '-0.00021912394744760794' has dtype incompatible with int64, please explicitly cast to a compatible dtype first.\n",
      "  input_df.at[0, col] = normalize_value(val, min_val, max_val)\n",
      "C:\\Users\\idanb\\AppData\\Local\\Temp\\ipykernel_20780\\2780202512.py:25: FutureWarning: Setting an item of incompatible dtype is deprecated and will raise an error in a future version of pandas. Value '-0.005736401599877984' has dtype incompatible with int64, please explicitly cast to a compatible dtype first.\n",
      "  input_df.at[0, col] = normalize_value(val, min_val, max_val)\n",
      "C:\\Users\\idanb\\AppData\\Local\\Temp\\ipykernel_20780\\2780202512.py:25: FutureWarning: Setting an item of incompatible dtype is deprecated and will raise an error in a future version of pandas. Value '-0.006948431174698616' has dtype incompatible with int64, please explicitly cast to a compatible dtype first.\n",
      "  input_df.at[0, col] = normalize_value(val, min_val, max_val)\n",
      "C:\\Users\\idanb\\AppData\\Local\\Temp\\ipykernel_20780\\2780202512.py:25: FutureWarning: Setting an item of incompatible dtype is deprecated and will raise an error in a future version of pandas. Value '-0.00511331160626601' has dtype incompatible with int64, please explicitly cast to a compatible dtype first.\n",
      "  input_df.at[0, col] = normalize_value(val, min_val, max_val)\n",
      "C:\\Users\\idanb\\AppData\\Local\\Temp\\ipykernel_20780\\2780202512.py:25: FutureWarning: Setting an item of incompatible dtype is deprecated and will raise an error in a future version of pandas. Value '-0.007994844774081898' has dtype incompatible with int64, please explicitly cast to a compatible dtype first.\n",
      "  input_df.at[0, col] = normalize_value(val, min_val, max_val)\n",
      "C:\\Users\\idanb\\AppData\\Local\\Temp\\ipykernel_20780\\2780202512.py:25: FutureWarning: Setting an item of incompatible dtype is deprecated and will raise an error in a future version of pandas. Value '-0.0016984798138057354' has dtype incompatible with int64, please explicitly cast to a compatible dtype first.\n",
      "  input_df.at[0, col] = normalize_value(val, min_val, max_val)\n",
      "C:\\Users\\idanb\\AppData\\Local\\Temp\\ipykernel_20780\\2780202512.py:25: FutureWarning: Setting an item of incompatible dtype is deprecated and will raise an error in a future version of pandas. Value '-0.003225182323649247' has dtype incompatible with int64, please explicitly cast to a compatible dtype first.\n",
      "  input_df.at[0, col] = normalize_value(val, min_val, max_val)\n",
      "C:\\Users\\idanb\\AppData\\Local\\Temp\\ipykernel_20780\\2780202512.py:25: FutureWarning: Setting an item of incompatible dtype is deprecated and will raise an error in a future version of pandas. Value '-0.02665224327355023' has dtype incompatible with int64, please explicitly cast to a compatible dtype first.\n",
      "  input_df.at[0, col] = normalize_value(val, min_val, max_val)\n",
      "C:\\Users\\idanb\\AppData\\Local\\Temp\\ipykernel_20780\\2780202512.py:25: FutureWarning: Setting an item of incompatible dtype is deprecated and will raise an error in a future version of pandas. Value '-0.0037753726249568783' has dtype incompatible with int64, please explicitly cast to a compatible dtype first.\n",
      "  input_df.at[0, col] = normalize_value(val, min_val, max_val)\n",
      "C:\\Users\\idanb\\AppData\\Local\\Temp\\ipykernel_20780\\2780202512.py:25: FutureWarning: Setting an item of incompatible dtype is deprecated and will raise an error in a future version of pandas. Value '-0.0012607408525141337' has dtype incompatible with int64, please explicitly cast to a compatible dtype first.\n",
      "  input_df.at[0, col] = normalize_value(val, min_val, max_val)\n",
      "C:\\Users\\idanb\\AppData\\Local\\Temp\\ipykernel_20780\\2780202512.py:25: FutureWarning: Setting an item of incompatible dtype is deprecated and will raise an error in a future version of pandas. Value '-0.16' has dtype incompatible with int64, please explicitly cast to a compatible dtype first.\n",
      "  input_df.at[0, col] = normalize_value(val, min_val, max_val)\n",
      "C:\\Users\\idanb\\AppData\\Local\\Temp\\ipykernel_20780\\2780202512.py:25: FutureWarning: Setting an item of incompatible dtype is deprecated and will raise an error in a future version of pandas. Value '-0.2101774062109762' has dtype incompatible with int64, please explicitly cast to a compatible dtype first.\n",
      "  input_df.at[0, col] = normalize_value(val, min_val, max_val)\n",
      "C:\\Users\\idanb\\AppData\\Local\\Temp\\ipykernel_20780\\2780202512.py:25: FutureWarning: Setting an item of incompatible dtype is deprecated and will raise an error in a future version of pandas. Value '-0.00021775064786422828' has dtype incompatible with int64, please explicitly cast to a compatible dtype first.\n",
      "  input_df.at[0, col] = normalize_value(val, min_val, max_val)\n",
      "C:\\Users\\idanb\\AppData\\Local\\Temp\\ipykernel_20780\\2780202512.py:25: FutureWarning: Setting an item of incompatible dtype is deprecated and will raise an error in a future version of pandas. Value '-0.005738572223470455' has dtype incompatible with int64, please explicitly cast to a compatible dtype first.\n",
      "  input_df.at[0, col] = normalize_value(val, min_val, max_val)\n",
      "C:\\Users\\idanb\\AppData\\Local\\Temp\\ipykernel_20780\\2780202512.py:25: FutureWarning: Setting an item of incompatible dtype is deprecated and will raise an error in a future version of pandas. Value '-0.0069462933921719166' has dtype incompatible with int64, please explicitly cast to a compatible dtype first.\n",
      "  input_df.at[0, col] = normalize_value(val, min_val, max_val)\n",
      "C:\\Users\\idanb\\AppData\\Local\\Temp\\ipykernel_20780\\2780202512.py:25: FutureWarning: Setting an item of incompatible dtype is deprecated and will raise an error in a future version of pandas. Value '-0.005159109825803618' has dtype incompatible with int64, please explicitly cast to a compatible dtype first.\n",
      "  input_df.at[0, col] = normalize_value(val, min_val, max_val)\n",
      "C:\\Users\\idanb\\AppData\\Local\\Temp\\ipykernel_20780\\2780202512.py:25: FutureWarning: Setting an item of incompatible dtype is deprecated and will raise an error in a future version of pandas. Value '-0.007994712927063762' has dtype incompatible with int64, please explicitly cast to a compatible dtype first.\n",
      "  input_df.at[0, col] = normalize_value(val, min_val, max_val)\n",
      "C:\\Users\\idanb\\AppData\\Local\\Temp\\ipykernel_20780\\2780202512.py:25: FutureWarning: Setting an item of incompatible dtype is deprecated and will raise an error in a future version of pandas. Value '-0.0017041579643181086' has dtype incompatible with int64, please explicitly cast to a compatible dtype first.\n",
      "  input_df.at[0, col] = normalize_value(val, min_val, max_val)\n",
      "C:\\Users\\idanb\\AppData\\Local\\Temp\\ipykernel_20780\\2780202512.py:25: FutureWarning: Setting an item of incompatible dtype is deprecated and will raise an error in a future version of pandas. Value '-0.003227838176018123' has dtype incompatible with int64, please explicitly cast to a compatible dtype first.\n",
      "  input_df.at[0, col] = normalize_value(val, min_val, max_val)\n",
      "C:\\Users\\idanb\\AppData\\Local\\Temp\\ipykernel_20780\\2780202512.py:25: FutureWarning: Setting an item of incompatible dtype is deprecated and will raise an error in a future version of pandas. Value '-0.026659890870184527' has dtype incompatible with int64, please explicitly cast to a compatible dtype first.\n",
      "  input_df.at[0, col] = normalize_value(val, min_val, max_val)\n",
      "C:\\Users\\idanb\\AppData\\Local\\Temp\\ipykernel_20780\\2780202512.py:25: FutureWarning: Setting an item of incompatible dtype is deprecated and will raise an error in a future version of pandas. Value '-0.0037748892126685243' has dtype incompatible with int64, please explicitly cast to a compatible dtype first.\n",
      "  input_df.at[0, col] = normalize_value(val, min_val, max_val)\n",
      "C:\\Users\\idanb\\AppData\\Local\\Temp\\ipykernel_20780\\2780202512.py:25: FutureWarning: Setting an item of incompatible dtype is deprecated and will raise an error in a future version of pandas. Value '-0.0012617933890917844' has dtype incompatible with int64, please explicitly cast to a compatible dtype first.\n",
      "  input_df.at[0, col] = normalize_value(val, min_val, max_val)\n",
      "C:\\Users\\idanb\\AppData\\Local\\Temp\\ipykernel_20780\\2780202512.py:25: FutureWarning: Setting an item of incompatible dtype is deprecated and will raise an error in a future version of pandas. Value '-0.2' has dtype incompatible with int64, please explicitly cast to a compatible dtype first.\n",
      "  input_df.at[0, col] = normalize_value(val, min_val, max_val)\n",
      "C:\\Users\\idanb\\AppData\\Local\\Temp\\ipykernel_20780\\2780202512.py:25: FutureWarning: Setting an item of incompatible dtype is deprecated and will raise an error in a future version of pandas. Value '-0.2103283715094771' has dtype incompatible with int64, please explicitly cast to a compatible dtype first.\n",
      "  input_df.at[0, col] = normalize_value(val, min_val, max_val)\n",
      "C:\\Users\\idanb\\AppData\\Local\\Temp\\ipykernel_20780\\2780202512.py:25: FutureWarning: Setting an item of incompatible dtype is deprecated and will raise an error in a future version of pandas. Value '-0.00021874577573054014' has dtype incompatible with int64, please explicitly cast to a compatible dtype first.\n",
      "  input_df.at[0, col] = normalize_value(val, min_val, max_val)\n",
      "C:\\Users\\idanb\\AppData\\Local\\Temp\\ipykernel_20780\\2780202512.py:25: FutureWarning: Setting an item of incompatible dtype is deprecated and will raise an error in a future version of pandas. Value '-0.0057119768106898795' has dtype incompatible with int64, please explicitly cast to a compatible dtype first.\n",
      "  input_df.at[0, col] = normalize_value(val, min_val, max_val)\n",
      "C:\\Users\\idanb\\AppData\\Local\\Temp\\ipykernel_20780\\2780202512.py:25: FutureWarning: Setting an item of incompatible dtype is deprecated and will raise an error in a future version of pandas. Value '-0.006950573368071268' has dtype incompatible with int64, please explicitly cast to a compatible dtype first.\n",
      "  input_df.at[0, col] = normalize_value(val, min_val, max_val)\n",
      "C:\\Users\\idanb\\AppData\\Local\\Temp\\ipykernel_20780\\2780202512.py:25: FutureWarning: Setting an item of incompatible dtype is deprecated and will raise an error in a future version of pandas. Value '-0.0049925794342001685' has dtype incompatible with int64, please explicitly cast to a compatible dtype first.\n",
      "  input_df.at[0, col] = normalize_value(val, min_val, max_val)\n",
      "C:\\Users\\idanb\\AppData\\Local\\Temp\\ipykernel_20780\\2780202512.py:25: FutureWarning: Setting an item of incompatible dtype is deprecated and will raise an error in a future version of pandas. Value '-0.007994247868714912' has dtype incompatible with int64, please explicitly cast to a compatible dtype first.\n",
      "  input_df.at[0, col] = normalize_value(val, min_val, max_val)\n",
      "C:\\Users\\idanb\\AppData\\Local\\Temp\\ipykernel_20780\\2780202512.py:25: FutureWarning: Setting an item of incompatible dtype is deprecated and will raise an error in a future version of pandas. Value '-0.0016380739826319976' has dtype incompatible with int64, please explicitly cast to a compatible dtype first.\n",
      "  input_df.at[0, col] = normalize_value(val, min_val, max_val)\n",
      "C:\\Users\\idanb\\AppData\\Local\\Temp\\ipykernel_20780\\2780202512.py:25: FutureWarning: Setting an item of incompatible dtype is deprecated and will raise an error in a future version of pandas. Value '-0.0032295991998028705' has dtype incompatible with int64, please explicitly cast to a compatible dtype first.\n",
      "  input_df.at[0, col] = normalize_value(val, min_val, max_val)\n",
      "C:\\Users\\idanb\\AppData\\Local\\Temp\\ipykernel_20780\\2780202512.py:25: FutureWarning: Setting an item of incompatible dtype is deprecated and will raise an error in a future version of pandas. Value '-0.026633101760527175' has dtype incompatible with int64, please explicitly cast to a compatible dtype first.\n",
      "  input_df.at[0, col] = normalize_value(val, min_val, max_val)\n",
      "C:\\Users\\idanb\\AppData\\Local\\Temp\\ipykernel_20780\\2780202512.py:25: FutureWarning: Setting an item of incompatible dtype is deprecated and will raise an error in a future version of pandas. Value '-0.003774144077168019' has dtype incompatible with int64, please explicitly cast to a compatible dtype first.\n",
      "  input_df.at[0, col] = normalize_value(val, min_val, max_val)\n",
      "C:\\Users\\idanb\\AppData\\Local\\Temp\\ipykernel_20780\\2780202512.py:25: FutureWarning: Setting an item of incompatible dtype is deprecated and will raise an error in a future version of pandas. Value '-0.0012370862973089002' has dtype incompatible with int64, please explicitly cast to a compatible dtype first.\n",
      "  input_df.at[0, col] = normalize_value(val, min_val, max_val)\n",
      "C:\\Users\\idanb\\AppData\\Local\\Temp\\ipykernel_20780\\2780202512.py:25: FutureWarning: Setting an item of incompatible dtype is deprecated and will raise an error in a future version of pandas. Value '-0.2' has dtype incompatible with int64, please explicitly cast to a compatible dtype first.\n",
      "  input_df.at[0, col] = normalize_value(val, min_val, max_val)\n",
      "C:\\Users\\idanb\\AppData\\Local\\Temp\\ipykernel_20780\\2780202512.py:25: FutureWarning: Setting an item of incompatible dtype is deprecated and will raise an error in a future version of pandas. Value '-0.21029759217677305' has dtype incompatible with int64, please explicitly cast to a compatible dtype first.\n",
      "  input_df.at[0, col] = normalize_value(val, min_val, max_val)\n",
      "C:\\Users\\idanb\\AppData\\Local\\Temp\\ipykernel_20780\\2780202512.py:25: FutureWarning: Setting an item of incompatible dtype is deprecated and will raise an error in a future version of pandas. Value '-0.00021889082042333987' has dtype incompatible with int64, please explicitly cast to a compatible dtype first.\n",
      "  input_df.at[0, col] = normalize_value(val, min_val, max_val)\n",
      "C:\\Users\\idanb\\AppData\\Local\\Temp\\ipykernel_20780\\2780202512.py:25: FutureWarning: Setting an item of incompatible dtype is deprecated and will raise an error in a future version of pandas. Value '-0.005738103610016825' has dtype incompatible with int64, please explicitly cast to a compatible dtype first.\n",
      "  input_df.at[0, col] = normalize_value(val, min_val, max_val)\n",
      "C:\\Users\\idanb\\AppData\\Local\\Temp\\ipykernel_20780\\2780202512.py:25: FutureWarning: Setting an item of incompatible dtype is deprecated and will raise an error in a future version of pandas. Value '-0.006951163068557924' has dtype incompatible with int64, please explicitly cast to a compatible dtype first.\n",
      "  input_df.at[0, col] = normalize_value(val, min_val, max_val)\n",
      "C:\\Users\\idanb\\AppData\\Local\\Temp\\ipykernel_20780\\2780202512.py:25: FutureWarning: Setting an item of incompatible dtype is deprecated and will raise an error in a future version of pandas. Value '-0.005194275248529677' has dtype incompatible with int64, please explicitly cast to a compatible dtype first.\n",
      "  input_df.at[0, col] = normalize_value(val, min_val, max_val)\n",
      "C:\\Users\\idanb\\AppData\\Local\\Temp\\ipykernel_20780\\2780202512.py:25: FutureWarning: Setting an item of incompatible dtype is deprecated and will raise an error in a future version of pandas. Value '-0.007994976478871846' has dtype incompatible with int64, please explicitly cast to a compatible dtype first.\n",
      "  input_df.at[0, col] = normalize_value(val, min_val, max_val)\n",
      "C:\\Users\\idanb\\AppData\\Local\\Temp\\ipykernel_20780\\2780202512.py:25: FutureWarning: Setting an item of incompatible dtype is deprecated and will raise an error in a future version of pandas. Value '-0.0017144767229376858' has dtype incompatible with int64, please explicitly cast to a compatible dtype first.\n",
      "  input_df.at[0, col] = normalize_value(val, min_val, max_val)\n",
      "C:\\Users\\idanb\\AppData\\Local\\Temp\\ipykernel_20780\\2780202512.py:25: FutureWarning: Setting an item of incompatible dtype is deprecated and will raise an error in a future version of pandas. Value '-0.0032322775404951226' has dtype incompatible with int64, please explicitly cast to a compatible dtype first.\n",
      "  input_df.at[0, col] = normalize_value(val, min_val, max_val)\n",
      "C:\\Users\\idanb\\AppData\\Local\\Temp\\ipykernel_20780\\2780202512.py:25: FutureWarning: Setting an item of incompatible dtype is deprecated and will raise an error in a future version of pandas. Value '-0.02667653506586129' has dtype incompatible with int64, please explicitly cast to a compatible dtype first.\n",
      "  input_df.at[0, col] = normalize_value(val, min_val, max_val)\n",
      "C:\\Users\\idanb\\AppData\\Local\\Temp\\ipykernel_20780\\2780202512.py:25: FutureWarning: Setting an item of incompatible dtype is deprecated and will raise an error in a future version of pandas. Value '-0.0037745287721702033' has dtype incompatible with int64, please explicitly cast to a compatible dtype first.\n",
      "  input_df.at[0, col] = normalize_value(val, min_val, max_val)\n",
      "C:\\Users\\idanb\\AppData\\Local\\Temp\\ipykernel_20780\\2780202512.py:25: FutureWarning: Setting an item of incompatible dtype is deprecated and will raise an error in a future version of pandas. Value '-0.0012699126835292343' has dtype incompatible with int64, please explicitly cast to a compatible dtype first.\n",
      "  input_df.at[0, col] = normalize_value(val, min_val, max_val)\n"
     ]
    },
    {
     "name": "stdout",
     "output_type": "stream",
     "text": [
      "Mean error: 26.99%\n",
      "Median error: 20.54%\n",
      "Maximum error: 120.97%\n",
      "Minimum error: 0.13%\n",
      "time: 282 ms (started: 2025-06-11 12:51:25 +03:00)\n"
     ]
    },
    {
     "name": "stderr",
     "output_type": "stream",
     "text": [
      "C:\\Users\\idanb\\AppData\\Local\\Temp\\ipykernel_20780\\2780202512.py:25: FutureWarning: Setting an item of incompatible dtype is deprecated and will raise an error in a future version of pandas. Value '-0.16' has dtype incompatible with int64, please explicitly cast to a compatible dtype first.\n",
      "  input_df.at[0, col] = normalize_value(val, min_val, max_val)\n",
      "C:\\Users\\idanb\\AppData\\Local\\Temp\\ipykernel_20780\\2780202512.py:25: FutureWarning: Setting an item of incompatible dtype is deprecated and will raise an error in a future version of pandas. Value '-0.21014662687827212' has dtype incompatible with int64, please explicitly cast to a compatible dtype first.\n",
      "  input_df.at[0, col] = normalize_value(val, min_val, max_val)\n",
      "C:\\Users\\idanb\\AppData\\Local\\Temp\\ipykernel_20780\\2780202512.py:25: FutureWarning: Setting an item of incompatible dtype is deprecated and will raise an error in a future version of pandas. Value '-0.0002181533881743194' has dtype incompatible with int64, please explicitly cast to a compatible dtype first.\n",
      "  input_df.at[0, col] = normalize_value(val, min_val, max_val)\n",
      "C:\\Users\\idanb\\AppData\\Local\\Temp\\ipykernel_20780\\2780202512.py:25: FutureWarning: Setting an item of incompatible dtype is deprecated and will raise an error in a future version of pandas. Value '-0.005742989191306898' has dtype incompatible with int64, please explicitly cast to a compatible dtype first.\n",
      "  input_df.at[0, col] = normalize_value(val, min_val, max_val)\n",
      "C:\\Users\\idanb\\AppData\\Local\\Temp\\ipykernel_20780\\2780202512.py:25: FutureWarning: Setting an item of incompatible dtype is deprecated and will raise an error in a future version of pandas. Value '-0.006947685895275362' has dtype incompatible with int64, please explicitly cast to a compatible dtype first.\n",
      "  input_df.at[0, col] = normalize_value(val, min_val, max_val)\n",
      "C:\\Users\\idanb\\AppData\\Local\\Temp\\ipykernel_20780\\2780202512.py:25: FutureWarning: Setting an item of incompatible dtype is deprecated and will raise an error in a future version of pandas. Value '-0.005183772524786934' has dtype incompatible with int64, please explicitly cast to a compatible dtype first.\n",
      "  input_df.at[0, col] = normalize_value(val, min_val, max_val)\n",
      "C:\\Users\\idanb\\AppData\\Local\\Temp\\ipykernel_20780\\2780202512.py:25: FutureWarning: Setting an item of incompatible dtype is deprecated and will raise an error in a future version of pandas. Value '-0.007994774501824007' has dtype incompatible with int64, please explicitly cast to a compatible dtype first.\n",
      "  input_df.at[0, col] = normalize_value(val, min_val, max_val)\n",
      "C:\\Users\\idanb\\AppData\\Local\\Temp\\ipykernel_20780\\2780202512.py:25: FutureWarning: Setting an item of incompatible dtype is deprecated and will raise an error in a future version of pandas. Value '-0.0017228169157221316' has dtype incompatible with int64, please explicitly cast to a compatible dtype first.\n",
      "  input_df.at[0, col] = normalize_value(val, min_val, max_val)\n",
      "C:\\Users\\idanb\\AppData\\Local\\Temp\\ipykernel_20780\\2780202512.py:25: FutureWarning: Setting an item of incompatible dtype is deprecated and will raise an error in a future version of pandas. Value '-0.0032290180743150304' has dtype incompatible with int64, please explicitly cast to a compatible dtype first.\n",
      "  input_df.at[0, col] = normalize_value(val, min_val, max_val)\n",
      "C:\\Users\\idanb\\AppData\\Local\\Temp\\ipykernel_20780\\2780202512.py:25: FutureWarning: Setting an item of incompatible dtype is deprecated and will raise an error in a future version of pandas. Value '-0.026597215275049053' has dtype incompatible with int64, please explicitly cast to a compatible dtype first.\n",
      "  input_df.at[0, col] = normalize_value(val, min_val, max_val)\n",
      "C:\\Users\\idanb\\AppData\\Local\\Temp\\ipykernel_20780\\2780202512.py:25: FutureWarning: Setting an item of incompatible dtype is deprecated and will raise an error in a future version of pandas. Value '-0.0037745581514586814' has dtype incompatible with int64, please explicitly cast to a compatible dtype first.\n",
      "  input_df.at[0, col] = normalize_value(val, min_val, max_val)\n",
      "C:\\Users\\idanb\\AppData\\Local\\Temp\\ipykernel_20780\\2780202512.py:25: FutureWarning: Setting an item of incompatible dtype is deprecated and will raise an error in a future version of pandas. Value '-0.0012016345334557844' has dtype incompatible with int64, please explicitly cast to a compatible dtype first.\n",
      "  input_df.at[0, col] = normalize_value(val, min_val, max_val)\n"
     ]
    }
   ],
   "source": [
    "evaluate_on_random_samples(df, model, scaler_minmax, price_minmax,X_columns, n=20)"
   ]
  },
  {
   "cell_type": "markdown",
   "id": "52497667b753f856",
   "metadata": {
    "id": "52497667b753f856"
   },
   "source": [
    "# New query"
   ]
  },
  {
   "cell_type": "code",
   "execution_count": null,
   "id": "95818cc99240e1ec",
   "metadata": {
    "ExecuteTime": {
     "end_time": "2025-06-11T09:51:26.321167Z",
     "start_time": "2025-06-11T09:51:26.292874Z"
    },
    "id": "95818cc99240e1ec",
    "outputId": "7c034a6d-9d74-40f9-ec44-4cc30ccf14a6"
   },
   "outputs": [
    {
     "name": "stdout",
     "output_type": "stream",
     "text": [
      "\n",
      "Predicted price per m²: 1,307.13 ₪\n",
      "Total price for this area: 709,771.56 ₪\n",
      "time: 31 ms (started: 2025-06-11 12:51:26 +03:00)\n"
     ]
    },
    {
     "name": "stderr",
     "output_type": "stream",
     "text": [
      "C:\\Users\\idanb\\AppData\\Local\\Temp\\ipykernel_20780\\2184327434.py:29: FutureWarning: Setting an item of incompatible dtype is deprecated and will raise an error in a future version of pandas. Value '0.4467312348668281' has dtype incompatible with int64, please explicitly cast to a compatible dtype first.\n",
      "  input_df.at[0, col] = normalize_value(val, min_val, max_val)\n",
      "C:\\Users\\idanb\\AppData\\Local\\Temp\\ipykernel_20780\\2184327434.py:53: FutureWarning: Setting an item of incompatible dtype is deprecated and will raise an error in a future version of pandas. Value '0.010821824855730165' has dtype incompatible with int64, please explicitly cast to a compatible dtype first.\n",
      "  input_df.at[0, col] = normalize_value(val, min_val, max_val)\n",
      "C:\\Users\\idanb\\AppData\\Local\\Temp\\ipykernel_20780\\2184327434.py:53: FutureWarning: Setting an item of incompatible dtype is deprecated and will raise an error in a future version of pandas. Value '0.06810110696338102' has dtype incompatible with int64, please explicitly cast to a compatible dtype first.\n",
      "  input_df.at[0, col] = normalize_value(val, min_val, max_val)\n",
      "C:\\Users\\idanb\\AppData\\Local\\Temp\\ipykernel_20780\\2184327434.py:53: FutureWarning: Setting an item of incompatible dtype is deprecated and will raise an error in a future version of pandas. Value '0.02518951403609721' has dtype incompatible with int64, please explicitly cast to a compatible dtype first.\n",
      "  input_df.at[0, col] = normalize_value(val, min_val, max_val)\n",
      "C:\\Users\\idanb\\AppData\\Local\\Temp\\ipykernel_20780\\2184327434.py:53: FutureWarning: Setting an item of incompatible dtype is deprecated and will raise an error in a future version of pandas. Value '0.08612685259413073' has dtype incompatible with int64, please explicitly cast to a compatible dtype first.\n",
      "  input_df.at[0, col] = normalize_value(val, min_val, max_val)\n",
      "C:\\Users\\idanb\\AppData\\Local\\Temp\\ipykernel_20780\\2184327434.py:53: FutureWarning: Setting an item of incompatible dtype is deprecated and will raise an error in a future version of pandas. Value '0.01927226645344539' has dtype incompatible with int64, please explicitly cast to a compatible dtype first.\n",
      "  input_df.at[0, col] = normalize_value(val, min_val, max_val)\n",
      "C:\\Users\\idanb\\AppData\\Local\\Temp\\ipykernel_20780\\2184327434.py:53: FutureWarning: Setting an item of incompatible dtype is deprecated and will raise an error in a future version of pandas. Value '0.08332940298612806' has dtype incompatible with int64, please explicitly cast to a compatible dtype first.\n",
      "  input_df.at[0, col] = normalize_value(val, min_val, max_val)\n",
      "C:\\Users\\idanb\\AppData\\Local\\Temp\\ipykernel_20780\\2184327434.py:53: FutureWarning: Setting an item of incompatible dtype is deprecated and will raise an error in a future version of pandas. Value '0.06665510670342539' has dtype incompatible with int64, please explicitly cast to a compatible dtype first.\n",
      "  input_df.at[0, col] = normalize_value(val, min_val, max_val)\n",
      "C:\\Users\\idanb\\AppData\\Local\\Temp\\ipykernel_20780\\2184327434.py:53: FutureWarning: Setting an item of incompatible dtype is deprecated and will raise an error in a future version of pandas. Value '0.027288142554798896' has dtype incompatible with int64, please explicitly cast to a compatible dtype first.\n",
      "  input_df.at[0, col] = normalize_value(val, min_val, max_val)\n",
      "C:\\Users\\idanb\\AppData\\Local\\Temp\\ipykernel_20780\\2184327434.py:53: FutureWarning: Setting an item of incompatible dtype is deprecated and will raise an error in a future version of pandas. Value '0.05688312041855009' has dtype incompatible with int64, please explicitly cast to a compatible dtype first.\n",
      "  input_df.at[0, col] = normalize_value(val, min_val, max_val)\n",
      "C:\\Users\\idanb\\AppData\\Local\\Temp\\ipykernel_20780\\2184327434.py:53: FutureWarning: Setting an item of incompatible dtype is deprecated and will raise an error in a future version of pandas. Value '0.06665899967912896' has dtype incompatible with int64, please explicitly cast to a compatible dtype first.\n",
      "  input_df.at[0, col] = normalize_value(val, min_val, max_val)\n"
     ]
    }
   ],
   "source": [
    "user_input = {\n",
    "    'Units': 1,\n",
    "    'Area m2': 543,\n",
    "    'block': '38761.0',\n",
    "    'Committee year': '2024.0',\n",
    "    'committee month': '7.0',\n",
    "    'region': 'דרום',\n",
    "    'city': 'באר שבע , רקפות',\n",
    "    'dist_to_kindergarten': 500,\n",
    "    'dist_to_school': 500,\n",
    "    'dist_to_university': 1000,\n",
    "    'dist_to_bus_stop': 200,\n",
    "    'dist_to_train_station': 1500,\n",
    "    'dist_to_park': 300,\n",
    "    'dist_to_mall': 1000,\n",
    "    'dist_to_supermarket': 300,\n",
    "    'dist_to_beach': 5000,\n",
    "    'dist_to_place_of_worship': 400\n",
    "}\n",
    "\n",
    "predicted_price = predict_price_mlp(user_input, model, X_columns, scaler_minmax, price_minmax)\n",
    "total_price = predicted_price * user_input['Area m2']\n",
    "\n",
    "print(f\"\\nPredicted price per m²: {predicted_price:,.2f} ₪\")\n",
    "print(f\"Total price for this area: {total_price:,.2f} ₪\")"
   ]
  },
  {
   "cell_type": "markdown",
   "id": "5e949f1c5eaaaba0",
   "metadata": {
    "id": "5e949f1c5eaaaba0"
   },
   "source": [
    "## Validation of input\n",
    "#### checks if the input match the columns in the model."
   ]
  },
  {
   "cell_type": "code",
   "execution_count": 188,
   "id": "58f6f2418771b498",
   "metadata": {
    "ExecuteTime": {
     "end_time": "2025-06-11T09:51:26.362221Z",
     "start_time": "2025-06-11T09:51:26.348114Z"
    },
    "id": "58f6f2418771b498",
    "outputId": "b0f9dd1a-82f8-4d7a-c86a-7d647a3808af"
   },
   "outputs": [
    {
     "name": "stdout",
     "output_type": "stream",
     "text": [
      "time: 0 ns (started: 2025-06-11 12:51:26 +03:00)\n"
     ]
    }
   ],
   "source": [
    "def validate_input_against_columns(user_input, X_columns):\n",
    "    warnings = []\n",
    "    activated = []\n",
    "\n",
    "    block = user_input.get('block')\n",
    "    if block is not None:\n",
    "        block_col = f\"Block_{float(block):.1f}\"\n",
    "        if block_col in X_columns:\n",
    "            activated.append(block_col)\n",
    "        else:\n",
    "            warnings.append(f\"Block column '{block_col}' not found.\")\n",
    "\n",
    "    year = user_input.get('Committee year')\n",
    "    if year is not None:\n",
    "        year_col = f\"Committee_year_{float(year):.1f}\"\n",
    "        if year_col in X_columns:\n",
    "            activated.append(year_col)\n",
    "        else:\n",
    "            warnings.append(f\"Committee year column '{year_col}' not found.\")\n",
    "\n",
    "    month = user_input.get('committee month')\n",
    "    if month is not None:\n",
    "        month_col = f\"Committee_month_{float(month):.1f}\"\n",
    "        if month_col in X_columns:\n",
    "            activated.append(month_col)\n",
    "        else:\n",
    "            warnings.append(f\"Committee month column '{month_col}' not found.\")\n",
    "\n",
    "    for field in ['city', 'region']:\n",
    "        val = user_input.get(field, '').strip().lower()\n",
    "        matches = [col for col in X_columns if val in col.lower()]\n",
    "        if matches:\n",
    "            activated.extend(matches)\n",
    "        else:\n",
    "            warnings.append(f\"No column {field} found.\")\n",
    "\n",
    "    if warnings:\n",
    "        print(\"Warnings features:\")\n",
    "        for w in warnings:\n",
    "            print(\" -\", w)\n",
    "\n",
    "    if activated:\n",
    "        print(\"\\nColumns that will be activated for this input:\")\n",
    "        for col in activated:\n",
    "            print(\"  -\", col)\n",
    "    else:\n",
    "        print(\"\\n No one-hot columns matched the input.\")"
   ]
  },
  {
   "cell_type": "code",
   "execution_count": 189,
   "id": "e5288fd8b718d7d4",
   "metadata": {
    "ExecuteTime": {
     "end_time": "2025-06-11T09:51:26.406566Z",
     "start_time": "2025-06-11T09:51:26.398725Z"
    },
    "id": "e5288fd8b718d7d4",
    "outputId": "4d58c779-652f-436c-80d6-682d07b03a7c"
   },
   "outputs": [
    {
     "name": "stdout",
     "output_type": "stream",
     "text": [
      "Warnings features:\n",
      " - No column city found.\n",
      "\n",
      "Columns that will be activated for this input:\n",
      "  - Block_38761.0\n",
      "  - Committee_year_2024.0\n",
      "  - Committee_month_7.0\n",
      "  - Region_דרום\n",
      "time: 0 ns (started: 2025-06-11 12:51:26 +03:00)\n"
     ]
    }
   ],
   "source": [
    "validate_input_against_columns(user_input, X.columns)"
   ]
  },
  {
   "cell_type": "markdown",
   "id": "68ebd15f8e96e4e1",
   "metadata": {
    "id": "68ebd15f8e96e4e1"
   },
   "source": [
    "### Export all predictions"
   ]
  },
  {
   "cell_type": "code",
   "execution_count": 190,
   "id": "cc68239804c661b6",
   "metadata": {
    "ExecuteTime": {
     "end_time": "2025-06-11T09:51:27.870453Z",
     "start_time": "2025-06-11T09:51:26.429667Z"
    },
    "id": "cc68239804c661b6",
    "outputId": "f5a75e2d-0703-44d2-f686-e66d5eb9f80c"
   },
   "outputs": [
    {
     "name": "stdout",
     "output_type": "stream",
     "text": [
      "Requirement already satisfied: openpyxl in c:\\users\\idanb\\appdata\\local\\programs\\python\\python311\\lib\\site-packages (3.1.5)\n",
      "Requirement already satisfied: et-xmlfile in c:\\users\\idanb\\appdata\\local\\programs\\python\\python311\\lib\\site-packages (from openpyxl) (2.0.0)\n",
      "time: 1.44 s (started: 2025-06-11 12:51:26 +03:00)\n"
     ]
    },
    {
     "name": "stderr",
     "output_type": "stream",
     "text": [
      "\n",
      "[notice] A new release of pip is available: 25.0.1 -> 25.1.1\n",
      "[notice] To update, run: python.exe -m pip install --upgrade pip\n"
     ]
    }
   ],
   "source": [
    "!pip install openpyxl"
   ]
  },
  {
   "cell_type": "code",
   "execution_count": null,
   "id": "9e78d5e89cc32754",
   "metadata": {
    "ExecuteTime": {
     "end_time": "2025-06-11T09:51:27.890076Z",
     "start_time": "2025-06-11T09:51:27.879726Z"
    },
    "id": "9e78d5e89cc32754",
    "outputId": "8db76c65-c9e9-4185-c7ac-e5a3222163ce"
   },
   "outputs": [
    {
     "name": "stdout",
     "output_type": "stream",
     "text": [
      "time: 0 ns (started: 2025-06-11 12:51:27 +03:00)\n"
     ]
    }
   ],
   "source": [
    "def export_predictions_to_excel(X_data, y_true, city_series, model, price_minmax,\n",
    "                                filename=\"model_predictions.xlsx\",\n",
    "                                high_error_filename=\"high_errors.xlsx\",\n",
    "                                error_threshold=50):\n",
    "    with open(\"index_to_city.json\", \"r\", encoding=\"utf-8\") as f:\n",
    "        index_to_city = json.load(f)\n",
    "\n",
    "    model.eval()\n",
    "    with torch.no_grad():\n",
    "        city_tensor = torch.tensor(city_series.values, dtype=torch.long).to(device)\n",
    "        x_tensor = torch.tensor(X_data, dtype=torch.float32).to(device)\n",
    "        preds_norm = model(x_tensor, city_tensor).cpu().numpy().flatten()\n",
    "\n",
    "\n",
    "\n",
    "    price_min = price_minmax[\"min\"]\n",
    "    price_max = price_minmax[\"max\"]\n",
    "\n",
    "    def inv(x): return x * (price_max - price_min) + price_min\n",
    "\n",
    "    if isinstance(y_true, pd.Series):\n",
    "        y_true_array = y_true.to_numpy()\n",
    "    else:\n",
    "        y_true_array = y_true\n",
    "\n",
    "    if len(y_true_array.shape) > 1:\n",
    "        y_true_array = y_true_array.flatten()\n",
    "\n",
    "    preds_shekel = inv(preds_norm)\n",
    "    y_true_shekel = inv(y_true_array)\n",
    "\n",
    "    errors = np.abs(preds_shekel - y_true_shekel)\n",
    "    errors_pct = errors / y_true_shekel * 100\n",
    "\n",
    "    city_names = city_series.map(lambda idx: index_to_city.get(str(int(idx)), \"Unknown\")).values\n",
    "\n",
    "    df_results = pd.DataFrame({\n",
    "        \"City\": city_names,\n",
    "        \"Predicted Price per m² (₪)\": preds_shekel,\n",
    "        \"Actual Price per m² (₪)\": y_true_shekel,\n",
    "        \"Absolute Error (₪)\": errors,\n",
    "        \"Percentage Error (%)\": errors_pct\n",
    "    })\n",
    "\n",
    "    df_results.to_excel(filename, index=False)\n",
    "    print(f\"Predictions exported to '{filename}' with {len(df_results)} rows.\")\n",
    "\n",
    "    df_high_error = df_results[df_results[\"Percentage Error (%)\"] > error_threshold]\n",
    "    df_high_error.to_excel(high_error_filename, index=False)\n",
    "    print(f\"{len(df_high_error)} rows with error > {error_threshold}% exported to '{high_error_filename}'.\")\n",
    "\n",
    "    mean_pct_error = errors_pct.mean()\n",
    "    median_pct_error = np.median(errors_pct)\n",
    "    print(f\"Mean Percentage Error: {mean_pct_error:.2f}%\")\n",
    "    print(f\"Median Percentage Error: {median_pct_error:.2f}%\")\n"
   ]
  },
  {
   "cell_type": "code",
   "execution_count": null,
   "id": "2ad227f9a4e2f955",
   "metadata": {
    "ExecuteTime": {
     "end_time": "2025-06-11T09:51:28.081997Z",
     "start_time": "2025-06-11T09:51:27.903636Z"
    },
    "id": "2ad227f9a4e2f955",
    "outputId": "98170ce0-ba3f-4274-8b5a-abf24ccbdd04"
   },
   "outputs": [
    {
     "name": "stdout",
     "output_type": "stream",
     "text": [
      "Predictions exported to 'model_predictions.xlsx' with 1010 rows.\n",
      "55 rows with error > 50% exported to 'high_errors.xlsx'.\n",
      "Mean Percentage Error: 16.98%\n",
      "Median Percentage Error: 9.82%\n",
      "time: 171 ms (started: 2025-06-11 12:51:27 +03:00)\n"
     ]
    }
   ],
   "source": [
    "city_test_idx = city_test_tensor.cpu().numpy()\n",
    "export_predictions_to_excel(X_test, y_test, pd.Series(city_test_idx), model, price_minmax)"
   ]
  }
 ],
 "metadata": {
  "colab": {
   "provenance": []
  },
  "kernelspec": {
   "display_name": "Python 3",
   "language": "python",
   "name": "python3"
  },
  "language_info": {
   "codemirror_mode": {
    "name": "ipython",
    "version": 2
   },
   "file_extension": ".py",
   "mimetype": "text/x-python",
   "name": "python",
   "nbconvert_exporter": "python",
   "pygments_lexer": "ipython2",
   "version": "2.7.6"
  }
 },
 "nbformat": 4,
 "nbformat_minor": 5
}
