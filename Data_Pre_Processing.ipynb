{
 "nbformat": 4,
 "nbformat_minor": 0,
 "metadata": {
  "colab": {
   "provenance": []
  },
  "kernelspec": {
   "name": "python3",
   "display_name": "Python 3 (ipykernel)",
   "language": "python"
  },
  "language_info": {
   "name": "python"
  }
 },
 "cells": [
  {
   "cell_type": "code",
   "metadata": {
    "colab": {
     "base_uri": "https://localhost:8080/",
     "height": 73
    },
    "id": "2Gv2a4ZWgT3m",
    "outputId": "f42425f4-a2d4-4fe3-e254-01e29b6077c3",
    "jupyter": {
     "is_executing": true
    }
   },
   "source": [
    "# from google.colab import files\n",
    "# uploaded = files.upload()"
   ],
   "outputs": [],
   "execution_count": null
  },
  {
   "cell_type": "code",
   "source": [
    "import pandas as pd\n",
    "df = pd.read_csv('enriched_environmental_data_final.csv')\n",
    "df.head()"
   ],
   "metadata": {
    "colab": {
     "base_uri": "https://localhost:8080/",
     "height": 533
    },
    "id": "StM34mQogcDl",
    "outputId": "4c41ab79-c7d9-4ac9-c473-312dd752974a",
    "jupyter": {
     "is_executing": true
    }
   },
   "outputs": [],
   "execution_count": null
  },
  {
   "cell_type": "code",
   "source": [
    "\n",
    "df = df[df['Purpose'] != \"בנייה נמוכה/צמודת קרקע -לייזמים/קבלנים\"]\n",
    "df = df.drop(columns=['Tender Number', 'Purpose','Publication date','Status', 'Winner Name', 'Submission deadline', 'Plan','Valuation Price', 'Minimum Price', 'Development Cost', 'Compound Number', 'Opening date','X','Y'])"
   ],
   "metadata": {
    "id": "oet6DU3Qgu-8",
    "ExecuteTime": {
     "end_time": "2025-06-11T09:56:36.580525500Z",
     "start_time": "2025-06-11T09:35:02.944460Z"
    }
   },
   "outputs": [],
   "execution_count": 3
  },
  {
   "cell_type": "code",
   "source": [
    "\n",
    "# Remove missing values\n",
    "\n",
    "print(\"missing data:\")\n",
    "print(df.isnull().sum())\n",
    "\n",
    "df = df[df['Final Price'].notnull()]\n",
    "df = df[df['Region'].notnull()]\n",
    "df = df[df['Final Price'] != \"אין הצעות למתחם זה\"]\n",
    "\n",
    "numeric_columns = ['Final Price']\n",
    "\n",
    "for col in numeric_columns:\n",
    "    df[col] = df[col].astype(str).str.replace(',', '').astype(float)\n",
    "\n",
    "# Handling missing values in numerics columns\n",
    "df['Units'] = df['Units'].fillna(df['Units'].median())\n",
    "\n",
    "df['Parcel'] = df['Parcel'].fillna(\"Not existing\")\n",
    "df['Block'] = df['Block'].fillna(\"Not existing\")\n",
    "df['Section'] = df['Section'].fillna(\"Not existing\") # remove this"
   ],
   "metadata": {
    "colab": {
     "base_uri": "https://localhost:8080/"
    },
    "id": "VNr1ylafhAyp",
    "outputId": "3d8b41b4-89af-4a31-e484-14f5cc16cf1b",
    "ExecuteTime": {
     "end_time": "2025-06-11T09:56:36.605609600Z",
     "start_time": "2025-06-11T09:35:04.046497Z"
    }
   },
   "outputs": [
    {
     "name": "stdout",
     "output_type": "stream",
     "text": [
      "missing data:\n",
      "Region                                396\n",
      "City                                  396\n",
      "Committee date                        396\n",
      "Units                                 160\n",
      "Final Price                          3330\n",
      "Area m2                                 0\n",
      "Parcel                                595\n",
      "Block                                   0\n",
      "Section                                 0\n",
      "dist_to_kindergarten                    0\n",
      "is_kindergarten_within_radius           0\n",
      "dist_to_school                          0\n",
      "is_school_within_radius                 0\n",
      "dist_to_university                      0\n",
      "is_university_within_radius             0\n",
      "dist_to_bus_stop                        0\n",
      "is_bus_stop_within_radius               0\n",
      "dist_to_train_station                   0\n",
      "is_train_station_within_radius          0\n",
      "dist_to_park                            0\n",
      "is_park_within_radius                   0\n",
      "dist_to_mall                            0\n",
      "is_mall_within_radius                   0\n",
      "dist_to_supermarket                     0\n",
      "is_supermarket_within_radius            0\n",
      "dist_to_beach                           0\n",
      "is_beach_within_radius                  0\n",
      "dist_to_place_of_worship                0\n",
      "is_place_of_worship_within_radius       0\n",
      "dtype: int64\n"
     ]
    }
   ],
   "execution_count": 4
  },
  {
   "cell_type": "code",
   "source": [
    "\n",
    "df['Final Price'] = df['Final Price'].replace(',', '', regex=True).astype(float)\n",
    "df['Area m2'] = df['Area m2'].replace(',', '', regex=True).astype(float)\n",
    "print(f\"before filter Final Price: {len(df)}\")\n",
    "\n",
    "# Manual binderies\n",
    "lower_bound = df['Final Price'].quantile(0.05)\n",
    "upper_bound = df['Final Price'].quantile(0.95)\n",
    "\n",
    "df = df[(df['Final Price'] >= lower_bound) & (df['Final Price'] <= upper_bound)]\n",
    "print(f\"after filter Final Price: {len(df)}\")\n",
    "df = df[(df['Area m2'] >= 100) & (df['Area m2'] <= 1000)]\n",
    "print(f\"after filter Area m2: {len(df)}\")"
   ],
   "metadata": {
    "colab": {
     "base_uri": "https://localhost:8080/"
    },
    "id": "BqB0SIL8hEfu",
    "outputId": "3dadc6f9-cc42-4e56-a0f4-bb9009a81b7a",
    "ExecuteTime": {
     "end_time": "2025-06-11T09:56:36.607601200Z",
     "start_time": "2025-06-11T09:35:04.186986Z"
    }
   },
   "outputs": [
    {
     "name": "stdout",
     "output_type": "stream",
     "text": [
      "before filter Final Price: 6900\n",
      "after filter Final Price: 6210\n",
      "after filter Area m2: 5962\n"
     ]
    }
   ],
   "execution_count": 5
  },
  {
   "cell_type": "code",
   "source": [
    "df['Committee date'] = pd.to_datetime(df['Committee date'], errors='coerce')\n",
    "df['Committee_year'] = df['Committee date'].dt.year\n",
    "df['Committee_month'] = df['Committee date'].dt.month\n",
    "\n",
    "df = df.drop(columns=['Committee date'])"
   ],
   "metadata": {
    "id": "YlZ1g6F6hFhU",
    "ExecuteTime": {
     "end_time": "2025-06-11T09:56:36.611702300Z",
     "start_time": "2025-06-11T09:35:04.391469Z"
    }
   },
   "outputs": [],
   "execution_count": 6
  },
  {
   "cell_type": "code",
   "source": [
    "\n",
    "print(df['Final Price'].describe())"
   ],
   "metadata": {
    "colab": {
     "base_uri": "https://localhost:8080/"
    },
    "id": "7kRbrk_BhKTA",
    "outputId": "d059bb6e-573d-4ab1-f431-58285d05db77",
    "ExecuteTime": {
     "end_time": "2025-06-11T09:56:36.613211500Z",
     "start_time": "2025-06-11T09:35:04.553438Z"
    }
   },
   "outputs": [
    {
     "name": "stdout",
     "output_type": "stream",
     "text": [
      "count    5.962000e+03\n",
      "mean     5.941256e+05\n",
      "std      4.999464e+05\n",
      "min      4.051800e+04\n",
      "25%      2.478390e+05\n",
      "50%      4.492025e+05\n",
      "75%      7.949042e+05\n",
      "max      2.428000e+06\n",
      "Name: Final Price, dtype: float64\n"
     ]
    }
   ],
   "execution_count": 7
  },
  {
   "cell_type": "code",
   "source": [
    "\n",
    "df['Price per m2'] = df['Final Price'] / df['Area m2']\n",
    "\n",
    "# Saving min- max vals of price.\n",
    "price_per_m2_min = df['Price per m2'].min()\n",
    "price_per_m2_max = df['Price per m2'].max()"
   ],
   "metadata": {
    "id": "iCeP0ixUhK67",
    "ExecuteTime": {
     "end_time": "2025-06-11T09:56:36.615652700Z",
     "start_time": "2025-06-11T09:35:04.590496Z"
    }
   },
   "outputs": [],
   "execution_count": 8
  },
  {
   "cell_type": "code",
   "source": [
    "import json\n",
    "price_minmax = {\n",
    "    \"min\": float(price_per_m2_min),\n",
    "    \"max\": float(price_per_m2_max)\n",
    "}\n",
    "\n",
    "with open(\"price_minmax.json\", \"w\", encoding=\"utf-8\") as f:\n",
    "    json.dump(price_minmax, f, ensure_ascii=False, indent=2)"
   ],
   "metadata": {
    "id": "LyNN4NxghNfR",
    "ExecuteTime": {
     "end_time": "2025-06-11T09:56:36.617653700Z",
     "start_time": "2025-06-11T09:35:04.647953Z"
    }
   },
   "outputs": [],
   "execution_count": 9
  },
  {
   "cell_type": "code",
   "source": [
    "numeric_columns = ['Units','Final Price','Area m2','Price per m2','dist_to_kindergarten','dist_to_school','dist_to_university',\n",
    "    'dist_to_bus_stop','dist_to_train_station','dist_to_park',\n",
    "    'dist_to_mall','dist_to_supermarket','dist_to_beach',\n",
    "    'dist_to_place_of_worship']\n",
    "\n",
    "scaler_dict = {}\n",
    "\n",
    "for col in numeric_columns:\n",
    "    if col not in df.columns:\n",
    "        print(f\"Warning: Column '{col}' not found, skipping.\")\n",
    "        continue\n",
    "\n",
    "    col_min = df[col].min()\n",
    "    col_max = df[col].max()\n",
    "    if col_min == col_max:\n",
    "        print(f\"Warning: column '{col}' has the same min ({col_min}) and max. Setting all scaled to 0.\")\n",
    "        df[col] = 0.0\n",
    "    else:\n",
    "        df[col] = (df[col] - col_min) / (col_max - col_min)\n",
    "\n",
    "    scaler_dict[col] = {\n",
    "        \"min\": float(col_min),\n",
    "        \"max\": float(col_max)\n",
    "    }\n",
    "\n",
    "block_one_hot = pd.get_dummies(df['Block'], prefix='Block')\n",
    "# section_one_hot = pd.get_dummies(df['Section'], prefix='Section')\n",
    "# parcel_one_hot = pd.get_dummies(df['Parcel'], prefix='Parcel')\n",
    "committee_month_one_hot = pd.get_dummies(df['Committee_month'], prefix='Committee_month')\n",
    "committee_year_one_hot = pd.get_dummies(df['Committee_year'], prefix='Committee_year')\n",
    "\n",
    "\n",
    "df = df.drop(['Block', 'Section', 'Parcel', 'Committee_month', 'Committee_year'], axis=1)\n",
    "\n",
    "# df = pd.concat([df, block_one_hot, section_one_hot, parcel_one_hot, committee_month_one_hot, committee_year_one_hot], axis=1)\n",
    "df = pd.concat([df, block_one_hot, committee_month_one_hot, committee_year_one_hot], axis=1)\n",
    "\n",
    "with open(\"scaler_minmax.json\", \"w\", encoding=\"utf-8\") as f:\n",
    "    json.dump(scaler_dict, f, ensure_ascii=False, indent=2)\n",
    "\n",
    "normalized_columns = ['Final Price', 'Area m2', 'Units','dist_to_kindergarten', 'dist_to_school', 'dist_to_university',\n",
    "    'dist_to_bus_stop', 'dist_to_train_station', 'dist_to_park',\n",
    "    'dist_to_mall', 'dist_to_supermarket', 'dist_to_beach',\n",
    "    'dist_to_place_of_worship']"
   ],
   "metadata": {
    "id": "m1QCzp3vhSwZ",
    "ExecuteTime": {
     "end_time": "2025-06-11T09:56:36.618644800Z",
     "start_time": "2025-06-11T09:35:04.682742Z"
    }
   },
   "outputs": [],
   "execution_count": 10
  },
  {
   "cell_type": "code",
   "source": [
    "df = pd.get_dummies(df, columns=['Region'], prefix='Region')\n",
    "\n",
    "city_mapping = {city: idx for idx, city in enumerate(df['City'].unique())}\n",
    "df['City_Index'] = df['City'].map(city_mapping)\n",
    "\n",
    "with open(\"city_mapping.json\", \"w\", encoding=\"utf-8\") as f:\n",
    "    json.dump(city_mapping, f, ensure_ascii=False, indent=2)\n",
    "df = df.replace({True: 1, False: 0})\n",
    "\n",
    "index_to_city = {int(idx): city for city, idx in city_mapping.items()}\n",
    "with open(\"index_to_city.json\", \"w\", encoding=\"utf-8\") as f:\n",
    "    json.dump(index_to_city, f, ensure_ascii=False)"
   ],
   "metadata": {
    "colab": {
     "base_uri": "https://localhost:8080/"
    },
    "id": "FZXpVqwEheCu",
    "outputId": "69c767d2-ef47-4820-de5c-67de367b9087",
    "ExecuteTime": {
     "end_time": "2025-06-11T09:56:36.619645300Z",
     "start_time": "2025-06-11T09:35:04.770270Z"
    }
   },
   "outputs": [
    {
     "name": "stderr",
     "output_type": "stream",
     "text": [
      "C:\\Users\\idanb\\AppData\\Local\\Temp\\ipykernel_27384\\2002307546.py:8: FutureWarning: Downcasting behavior in `replace` is deprecated and will be removed in a future version. To retain the old behavior, explicitly call `result.infer_objects(copy=False)`. To opt-in to the future behavior, set `pd.set_option('future.no_silent_downcasting', True)`\n",
      "  df = df.replace({True: 1, False: 0})\n"
     ]
    }
   ],
   "execution_count": 11
  },
  {
   "cell_type": "code",
   "source": [
    "df = df[~df['City'].str.contains(\"באר שבע , כלניות\", na=False)]\n",
    "\n",
    "df=df.drop(['Final Price'],axis=1)"
   ],
   "metadata": {
    "id": "6Hgac1vphu5W",
    "ExecuteTime": {
     "end_time": "2025-06-11T09:56:36.620646700Z",
     "start_time": "2025-06-11T09:35:05.352226Z"
    }
   },
   "outputs": [],
   "execution_count": 12
  },
  {
   "cell_type": "code",
   "source": [
    "df.to_csv(\"cleaned_data.csv\", index=False)\n",
    "\n",
    "# files.download(\"/content/cleaned_data.csv\")\n",
    "# files.download(\"/content/scaler_minmax.json\")"
   ],
   "metadata": {
    "colab": {
     "base_uri": "https://localhost:8080/",
     "height": 17
    },
    "id": "dtyuCr49hxd1",
    "outputId": "343b611e-af66-4598-cb4a-865c18a4cb8a",
    "ExecuteTime": {
     "end_time": "2025-06-11T09:56:36.621710200Z",
     "start_time": "2025-06-11T09:35:05.428937Z"
    }
   },
   "outputs": [],
   "execution_count": 13
  },
  {
   "cell_type": "code",
   "source": [],
   "metadata": {
    "id": "14KJ2seHj19J",
    "ExecuteTime": {
     "end_time": "2025-06-11T09:56:36.624222700Z",
     "start_time": "2025-06-11T09:35:05.889488Z"
    }
   },
   "outputs": [],
   "execution_count": null
  }
 ]
}
