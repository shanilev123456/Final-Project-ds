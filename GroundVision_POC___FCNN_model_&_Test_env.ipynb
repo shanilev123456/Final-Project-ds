{
 "cells": [
  {
   "cell_type": "code",
   "id": "initial_id",
   "metadata": {
    "collapsed": true,
    "ExecuteTime": {
     "end_time": "2025-05-18T09:38:58.548901Z",
     "start_time": "2025-05-18T09:38:56.671304Z"
    }
   },
   "source": [
    "import torch\n",
    "import torch.nn as nn\n",
    "from torch.utils.data import TensorDataset, DataLoader\n",
    "from sklearn.model_selection import train_test_split\n",
    "import pandas as pd\n",
    "import numpy as np\n",
    "from sklearn.model_selection import train_test_split\n",
    "from sklearn.metrics import mean_absolute_error, mean_squared_error, r2_score\n",
    "import matplotlib.pyplot as plt\n",
    "import copy\n",
    "\n",
    "!pip install ipython-autotime\n",
    "%load_ext autotime"
   ],
   "outputs": [
    {
     "name": "stdout",
     "output_type": "stream",
     "text": [
      "Requirement already satisfied: ipython-autotime in /Users/hanipardilov/DLcourse/DL_Finalproject/.venv/lib/python3.10/site-packages (0.3.2)\r\n",
      "Requirement already satisfied: ipython in /Users/hanipardilov/DLcourse/DL_Finalproject/.venv/lib/python3.10/site-packages (from ipython-autotime) (8.34.0)\r\n",
      "Requirement already satisfied: decorator in /Users/hanipardilov/DLcourse/DL_Finalproject/.venv/lib/python3.10/site-packages (from ipython->ipython-autotime) (5.2.1)\r\n",
      "Requirement already satisfied: exceptiongroup in /Users/hanipardilov/DLcourse/DL_Finalproject/.venv/lib/python3.10/site-packages (from ipython->ipython-autotime) (1.2.2)\r\n",
      "Requirement already satisfied: jedi>=0.16 in /Users/hanipardilov/DLcourse/DL_Finalproject/.venv/lib/python3.10/site-packages (from ipython->ipython-autotime) (0.19.2)\r\n",
      "Requirement already satisfied: matplotlib-inline in /Users/hanipardilov/DLcourse/DL_Finalproject/.venv/lib/python3.10/site-packages (from ipython->ipython-autotime) (0.1.7)\r\n",
      "Requirement already satisfied: pexpect>4.3 in /Users/hanipardilov/DLcourse/DL_Finalproject/.venv/lib/python3.10/site-packages (from ipython->ipython-autotime) (4.9.0)\r\n",
      "Requirement already satisfied: prompt_toolkit<3.1.0,>=3.0.41 in /Users/hanipardilov/DLcourse/DL_Finalproject/.venv/lib/python3.10/site-packages (from ipython->ipython-autotime) (3.0.50)\r\n",
      "Requirement already satisfied: pygments>=2.4.0 in /Users/hanipardilov/DLcourse/DL_Finalproject/.venv/lib/python3.10/site-packages (from ipython->ipython-autotime) (2.19.1)\r\n",
      "Requirement already satisfied: stack_data in /Users/hanipardilov/DLcourse/DL_Finalproject/.venv/lib/python3.10/site-packages (from ipython->ipython-autotime) (0.6.3)\r\n",
      "Requirement already satisfied: traitlets>=5.13.0 in /Users/hanipardilov/DLcourse/DL_Finalproject/.venv/lib/python3.10/site-packages (from ipython->ipython-autotime) (5.14.3)\r\n",
      "Requirement already satisfied: typing_extensions>=4.6 in /Users/hanipardilov/DLcourse/DL_Finalproject/.venv/lib/python3.10/site-packages (from ipython->ipython-autotime) (4.12.2)\r\n",
      "Requirement already satisfied: parso<0.9.0,>=0.8.4 in /Users/hanipardilov/DLcourse/DL_Finalproject/.venv/lib/python3.10/site-packages (from jedi>=0.16->ipython->ipython-autotime) (0.8.4)\r\n",
      "Requirement already satisfied: ptyprocess>=0.5 in /Users/hanipardilov/DLcourse/DL_Finalproject/.venv/lib/python3.10/site-packages (from pexpect>4.3->ipython->ipython-autotime) (0.7.0)\r\n",
      "Requirement already satisfied: wcwidth in /Users/hanipardilov/DLcourse/DL_Finalproject/.venv/lib/python3.10/site-packages (from prompt_toolkit<3.1.0,>=3.0.41->ipython->ipython-autotime) (0.2.13)\r\n",
      "Requirement already satisfied: executing>=1.2.0 in /Users/hanipardilov/DLcourse/DL_Finalproject/.venv/lib/python3.10/site-packages (from stack_data->ipython->ipython-autotime) (2.2.0)\r\n",
      "Requirement already satisfied: asttokens>=2.1.0 in /Users/hanipardilov/DLcourse/DL_Finalproject/.venv/lib/python3.10/site-packages (from stack_data->ipython->ipython-autotime) (3.0.0)\r\n",
      "Requirement already satisfied: pure-eval in /Users/hanipardilov/DLcourse/DL_Finalproject/.venv/lib/python3.10/site-packages (from stack_data->ipython->ipython-autotime) (0.2.3)\r\n",
      "\r\n",
      "\u001B[1m[\u001B[0m\u001B[34;49mnotice\u001B[0m\u001B[1;39;49m]\u001B[0m\u001B[39;49m A new release of pip is available: \u001B[0m\u001B[31;49m25.0.1\u001B[0m\u001B[39;49m -> \u001B[0m\u001B[32;49m25.1.1\u001B[0m\r\n",
      "\u001B[1m[\u001B[0m\u001B[34;49mnotice\u001B[0m\u001B[1;39;49m]\u001B[0m\u001B[39;49m To update, run: \u001B[0m\u001B[32;49mpip install --upgrade pip\u001B[0m\r\n",
      "The autotime extension is already loaded. To reload it, use:\n",
      "  %reload_ext autotime\n",
      "time: 1.86 s (started: 2025-05-18 12:38:56 +03:00)\n"
     ]
    }
   ],
   "execution_count": 22
  },
  {
   "metadata": {},
   "cell_type": "markdown",
   "source": "## Import Data",
   "id": "f6ec1b35e6f1cb95"
  },
  {
   "metadata": {
    "ExecuteTime": {
     "end_time": "2025-05-18T09:38:58.559338Z",
     "start_time": "2025-05-18T09:38:58.556350Z"
    }
   },
   "cell_type": "code",
   "source": [
    "# from google.colab import files\n",
    "# uploaded = files.upload()"
   ],
   "id": "483bddd534b33274",
   "outputs": [
    {
     "name": "stdout",
     "output_type": "stream",
     "text": [
      "time: 451 μs (started: 2025-05-18 12:38:58 +03:00)\n"
     ]
    }
   ],
   "execution_count": 23
  },
  {
   "metadata": {
    "ExecuteTime": {
     "end_time": "2025-05-18T09:38:58.727675Z",
     "start_time": "2025-05-18T09:38:58.572646Z"
    }
   },
   "cell_type": "code",
   "source": [
    "df = pd.read_csv(\"cleaned_data.csv\")\n",
    "df.head()"
   ],
   "id": "726723c11ba277fa",
   "outputs": [
    {
     "data": {
      "text/plain": [
       "   Units   Area m2  Price per m2  Block_325.0  Block_326.0  Block_375.0  \\\n",
       "0    0.2  0.639225      0.249075        False        False        False   \n",
       "1    0.2  0.638015      0.257707        False        False        False   \n",
       "2    0.2  0.638015      0.217580        False        False        False   \n",
       "3    0.0  0.167070      0.122072        False        False        False   \n",
       "4    0.0  0.167070      0.122869        False        False        False   \n",
       "\n",
       "   Block_376.0  Block_390.0  Block_395.0  Block_399.0  ...  \\\n",
       "0        False        False        False        False  ...   \n",
       "1        False        False        False        False  ...   \n",
       "2        False        False        False        False  ...   \n",
       "3        False        False        False        False  ...   \n",
       "4        False        False        False        False  ...   \n",
       "\n",
       "   City_שלומי , יערית  City_שער אפרים  City_שער אפרים , שער אפרים  \\\n",
       "0               False           False                       False   \n",
       "1               False           False                       False   \n",
       "2               False           False                       False   \n",
       "3               False           False                       False   \n",
       "4               False           False                       False   \n",
       "\n",
       "   City_שריגים(לי און  City_שריגים(לי און , מועצה אזורית מטה יהודה  \\\n",
       "0               False                                        False   \n",
       "1               False                                        False   \n",
       "2               False                                        False   \n",
       "3               False                                        False   \n",
       "4               False                                        False   \n",
       "\n",
       "   City_תל אביב יפו , בצרה  City_תל מונד  City_תלמי יחיאל  City_תמרת  \\\n",
       "0                    False         False            False      False   \n",
       "1                    False         False            False      False   \n",
       "2                    False         False            False      False   \n",
       "3                    False         False            False      False   \n",
       "4                    False         False            False      False   \n",
       "\n",
       "   City_תנובות  \n",
       "0        False  \n",
       "1        False  \n",
       "2        False  \n",
       "3        False  \n",
       "4        False  \n",
       "\n",
       "[5 rows x 535 columns]"
      ],
      "text/html": [
       "<div>\n",
       "<style scoped>\n",
       "    .dataframe tbody tr th:only-of-type {\n",
       "        vertical-align: middle;\n",
       "    }\n",
       "\n",
       "    .dataframe tbody tr th {\n",
       "        vertical-align: top;\n",
       "    }\n",
       "\n",
       "    .dataframe thead th {\n",
       "        text-align: right;\n",
       "    }\n",
       "</style>\n",
       "<table border=\"1\" class=\"dataframe\">\n",
       "  <thead>\n",
       "    <tr style=\"text-align: right;\">\n",
       "      <th></th>\n",
       "      <th>Units</th>\n",
       "      <th>Area m2</th>\n",
       "      <th>Price per m2</th>\n",
       "      <th>Block_325.0</th>\n",
       "      <th>Block_326.0</th>\n",
       "      <th>Block_375.0</th>\n",
       "      <th>Block_376.0</th>\n",
       "      <th>Block_390.0</th>\n",
       "      <th>Block_395.0</th>\n",
       "      <th>Block_399.0</th>\n",
       "      <th>...</th>\n",
       "      <th>City_שלומי , יערית</th>\n",
       "      <th>City_שער אפרים</th>\n",
       "      <th>City_שער אפרים , שער אפרים</th>\n",
       "      <th>City_שריגים(לי און</th>\n",
       "      <th>City_שריגים(לי און , מועצה אזורית מטה יהודה</th>\n",
       "      <th>City_תל אביב יפו , בצרה</th>\n",
       "      <th>City_תל מונד</th>\n",
       "      <th>City_תלמי יחיאל</th>\n",
       "      <th>City_תמרת</th>\n",
       "      <th>City_תנובות</th>\n",
       "    </tr>\n",
       "  </thead>\n",
       "  <tbody>\n",
       "    <tr>\n",
       "      <th>0</th>\n",
       "      <td>0.2</td>\n",
       "      <td>0.639225</td>\n",
       "      <td>0.249075</td>\n",
       "      <td>False</td>\n",
       "      <td>False</td>\n",
       "      <td>False</td>\n",
       "      <td>False</td>\n",
       "      <td>False</td>\n",
       "      <td>False</td>\n",
       "      <td>False</td>\n",
       "      <td>...</td>\n",
       "      <td>False</td>\n",
       "      <td>False</td>\n",
       "      <td>False</td>\n",
       "      <td>False</td>\n",
       "      <td>False</td>\n",
       "      <td>False</td>\n",
       "      <td>False</td>\n",
       "      <td>False</td>\n",
       "      <td>False</td>\n",
       "      <td>False</td>\n",
       "    </tr>\n",
       "    <tr>\n",
       "      <th>1</th>\n",
       "      <td>0.2</td>\n",
       "      <td>0.638015</td>\n",
       "      <td>0.257707</td>\n",
       "      <td>False</td>\n",
       "      <td>False</td>\n",
       "      <td>False</td>\n",
       "      <td>False</td>\n",
       "      <td>False</td>\n",
       "      <td>False</td>\n",
       "      <td>False</td>\n",
       "      <td>...</td>\n",
       "      <td>False</td>\n",
       "      <td>False</td>\n",
       "      <td>False</td>\n",
       "      <td>False</td>\n",
       "      <td>False</td>\n",
       "      <td>False</td>\n",
       "      <td>False</td>\n",
       "      <td>False</td>\n",
       "      <td>False</td>\n",
       "      <td>False</td>\n",
       "    </tr>\n",
       "    <tr>\n",
       "      <th>2</th>\n",
       "      <td>0.2</td>\n",
       "      <td>0.638015</td>\n",
       "      <td>0.217580</td>\n",
       "      <td>False</td>\n",
       "      <td>False</td>\n",
       "      <td>False</td>\n",
       "      <td>False</td>\n",
       "      <td>False</td>\n",
       "      <td>False</td>\n",
       "      <td>False</td>\n",
       "      <td>...</td>\n",
       "      <td>False</td>\n",
       "      <td>False</td>\n",
       "      <td>False</td>\n",
       "      <td>False</td>\n",
       "      <td>False</td>\n",
       "      <td>False</td>\n",
       "      <td>False</td>\n",
       "      <td>False</td>\n",
       "      <td>False</td>\n",
       "      <td>False</td>\n",
       "    </tr>\n",
       "    <tr>\n",
       "      <th>3</th>\n",
       "      <td>0.0</td>\n",
       "      <td>0.167070</td>\n",
       "      <td>0.122072</td>\n",
       "      <td>False</td>\n",
       "      <td>False</td>\n",
       "      <td>False</td>\n",
       "      <td>False</td>\n",
       "      <td>False</td>\n",
       "      <td>False</td>\n",
       "      <td>False</td>\n",
       "      <td>...</td>\n",
       "      <td>False</td>\n",
       "      <td>False</td>\n",
       "      <td>False</td>\n",
       "      <td>False</td>\n",
       "      <td>False</td>\n",
       "      <td>False</td>\n",
       "      <td>False</td>\n",
       "      <td>False</td>\n",
       "      <td>False</td>\n",
       "      <td>False</td>\n",
       "    </tr>\n",
       "    <tr>\n",
       "      <th>4</th>\n",
       "      <td>0.0</td>\n",
       "      <td>0.167070</td>\n",
       "      <td>0.122869</td>\n",
       "      <td>False</td>\n",
       "      <td>False</td>\n",
       "      <td>False</td>\n",
       "      <td>False</td>\n",
       "      <td>False</td>\n",
       "      <td>False</td>\n",
       "      <td>False</td>\n",
       "      <td>...</td>\n",
       "      <td>False</td>\n",
       "      <td>False</td>\n",
       "      <td>False</td>\n",
       "      <td>False</td>\n",
       "      <td>False</td>\n",
       "      <td>False</td>\n",
       "      <td>False</td>\n",
       "      <td>False</td>\n",
       "      <td>False</td>\n",
       "      <td>False</td>\n",
       "    </tr>\n",
       "  </tbody>\n",
       "</table>\n",
       "<p>5 rows × 535 columns</p>\n",
       "</div>"
      ]
     },
     "execution_count": 24,
     "metadata": {},
     "output_type": "execute_result"
    },
    {
     "name": "stdout",
     "output_type": "stream",
     "text": [
      "time: 153 ms (started: 2025-05-18 12:38:58 +03:00)\n"
     ]
    }
   ],
   "execution_count": 24
  },
  {
   "metadata": {
    "ExecuteTime": {
     "end_time": "2025-05-18T09:38:58.820446Z",
     "start_time": "2025-05-18T09:38:58.810899Z"
    }
   },
   "cell_type": "code",
   "source": [
    "X = df.drop(columns=[\"Price per m2\"]).astype(np.float32)\n",
    "# X = df.drop(columns=[\"Price per m2\"]).values\n",
    "y = df[\"Price per m2\"].values.reshape(-1, 1)"
   ],
   "id": "368beb63d809eeac",
   "outputs": [
    {
     "name": "stdout",
     "output_type": "stream",
     "text": [
      "time: 6.17 ms (started: 2025-05-18 12:38:58 +03:00)\n"
     ]
    }
   ],
   "execution_count": 25
  },
  {
   "metadata": {
    "ExecuteTime": {
     "end_time": "2025-05-18T09:38:58.861313Z",
     "start_time": "2025-05-18T09:38:58.855532Z"
    }
   },
   "cell_type": "code",
   "source": [
    "device = torch.device(\"cuda\" if torch.cuda.is_available() else \"cpu\")\n",
    "print(f\"Using device: {device}\")"
   ],
   "id": "465d11927825c065",
   "outputs": [
    {
     "name": "stdout",
     "output_type": "stream",
     "text": [
      "Using device: cpu\n",
      "time: 2.93 ms (started: 2025-05-18 12:38:58 +03:00)\n"
     ]
    }
   ],
   "execution_count": 26
  },
  {
   "metadata": {
    "ExecuteTime": {
     "end_time": "2025-05-18T09:38:58.926470Z",
     "start_time": "2025-05-18T09:38:58.886389Z"
    }
   },
   "cell_type": "code",
   "source": [
    "X_train, X_test, y_train, y_test = train_test_split(X.values, y, test_size=0.2, random_state=42)\n",
    "X_train_part, X_val, y_train_part, y_val = train_test_split(X_train, y_train, test_size=0.1, random_state=1)\n",
    "\n",
    "# tensors\n",
    "X_train_tensor = torch.tensor(X_train_part, dtype=torch.float32).to(device)\n",
    "y_train_tensor = torch.tensor(y_train_part, dtype=torch.float32).to(device)\n",
    "X_val_tensor = torch.tensor(X_val, dtype=torch.float32).to(device)\n",
    "y_val_tensor = torch.tensor(y_val, dtype=torch.float32).to(device)\n",
    "X_test_tensor = torch.tensor(X_test, dtype=torch.float32).to(device)\n",
    "y_test_tensor = torch.tensor(y_test, dtype=torch.float32).to(device)\n",
    "\n",
    "# DataLoaders\n",
    "train_loader = DataLoader(TensorDataset(X_train_tensor, y_train_tensor), batch_size=64, shuffle=True)\n",
    "val_loader = DataLoader(TensorDataset(X_val_tensor, y_val_tensor), batch_size=64)"
   ],
   "id": "8130d1da38117255",
   "outputs": [
    {
     "name": "stdout",
     "output_type": "stream",
     "text": [
      "time: 35.8 ms (started: 2025-05-18 12:38:58 +03:00)\n"
     ]
    }
   ],
   "execution_count": 27
  },
  {
   "metadata": {},
   "cell_type": "markdown",
   "source": "## Model Architecture",
   "id": "a5e5718c1b47ba39"
  },
  {
   "metadata": {
    "ExecuteTime": {
     "end_time": "2025-05-18T09:38:58.954781Z",
     "start_time": "2025-05-18T09:38:58.936426Z"
    }
   },
   "cell_type": "code",
   "source": [
    "class MLPmodel(nn.Module):\n",
    "    def __init__(self, input_dim):\n",
    "        super(MLPmodel, self).__init__()\n",
    "        # self.model = nn.Sequential(\n",
    "        #     nn.Linear(input_dim, 128),\n",
    "        #     nn.ReLU(),\n",
    "        #     nn.Dropout(0.3),\n",
    "        #     nn.Linear(128, 64),\n",
    "        #     nn.ReLU(),\n",
    "        #     nn.Dropout(0.3),\n",
    "        #     nn.Linear(64, 1)\n",
    "        # )\n",
    "\n",
    "        self.model = nn.Sequential(\n",
    "            nn.Linear(input_dim, 256),\n",
    "            nn.LayerNorm(256),\n",
    "            nn.SiLU(),\n",
    "            nn.Dropout(0.2),\n",
    "\n",
    "            nn.Linear(256, 128),\n",
    "            nn.LayerNorm(128),\n",
    "            nn.SiLU(),\n",
    "            nn.Dropout(0.2),\n",
    "\n",
    "            nn.Linear(128, 64),\n",
    "            nn.SiLU(),\n",
    "\n",
    "            nn.Linear(64, 1)\n",
    "        )\n",
    "\n",
    "    def forward(self, x):\n",
    "        return self.model(x)\n",
    "\n",
    "model = MLPmodel(input_dim=X_train.shape[1]).to(device)\n"
   ],
   "id": "3c826d14b963bfb5",
   "outputs": [
    {
     "name": "stdout",
     "output_type": "stream",
     "text": [
      "time: 15.8 ms (started: 2025-05-18 12:38:58 +03:00)\n"
     ]
    }
   ],
   "execution_count": 28
  },
  {
   "metadata": {},
   "cell_type": "markdown",
   "source": "## Define hyper-parameters & Training model",
   "id": "549cd01cc0da863f"
  },
  {
   "metadata": {
    "ExecuteTime": {
     "end_time": "2025-05-18T09:39:00.691854Z",
     "start_time": "2025-05-18T09:38:58.959133Z"
    }
   },
   "cell_type": "code",
   "source": [
    "# criterion = nn.MSELoss()\n",
    "criterion = nn.HuberLoss(delta=0.1)\n",
    "optimizer = torch.optim.Adam(model.parameters(), lr=0.001)\n",
    "\n",
    "num_epochs = 100\n",
    "early_stop_patience = 5\n",
    "best_val_loss = float('inf')\n",
    "epochs_no_improve = 0\n",
    "train_losses = []\n",
    "val_losses = []\n",
    "\n",
    "best_model = None\n",
    "\n",
    "for epoch in range(num_epochs):\n",
    "    model.train()\n",
    "    train_loss = 0.0\n",
    "    for xb, yb in train_loader:\n",
    "        pred = model(xb)\n",
    "        loss = criterion(pred, yb)\n",
    "        optimizer.zero_grad()\n",
    "        loss.backward()\n",
    "        optimizer.step()\n",
    "        train_loss += loss.item()\n",
    "    train_loss /= len(train_loader)\n",
    "    train_losses.append(train_loss)\n",
    "\n",
    "    model.eval()\n",
    "    val_loss = 0.0\n",
    "    with torch.no_grad():\n",
    "        for xb, yb in val_loader:\n",
    "            pred = model(xb)\n",
    "            loss = criterion(pred, yb)\n",
    "            val_loss += loss.item()\n",
    "    val_loss /= len(val_loader)\n",
    "    val_losses.append(val_loss)\n",
    "\n",
    "    print(f\"Epoch {epoch+1}, Train Loss: {train_loss:.5f}, Val Loss: {val_loss:.5f}\")\n",
    "\n",
    "    # Early stopping\n",
    "    if val_loss < best_val_loss:\n",
    "        best_val_loss = val_loss\n",
    "        best_model = copy.deepcopy(model.state_dict())\n",
    "        epochs_no_improve = 0\n",
    "    else:\n",
    "        epochs_no_improve += 1\n",
    "        if epochs_no_improve >= early_stop_patience:\n",
    "            print(\"Early stopping triggered.\")\n",
    "            break\n"
   ],
   "id": "190d984b527586a6",
   "outputs": [
    {
     "name": "stdout",
     "output_type": "stream",
     "text": [
      "Epoch 1, Train Loss: 0.00178, Val Loss: 0.00054\n",
      "Epoch 2, Train Loss: 0.00061, Val Loss: 0.00045\n",
      "Epoch 3, Train Loss: 0.00046, Val Loss: 0.00048\n",
      "Epoch 4, Train Loss: 0.00040, Val Loss: 0.00043\n",
      "Epoch 5, Train Loss: 0.00036, Val Loss: 0.00037\n",
      "Epoch 6, Train Loss: 0.00035, Val Loss: 0.00039\n",
      "Epoch 7, Train Loss: 0.00033, Val Loss: 0.00036\n",
      "Epoch 8, Train Loss: 0.00031, Val Loss: 0.00036\n",
      "Epoch 9, Train Loss: 0.00031, Val Loss: 0.00035\n",
      "Epoch 10, Train Loss: 0.00029, Val Loss: 0.00039\n",
      "Epoch 11, Train Loss: 0.00028, Val Loss: 0.00034\n",
      "Epoch 12, Train Loss: 0.00028, Val Loss: 0.00035\n",
      "Epoch 13, Train Loss: 0.00026, Val Loss: 0.00034\n",
      "Epoch 14, Train Loss: 0.00025, Val Loss: 0.00034\n",
      "Epoch 15, Train Loss: 0.00027, Val Loss: 0.00033\n",
      "Epoch 16, Train Loss: 0.00025, Val Loss: 0.00034\n",
      "Epoch 17, Train Loss: 0.00025, Val Loss: 0.00032\n",
      "Epoch 18, Train Loss: 0.00025, Val Loss: 0.00034\n",
      "Epoch 19, Train Loss: 0.00024, Val Loss: 0.00032\n",
      "Epoch 20, Train Loss: 0.00024, Val Loss: 0.00033\n",
      "Epoch 21, Train Loss: 0.00024, Val Loss: 0.00032\n",
      "Epoch 22, Train Loss: 0.00024, Val Loss: 0.00036\n",
      "Early stopping triggered.\n",
      "time: 1.73 s (started: 2025-05-18 12:38:58 +03:00)\n"
     ]
    }
   ],
   "execution_count": 29
  },
  {
   "metadata": {},
   "cell_type": "markdown",
   "source": "## Plotting Training and Validation Metrics",
   "id": "60ecab9877145b2"
  },
  {
   "metadata": {
    "ExecuteTime": {
     "end_time": "2025-05-18T09:39:00.848718Z",
     "start_time": "2025-05-18T09:39:00.695885Z"
    }
   },
   "cell_type": "code",
   "source": [
    "plt.plot(train_losses, label='Train Loss')\n",
    "plt.plot(val_losses, label='Validation Loss')\n",
    "plt.xlabel(\"Epoch\")\n",
    "plt.ylabel(\"MSE Loss\")\n",
    "plt.title(\"Training & Validation Loss\")\n",
    "plt.legend()\n",
    "plt.grid(True)\n",
    "plt.show()"
   ],
   "id": "4e3a45c0f39a2dc8",
   "outputs": [
    {
     "data": {
      "text/plain": [
       "<Figure size 640x480 with 1 Axes>"
      ],
      "image/png": "[encoded data removed]"
     },
     "metadata": {},
     "output_type": "display_data"
    },
    {
     "name": "stdout",
     "output_type": "stream",
     "text": [
      "time: 151 ms (started: 2025-05-18 12:39:00 +03:00)\n"
     ]
    }
   ],
   "execution_count": 30
  },
  {
   "metadata": {},
   "cell_type": "markdown",
   "source": "### Saving trained model",
   "id": "ba9bda6e3ce69c93"
  },
  {
   "metadata": {
    "ExecuteTime": {
     "end_time": "2025-05-18T09:39:00.869373Z",
     "start_time": "2025-05-18T09:39:00.859827Z"
    }
   },
   "cell_type": "code",
   "source": [
    "model.load_state_dict(best_model)\n",
    "\n",
    "torch.save(model.state_dict(), \"mlp_model.pt\")\n",
    "print(\"Model saved to mlp_model.pt\")\n"
   ],
   "id": "d30f30fef99ee735",
   "outputs": [
    {
     "name": "stdout",
     "output_type": "stream",
     "text": [
      "Model saved to mlp_model.pt\n",
      "time: 7.71 ms (started: 2025-05-18 12:39:00 +03:00)\n"
     ]
    }
   ],
   "execution_count": 31
  },
  {
   "metadata": {},
   "cell_type": "markdown",
   "source": "## Evaluation",
   "id": "a2adf69eae9b8598"
  },
  {
   "metadata": {
    "ExecuteTime": {
     "end_time": "2025-05-18T09:39:00.907036Z",
     "start_time": "2025-05-18T09:39:00.884745Z"
    }
   },
   "cell_type": "code",
   "source": [
    "model.load_state_dict(best_model)\n",
    "model.eval()\n",
    "\n",
    "with torch.no_grad():\n",
    "    y_train_pred = model(torch.tensor(X_train_part, dtype=torch.float32).to(device)).cpu().numpy()\n",
    "    y_val_pred = model(torch.tensor(X_val, dtype=torch.float32).to(device)).cpu().numpy()\n",
    "    y_test_pred = model(X_test_tensor).cpu().numpy()\n",
    "\n",
    "print(\"Train set:\")\n",
    "print(f\"MAE: {mean_absolute_error(y_train_part, y_train_pred):.4f}\")\n",
    "print(f\"MSE: {mean_squared_error(y_train_part, y_train_pred):.4f}\")\n",
    "print(f\"R² : {r2_score(y_train_part, y_train_pred):.4f}\")\n",
    "\n",
    "print(\"\\nValidation set:\")\n",
    "print(f\"MAE: {mean_absolute_error(y_val, y_val_pred):.4f}\")\n",
    "print(f\"MSE: {mean_squared_error(y_val, y_val_pred):.4f}\")\n",
    "print(f\"R² : {r2_score(y_val, y_val_pred):.4f}\")\n",
    "\n",
    "print(\"\\nTest set:\")\n",
    "print(f\"MAE: {mean_absolute_error(y_test_tensor.cpu().numpy(), y_test_pred):.4f}\")\n",
    "print(f\"MSE: {mean_squared_error(y_test_tensor.cpu().numpy(), y_test_pred):.4f}\")\n",
    "print(f\"R² : {r2_score(y_test_tensor.cpu().numpy(), y_test_pred):.4f}\")\n"
   ],
   "id": "68240a5ba15d7a6f",
   "outputs": [
    {
     "name": "stdout",
     "output_type": "stream",
     "text": [
      "Train set:\n",
      "MAE: 0.0116\n",
      "MSE: 0.0004\n",
      "R² : 0.9518\n",
      "\n",
      "Validation set:\n",
      "MAE: 0.0141\n",
      "MSE: 0.0008\n",
      "R² : 0.9121\n",
      "\n",
      "Test set:\n",
      "MAE: 0.0131\n",
      "MSE: 0.0005\n",
      "R² : 0.9392\n",
      "time: 19.9 ms (started: 2025-05-18 12:39:00 +03:00)\n"
     ]
    }
   ],
   "execution_count": 32
  },
  {
   "metadata": {},
   "cell_type": "markdown",
   "source": "## Test env",
   "id": "a925208c392fbcfa"
  },
  {
   "metadata": {
    "ExecuteTime": {
     "end_time": "2025-05-18T09:39:00.915235Z",
     "start_time": "2025-05-18T09:39:00.912824Z"
    }
   },
   "cell_type": "code",
   "source": [
    "import torch\n",
    "import pandas as pd\n",
    "import json"
   ],
   "id": "d69165f059e882f5",
   "outputs": [
    {
     "name": "stdout",
     "output_type": "stream",
     "text": [
      "time: 212 μs (started: 2025-05-18 12:39:00 +03:00)\n"
     ]
    }
   ],
   "execution_count": 33
  },
  {
   "metadata": {
    "ExecuteTime": {
     "end_time": "2025-05-18T09:39:01.033311Z",
     "start_time": "2025-05-18T09:39:00.927851Z"
    }
   },
   "cell_type": "code",
   "source": [
    "with open('scaler_minmax.json', 'r') as f:\n",
    "    scaler_minmax = json.load(f)\n",
    "\n",
    "with open('price_minmax.json', 'r') as f:\n",
    "    price_minmax = json.load(f)\n",
    "\n",
    "# loading selected cols\n",
    "X_columns = pd.read_csv(\"cleaned_data.csv\").drop(columns=[\"Price per m2\"]).columns\n",
    "# df = pd.read_csv(\"cleaned_data.csv\")\n"
   ],
   "id": "2dd9c2b38a700d0a",
   "outputs": [
    {
     "name": "stdout",
     "output_type": "stream",
     "text": [
      "time: 103 ms (started: 2025-05-18 12:39:00 +03:00)\n"
     ]
    }
   ],
   "execution_count": 34
  },
  {
   "metadata": {
    "ExecuteTime": {
     "end_time": "2025-05-18T09:39:01.047635Z",
     "start_time": "2025-05-18T09:39:01.041531Z"
    }
   },
   "cell_type": "code",
   "source": [
    "def normalize_value(value, min_val, max_val):\n",
    "    if max_val > min_val:\n",
    "        return (value - min_val) / (max_val - min_val)\n",
    "    else:\n",
    "        return 0.0\n",
    "\n",
    "def find_all_columns_by_substring(columns, value):\n",
    "    value = str(value).strip().lower()\n",
    "    matches = [col for col in columns if value in col.lower()]\n",
    "    return matches\n",
    "\n",
    "def find_columns_exact_match(columns, value):\n",
    "    value = str(value).strip().lower()\n",
    "    matches = [col for col in columns if col.lower() == value]\n",
    "    return matches\n",
    "\n",
    "def predict_price_mlp(user_input: dict, model, X_columns, scaler_minmax, price_minmax, default_values=None):\n",
    "\n",
    "    if default_values is None:\n",
    "        default_values = {\n",
    "            'Units': 1,\n",
    "            'Area m2': 500,\n",
    "            'block': '0.0',\n",
    "            'Committee year': '2025.0',\n",
    "            'committee month': '6.0',\n",
    "            'region': 'Unknown',\n",
    "            'city': 'Unknown'\n",
    "        }\n",
    "\n",
    "    input_df = pd.DataFrame([0] * len(X_columns), index=X_columns).T\n",
    "\n",
    "    # handling numeric features\n",
    "    for col in ['Units', 'Area m2']:\n",
    "        val = float(user_input.get(col, default_values[col]))\n",
    "        min_val = scaler_minmax[col]['min']\n",
    "        max_val = scaler_minmax[col]['max']\n",
    "        input_df.at[0, col] = normalize_value(val, min_val, max_val)\n",
    "\n",
    "    block_col = f\"Block_{user_input.get('block', default_values['block'])}\"\n",
    "    if block_col in X_columns:\n",
    "        input_df.at[0, block_col] = 1\n",
    "\n",
    "    year_col = f\"Committee_year_{user_input.get('Committee year', default_values['Committee year'])}\"\n",
    "    month_col = f\"Committee_month_{user_input.get('committee month', default_values['committee month'])}\"\n",
    "    if year_col in X_columns:\n",
    "        input_df.at[0, year_col] = 1\n",
    "    if month_col in X_columns:\n",
    "        input_df.at[0, month_col] = 1\n",
    "\n",
    "    # one-hot coding features\n",
    "\n",
    "    # city_col = user_input.get('city', default_values['city'])\n",
    "    # val = find_all_columns_by_substring(X_columns, city_col)\n",
    "    # if val in X_columns:\n",
    "    #     input_df.at[0, val] = 1\n",
    "    #\n",
    "    #\n",
    "    # region_col = user_input.get('region', default_values['region'])\n",
    "    # val = find_columns_exact_match(X_columns, region_col)\n",
    "    # if val in X_columns:\n",
    "    #     input_df.at[0, val] = 1\n",
    "\n",
    "    for feature in ['region', 'city']:\n",
    "        val = user_input.get(feature, default_values[feature])\n",
    "        matches = find_all_columns_by_substring(X_columns, val)\n",
    "        for col in matches:\n",
    "            if col in input_df.columns:\n",
    "                input_df.at[0, col] = 1\n",
    "\n",
    "\n",
    "      #Exeption in case no values have got\n",
    "    if input_df.empty:\n",
    "        raise ValueError(\"No records were found match to the query.\")\n",
    "\n",
    "\n",
    "    input_tensor = torch.tensor(input_df.values, dtype=torch.float32).to(device)\n",
    "    model.eval()\n",
    "    with torch.no_grad():\n",
    "        prediction = model(input_tensor).item()\n",
    "\n",
    "    price_min = price_minmax[\"min\"]\n",
    "    price_max = price_minmax[\"max\"]\n",
    "    predicted_price_per_m2 = prediction * (price_max - price_min) + price_min\n",
    "\n",
    "    return predicted_price_per_m2"
   ],
   "id": "72228323a2f0190e",
   "outputs": [
    {
     "name": "stdout",
     "output_type": "stream",
     "text": [
      "time: 1.06 ms (started: 2025-05-18 12:39:01 +03:00)\n"
     ]
    }
   ],
   "execution_count": 35
  },
  {
   "metadata": {},
   "cell_type": "markdown",
   "source": "### Testing on existing record in Dataset",
   "id": "6393e33a780bd1f8"
  },
  {
   "metadata": {
    "ExecuteTime": {
     "end_time": "2025-05-18T09:39:01.056091Z",
     "start_time": "2025-05-18T09:39:01.052348Z"
    }
   },
   "cell_type": "code",
   "source": [
    "import torch\n",
    "import pandas as pd\n",
    "\n",
    "def predict_from_record(row, model, price_minmax):\n",
    "\n",
    "    input_df = pd.DataFrame([0] * len(row.drop(labels='Price per m2', errors='ignore').index),\n",
    "                            index=row.drop(labels='Price per m2', errors='ignore').index).T\n",
    "\n",
    "    # numeric features\n",
    "    numeric_features = ['Units', 'Area m2']\n",
    "    for col in numeric_features:\n",
    "        if col in row:\n",
    "            input_df.at[0, col] = row[col]\n",
    "\n",
    "    # copy the cols which turn on to '1'\n",
    "    for col in row.index:\n",
    "        if col.startswith(('Block_', 'City_', 'Region_', 'Committee_year_', 'Committee_month_')) and row[col] == 1:\n",
    "            input_df.at[0, col] = 1\n",
    "\n",
    "    input_tensor = torch.tensor(input_df.values, dtype=torch.float32)\n",
    "\n",
    "    model.eval()\n",
    "    with torch.no_grad():\n",
    "        prediction_norm = model(input_tensor).item()\n",
    "\n",
    "    price_min = price_minmax[\"min\"]\n",
    "    price_max = price_minmax[\"max\"]\n",
    "    prediction = prediction_norm * (price_max - price_min) + price_min\n",
    "\n",
    "    true_norm = row['Price per m2']\n",
    "    true_price = true_norm * (price_max - price_min) + price_min\n",
    "\n",
    "    print(f\"Prediction: {prediction:,.2f} ₪\")\n",
    "    print(f\"Actual price: {true_price:,.2f} ₪\")\n",
    "    print(f\"Deviation: {abs(prediction - true_price) / true_price * 100:.2f}%\")\n",
    "    return prediction, true_price"
   ],
   "id": "78908a4c8ca8986c",
   "outputs": [
    {
     "name": "stdout",
     "output_type": "stream",
     "text": [
      "time: 592 μs (started: 2025-05-18 12:39:01 +03:00)\n"
     ]
    }
   ],
   "execution_count": 36
  },
  {
   "metadata": {
    "ExecuteTime": {
     "end_time": "2025-05-18T09:39:01.077916Z",
     "start_time": "2025-05-18T09:39:01.068932Z"
    }
   },
   "cell_type": "code",
   "source": [
    "row = df.sample(1).iloc[0]\n",
    "predict_from_record(row, model, price_minmax)"
   ],
   "id": "c5201030f08ffc4a",
   "outputs": [
    {
     "name": "stdout",
     "output_type": "stream",
     "text": [
      "Prediction: 120.97 ₪\n",
      "Actual price: 79.94 ₪\n",
      "Deviation: 51.33%\n"
     ]
    },
    {
     "name": "stderr",
     "output_type": "stream",
     "text": [
      "/var/folders/lb/824pdw_j27x5fbnfxl4hkx880000gn/T/ipykernel_21726/464310760.py:13: FutureWarning: Setting an item of incompatible dtype is deprecated and will raise an error in a future version of pandas. Value '0.4031476997578692' has dtype incompatible with int64, please explicitly cast to a compatible dtype first.\n",
      "  input_df.at[0, col] = row[col]\n"
     ]
    },
    {
     "data": {
      "text/plain": [
       "(120.9695897461392, np.float64(79.93688362919087))"
      ]
     },
     "execution_count": 37,
     "metadata": {},
     "output_type": "execute_result"
    },
    {
     "name": "stdout",
     "output_type": "stream",
     "text": [
      "time: 7.1 ms (started: 2025-05-18 12:39:01 +03:00)\n"
     ]
    }
   ],
   "execution_count": 37
  },
  {
   "metadata": {},
   "cell_type": "markdown",
   "source": "## Random records from data",
   "id": "a69c3f5a2561cb4e"
  },
  {
   "metadata": {
    "ExecuteTime": {
     "end_time": "2025-05-18T09:39:01.087551Z",
     "start_time": "2025-05-18T09:39:01.082579Z"
    }
   },
   "cell_type": "code",
   "source": [
    "def evaluate_on_random_samples(df, model, scaler_minmax, price_minmax, n=20):\n",
    "\n",
    "    X_columns = df.drop(columns=[\"Price per m2\"]).columns\n",
    "    errors = []\n",
    "\n",
    "    for _, row in df.sample(n=n, random_state=42).iterrows():\n",
    "        input_df = pd.DataFrame([0] * len(X_columns), index=X_columns).T\n",
    "\n",
    "        for col in ['Units', 'Area m2']:\n",
    "            val = row[col]\n",
    "            min_val = scaler_minmax[col]['min']\n",
    "            max_val = scaler_minmax[col]['max']\n",
    "            input_df.at[0, col] = normalize_value(val, min_val, max_val)\n",
    "\n",
    "        for col in row.index:\n",
    "            if row[col] == 1 and col in input_df.columns:\n",
    "                input_df.at[0, col] = 1\n",
    "\n",
    "        input_tensor = torch.tensor(input_df.values, dtype=torch.float32).to(device)\n",
    "        model.eval()\n",
    "        with torch.no_grad():\n",
    "            pred_norm = model(input_tensor).item()\n",
    "\n",
    "        pred = pred_norm * (price_minmax[\"max\"] - price_minmax[\"min\"]) + price_minmax[\"min\"]\n",
    "        true = row[\"Price per m2\"] * (price_minmax[\"max\"] - price_minmax[\"min\"]) + price_minmax[\"min\"]\n",
    "        error_pct = abs(pred - true) / true * 100\n",
    "        errors.append(error_pct)\n",
    "\n",
    "    print(f\"Mean error: {np.mean(errors):.2f}%\") # ממוצע שגיאה\n",
    "    print(f\"Median error: {np.median(errors):.2f}%\") # חציון שגיאה\n",
    "    print(f\"Maximum error: {np.max(errors):.2f}%\")\n",
    "    print(f\"Minimum error: {np.min(errors):.2f}%\")"
   ],
   "id": "932c07326070e93",
   "outputs": [
    {
     "name": "stdout",
     "output_type": "stream",
     "text": [
      "time: 648 μs (started: 2025-05-18 12:39:01 +03:00)\n"
     ]
    }
   ],
   "execution_count": 38
  },
  {
   "metadata": {
    "ExecuteTime": {
     "end_time": "2025-05-18T09:39:01.133625Z",
     "start_time": "2025-05-18T09:39:01.107809Z"
    }
   },
   "cell_type": "code",
   "source": "evaluate_on_random_samples(df, model, scaler_minmax, price_minmax, n=20)",
   "id": "e9ba308e8ebbf22b",
   "outputs": [
    {
     "name": "stdout",
     "output_type": "stream",
     "text": [
      "Mean error: 71.99%\n",
      "Median error: 53.11%\n",
      "Maximum error: 330.91%\n",
      "Minimum error: 4.19%\n",
      "time: 23.3 ms (started: 2025-05-18 12:39:01 +03:00)\n"
     ]
    },
    {
     "name": "stderr",
     "output_type": "stream",
     "text": [
      "/var/folders/lb/824pdw_j27x5fbnfxl4hkx880000gn/T/ipykernel_21726/450460328.py:13: FutureWarning: Setting an item of incompatible dtype is deprecated and will raise an error in a future version of pandas. Value '-0.2' has dtype incompatible with int64, please explicitly cast to a compatible dtype first.\n",
      "  input_df.at[0, col] = normalize_value(val, min_val, max_val)\n",
      "/var/folders/lb/824pdw_j27x5fbnfxl4hkx880000gn/T/ipykernel_21726/450460328.py:13: FutureWarning: Setting an item of incompatible dtype is deprecated and will raise an error in a future version of pandas. Value '-0.2103122490018702' has dtype incompatible with int64, please explicitly cast to a compatible dtype first.\n",
      "  input_df.at[0, col] = normalize_value(val, min_val, max_val)\n",
      "/var/folders/lb/824pdw_j27x5fbnfxl4hkx880000gn/T/ipykernel_21726/450460328.py:13: FutureWarning: Setting an item of incompatible dtype is deprecated and will raise an error in a future version of pandas. Value '-0.2' has dtype incompatible with int64, please explicitly cast to a compatible dtype first.\n",
      "  input_df.at[0, col] = normalize_value(val, min_val, max_val)\n",
      "/var/folders/lb/824pdw_j27x5fbnfxl4hkx880000gn/T/ipykernel_21726/450460328.py:13: FutureWarning: Setting an item of incompatible dtype is deprecated and will raise an error in a future version of pandas. Value '-0.21008799957788343' has dtype incompatible with int64, please explicitly cast to a compatible dtype first.\n",
      "  input_df.at[0, col] = normalize_value(val, min_val, max_val)\n",
      "/var/folders/lb/824pdw_j27x5fbnfxl4hkx880000gn/T/ipykernel_21726/450460328.py:13: FutureWarning: Setting an item of incompatible dtype is deprecated and will raise an error in a future version of pandas. Value '-0.2' has dtype incompatible with int64, please explicitly cast to a compatible dtype first.\n",
      "  input_df.at[0, col] = normalize_value(val, min_val, max_val)\n",
      "/var/folders/lb/824pdw_j27x5fbnfxl4hkx880000gn/T/ipykernel_21726/450460328.py:13: FutureWarning: Setting an item of incompatible dtype is deprecated and will raise an error in a future version of pandas. Value '-0.21039579290492413' has dtype incompatible with int64, please explicitly cast to a compatible dtype first.\n",
      "  input_df.at[0, col] = normalize_value(val, min_val, max_val)\n",
      "/var/folders/lb/824pdw_j27x5fbnfxl4hkx880000gn/T/ipykernel_21726/450460328.py:13: FutureWarning: Setting an item of incompatible dtype is deprecated and will raise an error in a future version of pandas. Value '-0.16' has dtype incompatible with int64, please explicitly cast to a compatible dtype first.\n",
      "  input_df.at[0, col] = normalize_value(val, min_val, max_val)\n",
      "/var/folders/lb/824pdw_j27x5fbnfxl4hkx880000gn/T/ipykernel_21726/450460328.py:13: FutureWarning: Setting an item of incompatible dtype is deprecated and will raise an error in a future version of pandas. Value '-0.2101774062109762' has dtype incompatible with int64, please explicitly cast to a compatible dtype first.\n",
      "  input_df.at[0, col] = normalize_value(val, min_val, max_val)\n",
      "/var/folders/lb/824pdw_j27x5fbnfxl4hkx880000gn/T/ipykernel_21726/450460328.py:13: FutureWarning: Setting an item of incompatible dtype is deprecated and will raise an error in a future version of pandas. Value '-0.2' has dtype incompatible with int64, please explicitly cast to a compatible dtype first.\n",
      "  input_df.at[0, col] = normalize_value(val, min_val, max_val)\n",
      "/var/folders/lb/824pdw_j27x5fbnfxl4hkx880000gn/T/ipykernel_21726/450460328.py:13: FutureWarning: Setting an item of incompatible dtype is deprecated and will raise an error in a future version of pandas. Value '-0.2101510239258013' has dtype incompatible with int64, please explicitly cast to a compatible dtype first.\n",
      "  input_df.at[0, col] = normalize_value(val, min_val, max_val)\n",
      "/var/folders/lb/824pdw_j27x5fbnfxl4hkx880000gn/T/ipykernel_21726/450460328.py:13: FutureWarning: Setting an item of incompatible dtype is deprecated and will raise an error in a future version of pandas. Value '-0.2' has dtype incompatible with int64, please explicitly cast to a compatible dtype first.\n",
      "  input_df.at[0, col] = normalize_value(val, min_val, max_val)\n",
      "/var/folders/lb/824pdw_j27x5fbnfxl4hkx880000gn/T/ipykernel_21726/450460328.py:13: FutureWarning: Setting an item of incompatible dtype is deprecated and will raise an error in a future version of pandas. Value '-0.20975528964817758' has dtype incompatible with int64, please explicitly cast to a compatible dtype first.\n",
      "  input_df.at[0, col] = normalize_value(val, min_val, max_val)\n",
      "/var/folders/lb/824pdw_j27x5fbnfxl4hkx880000gn/T/ipykernel_21726/450460328.py:13: FutureWarning: Setting an item of incompatible dtype is deprecated and will raise an error in a future version of pandas. Value '-0.2' has dtype incompatible with int64, please explicitly cast to a compatible dtype first.\n",
      "  input_df.at[0, col] = normalize_value(val, min_val, max_val)\n",
      "/var/folders/lb/824pdw_j27x5fbnfxl4hkx880000gn/T/ipykernel_21726/450460328.py:13: FutureWarning: Setting an item of incompatible dtype is deprecated and will raise an error in a future version of pandas. Value '-0.21023163646383575' has dtype incompatible with int64, please explicitly cast to a compatible dtype first.\n",
      "  input_df.at[0, col] = normalize_value(val, min_val, max_val)\n",
      "/var/folders/lb/824pdw_j27x5fbnfxl4hkx880000gn/T/ipykernel_21726/450460328.py:13: FutureWarning: Setting an item of incompatible dtype is deprecated and will raise an error in a future version of pandas. Value '-0.12' has dtype incompatible with int64, please explicitly cast to a compatible dtype first.\n",
      "  input_df.at[0, col] = normalize_value(val, min_val, max_val)\n",
      "/var/folders/lb/824pdw_j27x5fbnfxl4hkx880000gn/T/ipykernel_21726/450460328.py:13: FutureWarning: Setting an item of incompatible dtype is deprecated and will raise an error in a future version of pandas. Value '-0.21010265640298062' has dtype incompatible with int64, please explicitly cast to a compatible dtype first.\n",
      "  input_df.at[0, col] = normalize_value(val, min_val, max_val)\n",
      "/var/folders/lb/824pdw_j27x5fbnfxl4hkx880000gn/T/ipykernel_21726/450460328.py:13: FutureWarning: Setting an item of incompatible dtype is deprecated and will raise an error in a future version of pandas. Value '-0.2' has dtype incompatible with int64, please explicitly cast to a compatible dtype first.\n",
      "  input_df.at[0, col] = normalize_value(val, min_val, max_val)\n",
      "/var/folders/lb/824pdw_j27x5fbnfxl4hkx880000gn/T/ipykernel_21726/450460328.py:13: FutureWarning: Setting an item of incompatible dtype is deprecated and will raise an error in a future version of pandas. Value '-0.2101774062109762' has dtype incompatible with int64, please explicitly cast to a compatible dtype first.\n",
      "  input_df.at[0, col] = normalize_value(val, min_val, max_val)\n",
      "/var/folders/lb/824pdw_j27x5fbnfxl4hkx880000gn/T/ipykernel_21726/450460328.py:13: FutureWarning: Setting an item of incompatible dtype is deprecated and will raise an error in a future version of pandas. Value '-0.2' has dtype incompatible with int64, please explicitly cast to a compatible dtype first.\n",
      "  input_df.at[0, col] = normalize_value(val, min_val, max_val)\n",
      "/var/folders/lb/824pdw_j27x5fbnfxl4hkx880000gn/T/ipykernel_21726/450460328.py:13: FutureWarning: Setting an item of incompatible dtype is deprecated and will raise an error in a future version of pandas. Value '-0.21047054271291968' has dtype incompatible with int64, please explicitly cast to a compatible dtype first.\n",
      "  input_df.at[0, col] = normalize_value(val, min_val, max_val)\n",
      "/var/folders/lb/824pdw_j27x5fbnfxl4hkx880000gn/T/ipykernel_21726/450460328.py:13: FutureWarning: Setting an item of incompatible dtype is deprecated and will raise an error in a future version of pandas. Value '-0.08' has dtype incompatible with int64, please explicitly cast to a compatible dtype first.\n",
      "  input_df.at[0, col] = normalize_value(val, min_val, max_val)\n",
      "/var/folders/lb/824pdw_j27x5fbnfxl4hkx880000gn/T/ipykernel_21726/450460328.py:13: FutureWarning: Setting an item of incompatible dtype is deprecated and will raise an error in a future version of pandas. Value '-0.2100836025303543' has dtype incompatible with int64, please explicitly cast to a compatible dtype first.\n",
      "  input_df.at[0, col] = normalize_value(val, min_val, max_val)\n",
      "/var/folders/lb/824pdw_j27x5fbnfxl4hkx880000gn/T/ipykernel_21726/450460328.py:13: FutureWarning: Setting an item of incompatible dtype is deprecated and will raise an error in a future version of pandas. Value '-0.2' has dtype incompatible with int64, please explicitly cast to a compatible dtype first.\n",
      "  input_df.at[0, col] = normalize_value(val, min_val, max_val)\n",
      "/var/folders/lb/824pdw_j27x5fbnfxl4hkx880000gn/T/ipykernel_21726/450460328.py:13: FutureWarning: Setting an item of incompatible dtype is deprecated and will raise an error in a future version of pandas. Value '-0.2101759405284665' has dtype incompatible with int64, please explicitly cast to a compatible dtype first.\n",
      "  input_df.at[0, col] = normalize_value(val, min_val, max_val)\n",
      "/var/folders/lb/824pdw_j27x5fbnfxl4hkx880000gn/T/ipykernel_21726/450460328.py:13: FutureWarning: Setting an item of incompatible dtype is deprecated and will raise an error in a future version of pandas. Value '-0.16' has dtype incompatible with int64, please explicitly cast to a compatible dtype first.\n",
      "  input_df.at[0, col] = normalize_value(val, min_val, max_val)\n",
      "/var/folders/lb/824pdw_j27x5fbnfxl4hkx880000gn/T/ipykernel_21726/450460328.py:13: FutureWarning: Setting an item of incompatible dtype is deprecated and will raise an error in a future version of pandas. Value '-0.20973477009304153' has dtype incompatible with int64, please explicitly cast to a compatible dtype first.\n",
      "  input_df.at[0, col] = normalize_value(val, min_val, max_val)\n",
      "/var/folders/lb/824pdw_j27x5fbnfxl4hkx880000gn/T/ipykernel_21726/450460328.py:13: FutureWarning: Setting an item of incompatible dtype is deprecated and will raise an error in a future version of pandas. Value '-0.2' has dtype incompatible with int64, please explicitly cast to a compatible dtype first.\n",
      "  input_df.at[0, col] = normalize_value(val, min_val, max_val)\n",
      "/var/folders/lb/824pdw_j27x5fbnfxl4hkx880000gn/T/ipykernel_21726/450460328.py:13: FutureWarning: Setting an item of incompatible dtype is deprecated and will raise an error in a future version of pandas. Value '-0.21021404827371915' has dtype incompatible with int64, please explicitly cast to a compatible dtype first.\n",
      "  input_df.at[0, col] = normalize_value(val, min_val, max_val)\n",
      "/var/folders/lb/824pdw_j27x5fbnfxl4hkx880000gn/T/ipykernel_21726/450460328.py:13: FutureWarning: Setting an item of incompatible dtype is deprecated and will raise an error in a future version of pandas. Value '-0.2' has dtype incompatible with int64, please explicitly cast to a compatible dtype first.\n",
      "  input_df.at[0, col] = normalize_value(val, min_val, max_val)\n",
      "/var/folders/lb/824pdw_j27x5fbnfxl4hkx880000gn/T/ipykernel_21726/450460328.py:13: FutureWarning: Setting an item of incompatible dtype is deprecated and will raise an error in a future version of pandas. Value '-0.21026388147904954' has dtype incompatible with int64, please explicitly cast to a compatible dtype first.\n",
      "  input_df.at[0, col] = normalize_value(val, min_val, max_val)\n",
      "/var/folders/lb/824pdw_j27x5fbnfxl4hkx880000gn/T/ipykernel_21726/450460328.py:13: FutureWarning: Setting an item of incompatible dtype is deprecated and will raise an error in a future version of pandas. Value '-0.16' has dtype incompatible with int64, please explicitly cast to a compatible dtype first.\n",
      "  input_df.at[0, col] = normalize_value(val, min_val, max_val)\n",
      "/var/folders/lb/824pdw_j27x5fbnfxl4hkx880000gn/T/ipykernel_21726/450460328.py:13: FutureWarning: Setting an item of incompatible dtype is deprecated and will raise an error in a future version of pandas. Value '-0.20964536345994877' has dtype incompatible with int64, please explicitly cast to a compatible dtype first.\n",
      "  input_df.at[0, col] = normalize_value(val, min_val, max_val)\n",
      "/var/folders/lb/824pdw_j27x5fbnfxl4hkx880000gn/T/ipykernel_21726/450460328.py:13: FutureWarning: Setting an item of incompatible dtype is deprecated and will raise an error in a future version of pandas. Value '-0.2' has dtype incompatible with int64, please explicitly cast to a compatible dtype first.\n",
      "  input_df.at[0, col] = normalize_value(val, min_val, max_val)\n",
      "/var/folders/lb/824pdw_j27x5fbnfxl4hkx880000gn/T/ipykernel_21726/450460328.py:13: FutureWarning: Setting an item of incompatible dtype is deprecated and will raise an error in a future version of pandas. Value '-0.21013636710070413' has dtype incompatible with int64, please explicitly cast to a compatible dtype first.\n",
      "  input_df.at[0, col] = normalize_value(val, min_val, max_val)\n",
      "/var/folders/lb/824pdw_j27x5fbnfxl4hkx880000gn/T/ipykernel_21726/450460328.py:13: FutureWarning: Setting an item of incompatible dtype is deprecated and will raise an error in a future version of pandas. Value '-0.16' has dtype incompatible with int64, please explicitly cast to a compatible dtype first.\n",
      "  input_df.at[0, col] = normalize_value(val, min_val, max_val)\n",
      "/var/folders/lb/824pdw_j27x5fbnfxl4hkx880000gn/T/ipykernel_21726/450460328.py:13: FutureWarning: Setting an item of incompatible dtype is deprecated and will raise an error in a future version of pandas. Value '-0.20966002028504593' has dtype incompatible with int64, please explicitly cast to a compatible dtype first.\n",
      "  input_df.at[0, col] = normalize_value(val, min_val, max_val)\n",
      "/var/folders/lb/824pdw_j27x5fbnfxl4hkx880000gn/T/ipykernel_21726/450460328.py:13: FutureWarning: Setting an item of incompatible dtype is deprecated and will raise an error in a future version of pandas. Value '-0.2' has dtype incompatible with int64, please explicitly cast to a compatible dtype first.\n",
      "  input_df.at[0, col] = normalize_value(val, min_val, max_val)\n",
      "/var/folders/lb/824pdw_j27x5fbnfxl4hkx880000gn/T/ipykernel_21726/450460328.py:13: FutureWarning: Setting an item of incompatible dtype is deprecated and will raise an error in a future version of pandas. Value '-0.2101788718934859' has dtype incompatible with int64, please explicitly cast to a compatible dtype first.\n",
      "  input_df.at[0, col] = normalize_value(val, min_val, max_val)\n",
      "/var/folders/lb/824pdw_j27x5fbnfxl4hkx880000gn/T/ipykernel_21726/450460328.py:13: FutureWarning: Setting an item of incompatible dtype is deprecated and will raise an error in a future version of pandas. Value '-0.2' has dtype incompatible with int64, please explicitly cast to a compatible dtype first.\n",
      "  input_df.at[0, col] = normalize_value(val, min_val, max_val)\n",
      "/var/folders/lb/824pdw_j27x5fbnfxl4hkx880000gn/T/ipykernel_21726/450460328.py:13: FutureWarning: Setting an item of incompatible dtype is deprecated and will raise an error in a future version of pandas. Value '-0.2101700777984276' has dtype incompatible with int64, please explicitly cast to a compatible dtype first.\n",
      "  input_df.at[0, col] = normalize_value(val, min_val, max_val)\n"
     ]
    }
   ],
   "execution_count": 39
  },
  {
   "metadata": {},
   "cell_type": "markdown",
   "source": "# New query",
   "id": "52497667b753f856"
  },
  {
   "metadata": {
    "ExecuteTime": {
     "end_time": "2025-05-18T09:39:01.143686Z",
     "start_time": "2025-05-18T09:39:01.138181Z"
    }
   },
   "cell_type": "code",
   "source": [
    "# עבור רשומה זו המחיר הסופי הינו - 440,000\n",
    "user_input = {\n",
    "    'Units': 1,\n",
    "    'Area m2': 543,\n",
    "    'block': '38761.0',\n",
    "    'Committee year': '2024.0',\n",
    "    'committee month': '7.0',\n",
    "    'region': 'דרום',\n",
    "    'city': 'באר שבע'\n",
    "}\n",
    "\n",
    "predicted_price = predict_price_mlp(user_input, model, df.drop(columns=[\"Price per m2\"]).columns, scaler_minmax, price_minmax)\n",
    "total_price = predicted_price * user_input['Area m2']\n",
    "\n",
    "print(f\"\\nPredicted price per m²: {predicted_price:,.2f} ₪\")\n",
    "print(f\"Total price for this area: {total_price:,.2f} ₪\")"
   ],
   "id": "2fb83dc1b516fd87",
   "outputs": [
    {
     "name": "stdout",
     "output_type": "stream",
     "text": [
      "\n",
      "Predicted price per m²: 631.61 ₪\n",
      "Total price for this area: 342,962.66 ₪\n",
      "time: 3.74 ms (started: 2025-05-18 12:39:01 +03:00)\n"
     ]
    },
    {
     "name": "stderr",
     "output_type": "stream",
     "text": [
      "/var/folders/lb/824pdw_j27x5fbnfxl4hkx880000gn/T/ipykernel_21726/840466003.py:37: FutureWarning: Setting an item of incompatible dtype is deprecated and will raise an error in a future version of pandas. Value '0.4467312348668281' has dtype incompatible with int64, please explicitly cast to a compatible dtype first.\n",
      "  input_df.at[0, col] = normalize_value(val, min_val, max_val)\n"
     ]
    }
   ],
   "execution_count": 40
  },
  {
   "metadata": {},
   "cell_type": "markdown",
   "source": [
    "## Validation of input\n",
    "#### checks if the input match the columns in the model."
   ],
   "id": "5e949f1c5eaaaba0"
  },
  {
   "metadata": {
    "ExecuteTime": {
     "end_time": "2025-05-18T09:39:01.160941Z",
     "start_time": "2025-05-18T09:39:01.157085Z"
    }
   },
   "cell_type": "code",
   "source": [
    "def validate_input_against_columns(user_input, X_columns):\n",
    "    warnings = []\n",
    "    activated = []\n",
    "\n",
    "    block = user_input.get('block')\n",
    "    if block is not None:\n",
    "        block_col = f\"Block_{float(block):.1f}\"\n",
    "        if block_col in X_columns:\n",
    "            activated.append(block_col)\n",
    "        else:\n",
    "            warnings.append(f\"Block column '{block_col}' not found.\")\n",
    "\n",
    "    year = user_input.get('Committee year')\n",
    "    if year is not None:\n",
    "        year_col = f\"Committee_year_{float(year):.1f}\"\n",
    "        if year_col in X_columns:\n",
    "            activated.append(year_col)\n",
    "        else:\n",
    "            warnings.append(f\"Committee year column '{year_col}' not found.\")\n",
    "\n",
    "    month = user_input.get('committee month')\n",
    "    if month is not None:\n",
    "        month_col = f\"Committee_month_{float(month):.1f}\"\n",
    "        if month_col in X_columns:\n",
    "            activated.append(month_col)\n",
    "        else:\n",
    "            warnings.append(f\"Committee month column '{month_col}' not found.\")\n",
    "\n",
    "    for field in ['city', 'region']:\n",
    "        val = user_input.get(field, '').strip().lower()\n",
    "        matches = [col for col in X_columns if val in col.lower()]\n",
    "        if matches:\n",
    "            activated.extend(matches)\n",
    "        else:\n",
    "            warnings.append(f\"No column {field} found.\")\n",
    "\n",
    "    if warnings:\n",
    "        print(\"Warnings features:\")\n",
    "        for w in warnings:\n",
    "            print(\" -\", w)\n",
    "\n",
    "    if activated:\n",
    "        print(\"\\nColumns that will be activated for this input:\")\n",
    "        for col in activated:\n",
    "            print(\"  -\", col)\n",
    "    else:\n",
    "        print(\"\\n No one-hot columns matched the input.\")"
   ],
   "id": "58f6f2418771b498",
   "outputs": [
    {
     "name": "stdout",
     "output_type": "stream",
     "text": [
      "time: 558 μs (started: 2025-05-18 12:39:01 +03:00)\n"
     ]
    }
   ],
   "execution_count": 41
  },
  {
   "metadata": {
    "ExecuteTime": {
     "end_time": "2025-05-18T09:39:01.175085Z",
     "start_time": "2025-05-18T09:39:01.172632Z"
    }
   },
   "cell_type": "code",
   "source": "validate_input_against_columns(user_input, X.columns)",
   "id": "e5288fd8b718d7d4",
   "outputs": [
    {
     "name": "stdout",
     "output_type": "stream",
     "text": [
      "\n",
      "Columns that will be activated for this input:\n",
      "  - Block_38761.0\n",
      "  - Committee_year_2024.0\n",
      "  - Committee_month_7.0\n",
      "  - City_באר שבע , הרקפות\n",
      "  - City_באר שבע , כלניות\n",
      "  - City_באר שבע , כלניות לנכים\n",
      "  - City_באר שבע , נאות לון\n",
      "  - City_באר שבע , נווה נוי\n",
      "  - City_באר שבע , רמות\n",
      "  - City_באר שבע , רקפות\n",
      "  - Region_דרום\n",
      "  - City_אריאל , דרום מזרח\n",
      "time: 356 μs (started: 2025-05-18 12:39:01 +03:00)\n"
     ]
    }
   ],
   "execution_count": 42
  },
  {
   "metadata": {},
   "cell_type": "markdown",
   "source": "### Export all predictions",
   "id": "68ebd15f8e96e4e1"
  },
  {
   "metadata": {
    "ExecuteTime": {
     "end_time": "2025-05-18T09:39:01.377077Z",
     "start_time": "2025-05-18T09:39:01.246625Z"
    }
   },
   "cell_type": "code",
   "source": [
    "def export_predictions_to_excel(X_data, y_true, model, price_minmax, filename=\"model_predictions.xlsx\"):\n",
    "    model.eval()\n",
    "    with torch.no_grad():\n",
    "        preds_norm = model(torch.tensor(X_data, dtype=torch.float32).to(device)).cpu().numpy().flatten()\n",
    "\n",
    "    price_min = price_minmax[\"min\"]\n",
    "    price_max = price_minmax[\"max\"]\n",
    "\n",
    "    def inv(x): return x * (price_max - price_min) + price_min\n",
    "\n",
    "    preds_shekel = inv(preds_norm)\n",
    "    y_true_shekel = inv(y_true.flatten())\n",
    "\n",
    "    errors = np.abs(preds_shekel - y_true_shekel)\n",
    "    errors_pct = errors / y_true_shekel * 100\n",
    "\n",
    "    df_results = pd.DataFrame({\n",
    "        \"Predicted Price per m² (₪)\": preds_shekel,\n",
    "        \"Actual Price per m² (₪)\": y_true_shekel,\n",
    "        \"Absolute Error (₪)\": errors,\n",
    "        \"Percentage Error (%)\": errors_pct\n",
    "    })\n",
    "\n",
    "    df_results.to_excel(filename, index=False)\n",
    "    print(f\"Predictions exported to '{filename}' with {len(df_results)} rows.\")\n",
    "    mean_pct_error = errors_pct.mean()\n",
    "    print(f\"Mean Percentage Error: {mean_pct_error:.2f}%\")\n",
    "    median_pct_error = np.median(errors_pct)\n",
    "    print(f\"Median Percentage Error: {median_pct_error:.2f}%\")\n"
   ],
   "id": "ae3ab7dc87d89f7c",
   "outputs": [
    {
     "name": "stdout",
     "output_type": "stream",
     "text": [
      "Predictions exported to 'model_predictions.xlsx' with 1294 rows.\n",
      "Mean Percentage Error: 20.30%\n",
      "Median Percentage Error: 12.16%\n",
      "time: 128 ms (started: 2025-05-18 12:39:01 +03:00)\n"
     ]
    }
   ],
   "execution_count": 43
  },
  {
   "metadata": {},
   "cell_type": "code",
   "outputs": [],
   "execution_count": null,
   "source": "export_predictions_to_excel(X_test, y_test, model, price_minmax)\n",
   "id": "862788299f525761"
  }
 ],
 "metadata": {
  "kernelspec": {
   "display_name": "Python 3",
   "language": "python",
   "name": "python3"
  },
  "language_info": {
   "codemirror_mode": {
    "name": "ipython",
    "version": 2
   },
   "file_extension": ".py",
   "mimetype": "text/x-python",
   "name": "python",
   "nbconvert_exporter": "python",
   "pygments_lexer": "ipython2",
   "version": "2.7.6"
  }
 },
 "nbformat": 4,
 "nbformat_minor": 5
}
